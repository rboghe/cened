{
  "nbformat": 4,
  "nbformat_minor": 0,
  "metadata": {
    "colab": {
      "name": "CenedDNN.ipynb",
      "provenance": [],
      "collapsed_sections": [
        "BHO2-2IbgGMH"
      ],
      "authorship_tag": "ABX9TyM1RQ8QfoEVhiZAbgvVWTMH",
      "include_colab_link": true
    },
    "kernelspec": {
      "name": "python3",
      "display_name": "Python 3"
    }
  },
  "cells": [
    {
      "cell_type": "markdown",
      "metadata": {
        "id": "view-in-github",
        "colab_type": "text"
      },
      "source": [
        "<a href=\"https://colab.research.google.com/github/rboghe/cened/blob/master/CenedDNN.ipynb\" target=\"_parent\"><img src=\"https://colab.research.google.com/assets/colab-badge.svg\" alt=\"Open In Colab\"/></a>"
      ]
    },
    {
      "cell_type": "markdown",
      "metadata": {
        "id": "OIbnWY28gMtD",
        "colab_type": "text"
      },
      "source": [
        "## Load files"
      ]
    },
    {
      "cell_type": "markdown",
      "metadata": {
        "id": "1yz5X8TDY8Pt",
        "colab_type": "text"
      },
      "source": [
        "First of all, let's import the necessary libraries"
      ]
    },
    {
      "cell_type": "code",
      "metadata": {
        "id": "5-y4f8EaI0T4",
        "colab_type": "code",
        "colab": {}
      },
      "source": [
        "import os\n",
        "import urllib.request\n",
        "import pandas as pd\n",
        "import numpy as np\n",
        "import random\n",
        "import tensorflow as tf\n",
        "from tensorflow.keras import backend as K\n",
        "import matplotlib.pyplot as plt\n",
        "from sklearn.metrics import r2_score\n",
        "\n",
        "# Silence panda's setting with copy warning\n",
        "pd.options.mode.chained_assignment = None"
      ],
      "execution_count": 0,
      "outputs": []
    },
    {
      "cell_type": "markdown",
      "metadata": {
        "id": "xpB1_MUhZE3o",
        "colab_type": "text"
      },
      "source": [
        "If it doesn't exist yet, we create a new folder and download the database there as a CSV file"
      ]
    },
    {
      "cell_type": "code",
      "metadata": {
        "id": "xkNURJiQOYlb",
        "colab_type": "code",
        "colab": {}
      },
      "source": [
        "url = 'https://www.dati.lombardia.it/api/views/bbky-sde5/rows.csv?accessType=DOWNLOAD'\n",
        "\n",
        "if os.path.isdir('/tmp'):\n",
        "    if os.path.isfile('/tmp/cened.csv'):\n",
        "      pass\n",
        "    else:\n",
        "      urllib.request.urlretrieve(url, '/tmp/cened.csv')\n",
        "else:\n",
        "  os.mkdir('/tmp')\n",
        "  urllib.request.urlretrieve(url, '/tmp/cened.csv')"
      ],
      "execution_count": 0,
      "outputs": []
    },
    {
      "cell_type": "markdown",
      "metadata": {
        "id": "Ipp4h2BpdQTH",
        "colab_type": "text"
      },
      "source": [
        "The file containing the degree day is retrieved from GitHub"
      ]
    },
    {
      "cell_type": "code",
      "metadata": {
        "id": "-OwJRwhkdQl8",
        "colab_type": "code",
        "colab": {}
      },
      "source": [
        "url = 'https://raw.githubusercontent.com/rboghe/cened/master/degreedays.txt'\n",
        "\n",
        "urllib.request.urlretrieve(url, '/tmp/ddh.csv')\n",
        "\n",
        "ddh = pd.read_csv('/tmp/ddh.csv', usecols = ['comune','dd'])"
      ],
      "execution_count": 0,
      "outputs": []
    },
    {
      "cell_type": "markdown",
      "metadata": {
        "id": "WRjI0bVmZdY3",
        "colab_type": "text"
      },
      "source": [
        "The database is loaded as a pandas dataframe. Only the required columns are considered."
      ]
    },
    {
      "cell_type": "code",
      "metadata": {
        "id": "SXDIs9GsITKk",
        "colab_type": "code",
        "outputId": "8a0da9b7-ee6d-4848-b6a7-bc24be53d761",
        "colab": {
          "base_uri": "https://localhost:8080/",
          "height": 51
        }
      },
      "source": [
        "columns = ['INTERO_EDIFICIO', 'RIQUALIFICAZIONE_ENERGETICA', 'ZONA_CLIMATICA',\n",
        "           'ANNO_COSTRUZIONE','SUPERF_UTILE_RISCALDATA', 'SUPERF_UTILE_RAFFRESCATA',\n",
        "           'VOLUME_LORDO_RISCALDATO', 'VOLUME_LORDO_RAFFRESCATO', 'CLASSE_ENERGETICA', \n",
        "           'SUPERFICIE_DISPERDENTE', 'RAPPORTO_SV','A_SOL_EST_A_SUP_UTILE','Y_IE', \n",
        "           'CLASSIFICAZIONE_DPR', 'COMUNE', 'EP_H_ND','EP_GL_NREN','EP_GL_REN', \n",
        "           'NUMERO_UNITA_IMMOBILIARI', 'RISTRUTTURAZIONE_IMPORTANTE', 'Y', \n",
        "           'CLIMATIZZAZIONE_INVERNALE', 'CI_TIPO_IMPIANTO_1', 'CI_ANNO_INSTALLAZIONE_1',\n",
        "           'CI_VETTORE_ENERGETICO_1', 'CI_EFFICIENZA_MEDIA', 'CI_POTENZA_NOMINALE_2', 'CI_POTENZA_NOMINALE_1',\n",
        "           'PFR_TIPO_IMPIANTO_1', 'PFR_ANNO_INSTALLAZIONE_1','PFR_VETTORE_ENERGETICO_1',\n",
        "           'PFR_EFFICIENZA_MEDIA_1', 'PFR_POTENZA_NOMINALE_1', 'VENTILAZIONE_MECCANICA',\n",
        "           'PFR_TIPO_IMPIANTO_2', 'PFR_ANNO_INSTALLAZIONE_2','PFR_VETTORE_ENERGETICO_2',\n",
        "           'PFR_EFFICIENZA_MEDIA_2', 'PFR_POTENZA_NOMINALE_2']\n",
        "\n",
        "cened = pd.read_csv('/tmp/cened.csv', usecols = columns)"
      ],
      "execution_count": 281,
      "outputs": [
        {
          "output_type": "stream",
          "text": [
            "/usr/local/lib/python3.6/dist-packages/IPython/core/interactiveshell.py:2718: DtypeWarning: Columns (154,156,161,163) have mixed types.Specify dtype option on import or set low_memory=False.\n",
            "  interactivity=interactivity, compiler=compiler, result=result)\n"
          ],
          "name": "stderr"
        }
      ]
    },
    {
      "cell_type": "markdown",
      "metadata": {
        "id": "PXtGMU3qaQda",
        "colab_type": "text"
      },
      "source": [
        "The rows with NaN values are dropped. Systems won't be considered in this step, instead, they will be filtered later."
      ]
    },
    {
      "cell_type": "code",
      "metadata": {
        "id": "vhJF3q9KKahR",
        "colab_type": "code",
        "colab": {}
      },
      "source": [
        "for col in ['CI_TIPO_IMPIANTO_1', 'CI_ANNO_INSTALLAZIONE_1','CI_VETTORE_ENERGETICO_1',\n",
        "           'CI_EFFICIENZA_MEDIA', 'CI_POTENZA_NOMINALE_1','PFR_TIPO_IMPIANTO_1', \n",
        "            'PFR_ANNO_INSTALLAZIONE_1','PFR_VETTORE_ENERGETICO_1', 'PFR_EFFICIENZA_MEDIA_1', \n",
        "            'PFR_POTENZA_NOMINALE_1', 'VENTILAZIONE_MECCANICA','PFR_TIPO_IMPIANTO_2', \n",
        "            'PFR_ANNO_INSTALLAZIONE_2','PFR_VETTORE_ENERGETICO_2', 'PFR_EFFICIENZA_MEDIA_2', \n",
        "            'PFR_POTENZA_NOMINALE_2','CI_POTENZA_NOMINALE_2']:\n",
        "    cened[col].fillna(0, inplace=True)\n",
        "\n",
        "cened.dropna(inplace = True)"
      ],
      "execution_count": 0,
      "outputs": []
    },
    {
      "cell_type": "markdown",
      "metadata": {
        "id": "rEmo0VeuehXP",
        "colab_type": "text"
      },
      "source": [
        "We'll only consider entire, residential buildings."
      ]
    },
    {
      "cell_type": "code",
      "metadata": {
        "id": "VPQQf94WehNo",
        "colab_type": "code",
        "colab": {}
      },
      "source": [
        "# Only entire buildings\n",
        "cened = cened[cened['INTERO_EDIFICIO'] == True]\n",
        "\n",
        "# Only residential buildings\n",
        "cened['CLASSIFICAZIONE_DPR'] = cened['CLASSIFICAZIONE_DPR'].str.replace(r'E.1 (1)', 'E.1(1)')\n",
        "cened = cened[cened['CLASSIFICAZIONE_DPR'] == 'E.1(1)']"
      ],
      "execution_count": 0,
      "outputs": []
    },
    {
      "cell_type": "markdown",
      "metadata": {
        "id": "j9QkU5-EhGOj",
        "colab_type": "text"
      },
      "source": [
        "Reset index"
      ]
    },
    {
      "cell_type": "code",
      "metadata": {
        "id": "FzDnyYZrhE8g",
        "colab_type": "code",
        "colab": {}
      },
      "source": [
        "cened = cened.reset_index(drop=True)"
      ],
      "execution_count": 0,
      "outputs": []
    },
    {
      "cell_type": "markdown",
      "metadata": {
        "id": "DCs2b9-dfuiY",
        "colab_type": "text"
      },
      "source": [
        "## Corrections"
      ]
    },
    {
      "cell_type": "markdown",
      "metadata": {
        "id": "Clj9Jg8-fyUt",
        "colab_type": "text"
      },
      "source": [
        "Correct decimal delimiter in floats"
      ]
    },
    {
      "cell_type": "code",
      "metadata": {
        "id": "zzl4Wnl8ftrM",
        "colab_type": "code",
        "colab": {}
      },
      "source": [
        "for col in ['SUPERF_UTILE_RISCALDATA',\n",
        "           'SUPERF_UTILE_RAFFRESCATA','VOLUME_LORDO_RISCALDATO','VOLUME_LORDO_RAFFRESCATO','SUPERFICIE_DISPERDENTE',\n",
        "           'RAPPORTO_SV','A_SOL_EST_A_SUP_UTILE','Y_IE','EP_H_ND','EP_GL_NREN','EP_GL_REN']:\n",
        "    cened[col] = cened[col].astype(str)\n",
        "    cened[col] = cened[col].str.replace(r',', '')\n",
        "    cened[col] = cened[col].astype(\"float\")"
      ],
      "execution_count": 0,
      "outputs": []
    },
    {
      "cell_type": "markdown",
      "metadata": {
        "id": "yhxuT7Nff9Ze",
        "colab_type": "text"
      },
      "source": [
        ""
      ]
    },
    {
      "cell_type": "markdown",
      "metadata": {
        "id": "kOP0Otc0fEAd",
        "colab_type": "text"
      },
      "source": [
        "## Feature creation"
      ]
    },
    {
      "cell_type": "markdown",
      "metadata": {
        "id": "DXthDf2GcvnP",
        "colab_type": "text"
      },
      "source": [
        "Now, we can add the degree days. Several corrections are needed to match the cened database with the dds."
      ]
    },
    {
      "cell_type": "code",
      "metadata": {
        "id": "XvdWWmwUfAZu",
        "colab_type": "code",
        "colab": {}
      },
      "source": [
        "# Add ddh\n",
        "cened['COMUNE'] = cened['COMUNE'].str.lower()\n",
        "ddh['comune'] = ddh['comune'].str.lower()\n",
        "cened['COMUNE'] = cened['COMUNE'].str.replace(r\"`\",  \"'\")\n",
        "cened['COMUNE'] = cened['COMUNE'].str.replace(r\"o`\",  \"o'\")\n",
        "cened['COMUNE'] = cened['COMUNE'].str.replace(r\"baranzate\",  \"bollate\")\n",
        "cened['COMUNE'] = cened['COMUNE'].str.replace(r\"bovisio masciago\",  \"bovisio-masciago\")\n",
        "cened['COMUNE'] = cened['COMUNE'].str.replace(r\"cornate d`adda\",  \"cornate d'adda\")\n",
        "cened['COMUNE'] = cened['COMUNE'].str.replace(r\"cortenuova\",  \"cortenova\")\n",
        "cened['COMUNE'] = cened['COMUNE'].str.replace(r\"sant'omobono terme\",  \"sant'omobono imagna\")\n",
        "cened['COMUNE'] = cened['COMUNE'].str.replace(r\"borgo virgilio\",  \"virgilio\")\n",
        "cened['COMUNE'] = cened['COMUNE'].str.replace(r\" - \",  \"-\")\n",
        "cened['COMUNE'] = cened['COMUNE'].str.replace(r\"cassina de pecchi\",  \"cassina de' pecchi\")\n",
        "cened['COMUNE'] = cened['COMUNE'].str.replace(r\"cerano intelvi\",  \"cerano d'intelvi\")\n",
        "cened['COMUNE'] = cened['COMUNE'].str.replace(r\"colverde\",  \"drezzo\")\n",
        "cened['COMUNE'] = cened['COMUNE'].str.replace(r\"cornale e bastida\",  \"cornale\")\n",
        "cened['COMUNE'] = cened['COMUNE'].str.replace(r\"corteolona e genzone\",  \"corteolona\")\n",
        "cened['COMUNE'] = cened['COMUNE'].str.replace(r\"costa serina\",  \"costa di serina\")\n",
        "cened['COMUNE'] = cened['COMUNE'].str.replace(r\"gabbioneta binanuova\",  \"gabbioneta-binanuova\")\n",
        "cened['COMUNE'] = cened['COMUNE'].str.replace(r\"gadesco pieve delmona\",  \"gadesco-pieve delmona\")\n",
        "cened['COMUNE'] = cened['COMUNE'].str.replace(r\"gerre de'caprioli\",  \"gerre de' caprioli\")\n",
        "cened['COMUNE'] = cened['COMUNE'].str.replace(r\"gravedona ed uniti\",  \"grandola ed uniti\")\n",
        "cened['COMUNE'] = cened['COMUNE'].str.replace(r\"la valletta brianza\",  \"perego\")\n",
        "cened['COMUNE'] = cened['COMUNE'].str.replace(r\"lonato del garda\",  \"lonato\")\n",
        "cened['COMUNE'] = cened['COMUNE'].str.replace(r\"maccagno con pino e veddasca\",  \"maccagno\")\n",
        "cened['COMUNE'] = cened['COMUNE'].str.replace(r\"ramponio vernia\",  \"ramponio verna\")\n",
        "cened['COMUNE'] = cened['COMUNE'].str.replace(r\"sermide e felonica\",  \"sermide\")\n",
        "cened['COMUNE'] = cened['COMUNE'].str.replace(r\"toscolano maderno\",  \"toscolano-maderno\")\n",
        "cened['COMUNE'] = cened['COMUNE'].str.replace(r\"tremezzina\",  \"tremezzo\")\n",
        "cened['COMUNE'] = cened['COMUNE'].str.replace(r\"val brembilla\",  \"brembilla\")\n",
        "cened['COMUNE'] = cened['COMUNE'].str.replace(r\"verderio\",  \"verderio inferiore\")\n",
        "\n",
        "ddh['comune'] = ddh['comune'].str.replace(r\"è\",  \"e'\")\n",
        "ddh['comune'] = ddh['comune'].str.replace(r\"è\",  \"e'\")\n",
        "ddh['comune'] = ddh['comune'].str.replace(r\"é\",  \"e'\")\n",
        "ddh['comune'] = ddh['comune'].str.replace(r\"ò\",  \"o'\")\n",
        "ddh['comune'] = ddh['comune'].str.replace(r\"ù\",  \"u'\")\n",
        "\n",
        "cened = cened.merge(ddh, left_on='COMUNE', right_on='comune', how='left')"
      ],
      "execution_count": 0,
      "outputs": []
    },
    {
      "cell_type": "markdown",
      "metadata": {
        "id": "P93VqhuQfWgZ",
        "colab_type": "text"
      },
      "source": [
        "Add mean height"
      ]
    },
    {
      "cell_type": "code",
      "metadata": {
        "id": "rZCovApofYwN",
        "colab_type": "code",
        "colab": {}
      },
      "source": [
        "cened['ALTEZZA_MEDIA'] = cened['VOLUME_LORDO_RISCALDATO']/cened['SUPERF_UTILE_RISCALDATA']"
      ],
      "execution_count": 0,
      "outputs": []
    },
    {
      "cell_type": "markdown",
      "metadata": {
        "id": "0ilqIygOjKDD",
        "colab_type": "text"
      },
      "source": [
        "Add period"
      ]
    },
    {
      "cell_type": "code",
      "metadata": {
        "id": "8ohJrxC1jKNt",
        "colab_type": "code",
        "colab": {}
      },
      "source": [
        "cened.ANNO_COSTRUZIONE = cened.ANNO_COSTRUZIONE.astype(str)\n",
        "cened.ANNO_COSTRUZIONE = cened.ANNO_COSTRUZIONE.map(lambda x:x[-4:])\n",
        "cened.ANNO_COSTRUZIONE = cened.ANNO_COSTRUZIONE.astype(int)\n",
        "\n",
        "cened['PERIOD'] = pd.cut(cened.ANNO_COSTRUZIONE, bins=[0,1930,1945,1960,1976,1992,2006,3000],\n",
        "     labels=['Before 1930','1930-1945','1946-1960','1961-1976', '1977-1992', '1993-2006','After 2006']).cat.codes"
      ],
      "execution_count": 0,
      "outputs": []
    },
    {
      "cell_type": "markdown",
      "metadata": {
        "id": "4tEl9VpzjS6G",
        "colab_type": "text"
      },
      "source": [
        ""
      ]
    },
    {
      "cell_type": "code",
      "metadata": {
        "id": "318g-pWljTDm",
        "colab_type": "code",
        "colab": {}
      },
      "source": [
        "cened['A_SOL_EST'] = cened['A_SOL_EST_A_SUP_UTILE']/cened['SUPERF_UTILE_RISCALDATA']"
      ],
      "execution_count": 0,
      "outputs": []
    },
    {
      "cell_type": "markdown",
      "metadata": {
        "id": "nl5K91NBcGjH",
        "colab_type": "text"
      },
      "source": [
        "## Filters"
      ]
    },
    {
      "cell_type": "code",
      "metadata": {
        "id": "ZXustvs8RKCl",
        "colab_type": "code",
        "colab": {}
      },
      "source": [
        "cened = cened[cened['EP_H_ND'] < 1000]"
      ],
      "execution_count": 0,
      "outputs": []
    },
    {
      "cell_type": "code",
      "metadata": {
        "id": "-20pMSZPiqrg",
        "colab_type": "code",
        "colab": {}
      },
      "source": [
        "cened = cened[cened['SUPERF_UTILE_RISCALDATA'] >= 40]"
      ],
      "execution_count": 0,
      "outputs": []
    },
    {
      "cell_type": "code",
      "metadata": {
        "id": "0_Ga6LU5is0d",
        "colab_type": "code",
        "colab": {}
      },
      "source": [
        "cened = cened[cened['VOLUME_LORDO_RISCALDATO'] >= 120]"
      ],
      "execution_count": 0,
      "outputs": []
    },
    {
      "cell_type": "code",
      "metadata": {
        "id": "ByUVxIy5ivIr",
        "colab_type": "code",
        "colab": {}
      },
      "source": [
        "cened = cened[cened['ALTEZZA_MEDIA'] > 2]\n",
        "cened = cened[cened['ALTEZZA_MEDIA'] < 5]"
      ],
      "execution_count": 0,
      "outputs": []
    },
    {
      "cell_type": "code",
      "metadata": {
        "id": "sIRKkc4Dix6J",
        "colab_type": "code",
        "colab": {}
      },
      "source": [
        "cened = cened[cened['Y_IE'] <= 6]\n",
        "cened = cened[cened['Y_IE'] >= 0.03]"
      ],
      "execution_count": 0,
      "outputs": []
    },
    {
      "cell_type": "code",
      "metadata": {
        "id": "aQzPwD01jvLu",
        "colab_type": "code",
        "colab": {}
      },
      "source": [
        "cened = cened[cened['CI_POTENZA_NOMINALE_1'] > 0]\n",
        "cened = cened[cened['CI_POTENZA_NOMINALE_1'] < 200]"
      ],
      "execution_count": 0,
      "outputs": []
    },
    {
      "cell_type": "code",
      "metadata": {
        "id": "6-jbcghYkzMo",
        "colab_type": "code",
        "colab": {}
      },
      "source": [
        "cened = cened[cened['CI_EFFICIENZA_MEDIA'] >= 0.2]\n",
        "cened = cened[cened['CI_EFFICIENZA_MEDIA'] <= 5]"
      ],
      "execution_count": 0,
      "outputs": []
    },
    {
      "cell_type": "code",
      "metadata": {
        "id": "ToHli5VbpcjL",
        "colab_type": "code",
        "colab": {}
      },
      "source": [
        "cened = cened[cened['A_SOL_EST_A_SUP_UTILE'] <= 0.5]\n",
        "cened = cened[cened['A_SOL_EST_A_SUP_UTILE'] > 0]"
      ],
      "execution_count": 0,
      "outputs": []
    },
    {
      "cell_type": "code",
      "metadata": {
        "id": "LFCS2xQRnTjJ",
        "colab_type": "code",
        "outputId": "c37b4d26-ff68-4076-f316-948b9b90d725",
        "colab": {
          "base_uri": "https://localhost:8080/",
          "height": 34
        }
      },
      "source": [
        "len(cened)"
      ],
      "execution_count": 298,
      "outputs": [
        {
          "output_type": "execute_result",
          "data": {
            "text/plain": [
              "26328"
            ]
          },
          "metadata": {
            "tags": []
          },
          "execution_count": 298
        }
      ]
    },
    {
      "cell_type": "markdown",
      "metadata": {
        "id": "BHO2-2IbgGMH",
        "colab_type": "text"
      },
      "source": [
        "## Features preparation"
      ]
    },
    {
      "cell_type": "markdown",
      "metadata": {
        "id": "5NvO0hjmgphO",
        "colab_type": "text"
      },
      "source": [
        "Y0 and Y1"
      ]
    },
    {
      "cell_type": "code",
      "metadata": {
        "id": "llDxSNS8go-9",
        "colab_type": "code",
        "colab": {}
      },
      "source": [
        "cened['Y0'] = cened['Y'].map(lambda x: x.split('(')[0]).astype(\"category\").cat.codes\n",
        "cened['Y1'] = cened['Y'].map(lambda x: x.split('(')[1].replace(r')', '').replace(r',', '.')).astype(float)"
      ],
      "execution_count": 0,
      "outputs": []
    },
    {
      "cell_type": "markdown",
      "metadata": {
        "id": "uZ8TE1jJhZJz",
        "colab_type": "text"
      },
      "source": [
        "Categorical features"
      ]
    },
    {
      "cell_type": "code",
      "metadata": {
        "id": "v1w7rfy_hW2e",
        "colab_type": "code",
        "colab": {}
      },
      "source": [
        "cat_features = ['COMUNE', 'ZONA_CLIMATICA', 'RIQUALIFICAZIONE_ENERGETICA', \n",
        "                'RISTRUTTURAZIONE_IMPORTANTE','CLIMATIZZAZIONE_INVERNALE',\n",
        "                'CI_TIPO_IMPIANTO_1', 'CI_VETTORE_ENERGETICO_1', 'PFR_TIPO_IMPIANTO_1',\n",
        "                'PFR_VETTORE_ENERGETICO_1', 'PFR_TIPO_IMPIANTO_2', \n",
        "                'PFR_VETTORE_ENERGETICO_2', 'VENTILAZIONE_MECCANICA']\n",
        "\n",
        "for col in cat_features:\n",
        "  cened[col] = cened[col].astype(\"category\").cat.codes"
      ],
      "execution_count": 0,
      "outputs": []
    },
    {
      "cell_type": "markdown",
      "metadata": {
        "id": "PR1GxMX-j8Jm",
        "colab_type": "text"
      },
      "source": [
        "## ML"
      ]
    },
    {
      "cell_type": "code",
      "metadata": {
        "id": "nTIE7iq3j9oe",
        "colab_type": "code",
        "colab": {}
      },
      "source": [
        "def r2(y_true, y_pred):\n",
        "    SS_res =  K.sum(K.square( y_true-y_pred ))\n",
        "    SS_tot = K.sum(K.square( y_true - K.mean(y_true) ) )\n",
        "    return ( 1 - SS_res/(SS_tot + K.epsilon()) )"
      ],
      "execution_count": 0,
      "outputs": []
    },
    {
      "cell_type": "code",
      "metadata": {
        "id": "rXquScAHk4Hj",
        "colab_type": "code",
        "colab": {}
      },
      "source": [
        "def mean_absolute_percentage_error(y_true, y_pred): \n",
        "    return np.mean(np.abs((y_true - y_pred) / y_true)) * 100"
      ],
      "execution_count": 0,
      "outputs": []
    },
    {
      "cell_type": "code",
      "metadata": {
        "id": "RgKJjb6-k8F_",
        "colab_type": "code",
        "colab": {}
      },
      "source": [
        "def split_db(X, y, split = [.8,.1], seed = 0):\n",
        "    s = [x for x in range(len(y))]\n",
        "    random.Random(seed).shuffle(s)\n",
        "    X = X[s]\n",
        "    y = y[s]\n",
        "    split1 = int(len(X)*split[0])\n",
        "    split2 = split1 + int(len(X)*split[1])\n",
        "    X_train = X[:split1]\n",
        "    y_train = y[:split1]\n",
        "    X_val = X[split1:split2]\n",
        "    y_val = y[split1:split2]\n",
        "    X_test = X[split2:]\n",
        "    y_test = y[split2:]\n",
        "    return X_train, X_val, X_test, y_train, y_val, y_test"
      ],
      "execution_count": 0,
      "outputs": []
    },
    {
      "cell_type": "code",
      "metadata": {
        "id": "W93WA8M-lcFS",
        "colab_type": "code",
        "colab": {}
      },
      "source": [
        "cened['F1'] = (cened['Y_IE']**2)*cened['SUPERFICIE_DISPERDENTE']\n",
        "mlcol = ['SUPERF_UTILE_RISCALDATA',\n",
        "           'VOLUME_LORDO_RISCALDATO',\n",
        "           'SUPERFICIE_DISPERDENTE', 'dd','PERIOD',\n",
        "           'RAPPORTO_SV','A_SOL_EST_A_SUP_UTILE','Y_IE',\n",
        "           'ALTEZZA_MEDIA', 'Y1',\n",
        "             'CLIMATIZZAZIONE_INVERNALE','RIQUALIFICAZIONE_ENERGETICA','RISTRUTTURAZIONE_IMPORTANTE',\n",
        "             'A_SOL_EST','CI_TIPO_IMPIANTO_1', 'CI_ANNO_INSTALLAZIONE_1','CI_VETTORE_ENERGETICO_1',\n",
        "           'CI_EFFICIENZA_MEDIA', 'CI_POTENZA_NOMINALE_1','PFR_TIPO_IMPIANTO_1', 'PFR_EFFICIENZA_MEDIA_1','F1',\n",
        "           'CI_POTENZA_NOMINALE_2'] #, 'NUMERO_UNITA_IMMOBILIARI','Y0'"
      ],
      "execution_count": 0,
      "outputs": []
    },
    {
      "cell_type": "code",
      "metadata": {
        "id": "YCoIeeOblc87",
        "colab_type": "code",
        "colab": {}
      },
      "source": [
        "X = cened[mlcol]\n",
        "'''\n",
        "# Normalize features\n",
        "for col in X.columns:\n",
        "    if X[col].max() > 1 or X[col].min() < -1:\n",
        "        std = X[col].std()\n",
        "        mean = X[col].mean()\n",
        "        ml_x[col] = ml_x[col].map(lambda x:(x-mean)/std)\n",
        "X = X.values # This transforms the df into a np array\n",
        "'''       \n",
        "from sklearn.preprocessing import MinMaxScaler\n",
        "min_max_scaler = MinMaxScaler()\n",
        "X = min_max_scaler.fit_transform(X)     \n"
      ],
      "execution_count": 0,
      "outputs": []
    },
    {
      "cell_type": "code",
      "metadata": {
        "id": "GNvluWkTlVCF",
        "colab_type": "code",
        "colab": {}
      },
      "source": [
        "y = cened.EP_H_ND.values"
      ],
      "execution_count": 0,
      "outputs": []
    },
    {
      "cell_type": "code",
      "metadata": {
        "id": "oHuc1z5vlOpB",
        "colab_type": "code",
        "colab": {}
      },
      "source": [
        "X_train, X_val, X_test, y_train, y_val, y_test = split_db(X, y, split = [.8,.1], seed = 42)"
      ],
      "execution_count": 0,
      "outputs": []
    },
    {
      "cell_type": "code",
      "metadata": {
        "id": "u7K-UynQk8Kj",
        "colab_type": "code",
        "colab": {}
      },
      "source": [
        "K.clear_session()"
      ],
      "execution_count": 0,
      "outputs": []
    },
    {
      "cell_type": "code",
      "metadata": {
        "id": "keWewKELlmBJ",
        "colab_type": "code",
        "colab": {}
      },
      "source": [
        "from keras.constraints import max_norm\n",
        "\n",
        "# Create NN\n",
        "model = tf.keras.models.Sequential([\n",
        "        tf.keras.layers.Dense(X.shape[1], activation='relu'),\n",
        "        #tf.keras.layers.Dropout(0.4),\n",
        "        tf.keras.layers.Dense(32, activation='relu', kernel_constraint=max_norm(3), bias_constraint=max_norm(3)), #, kernel_constraint=max_norm(2), bias_constraint=max_norm(2)),\n",
        "        tf.keras.layers.Dense(1, activation='linear')\n",
        "        ])\n",
        "\n",
        "\n",
        "model.compile(optimizer = tf.keras.optimizers.Adam(learning_rate= 0.001), loss = 'mape', metrics=[r2, 'mape', 'mse'])\n",
        "\n",
        "history = model.fit(X_train, y_train, validation_data=(X_val, y_val), epochs = 900, batch_size = 256, verbose=0) #,use_multiprocessing = True"
      ],
      "execution_count": 0,
      "outputs": []
    },
    {
      "cell_type": "code",
      "metadata": {
        "id": "y1YKoeTFsxbS",
        "colab_type": "code",
        "colab": {
          "base_uri": "https://localhost:8080/",
          "height": 573
        },
        "outputId": "82a6184d-9beb-48a3-fae7-aecc4d9da0a7"
      },
      "source": [
        "# Plot training & validation accuracy values\n",
        "plt.plot(history.history['r2'][20:])\n",
        "plt.plot(history.history['val_r2'][20:])\n",
        "plt.title('Model r2')\n",
        "plt.ylabel('R2')\n",
        "plt.xlabel('Epoch')\n",
        "plt.legend(['Train', 'Val'], loc='upper left')\n",
        "plt.show()\n",
        "\n",
        "# Plot training & validation loss values\n",
        "plt.plot(history.history['loss'][20:])\n",
        "plt.plot(history.history['val_loss'][20:])\n",
        "plt.title('Model loss')\n",
        "plt.ylabel('Loss')\n",
        "plt.xlabel('Epoch')\n",
        "plt.legend(['Train', 'Val'], loc='upper left')\n",
        "plt.show()"
      ],
      "execution_count": 310,
      "outputs": [
        {
          "output_type": "display_data",
          "data": {
            "image/png": "[encoded data removed]",
            "text/plain": [
              "<Figure size 432x288 with 1 Axes>"
            ]
          },
          "metadata": {
            "tags": [],
            "needs_background": "light"
          }
        },
        {
          "output_type": "display_data",
          "data": {
            "image/png": "[encoded data removed]",
            "text/plain": [
              "<Figure size 432x288 with 1 Axes>"
            ]
          },
          "metadata": {
            "tags": [],
            "needs_background": "light"
          }
        }
      ]
    },
    {
      "cell_type": "code",
      "metadata": {
        "id": "Xjmu_aKebepy",
        "colab_type": "code",
        "colab": {
          "base_uri": "https://localhost:8080/",
          "height": 51
        },
        "outputId": "3a49f88c-f458-4ea0-f641-eeb37ccab4db"
      },
      "source": [
        "pred = model.predict(X_train)\n",
        "pred = pd.Series([x[0] for x in pred])\n",
        "y_true = pd.Series([x for x in y_train])\n",
        "\n",
        "train_df = pd.DataFrame({'true': y_true, 'pred': pred})\n",
        "train_df['error'] = abs(train_df['true']-train_df['pred'])/train_df['true']*100\n",
        "#train_df = train_df[train_df['error'] < 100]\n",
        "\n",
        "\n",
        "print(train_df.error.mean())\n",
        "r2 = r2_score( train_df['true'], train_df['pred'] )\n",
        "print(r2)\n"
      ],
      "execution_count": 311,
      "outputs": [
        {
          "output_type": "stream",
          "text": [
            "26.329179092992568\n",
            "0.5231223426894331\n"
          ],
          "name": "stdout"
        }
      ]
    },
    {
      "cell_type": "code",
      "metadata": {
        "id": "l5nvERVybzuG",
        "colab_type": "code",
        "colab": {
          "base_uri": "https://localhost:8080/",
          "height": 51
        },
        "outputId": "ac26e9a1-ddda-4243-c4a0-da6af9d704c9"
      },
      "source": [
        "pred = model.predict(X_val)\n",
        "pred = pd.Series([x[0] for x in pred])\n",
        "y_true = pd.Series([x for x in y_val])\n",
        "\n",
        "val_df = pd.DataFrame({'true': y_true, 'pred': pred})\n",
        "val_df['error'] = abs(val_df['true']-val_df['pred'])/val_df['true']*100\n",
        "#val_df = val_df[val_df['error'] < 100]\n",
        "\n",
        "print(val_df.error.mean())\n",
        "r2 = r2_score( val_df['true'], val_df['pred'] )\n",
        "print(r2)"
      ],
      "execution_count": 312,
      "outputs": [
        {
          "output_type": "stream",
          "text": [
            "27.04377607611565\n",
            "0.5556419009815525\n"
          ],
          "name": "stdout"
        }
      ]
    },
    {
      "cell_type": "code",
      "metadata": {
        "id": "4b_U-RXpb0Lm",
        "colab_type": "code",
        "colab": {
          "base_uri": "https://localhost:8080/",
          "height": 51
        },
        "outputId": "51d49780-1555-47fe-a05a-071abbb02749"
      },
      "source": [
        "pred = model.predict(X_test)\n",
        "pred = pd.Series([x[0] for x in pred])\n",
        "y_true = pd.Series([x for x in y_test])\n",
        "\n",
        "test_df = pd.DataFrame({'true': y_true, 'pred': pred})\n",
        "test_df['error'] = abs(test_df['true']-test_df['pred'])/test_df['true']*100\n",
        "#test_df = test_df[test_df['error'] < 100]\n",
        "\n",
        "print(test_df.error.mean())\n",
        "r2 = r2_score( test_df['true'], test_df['pred'] )\n",
        "print(r2)"
      ],
      "execution_count": 313,
      "outputs": [
        {
          "output_type": "stream",
          "text": [
            "27.056581671030077\n",
            "0.5770888239580525\n"
          ],
          "name": "stdout"
        }
      ]
    },
    {
      "cell_type": "code",
      "metadata": {
        "id": "p8dKaes-IH4h",
        "colab_type": "code",
        "colab": {
          "base_uri": "https://localhost:8080/",
          "height": 54
        },
        "outputId": "a761c23c-ec8f-4318-885c-e867a709211c"
      },
      "source": [
        "'''y_train_log = np.log(y_train)\n",
        "y_val_log = np.log(y_val)\n",
        "y_test_log = np.log(y_test)\n",
        "\n",
        "#Define the model \n",
        "import torch\n",
        "import torch.nn as nn\n",
        "import torch.nn.functional as F\n",
        "\n",
        "#Define training hyperprameters.\n",
        "batch_size = 32\n",
        "num_epochs = 100\n",
        "learning_rate = 0.001\n",
        "size_hidden= 64\n",
        "\n",
        "#Calculate some other hyperparameters based on data.  \n",
        "batch_no = len(X_train) // batch_size  #batches\n",
        "cols = X_train.shape[1] #Number of columns in input matrix\n",
        "n_output = 1\n",
        "\n",
        "#Create the model\n",
        "#device = torch.device(\"cuda:0\" if torch.cuda.is_available() else \"cpu\")\n",
        "# Assume that we are on a CUDA machine, then this should print a CUDA device:\n",
        "#print(\"Executing the model on :\",device)\n",
        "\n",
        "class Net(torch.nn.Module):\n",
        "    def __init__(self, n_feature, size_hidden, n_output):\n",
        "        super(Net, self).__init__()\n",
        "        #self.dropout = torch.nn.Dropout(0.2)\n",
        "        self.hidden = torch.nn.Linear(cols, size_hidden)   # hidden layer\n",
        "        self.predict = torch.nn.Linear(size_hidden, n_output)   # output layer\n",
        "\n",
        "    def forward(self, x):\n",
        "        x = F.relu(self.hidden(x))      # activation function for hidden layer\n",
        "        x = self.predict(x)             # linear output\n",
        "        return x\n",
        "\n",
        "net = Net(cols, size_hidden, n_output)\n",
        "\n",
        "#Adam is a specific flavor of gradient decent which is typically better\n",
        "optimizer = torch.optim.Adam(net.parameters(), lr=learning_rate) #, weight_decay = 0.04\n",
        "#optimizer = torch.optim.SGD(net.parameters(), lr=0.2)\n",
        "#criterion = torch.nn.MSELoss(size_average=False)  # this is for regression mean squared loss\n",
        "criterion = torch.nn.SmoothL1Loss()\n",
        "\n",
        "from sklearn.utils import shuffle\n",
        "from torch.autograd import Variable\n",
        "\n",
        "X_train_shuffled, y_train_log_shuffled = shuffle(X_train, y_train_log)\n",
        "\n",
        "running_loss = 0.0\n",
        "for epoch in range(num_epochs):\n",
        "    #Shuffle just mixes up the dataset between epocs\n",
        "    X_train_shuffled, y_train_log_shuffled = shuffle(X_train_shuffled, y_train_log_shuffled)\n",
        "    # Mini batch learning\n",
        "    for i in range(batch_no):\n",
        "        start = i * batch_size\n",
        "        end = start + batch_size\n",
        "        inputs = Variable(torch.FloatTensor(X_train_shuffled[start:end]))\n",
        "        labels = Variable(torch.FloatTensor(y_train_log_shuffled[start:end]))\n",
        "        # zero the parameter gradients\n",
        "        optimizer.zero_grad()\n",
        "\n",
        "        # forward + backward + optimize\n",
        "        outputs = net(inputs)\n",
        "        #print(\"outputs\",outputs)\n",
        "        #print(\"outputs\",outputs,outputs.shape,\"labels\",labels, labels.shape)\n",
        "        loss = criterion(outputs, torch.unsqueeze(labels,dim=1))\n",
        "        loss.backward()\n",
        "        optimizer.step()\n",
        "\n",
        "        # print statistics\n",
        "        running_loss += loss.item()\n",
        "        \n",
        "    print('Epoch {}'.format(epoch+1), \"loss: \",running_loss)\n",
        "    running_loss = 0.0\n",
        "\n",
        "\n",
        "XV = Variable(torch.FloatTensor(X_train)) \n",
        "result = net(XV)\n",
        "pred = np.exp(result.data[:,0].numpy())\n",
        "\n",
        "print(r2_score(pred,y_train))\n",
        "print(mean_absolute_percentage_error(y_train, pred))'''"
      ],
      "execution_count": 314,
      "outputs": [
        {
          "output_type": "execute_result",
          "data": {
            "text/plain": [
              "'y_train_log = np.log(y_train)\\ny_val_log = np.log(y_val)\\ny_test_log = np.log(y_test)\\n\\n#Define the model \\nimport torch\\nimport torch.nn as nn\\nimport torch.nn.functional as F\\n\\n#Define training hyperprameters.\\nbatch_size = 32\\nnum_epochs = 100\\nlearning_rate = 0.001\\nsize_hidden= 64\\n\\n#Calculate some other hyperparameters based on data.  \\nbatch_no = len(X_train) // batch_size  #batches\\ncols = X_train.shape[1] #Number of columns in input matrix\\nn_output = 1\\n\\n#Create the model\\n#device = torch.device(\"cuda:0\" if torch.cuda.is_available() else \"cpu\")\\n# Assume that we are on a CUDA machine, then this should print a CUDA device:\\n#print(\"Executing the model on :\",device)\\n\\nclass Net(torch.nn.Module):\\n    def __init__(self, n_feature, size_hidden, n_output):\\n        super(Net, self).__init__()\\n        #self.dropout = torch.nn.Dropout(0.2)\\n        self.hidden = torch.nn.Linear(cols, size_hidden)   # hidden layer\\n        self.predict = torch.nn.Linear(size_hidden, n_output)   # output layer\\n\\n    def forward(self, x):\\n        x = F.relu(self.hidden(x))      # activation function for hidden layer\\n        x = self.predict(x)             # linear output\\n        return x\\n\\nnet = Net(cols, size_hidden, n_output)\\n\\n#Adam is a specific flavor of gradient decent which is typically better\\noptimizer = torch.optim.Adam(net.parameters(), lr=learning_rate) #, weight_decay = 0.04\\n#optimizer = torch.optim.SGD(net.parameters(), lr=0.2)\\n#criterion = torch.nn.MSELoss(size_average=False)  # this is for regression mean squared loss\\ncriterion = torch.nn.SmoothL1Loss()\\n\\nfrom sklearn.utils import shuffle\\nfrom torch.autograd import Variable\\n\\nX_train_shuffled, y_train_log_shuffled = shuffle(X_train, y_train_log)\\n\\nrunning_loss = 0.0\\nfor epoch in range(num_epochs):\\n    #Shuffle just mixes up the dataset between epocs\\n    X_train_shuffled, y_train_log_shuffled = shuffle(X_train_shuffled, y_train_log_shuffled)\\n    # Mini batch learning\\n    for i in range(batch_no):\\n        start = i * batch_size\\n        end = start + batch_size\\n        inputs = Variable(torch.FloatTensor(X_train_shuffled[start:end]))\\n        labels = Variable(torch.FloatTensor(y_train_log_shuffled[start:end]))\\n        # zero the parameter gradients\\n        optimizer.zero_grad()\\n\\n        # forward + backward + optimize\\n        outputs = net(inputs)\\n        #print(\"outputs\",outputs)\\n        #print(\"outputs\",outputs,outputs.shape,\"labels\",labels, labels.shape)\\n        loss = criterion(outputs, torch.unsqueeze(labels,dim=1))\\n        loss.backward()\\n        optimizer.step()\\n\\n        # print statistics\\n        running_loss += loss.item()\\n        \\n    print(\\'Epoch {}\\'.format(epoch+1), \"loss: \",running_loss)\\n    running_loss = 0.0\\n\\n\\nXV = Variable(torch.FloatTensor(X_train)) \\nresult = net(XV)\\npred = np.exp(result.data[:,0].numpy())\\n\\nprint(r2_score(pred,y_train))\\nprint(mean_absolute_percentage_error(y_train, pred))'"
            ]
          },
          "metadata": {
            "tags": []
          },
          "execution_count": 314
        }
      ]
    },
    {
      "cell_type": "code",
      "metadata": {
        "id": "OsCZCLHbsnhF",
        "colab_type": "code",
        "colab": {
          "base_uri": "https://localhost:8080/",
          "height": 34
        },
        "outputId": "859f4481-5868-44fa-bcea-4ae88b8c8340"
      },
      "source": [
        "'''XV = Variable(torch.FloatTensor(X_train)) \n",
        "result = net(XV)\n",
        "pred= np.exp(result.data[:,0].numpy())\n",
        "print(r2_score(pred,y_train))\n",
        "print(mean_absolute_percentage_error(y_train, pred))'''"
      ],
      "execution_count": 315,
      "outputs": [
        {
          "output_type": "execute_result",
          "data": {
            "text/plain": [
              "'XV = Variable(torch.FloatTensor(X_train)) \\nresult = net(XV)\\npred= np.exp(result.data[:,0].numpy())\\nprint(r2_score(pred,y_train))\\nprint(mean_absolute_percentage_error(y_train, pred))'"
            ]
          },
          "metadata": {
            "tags": []
          },
          "execution_count": 315
        }
      ]
    },
    {
      "cell_type": "code",
      "metadata": {
        "id": "r8ZFCNPgXBAm",
        "colab_type": "code",
        "colab": {
          "base_uri": "https://localhost:8080/",
          "height": 34
        },
        "outputId": "3a1434ce-89e6-4549-a384-54241d07342f"
      },
      "source": [
        "'''XV = Variable(torch.FloatTensor(X_val)) \n",
        "result = net(XV)\n",
        "pred= np.exp(result.data[:,0].numpy())\n",
        "print(r2_score(pred,y_val))\n",
        "print(mean_absolute_percentage_error(y_val, pred))'''"
      ],
      "execution_count": 316,
      "outputs": [
        {
          "output_type": "execute_result",
          "data": {
            "text/plain": [
              "'XV = Variable(torch.FloatTensor(X_val)) \\nresult = net(XV)\\npred= np.exp(result.data[:,0].numpy())\\nprint(r2_score(pred,y_val))\\nprint(mean_absolute_percentage_error(y_val, pred))'"
            ]
          },
          "metadata": {
            "tags": []
          },
          "execution_count": 316
        }
      ]
    },
    {
      "cell_type": "code",
      "metadata": {
        "id": "pp7nQplCZzo0",
        "colab_type": "code",
        "colab": {
          "base_uri": "https://localhost:8080/",
          "height": 34
        },
        "outputId": "d80f16ae-9826-4d30-c2c4-82d379515cc8"
      },
      "source": [
        "'''XV = Variable(torch.FloatTensor(X_test)) \n",
        "result = net(XV)\n",
        "pred = result.data[:,0].numpy()\n",
        "print(r2_score(pred,y_test))\n",
        "print(mean_absolute_percentage_error(y_test, pred))'''"
      ],
      "execution_count": 317,
      "outputs": [
        {
          "output_type": "execute_result",
          "data": {
            "text/plain": [
              "'XV = Variable(torch.FloatTensor(X_test)) \\nresult = net(XV)\\npred = result.data[:,0].numpy()\\nprint(r2_score(pred,y_test))\\nprint(mean_absolute_percentage_error(y_test, pred))'"
            ]
          },
          "metadata": {
            "tags": []
          },
          "execution_count": 317
        }
      ]
    },
    {
      "cell_type": "code",
      "metadata": {
        "id": "Fs9Kba26JfYl",
        "colab_type": "code",
        "colab": {
          "base_uri": "https://localhost:8080/",
          "height": 419
        },
        "outputId": "f7f0f1af-f411-431d-88f5-14740adf9611"
      },
      "source": [
        "test_df"
      ],
      "execution_count": 318,
      "outputs": [
        {
          "output_type": "execute_result",
          "data": {
            "text/html": [
              "<div>\n",
              "<style scoped>\n",
              "    .dataframe tbody tr th:only-of-type {\n",
              "        vertical-align: middle;\n",
              "    }\n",
              "\n",
              "    .dataframe tbody tr th {\n",
              "        vertical-align: top;\n",
              "    }\n",
              "\n",
              "    .dataframe thead th {\n",
              "        text-align: right;\n",
              "    }\n",
              "</style>\n",
              "<table border=\"1\" class=\"dataframe\">\n",
              "  <thead>\n",
              "    <tr style=\"text-align: right;\">\n",
              "      <th></th>\n",
              "      <th>true</th>\n",
              "      <th>pred</th>\n",
              "      <th>error</th>\n",
              "    </tr>\n",
              "  </thead>\n",
              "  <tbody>\n",
              "    <tr>\n",
              "      <th>0</th>\n",
              "      <td>329.27</td>\n",
              "      <td>376.674988</td>\n",
              "      <td>14.396996</td>\n",
              "    </tr>\n",
              "    <tr>\n",
              "      <th>1</th>\n",
              "      <td>79.56</td>\n",
              "      <td>92.387215</td>\n",
              "      <td>16.122693</td>\n",
              "    </tr>\n",
              "    <tr>\n",
              "      <th>2</th>\n",
              "      <td>205.44</td>\n",
              "      <td>221.920410</td>\n",
              "      <td>8.022007</td>\n",
              "    </tr>\n",
              "    <tr>\n",
              "      <th>3</th>\n",
              "      <td>86.81</td>\n",
              "      <td>69.272720</td>\n",
              "      <td>20.201912</td>\n",
              "    </tr>\n",
              "    <tr>\n",
              "      <th>4</th>\n",
              "      <td>215.21</td>\n",
              "      <td>171.610855</td>\n",
              "      <td>20.258884</td>\n",
              "    </tr>\n",
              "    <tr>\n",
              "      <th>...</th>\n",
              "      <td>...</td>\n",
              "      <td>...</td>\n",
              "      <td>...</td>\n",
              "    </tr>\n",
              "    <tr>\n",
              "      <th>2629</th>\n",
              "      <td>133.55</td>\n",
              "      <td>82.642326</td>\n",
              "      <td>38.118812</td>\n",
              "    </tr>\n",
              "    <tr>\n",
              "      <th>2630</th>\n",
              "      <td>167.54</td>\n",
              "      <td>128.653458</td>\n",
              "      <td>23.210303</td>\n",
              "    </tr>\n",
              "    <tr>\n",
              "      <th>2631</th>\n",
              "      <td>117.69</td>\n",
              "      <td>123.818245</td>\n",
              "      <td>5.207108</td>\n",
              "    </tr>\n",
              "    <tr>\n",
              "      <th>2632</th>\n",
              "      <td>117.48</td>\n",
              "      <td>57.323658</td>\n",
              "      <td>51.205603</td>\n",
              "    </tr>\n",
              "    <tr>\n",
              "      <th>2633</th>\n",
              "      <td>270.30</td>\n",
              "      <td>174.392822</td>\n",
              "      <td>35.481753</td>\n",
              "    </tr>\n",
              "  </tbody>\n",
              "</table>\n",
              "<p>2634 rows × 3 columns</p>\n",
              "</div>"
            ],
            "text/plain": [
              "        true        pred      error\n",
              "0     329.27  376.674988  14.396996\n",
              "1      79.56   92.387215  16.122693\n",
              "2     205.44  221.920410   8.022007\n",
              "3      86.81   69.272720  20.201912\n",
              "4     215.21  171.610855  20.258884\n",
              "...      ...         ...        ...\n",
              "2629  133.55   82.642326  38.118812\n",
              "2630  167.54  128.653458  23.210303\n",
              "2631  117.69  123.818245   5.207108\n",
              "2632  117.48   57.323658  51.205603\n",
              "2633  270.30  174.392822  35.481753\n",
              "\n",
              "[2634 rows x 3 columns]"
            ]
          },
          "metadata": {
            "tags": []
          },
          "execution_count": 318
        }
      ]
    }
  ]
}