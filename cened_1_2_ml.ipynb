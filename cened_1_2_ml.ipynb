{
  "nbformat": 4,
  "nbformat_minor": 0,
  "metadata": {
    "colab": {
      "name": "cened_1.2_ml.ipynb",
      "provenance": [],
      "authorship_tag": "ABX9TyObcP1QNNs2/X5jLWyQFJxN",
      "include_colab_link": true
    },
    "kernelspec": {
      "display_name": "Python 3",
      "name": "python3"
    }
  },
  "cells": [
    {
      "cell_type": "markdown",
      "metadata": {
        "id": "view-in-github",
        "colab_type": "text"
      },
      "source": [
        "<a href=\"https://colab.research.google.com/github/rboghe/cened/blob/master/cened_1_2_ml.ipynb\" target=\"_parent\"><img src=\"https://colab.research.google.com/assets/colab-badge.svg\" alt=\"Open In Colab\"/></a>"
      ]
    },
    {
      "cell_type": "markdown",
      "metadata": {
        "id": "8e3keRjX4rEn"
      },
      "source": [
        "# Imports"
      ]
    },
    {
      "cell_type": "code",
      "metadata": {
        "id": "ths-id_T4ge3"
      },
      "source": [
        "import os\r\n",
        "import urllib.request\r\n",
        "import pandas as pd\r\n",
        "import numpy as np\r\n",
        "import random\r\n",
        "import matplotlib.pyplot as plt\r\n",
        "from sklearn.metrics import r2_score, make_scorer\r\n",
        "from sklearn.model_selection import RandomizedSearchCV\r\n",
        "import scipy.stats as stats\r\n",
        "from lightgbm import LGBMRegressor, plot_importance\r\n",
        "import seaborn as sns\r\n",
        "\r\n",
        "# Silence panda's setting with copy warning\r\n",
        "pd.options.mode.chained_assignment = None\r\n",
        "\r\n",
        "# Set Seaborn style\r\n",
        "sns.set_theme(style=\"white\")"
      ],
      "execution_count": 388,
      "outputs": []
    },
    {
      "cell_type": "markdown",
      "metadata": {
        "id": "13K9ZDw04wiF"
      },
      "source": [
        "# Load data"
      ]
    },
    {
      "cell_type": "code",
      "metadata": {
        "id": "sJzLWKRf5TBE"
      },
      "source": [
        "# Cened 1.2\r\n",
        "url = 'https://www.dati.lombardia.it/api/views/rsg3-xhvk/rows.csv?accessType=DOWNLOAD'\r\n",
        "\r\n",
        "\r\n",
        "if os.path.isfile('/tmp/cened12.csv'):\r\n",
        "  pass\r\n",
        "else:\r\n",
        "  urllib.request.urlretrieve(url, '/tmp/cened12.csv')"
      ],
      "execution_count": 350,
      "outputs": []
    },
    {
      "cell_type": "code",
      "metadata": {
        "id": "yxFzc7202X5U"
      },
      "source": [
        "# DDH\n",
        "url = 'https://raw.githubusercontent.com/rboghe/cened/master/degreedays.txt'\n",
        "\n",
        "urllib.request.urlretrieve(url, '/tmp/ddh.csv')\n",
        "\n",
        "ddh = pd.read_csv('/tmp/ddh.csv', usecols = ['comune','dd'])"
      ],
      "execution_count": 351,
      "outputs": []
    },
    {
      "cell_type": "code",
      "metadata": {
        "id": "fiRt0wIy2ciM"
      },
      "source": [
        "cols = ['COMUNE','FOGLIO', 'PARTICELLA','SUPERFICIE_DISPERDENTE',\n",
        "          'TRASMITTANZA_MEDIA_COPERTURA','TRASMITTANZA_MEDIA_INVOLUCRO',\n",
        "          'TRASMITTANZA_MEDIA_BASAMENTO','TRASMITTANZA_MEDIA_SERRAMENTO',\n",
        "          'SUPERFICIE_LORDA', 'VOLUME_LORDO', 'DESTINAZIONE_DI_USO',\n",
        "          'ANNO_COSTRUZIONE','SUPERFICIE_VETRATA_OPACA', 'VOLUME_NETTO',\n",
        "          'SUPERFICIE_NETTA', 'NUMERO_RICAMBI_ORARI', 'EPH']\n",
        "  \n",
        "cened_old = pd.read_csv('/tmp/cened12.csv', usecols = cols)"
      ],
      "execution_count": 352,
      "outputs": []
    },
    {
      "cell_type": "markdown",
      "metadata": {
        "id": "s2F4J8oU52DP"
      },
      "source": [
        "# Preprocessing"
      ]
    },
    {
      "cell_type": "code",
      "metadata": {
        "id": "bTycWYIA51kE"
      },
      "source": [
        "# Drop buildings with NaN values\r\n",
        "cened_old.dropna(inplace = True)\r\n",
        "\r\n",
        "# We'll use residential buildings only\r\n",
        "cened_old = cened_old[cened_old['DESTINAZIONE_DI_USO'] == 'E.1(1)']\r\n",
        "\r\n",
        "# Add ddh\r\n",
        "cened_old['COMUNE'] = cened_old['COMUNE'].str.lower()\r\n",
        "ddh['comune'] = ddh['comune'].str.lower()\r\n",
        "cened_old['COMUNE'] = cened_old['COMUNE'].str.replace(r\"o`\",  \"o'\")\r\n",
        "cened_old['COMUNE'] = cened_old['COMUNE'].str.replace(r\"baranzate\",  \"bollate\")\r\n",
        "cened_old['COMUNE'] = cened_old['COMUNE'].str.replace(r\"bovisio masciago\",  \"bovisio-masciago\")\r\n",
        "cened_old['COMUNE'] = cened_old['COMUNE'].str.replace(r\"cornate d`adda\",  \"cornate d'adda\")\r\n",
        "cened_old['COMUNE'] = cened_old['COMUNE'].str.replace(r\"cortenuova\",  \"cortenova\")\r\n",
        "cened_old['COMUNE'] = cened_old['COMUNE'].str.replace(r\"sant'omobono terme\",  \"sant'omobono imagna\")\r\n",
        "ddh['comune'] = ddh['comune'].str.replace(r\"è\",  \"e'\")\r\n",
        "ddh['comune'] = ddh['comune'].str.replace(r\"è\",  \"e'\")\r\n",
        "ddh['comune'] = ddh['comune'].str.replace(r\"é\",  \"e'\")\r\n",
        "ddh['comune'] = ddh['comune'].str.replace(r\"ò\",  \"o'\")\r\n",
        "ddh['comune'] = ddh['comune'].str.replace(r\"ù\",  \"u'\")\r\n",
        "\r\n",
        "cened_old = cened_old.merge(ddh, left_on='COMUNE', right_on='comune', how='left')\r\n",
        "\r\n",
        "\r\n",
        "\r\n",
        "# Correct floats\r\n",
        "for col in ['SUPERFICIE_LORDA', 'SUPERFICIE_NETTA', 'VOLUME_LORDO', 'VOLUME_NETTO',\r\n",
        "       'SUPERFICIE_DISPERDENTE', 'SUPERFICIE_VETRATA_OPACA',\r\n",
        "       'TRASMITTANZA_MEDIA_INVOLUCRO', 'TRASMITTANZA_MEDIA_COPERTURA',\r\n",
        "       'TRASMITTANZA_MEDIA_BASAMENTO', 'TRASMITTANZA_MEDIA_SERRAMENTO', 'EPH', 'dd']:\r\n",
        "    cened_old[col] = cened_old[col].astype(str)\r\n",
        "    cened_old[col] = cened_old[col].str.replace(r',', '')\r\n",
        "    cened_old[col] = cened_old[col].astype(\"float\")"
      ],
      "execution_count": 353,
      "outputs": []
    },
    {
      "cell_type": "code",
      "metadata": {
        "id": "KMx-EDjwT9RO",
        "colab": {
          "base_uri": "https://localhost:8080/"
        },
        "outputId": "8d40add4-1e96-44d6-9649-b3973e490400"
      },
      "source": [
        "# Full DB of residential buildings without missing data\r\n",
        "print(len(cened_old))"
      ],
      "execution_count": 354,
      "outputs": [
        {
          "output_type": "stream",
          "text": [
            "306008\n"
          ],
          "name": "stdout"
        }
      ]
    },
    {
      "cell_type": "markdown",
      "metadata": {
        "id": "t-NviQVY6Ffl"
      },
      "source": [
        "# Feature engineering"
      ]
    },
    {
      "cell_type": "code",
      "metadata": {
        "id": "idAz0fO86FsB"
      },
      "source": [
        "# Opaque surface\r\n",
        "cened_old['SUP_OPACA'] = cened_old['SUPERFICIE_DISPERDENTE']/(1+cened_old['SUPERFICIE_VETRATA_OPACA'])\r\n",
        "\r\n",
        "# Opaque surface\r\n",
        "cened_old['SUP_FINESTRATA'] = cened_old['SUPERFICIE_DISPERDENTE'] - cened_old['SUP_OPACA']\r\n",
        "\r\n",
        "# Take care of construction year\r\n",
        "cened_old.ANNO_COSTRUZIONE = cened_old.ANNO_COSTRUZIONE.astype(str)\r\n",
        "cened_old.ANNO_COSTRUZIONE = cened_old.ANNO_COSTRUZIONE.map(lambda x:x[-4:])\r\n",
        "cened_old.ANNO_COSTRUZIONE = cened_old.ANNO_COSTRUZIONE.astype(int)\r\n",
        "\r\n",
        "cened_old['PERIODO'] = pd.cut(cened_old.ANNO_COSTRUZIONE, bins=[0,1930,1945,1960,1976,1992,2006,3000],\r\n",
        "     labels=['Before 1930','1930-1945','1946-1960','1961-1976', '1977-1992', '1993-2006','After 2006']).cat.codes\r\n",
        "\r\n",
        "# Take care of ach\r\n",
        "cened_old.NUMERO_RICAMBI_ORARI = cened_old.NUMERO_RICAMBI_ORARI.astype(str)\r\n",
        "cened_old.NUMERO_RICAMBI_ORARI = cened_old.NUMERO_RICAMBI_ORARI.map(lambda x:x[:6])\r\n",
        "cened_old.NUMERO_RICAMBI_ORARI = cened_old.NUMERO_RICAMBI_ORARI.astype(float)"
      ],
      "execution_count": 355,
      "outputs": []
    },
    {
      "cell_type": "markdown",
      "metadata": {
        "id": "--rfTUVC5qyb"
      },
      "source": [
        "# Filtering"
      ]
    },
    {
      "cell_type": "markdown",
      "metadata": {
        "id": "ftOM4XlE-ymK"
      },
      "source": [
        "Taken from previous studies!"
      ]
    },
    {
      "cell_type": "code",
      "metadata": {
        "id": "rlICxbTx5sIt"
      },
      "source": [
        "# Drop buildings with wrong thermal conductivity\r\n",
        "for col in ['TRASMITTANZA_MEDIA_INVOLUCRO', 'TRASMITTANZA_MEDIA_COPERTURA',\r\n",
        "       'TRASMITTANZA_MEDIA_BASAMENTO']:\r\n",
        "    cened_old = cened_old[cened_old[col] > 0]\r\n",
        "    cened_old = cened_old[cened_old[col] < 4]\r\n",
        "\r\n",
        "cened_old = cened_old[cened_old['TRASMITTANZA_MEDIA_SERRAMENTO'] > 0]\r\n",
        "cened_old = cened_old[cened_old['TRASMITTANZA_MEDIA_SERRAMENTO'] < 6]\r\n",
        "\r\n",
        "# Drop buildings with wrong EPH\r\n",
        "cened_old = cened_old[cened_old['EPH'] > 5]\r\n",
        "cened_old = cened_old[cened_old['EPH'] < 1000]\r\n",
        "\r\n",
        "# Drop buildings with wrong An\r\n",
        "cened_old = cened_old[cened_old['SUPERFICIE_NETTA'] > 50]\r\n",
        "\r\n",
        "# Drop buildings with wrong Vn\r\n",
        "cened_old = cened_old[cened_old['VOLUME_NETTO'] > 150]\r\n",
        "\r\n",
        "# Drop buildings with wrong average height\r\n",
        "cened_old['ALTEZZA_MEDIA'] = cened_old['VOLUME_NETTO']/cened_old['SUPERFICIE_NETTA']\r\n",
        "cened_old = cened_old[cened_old['ALTEZZA_MEDIA'] > 2.4]\r\n",
        "\r\n",
        "\r\n",
        "# Drop buildings with wrong mean thermal conductivity\r\n",
        "cened_old['TRASMITTANZA_MEDIA'] = (cened_old['TRASMITTANZA_MEDIA_SERRAMENTO'] + cened_old['TRASMITTANZA_MEDIA_COPERTURA'] +\r\n",
        "         cened_old['TRASMITTANZA_MEDIA_BASAMENTO'] + cened_old['TRASMITTANZA_MEDIA_INVOLUCRO'])/4\r\n",
        "\r\n",
        "cened_old = cened_old[cened_old['TRASMITTANZA_MEDIA'] > 0.15]\r\n",
        "cened_old = cened_old[cened_old['TRASMITTANZA_MEDIA'] < 4]\r\n",
        "\r\n",
        "# Glazed surface\r\n",
        "cened_old = cened_old[cened_old['SUP_FINESTRATA'] > 1]\r\n",
        "\r\n",
        "# Glazing ratio\r\n",
        "cened_old = cened_old[cened_old['SUPERFICIE_VETRATA_OPACA'] > 0]\r\n",
        "cened_old = cened_old[cened_old['SUPERFICIE_VETRATA_OPACA'] < 0.9]"
      ],
      "execution_count": 356,
      "outputs": []
    },
    {
      "cell_type": "code",
      "metadata": {
        "colab": {
          "base_uri": "https://localhost:8080/"
        },
        "id": "7zqMhuTsUEEC",
        "outputId": "912ef10d-2ad9-43d7-e892-317b181d6ddb"
      },
      "source": [
        "print(len(cened_old))"
      ],
      "execution_count": 357,
      "outputs": [
        {
          "output_type": "stream",
          "text": [
            "263234\n"
          ],
          "name": "stdout"
        }
      ]
    },
    {
      "cell_type": "markdown",
      "metadata": {
        "id": "spKskdWCL4mM"
      },
      "source": [
        "# Data analysis"
      ]
    },
    {
      "cell_type": "code",
      "metadata": {
        "id": "MvzSQpeLL_Ku",
        "colab": {
          "base_uri": "https://localhost:8080/",
          "height": 394
        },
        "outputId": "217ed2d4-c6e0-4181-f298-b9e54cb005f5"
      },
      "source": [
        "# Period\r\n",
        "fig = plt.figure(figsize = (10,6))\r\n",
        "cplot = sns.countplot(x = pd.cut(cened_old.ANNO_COSTRUZIONE, bins=[0,1930,1945,1960,1976,1992,2006,3000], \r\n",
        "       labels=['Before 1930','1930-1945','1946-1960','1961-1976', '1977-1992', \r\n",
        "               '1993-2006','After 2006']), color = 'b')\r\n",
        "cplot.set(ylabel = 'Count', xlabel = 'Period')\r\n",
        "plt.show()"
      ],
      "execution_count": 358,
      "outputs": [
        {
          "output_type": "display_data",
          "data": {
            "image/png": "[encoded data removed]",
            "text/plain": [
              "<Figure size 720x432 with 1 Axes>"
            ]
          },
          "metadata": {
            "tags": []
          }
        }
      ]
    },
    {
      "cell_type": "markdown",
      "metadata": {
        "id": "rK7tT6FO6wjs"
      },
      "source": [
        "# Shuffle"
      ]
    },
    {
      "cell_type": "code",
      "metadata": {
        "id": "xQauAX_Z6ywH"
      },
      "source": [
        "cened = cened_old.sample(frac=1).reset_index(drop=True)"
      ],
      "execution_count": 359,
      "outputs": []
    },
    {
      "cell_type": "markdown",
      "metadata": {
        "id": "xLy7NHfV6NOg"
      },
      "source": [
        "# Reserve a test set"
      ]
    },
    {
      "cell_type": "code",
      "metadata": {
        "id": "D8AmkFQH6Nl7"
      },
      "source": [
        "msk = np.random.rand(len(cened)) < 0.8\r\n",
        "train = cened[msk]\r\n",
        "test = cened[~msk]"
      ],
      "execution_count": 360,
      "outputs": []
    },
    {
      "cell_type": "code",
      "metadata": {
        "colab": {
          "base_uri": "https://localhost:8080/"
        },
        "id": "Tz77V-S2_H01",
        "outputId": "90f46462-9d32-461d-8bab-9aca800e1f9f"
      },
      "source": [
        "print(len(train))"
      ],
      "execution_count": 361,
      "outputs": [
        {
          "output_type": "stream",
          "text": [
            "210821\n"
          ],
          "name": "stdout"
        }
      ]
    },
    {
      "cell_type": "code",
      "metadata": {
        "colab": {
          "base_uri": "https://localhost:8080/"
        },
        "id": "HeJnDatG_Kan",
        "outputId": "0217c2bf-1b7c-4b30-8013-74976cf2aefe"
      },
      "source": [
        "print(len(test))"
      ],
      "execution_count": 362,
      "outputs": [
        {
          "output_type": "stream",
          "text": [
            "52413\n"
          ],
          "name": "stdout"
        }
      ]
    },
    {
      "cell_type": "markdown",
      "metadata": {
        "id": "7TMSuHej9Mw-"
      },
      "source": [
        "# Define MAPE"
      ]
    },
    {
      "cell_type": "code",
      "metadata": {
        "id": "sfmx3u169Q0i"
      },
      "source": [
        "def neg_mape(y_true, y_pred):\r\n",
        "  y_true = np.array(y_true)\r\n",
        "  y_pred = np.array(y_pred)\r\n",
        "  return -np.abs((y_true - y_pred)/y_true).mean()"
      ],
      "execution_count": 363,
      "outputs": []
    },
    {
      "cell_type": "code",
      "metadata": {
        "id": "2TUZvEj1LFLu"
      },
      "source": [
        "def modified_neg_mape(y_true, y_pred):\r\n",
        "  y_true = np.array(y_true)\r\n",
        "  y_pred = np.array(y_pred)\r\n",
        "  errors = np.abs((y_true - y_pred)/y_true)\r\n",
        "  index = np.argwhere(errors > 1)\r\n",
        "  mod_errors = np.delete(errors, index)\r\n",
        "  return -mod_errors.mean()"
      ],
      "execution_count": 364,
      "outputs": []
    },
    {
      "cell_type": "code",
      "metadata": {
        "id": "66onwvYJALQj"
      },
      "source": [
        "neg_mape_scorer = make_scorer(neg_mape, greater_is_better=True)"
      ],
      "execution_count": 365,
      "outputs": []
    },
    {
      "cell_type": "code",
      "metadata": {
        "id": "53ze8caVLOOn"
      },
      "source": [
        "modified_neg_mape_scorer = make_scorer(modified_neg_mape, greater_is_better=True)"
      ],
      "execution_count": 366,
      "outputs": []
    },
    {
      "cell_type": "markdown",
      "metadata": {
        "id": "P3sUK8BN6-Ph"
      },
      "source": [
        "# Random search"
      ]
    },
    {
      "cell_type": "code",
      "metadata": {
        "id": "NbnFeNK8-9up"
      },
      "source": [
        "mlcol = ['PERIODO','SUPERFICIE_LORDA', 'SUPERFICIE_NETTA', 'VOLUME_LORDO', \r\n",
        "         'VOLUME_NETTO', 'SUPERFICIE_DISPERDENTE',\r\n",
        "         'TRASMITTANZA_MEDIA_INVOLUCRO', 'TRASMITTANZA_MEDIA_COPERTURA',\r\n",
        "         'TRASMITTANZA_MEDIA_BASAMENTO', 'TRASMITTANZA_MEDIA_SERRAMENTO',\r\n",
        "         'dd','SUP_FINESTRATA','SUP_OPACA', 'SUPERFICIE_VETRATA_OPACA',\r\n",
        "         'NUMERO_RICAMBI_ORARI', 'ALTEZZA_MEDIA']"
      ],
      "execution_count": 367,
      "outputs": []
    },
    {
      "cell_type": "code",
      "metadata": {
        "id": "f3xillEIJoec"
      },
      "source": [
        "cat_feats = ['PERIODO']"
      ],
      "execution_count": 368,
      "outputs": []
    },
    {
      "cell_type": "code",
      "metadata": {
        "colab": {
          "base_uri": "https://localhost:8080/"
        },
        "id": "QIbN4Y2Q6-Va",
        "outputId": "d016e4d2-b179-4769-ad07-b53f12d78b31"
      },
      "source": [
        "param_dist = {'feature_fraction': np.linspace(0.4, 1, num=7),\r\n",
        "              'num_leaf' : list(range(20,40)),\r\n",
        "             'max_depth' : [-1],\r\n",
        "             'max_bin' : [100, 200, 300, 500, 750, 1000, 2000],\r\n",
        "             'bagging_fraction' : np.linspace(0.4, 1, num=14),\r\n",
        "             'bagging_freq' : list(range(1,10)),\r\n",
        "             'lambda_l1' : stats.uniform(0, 0.6),\r\n",
        "             'lambda_l2' : stats.uniform(0, 0.6)}\r\n",
        "\r\n",
        "lgbm = LGBMRegressor(n_estimators = 200, silent = True, verbose = 0, is_training_metric = True, n_jobs = 1, \r\n",
        "                     eval_metric  = 'mape')\r\n",
        "\r\n",
        "n_iter_search = 100\r\n",
        "\r\n",
        "random_search = RandomizedSearchCV(lgbm, param_distributions=param_dist, n_iter=n_iter_search, \r\n",
        "                                   scoring={'MAPE' : modified_neg_mape_scorer, 'R2' : 'r2'} , cv = 5, n_jobs = 6, verbose = 2, refit = 'MAPE')\r\n",
        "\r\n",
        "random_search.fit(cened[mlcol], cened['EPH'], categorical_feature = cat_feats)"
      ],
      "execution_count": 369,
      "outputs": [
        {
          "output_type": "stream",
          "text": [
            "Fitting 5 folds for each of 100 candidates, totalling 500 fits\n"
          ],
          "name": "stdout"
        },
        {
          "output_type": "stream",
          "text": [
            "[Parallel(n_jobs=6)]: Using backend LokyBackend with 6 concurrent workers.\n",
            "[Parallel(n_jobs=6)]: Done  29 tasks      | elapsed:  2.7min\n",
            "[Parallel(n_jobs=6)]: Done 150 tasks      | elapsed: 13.7min\n",
            "[Parallel(n_jobs=6)]: Done 353 tasks      | elapsed: 32.7min\n",
            "[Parallel(n_jobs=6)]: Done 500 out of 500 | elapsed: 47.0min finished\n",
            "/usr/local/lib/python3.6/dist-packages/lightgbm/basic.py:1209: UserWarning: categorical_feature in Dataset is overridden.\n",
            "New categorical_feature is ['PERIODO']\n",
            "  'New categorical_feature is {}'.format(sorted(list(categorical_feature))))\n"
          ],
          "name": "stderr"
        },
        {
          "output_type": "execute_result",
          "data": {
            "text/plain": [
              "RandomizedSearchCV(cv=5, error_score=nan,\n",
              "                   estimator=LGBMRegressor(boosting_type='gbdt',\n",
              "                                           class_weight=None,\n",
              "                                           colsample_bytree=1.0,\n",
              "                                           eval_metric='mape',\n",
              "                                           importance_type='split',\n",
              "                                           is_training_metric=True,\n",
              "                                           learning_rate=0.1, max_depth=-1,\n",
              "                                           min_child_samples=20,\n",
              "                                           min_child_weight=0.001,\n",
              "                                           min_split_gain=0.0, n_estimators=200,\n",
              "                                           n_jobs=1, num_leaves=31,\n",
              "                                           objective=None, random_sta...\n",
              "                                        'lambda_l2': <scipy.stats._distn_infrastructure.rv_frozen object at 0x7f8baa4dfcf8>,\n",
              "                                        'max_bin': [100, 200, 300, 500, 750,\n",
              "                                                    1000, 2000],\n",
              "                                        'max_depth': [-1],\n",
              "                                        'num_leaf': [20, 21, 22, 23, 24, 25, 26,\n",
              "                                                     27, 28, 29, 30, 31, 32, 33,\n",
              "                                                     34, 35, 36, 37, 38, 39]},\n",
              "                   pre_dispatch='2*n_jobs', random_state=None, refit='MAPE',\n",
              "                   return_train_score=False,\n",
              "                   scoring={'MAPE': make_scorer(modified_neg_mape), 'R2': 'r2'},\n",
              "                   verbose=2)"
            ]
          },
          "metadata": {
            "tags": []
          },
          "execution_count": 369
        }
      ]
    },
    {
      "cell_type": "markdown",
      "metadata": {
        "id": "ZjNqelQa9tM6"
      },
      "source": [
        "# Print results"
      ]
    },
    {
      "cell_type": "code",
      "metadata": {
        "colab": {
          "base_uri": "https://localhost:8080/"
        },
        "id": "8po-ibOx9tjW",
        "outputId": "36b5fcd5-d4ed-4cee-c3c7-fcd1985743da"
      },
      "source": [
        "print(random_search.best_params_)"
      ],
      "execution_count": 370,
      "outputs": [
        {
          "output_type": "stream",
          "text": [
            "{'bagging_fraction': 1.0, 'bagging_freq': 6, 'feature_fraction': 0.7, 'lambda_l1': 0.23121638920847432, 'lambda_l2': 0.341248008457425, 'max_bin': 2000, 'max_depth': -1, 'num_leaf': 28}\n"
          ],
          "name": "stdout"
        }
      ]
    },
    {
      "cell_type": "code",
      "metadata": {
        "colab": {
          "base_uri": "https://localhost:8080/"
        },
        "id": "THJn_s95914s",
        "outputId": "84b68724-4b4d-409f-9fb7-143164c66013"
      },
      "source": [
        "print(random_search.best_score_)"
      ],
      "execution_count": 371,
      "outputs": [
        {
          "output_type": "stream",
          "text": [
            "-0.16646569613855744\n"
          ],
          "name": "stdout"
        }
      ]
    },
    {
      "cell_type": "code",
      "metadata": {
        "colab": {
          "base_uri": "https://localhost:8080/"
        },
        "id": "ta1btwWlTxJn",
        "outputId": "ef2d92e9-0744-40e7-ebf2-b4a47253eb91"
      },
      "source": [
        "# Create a results df\r\n",
        "cv_df = pd.DataFrame(random_search.cv_results_)\r\n",
        "cv_df = cv_df.sort_values(by = ['rank_test_MAPE']).reset_index()\r\n",
        "\r\n",
        "# Filter columns\r\n",
        "res_cols = [col for col in cv_df if col.startswith('split')]\r\n",
        "\r\n",
        "# Select best iter\r\n",
        "best_res = cv_df.loc[0]\r\n",
        "\r\n",
        "# Print results for each fold\r\n",
        "print(best_res[res_cols])"
      ],
      "execution_count": 372,
      "outputs": [
        {
          "output_type": "stream",
          "text": [
            "split0_test_MAPE   -0.165872\n",
            "split1_test_MAPE   -0.165701\n",
            "split2_test_MAPE   -0.166376\n",
            "split3_test_MAPE   -0.166727\n",
            "split4_test_MAPE   -0.167653\n",
            "split0_test_R2      0.876229\n",
            "split1_test_R2      0.873369\n",
            "split2_test_R2        0.8757\n",
            "split3_test_R2      0.877251\n",
            "split4_test_R2      0.877476\n",
            "Name: 0, dtype: object\n"
          ],
          "name": "stdout"
        }
      ]
    },
    {
      "cell_type": "code",
      "metadata": {
        "colab": {
          "base_uri": "https://localhost:8080/",
          "height": 285
        },
        "id": "Hy76OsHBdTP8",
        "outputId": "4d95cf52-27d5-423a-fd14-b5fe0c828824"
      },
      "source": [
        "df = pd.DataFrame(best_res[res_cols])\r\n",
        "df = df.rename(columns = {0:'Value'})\r\n",
        "df['Fold'] = df.index.str[5:6]\r\n",
        "df['Metric'] = df.index.str[12:]\r\n",
        "df['Value'] = np.where(df['Metric'] == 'MAPE', df['Value'] * -1, df['Value'])\r\n",
        "ax = sns.barplot(x='Fold', y=\"Value\", hue=\"Metric\", data = df)"
      ],
      "execution_count": 373,
      "outputs": [
        {
          "output_type": "display_data",
          "data": {
            "image/png": "[encoded data removed]",
            "text/plain": [
              "<Figure size 432x288 with 1 Axes>"
            ]
          },
          "metadata": {
            "tags": []
          }
        }
      ]
    },
    {
      "cell_type": "markdown",
      "metadata": {
        "id": "UHqwuWX1AeHK"
      },
      "source": [
        "# Train the final model"
      ]
    },
    {
      "cell_type": "code",
      "metadata": {
        "colab": {
          "base_uri": "https://localhost:8080/"
        },
        "id": "Zq7OjJKsAj0x",
        "outputId": "fa55b799-5d6c-428b-f2b1-59377cfa6eb4"
      },
      "source": [
        "light = LGBMRegressor(n_estimators = 10000, silent = False, verbose = 2, is_training_metric = True, n_jobs = 6)\r\n",
        "light.set_params(**random_search.best_params_)"
      ],
      "execution_count": 374,
      "outputs": [
        {
          "output_type": "execute_result",
          "data": {
            "text/plain": [
              "LGBMRegressor(bagging_fraction=1.0, bagging_freq=6, boosting_type='gbdt',\n",
              "              class_weight=None, colsample_bytree=1.0, feature_fraction=0.7,\n",
              "              importance_type='split', is_training_metric=True,\n",
              "              lambda_l1=0.23121638920847432, lambda_l2=0.341248008457425,\n",
              "              learning_rate=0.1, max_bin=2000, max_depth=-1,\n",
              "              min_child_samples=20, min_child_weight=0.001, min_split_gain=0.0,\n",
              "              n_estimators=10000, n_jobs=6, num_leaf=28, num_leaves=31,\n",
              "              objective=None, random_state=None, reg_alpha=0.0, reg_lambda=0.0,\n",
              "              silent=False, subsample=1.0, subsample_for_bin=200000,\n",
              "              subsample_freq=0, verbose=2)"
            ]
          },
          "metadata": {
            "tags": []
          },
          "execution_count": 374
        }
      ]
    },
    {
      "cell_type": "code",
      "metadata": {
        "colab": {
          "base_uri": "https://localhost:8080/"
        },
        "id": "XbLz3zitAuQo",
        "outputId": "489efb3a-3121-487b-b8f5-adbe757ba3fb"
      },
      "source": [
        "light.fit(train[mlcol], train['EPH'], categorical_feature = cat_feats)"
      ],
      "execution_count": 375,
      "outputs": [
        {
          "output_type": "stream",
          "text": [
            "/usr/local/lib/python3.6/dist-packages/lightgbm/basic.py:1209: UserWarning: categorical_feature in Dataset is overridden.\n",
            "New categorical_feature is ['PERIODO']\n",
            "  'New categorical_feature is {}'.format(sorted(list(categorical_feature))))\n"
          ],
          "name": "stderr"
        },
        {
          "output_type": "execute_result",
          "data": {
            "text/plain": [
              "LGBMRegressor(bagging_fraction=1.0, bagging_freq=6, boosting_type='gbdt',\n",
              "              class_weight=None, colsample_bytree=1.0, feature_fraction=0.7,\n",
              "              importance_type='split', is_training_metric=True,\n",
              "              lambda_l1=0.23121638920847432, lambda_l2=0.341248008457425,\n",
              "              learning_rate=0.1, max_bin=2000, max_depth=-1,\n",
              "              min_child_samples=20, min_child_weight=0.001, min_split_gain=0.0,\n",
              "              n_estimators=10000, n_jobs=6, num_leaf=28, num_leaves=31,\n",
              "              objective=None, random_state=None, reg_alpha=0.0, reg_lambda=0.0,\n",
              "              silent=False, subsample=1.0, subsample_for_bin=200000,\n",
              "              subsample_freq=0, verbose=2)"
            ]
          },
          "metadata": {
            "tags": []
          },
          "execution_count": 375
        }
      ]
    },
    {
      "cell_type": "markdown",
      "metadata": {
        "id": "Ml7EZ7XXAvwc"
      },
      "source": [
        "# Test the model"
      ]
    },
    {
      "cell_type": "code",
      "metadata": {
        "id": "EJFVWFDvAx4h"
      },
      "source": [
        "y_pred = light.predict(test[mlcol]).clip(0)"
      ],
      "execution_count": 376,
      "outputs": []
    },
    {
      "cell_type": "code",
      "metadata": {
        "id": "hCtUFtWSBZ15"
      },
      "source": [
        "results_df = pd.DataFrame({'predicted' : y_pred, 'true' : test['EPH']})\r\n",
        "results_df['error'] = np.abs((results_df['true'] - results_df['predicted'])/results_df['true'])*100"
      ],
      "execution_count": 377,
      "outputs": []
    },
    {
      "cell_type": "code",
      "metadata": {
        "id": "ve6Lla28DXct",
        "colab": {
          "base_uri": "https://localhost:8080/"
        },
        "outputId": "90199a36-1da8-4fb4-f7a8-b47079ceaa3e"
      },
      "source": [
        "# MAPE\r\n",
        "results_df['error'].mean()"
      ],
      "execution_count": 378,
      "outputs": [
        {
          "output_type": "execute_result",
          "data": {
            "text/plain": [
              "18.550360502679208"
            ]
          },
          "metadata": {
            "tags": []
          },
          "execution_count": 378
        }
      ]
    },
    {
      "cell_type": "code",
      "metadata": {
        "colab": {
          "base_uri": "https://localhost:8080/"
        },
        "id": "3NeF_M_htAQS",
        "outputId": "284f2b1c-c51c-4001-e32f-e1743ff09543"
      },
      "source": [
        "# Max % error\r\n",
        "results_df['error'].max()"
      ],
      "execution_count": 379,
      "outputs": [
        {
          "output_type": "execute_result",
          "data": {
            "text/plain": [
              "1965.4858425496095"
            ]
          },
          "metadata": {
            "tags": []
          },
          "execution_count": 379
        }
      ]
    },
    {
      "cell_type": "code",
      "metadata": {
        "colab": {
          "base_uri": "https://localhost:8080/"
        },
        "id": "C0o2UT8A2MZZ",
        "outputId": "006f8b47-6a54-4efb-c2c4-668ff2d08347"
      },
      "source": [
        "# Row with the highest % error\r\n",
        "results_df.iloc[results_df['error'].argmax()]"
      ],
      "execution_count": 380,
      "outputs": [
        {
          "output_type": "execute_result",
          "data": {
            "text/plain": [
              "predicted     115.305747\n",
              "true            5.582500\n",
              "error        1965.485843\n",
              "Name: 10438, dtype: float64"
            ]
          },
          "metadata": {
            "tags": []
          },
          "execution_count": 380
        }
      ]
    },
    {
      "cell_type": "code",
      "metadata": {
        "id": "luAQiAU3KB8L",
        "colab": {
          "base_uri": "https://localhost:8080/"
        },
        "outputId": "979c28d7-626b-49fb-e76a-e7169491b48e"
      },
      "source": [
        "# MAPE without >100%\r\n",
        "results_df[results_df.error <= 100].error.mean()"
      ],
      "execution_count": 381,
      "outputs": [
        {
          "output_type": "execute_result",
          "data": {
            "text/plain": [
              "15.645457854756247"
            ]
          },
          "metadata": {
            "tags": []
          },
          "execution_count": 381
        }
      ]
    },
    {
      "cell_type": "code",
      "metadata": {
        "colab": {
          "base_uri": "https://localhost:8080/"
        },
        "id": "xnsGYxRhZnmb",
        "outputId": "157a4a82-bc45-4d7f-dfe6-4bad1fe20c1f"
      },
      "source": [
        "# R2 \r\n",
        "print(r2_score(test['EPH'], y_pred))"
      ],
      "execution_count": 382,
      "outputs": [
        {
          "output_type": "stream",
          "text": [
            "0.8860726116093136\n"
          ],
          "name": "stdout"
        }
      ]
    },
    {
      "cell_type": "code",
      "metadata": {
        "colab": {
          "base_uri": "https://localhost:8080/"
        },
        "id": "fCoPtLWGZ6tu",
        "outputId": "87d4a62f-e04a-4641-c83f-989581238ad0"
      },
      "source": [
        "# R2 without >100%\r\n",
        "print(r2_score(results_df[results_df.error <= 100].true, results_df[results_df.error <= 100].predicted))"
      ],
      "execution_count": 383,
      "outputs": [
        {
          "output_type": "stream",
          "text": [
            "0.8953408063231268\n"
          ],
          "name": "stdout"
        }
      ]
    },
    {
      "cell_type": "code",
      "metadata": {
        "id": "fyUDfx40m_ri",
        "colab": {
          "base_uri": "https://localhost:8080/",
          "height": 419
        },
        "outputId": "cd45ef23-3ba6-4c2a-a330-e6741c058568"
      },
      "source": [
        "results_df"
      ],
      "execution_count": 384,
      "outputs": [
        {
          "output_type": "execute_result",
          "data": {
            "text/html": [
              "<div>\n",
              "<style scoped>\n",
              "    .dataframe tbody tr th:only-of-type {\n",
              "        vertical-align: middle;\n",
              "    }\n",
              "\n",
              "    .dataframe tbody tr th {\n",
              "        vertical-align: top;\n",
              "    }\n",
              "\n",
              "    .dataframe thead th {\n",
              "        text-align: right;\n",
              "    }\n",
              "</style>\n",
              "<table border=\"1\" class=\"dataframe\">\n",
              "  <thead>\n",
              "    <tr style=\"text-align: right;\">\n",
              "      <th></th>\n",
              "      <th>predicted</th>\n",
              "      <th>true</th>\n",
              "      <th>error</th>\n",
              "    </tr>\n",
              "  </thead>\n",
              "  <tbody>\n",
              "    <tr>\n",
              "      <th>6</th>\n",
              "      <td>322.927422</td>\n",
              "      <td>287.1801</td>\n",
              "      <td>12.447702</td>\n",
              "    </tr>\n",
              "    <tr>\n",
              "      <th>10</th>\n",
              "      <td>347.186148</td>\n",
              "      <td>363.4329</td>\n",
              "      <td>4.470358</td>\n",
              "    </tr>\n",
              "    <tr>\n",
              "      <th>15</th>\n",
              "      <td>512.841310</td>\n",
              "      <td>619.6268</td>\n",
              "      <td>17.233840</td>\n",
              "    </tr>\n",
              "    <tr>\n",
              "      <th>21</th>\n",
              "      <td>264.539129</td>\n",
              "      <td>262.3208</td>\n",
              "      <td>0.845655</td>\n",
              "    </tr>\n",
              "    <tr>\n",
              "      <th>25</th>\n",
              "      <td>101.891714</td>\n",
              "      <td>85.5030</td>\n",
              "      <td>19.167413</td>\n",
              "    </tr>\n",
              "    <tr>\n",
              "      <th>...</th>\n",
              "      <td>...</td>\n",
              "      <td>...</td>\n",
              "      <td>...</td>\n",
              "    </tr>\n",
              "    <tr>\n",
              "      <th>263206</th>\n",
              "      <td>199.111525</td>\n",
              "      <td>182.8437</td>\n",
              "      <td>8.897121</td>\n",
              "    </tr>\n",
              "    <tr>\n",
              "      <th>263209</th>\n",
              "      <td>226.262214</td>\n",
              "      <td>249.4715</td>\n",
              "      <td>9.303382</td>\n",
              "    </tr>\n",
              "    <tr>\n",
              "      <th>263215</th>\n",
              "      <td>310.516969</td>\n",
              "      <td>395.2088</td>\n",
              "      <td>21.429642</td>\n",
              "    </tr>\n",
              "    <tr>\n",
              "      <th>263220</th>\n",
              "      <td>290.084161</td>\n",
              "      <td>287.1020</td>\n",
              "      <td>1.038711</td>\n",
              "    </tr>\n",
              "    <tr>\n",
              "      <th>263221</th>\n",
              "      <td>200.091313</td>\n",
              "      <td>250.8352</td>\n",
              "      <td>20.229970</td>\n",
              "    </tr>\n",
              "  </tbody>\n",
              "</table>\n",
              "<p>52413 rows × 3 columns</p>\n",
              "</div>"
            ],
            "text/plain": [
              "         predicted      true      error\n",
              "6       322.927422  287.1801  12.447702\n",
              "10      347.186148  363.4329   4.470358\n",
              "15      512.841310  619.6268  17.233840\n",
              "21      264.539129  262.3208   0.845655\n",
              "25      101.891714   85.5030  19.167413\n",
              "...            ...       ...        ...\n",
              "263206  199.111525  182.8437   8.897121\n",
              "263209  226.262214  249.4715   9.303382\n",
              "263215  310.516969  395.2088  21.429642\n",
              "263220  290.084161  287.1020   1.038711\n",
              "263221  200.091313  250.8352  20.229970\n",
              "\n",
              "[52413 rows x 3 columns]"
            ]
          },
          "metadata": {
            "tags": []
          },
          "execution_count": 384
        }
      ]
    },
    {
      "cell_type": "code",
      "metadata": {
        "colab": {
          "base_uri": "https://localhost:8080/",
          "height": 318
        },
        "id": "0c9tej3NmmoF",
        "outputId": "e2b4e9e1-3ebc-44e6-c698-54242786ac64"
      },
      "source": [
        "plot_importance(light)"
      ],
      "execution_count": 389,
      "outputs": [
        {
          "output_type": "execute_result",
          "data": {
            "text/plain": [
              "<matplotlib.axes._subplots.AxesSubplot at 0x7f8bb865dfd0>"
            ]
          },
          "metadata": {
            "tags": []
          },
          "execution_count": 389
        },
        {
          "output_type": "display_data",
          "data": {
            "image/png": "[encoded data removed]",
            "text/plain": [
              "<Figure size 432x288 with 1 Axes>"
            ]
          },
          "metadata": {
            "tags": []
          }
        }
      ]
    },
    {
      "cell_type": "markdown",
      "metadata": {
        "id": "MW3keZUTPD3p"
      },
      "source": [
        "# Error analysis"
      ]
    },
    {
      "cell_type": "code",
      "metadata": {
        "colab": {
          "base_uri": "https://localhost:8080/",
          "height": 312
        },
        "id": "b3zWyGsVPD3p",
        "outputId": "7296a067-1f6a-47af-c9ff-c0e69feaa7fd"
      },
      "source": [
        "# Period\r\n",
        "bins = pd.cut(test.ANNO_COSTRUZIONE, bins=[0,1930,1945,1960,1976,1992,2006,3000], \r\n",
        "       labels=['Before 1930','1930-1945','1946-1960','1961-1976', '1977-1992', \r\n",
        "               '1993-2006','After 2006'])\r\n",
        "\r\n",
        "fig = plt.figure(figsize = (12, 4.5))\r\n",
        "box = sns.boxplot(y = results_df.error, x = bins, \r\n",
        "                  color='lightsteelblue', orient = 'v', \r\n",
        "                  showfliers = False)\r\n",
        "\r\n",
        "box.set(ylabel = 'MAPE [%]', xlabel = 'Period')\r\n",
        "plt.show()"
      ],
      "execution_count": 385,
      "outputs": [
        {
          "output_type": "display_data",
          "data": {
            "image/png": "[encoded data removed]",
            "text/plain": [
              "<Figure size 864x324 with 1 Axes>"
            ]
          },
          "metadata": {
            "tags": []
          }
        }
      ]
    },
    {
      "cell_type": "code",
      "metadata": {
        "colab": {
          "base_uri": "https://localhost:8080/",
          "height": 394
        },
        "id": "hWSW3vHwPHsj",
        "outputId": "7114305d-2572-403e-eb55-163efa295ad0"
      },
      "source": [
        "# Error\r\n",
        "fig = plt.figure(figsize = (10,6))\r\n",
        "cplot = sns.countplot(x = pd.cut(results_df.error, bins=[0,10,20,30,40,50,60,70,80,90,100,10000],\r\n",
        "                                 labels = ['<10', '10-20', '20-30', '30-40', '40-50', '50-60', '60-70', '70-80', '80-90', '90-100', '>100']), color = 'b')\r\n",
        "cplot.set(ylabel = 'Count', xlabel = 'MAPE [%]')\r\n",
        "plt.show()"
      ],
      "execution_count": 386,
      "outputs": [
        {
          "output_type": "display_data",
          "data": {
            "image/png": "[encoded data removed]",
            "text/plain": [
              "<Figure size 720x432 with 1 Axes>"
            ]
          },
          "metadata": {
            "tags": []
          }
        }
      ]
    },
    {
      "cell_type": "code",
      "metadata": {
        "colab": {
          "base_uri": "https://localhost:8080/",
          "height": 394
        },
        "id": "Xxb7w9BURrnP",
        "outputId": "57875925-f92e-494d-ced6-3f66a37d2db4"
      },
      "source": [
        "# Scatterplot\r\n",
        "fig = plt.figure(figsize = (7,6))\r\n",
        "scatter = sns.scatterplot(data=results_df, x=\"predicted\", y=\"true\")\r\n",
        "scatter.set(ylabel = 'True', xlabel = 'Predicted',\r\n",
        "            xlim=(-30, 1030), ylim=(-30, 1030))\r\n",
        "m, b = np.polyfit(results_df['predicted'], results_df['true'], 1)\r\n",
        "plt.plot(results_df['predicted'].values, m*results_df['predicted'] + b)\r\n",
        "plt.plot([0, 1000], [0,1000], c = 'r', linestyle='--')\r\n",
        "plt.show()"
      ],
      "execution_count": 387,
      "outputs": [
        {
          "output_type": "display_data",
          "data": {
            "image/png": "[encoded data removed]",
            "text/plain": [
              "<Figure size 504x432 with 1 Axes>"
            ]
          },
          "metadata": {
            "tags": []
          }
        }
      ]
    }
  ]
}