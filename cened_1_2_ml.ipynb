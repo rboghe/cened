{
  "nbformat": 4,
  "nbformat_minor": 0,
  "metadata": {
    "colab": {
      "name": "cened_1.2_ml.ipynb",
      "provenance": [],
      "authorship_tag": "ABX9TyPugFwuXV99U2sYsqx6cCzX",
      "include_colab_link": true
    },
    "kernelspec": {
      "display_name": "Python 3",
      "name": "python3"
    }
  },
  "cells": [
    {
      "cell_type": "markdown",
      "metadata": {
        "id": "view-in-github",
        "colab_type": "text"
      },
      "source": [
        "<a href=\"https://colab.research.google.com/github/rboghe/cened/blob/master/cened_1_2_ml.ipynb\" target=\"_parent\"><img src=\"https://colab.research.google.com/assets/colab-badge.svg\" alt=\"Open In Colab\"/></a>"
      ]
    },
    {
      "cell_type": "markdown",
      "metadata": {
        "id": "8e3keRjX4rEn"
      },
      "source": [
        "# Imports"
      ]
    },
    {
      "cell_type": "code",
      "metadata": {
        "id": "ths-id_T4ge3"
      },
      "source": [
        "import os\r\n",
        "import urllib.request\r\n",
        "import pandas as pd\r\n",
        "import numpy as np\r\n",
        "import random\r\n",
        "import matplotlib.pyplot as plt\r\n",
        "from sklearn.metrics import r2_score, make_scorer\r\n",
        "from sklearn.model_selection import RandomizedSearchCV\r\n",
        "import scipy.stats as stats\r\n",
        "from lightgbm import LGBMRegressor\r\n",
        "\r\n",
        "# Silence panda's setting with copy warning\r\n",
        "pd.options.mode.chained_assignment = None"
      ],
      "execution_count": 106,
      "outputs": []
    },
    {
      "cell_type": "markdown",
      "metadata": {
        "id": "13K9ZDw04wiF"
      },
      "source": [
        "# Load data"
      ]
    },
    {
      "cell_type": "code",
      "metadata": {
        "id": "sJzLWKRf5TBE"
      },
      "source": [
        "# Cened 1.2\r\n",
        "url = 'https://www.dati.lombardia.it/api/views/rsg3-xhvk/rows.csv?accessType=DOWNLOAD'\r\n",
        "\r\n",
        "\r\n",
        "if os.path.isfile('/tmp/cened12.csv'):\r\n",
        "  pass\r\n",
        "else:\r\n",
        "  urllib.request.urlretrieve(url, '/tmp/cened12.csv')"
      ],
      "execution_count": 107,
      "outputs": []
    },
    {
      "cell_type": "code",
      "metadata": {
        "id": "yxFzc7202X5U"
      },
      "source": [
        "# DDH\n",
        "url = 'https://raw.githubusercontent.com/rboghe/cened/master/degreedays.txt'\n",
        "\n",
        "urllib.request.urlretrieve(url, '/tmp/ddh.csv')\n",
        "\n",
        "ddh = pd.read_csv('/tmp/ddh.csv', usecols = ['comune','dd'])"
      ],
      "execution_count": 108,
      "outputs": []
    },
    {
      "cell_type": "code",
      "metadata": {
        "id": "fiRt0wIy2ciM"
      },
      "source": [
        "cols = ['COMUNE','FOGLIO', 'PARTICELLA','SUPERFICIE_DISPERDENTE',\n",
        "          'TRASMITTANZA_MEDIA_COPERTURA','TRASMITTANZA_MEDIA_INVOLUCRO',\n",
        "          'TRASMITTANZA_MEDIA_BASAMENTO','TRASMITTANZA_MEDIA_SERRAMENTO',\n",
        "          'SUPERFICIE_LORDA', 'VOLUME_LORDO', 'DESTINAZIONE_DI_USO',\n",
        "          'ANNO_COSTRUZIONE','SUPERFICIE_VETRATA_OPACA', 'VOLUME_NETTO',\n",
        "          'SUPERFICIE_NETTA', 'EPH']\n",
        "  \n",
        "cened_old = pd.read_csv('/tmp/cened12.csv', usecols = cols)"
      ],
      "execution_count": 109,
      "outputs": []
    },
    {
      "cell_type": "markdown",
      "metadata": {
        "id": "s2F4J8oU52DP"
      },
      "source": [
        "# Preprocessing"
      ]
    },
    {
      "cell_type": "code",
      "metadata": {
        "id": "bTycWYIA51kE"
      },
      "source": [
        "# Drop buildings with NaN values\r\n",
        "cened_old.dropna(inplace = True)\r\n",
        "\r\n",
        "# We'll use residential buildings only\r\n",
        "cened_old = cened_old[cened_old['DESTINAZIONE_DI_USO'] == 'E.1(1)']\r\n",
        "\r\n",
        "# Add ddh\r\n",
        "cened_old['COMUNE'] = cened_old['COMUNE'].str.lower()\r\n",
        "ddh['comune'] = ddh['comune'].str.lower()\r\n",
        "cened_old['COMUNE'] = cened_old['COMUNE'].str.replace(r\"o`\",  \"o'\")\r\n",
        "cened_old['COMUNE'] = cened_old['COMUNE'].str.replace(r\"baranzate\",  \"bollate\")\r\n",
        "cened_old['COMUNE'] = cened_old['COMUNE'].str.replace(r\"bovisio masciago\",  \"bovisio-masciago\")\r\n",
        "cened_old['COMUNE'] = cened_old['COMUNE'].str.replace(r\"cornate d`adda\",  \"cornate d'adda\")\r\n",
        "cened_old['COMUNE'] = cened_old['COMUNE'].str.replace(r\"cortenuova\",  \"cortenova\")\r\n",
        "cened_old['COMUNE'] = cened_old['COMUNE'].str.replace(r\"sant'omobono terme\",  \"sant'omobono imagna\")\r\n",
        "ddh['comune'] = ddh['comune'].str.replace(r\"è\",  \"e'\")\r\n",
        "ddh['comune'] = ddh['comune'].str.replace(r\"è\",  \"e'\")\r\n",
        "ddh['comune'] = ddh['comune'].str.replace(r\"é\",  \"e'\")\r\n",
        "ddh['comune'] = ddh['comune'].str.replace(r\"ò\",  \"o'\")\r\n",
        "ddh['comune'] = ddh['comune'].str.replace(r\"ù\",  \"u'\")\r\n",
        "\r\n",
        "cened_old = cened_old.merge(ddh, left_on='COMUNE', right_on='comune', how='left')\r\n",
        "\r\n",
        "\r\n",
        "\r\n",
        "# Correct floats\r\n",
        "for col in ['SUPERFICIE_LORDA', 'SUPERFICIE_NETTA', 'VOLUME_LORDO', 'VOLUME_NETTO',\r\n",
        "       'SUPERFICIE_DISPERDENTE', 'SUPERFICIE_VETRATA_OPACA',\r\n",
        "       'TRASMITTANZA_MEDIA_INVOLUCRO', 'TRASMITTANZA_MEDIA_COPERTURA',\r\n",
        "       'TRASMITTANZA_MEDIA_BASAMENTO', 'TRASMITTANZA_MEDIA_SERRAMENTO', 'EPH', 'dd']:\r\n",
        "    cened_old[col] = cened_old[col].astype(str)\r\n",
        "    cened_old[col] = cened_old[col].str.replace(r',', '')\r\n",
        "    cened_old[col] = cened_old[col].astype(\"float\")"
      ],
      "execution_count": 110,
      "outputs": []
    },
    {
      "cell_type": "markdown",
      "metadata": {
        "id": "--rfTUVC5qyb"
      },
      "source": [
        "# Filtering"
      ]
    },
    {
      "cell_type": "code",
      "metadata": {
        "id": "rlICxbTx5sIt"
      },
      "source": [
        "# Drop buildings with wrong thermal conductivity\r\n",
        "for col in ['TRASMITTANZA_MEDIA_INVOLUCRO', 'TRASMITTANZA_MEDIA_COPERTURA',\r\n",
        "       'TRASMITTANZA_MEDIA_BASAMENTO']:\r\n",
        "    cened_old = cened_old[cened_old[col] > 0]\r\n",
        "    cened_old = cened_old[cened_old[col] < 4]\r\n",
        "\r\n",
        "cened_old = cened_old[cened_old['TRASMITTANZA_MEDIA_SERRAMENTO'] > 0]\r\n",
        "cened_old = cened_old[cened_old['TRASMITTANZA_MEDIA_SERRAMENTO'] < 6]\r\n",
        "\r\n",
        "# Drop buildings with wrong EPH\r\n",
        "cened_old = cened_old[cened_old['EPH'] > 0]\r\n",
        "cened_old = cened_old[cened_old['EPH'] < 1000]\r\n",
        "\r\n",
        "# Drop buildings with wrong An\r\n",
        "cened_old = cened_old[cened_old['SUPERFICIE_NETTA'] > 50]\r\n",
        "\r\n",
        "# Drop buildings with wrong Vn\r\n",
        "cened_old = cened_old[cened_old['VOLUME_NETTO'] > 150]\r\n",
        "\r\n",
        "# Drop buildings with wrong average height\r\n",
        "cened_old['ALTEZZA_MEDIA'] = cened_old['VOLUME_NETTO']/cened_old['SUPERFICIE_NETTA']\r\n",
        "cened_old = cened_old[cened_old['ALTEZZA_MEDIA'] > 2.4]\r\n",
        "\r\n",
        "\r\n",
        "# Drop buildings with wrong mean thermal conductivity\r\n",
        "cened_old['TRASMITTANZA_MEDIA'] = (cened_old['TRASMITTANZA_MEDIA_SERRAMENTO'] + cened_old['TRASMITTANZA_MEDIA_COPERTURA'] +\r\n",
        "         cened_old['TRASMITTANZA_MEDIA_BASAMENTO'] + cened_old['TRASMITTANZA_MEDIA_INVOLUCRO'])/4\r\n",
        "cened_old = cened_old[cened_old['TRASMITTANZA_MEDIA'] > 0.15]\r\n",
        "cened_old = cened_old[cened_old['TRASMITTANZA_MEDIA'] < 4]"
      ],
      "execution_count": 111,
      "outputs": []
    },
    {
      "cell_type": "markdown",
      "metadata": {
        "id": "t-NviQVY6Ffl"
      },
      "source": [
        "# Feature engineering"
      ]
    },
    {
      "cell_type": "code",
      "metadata": {
        "id": "idAz0fO86FsB"
      },
      "source": [
        "# Opaque surface\r\n",
        "cened_old['SUP_OPACA'] = cened_old['SUPERFICIE_DISPERDENTE']/(1+cened_old['SUPERFICIE_DISPERDENTE'])\r\n",
        "\r\n",
        "# Opaque surface\r\n",
        "cened_old['SUP_FINESTRATA'] = cened_old['SUPERFICIE_DISPERDENTE'] - cened_old['SUP_OPACA']\r\n",
        "\r\n",
        "# Take care of construction year\r\n",
        "cened_old.ANNO_COSTRUZIONE = cened_old.ANNO_COSTRUZIONE.astype(str)\r\n",
        "cened_old.ANNO_COSTRUZIONE = cened_old.ANNO_COSTRUZIONE.map(lambda x:x[-4:])\r\n",
        "cened_old.ANNO_COSTRUZIONE = cened_old.ANNO_COSTRUZIONE.astype(int)"
      ],
      "execution_count": 112,
      "outputs": []
    },
    {
      "cell_type": "markdown",
      "metadata": {
        "id": "rK7tT6FO6wjs"
      },
      "source": [
        "# Shuffle"
      ]
    },
    {
      "cell_type": "code",
      "metadata": {
        "id": "xQauAX_Z6ywH"
      },
      "source": [
        "cened = cened_old.sample(frac=1).reset_index(drop=True)"
      ],
      "execution_count": 113,
      "outputs": []
    },
    {
      "cell_type": "markdown",
      "metadata": {
        "id": "xLy7NHfV6NOg"
      },
      "source": [
        "# Reserve a test set"
      ]
    },
    {
      "cell_type": "code",
      "metadata": {
        "id": "D8AmkFQH6Nl7"
      },
      "source": [
        "msk = np.random.rand(len(cened)) < 0.8\r\n",
        "train = cened[msk]\r\n",
        "test = cened[~msk]"
      ],
      "execution_count": 114,
      "outputs": []
    },
    {
      "cell_type": "code",
      "metadata": {
        "colab": {
          "base_uri": "https://localhost:8080/"
        },
        "id": "Tz77V-S2_H01",
        "outputId": "7f85e875-3267-45f2-e9a1-24880d04d12d"
      },
      "source": [
        "print(len(train))"
      ],
      "execution_count": 115,
      "outputs": [
        {
          "output_type": "stream",
          "text": [
            "210751\n"
          ],
          "name": "stdout"
        }
      ]
    },
    {
      "cell_type": "code",
      "metadata": {
        "colab": {
          "base_uri": "https://localhost:8080/"
        },
        "id": "HeJnDatG_Kan",
        "outputId": "c83ec643-9008-465e-cf2d-e5148cf7d207"
      },
      "source": [
        "print(len(test))"
      ],
      "execution_count": 116,
      "outputs": [
        {
          "output_type": "stream",
          "text": [
            "52799\n"
          ],
          "name": "stdout"
        }
      ]
    },
    {
      "cell_type": "markdown",
      "metadata": {
        "id": "7TMSuHej9Mw-"
      },
      "source": [
        "# Define MAPE"
      ]
    },
    {
      "cell_type": "code",
      "metadata": {
        "id": "sfmx3u169Q0i"
      },
      "source": [
        "def neg_mape(y_true, y_pred):\r\n",
        "  y_true = np.array(y_true)\r\n",
        "  y_pred = np.array(y_pred)\r\n",
        "  return -np.abs((y_true - y_pred)/y_true).mean()"
      ],
      "execution_count": 117,
      "outputs": []
    },
    {
      "cell_type": "code",
      "metadata": {
        "id": "2TUZvEj1LFLu"
      },
      "source": [
        "def modified_neg_mape(y_true, y_pred):\r\n",
        "  y_true = np.array(y_true)\r\n",
        "  y_pred = np.array(y_pred)\r\n",
        "  errors = np.abs((y_true - y_pred)/y_true)\r\n",
        "  index = np.argwhere(errors > 1)\r\n",
        "  mod_errors = np.delete(errors, index)\r\n",
        "  return -mod_errors.mean()"
      ],
      "execution_count": 118,
      "outputs": []
    },
    {
      "cell_type": "code",
      "metadata": {
        "id": "66onwvYJALQj"
      },
      "source": [
        "neg_mape_scorer = make_scorer(neg_mape, greater_is_better=True)"
      ],
      "execution_count": 119,
      "outputs": []
    },
    {
      "cell_type": "code",
      "metadata": {
        "id": "53ze8caVLOOn"
      },
      "source": [
        "modified_neg_mape_scorer = make_scorer(modified_neg_mape, greater_is_better=True)"
      ],
      "execution_count": 120,
      "outputs": []
    },
    {
      "cell_type": "markdown",
      "metadata": {
        "id": "P3sUK8BN6-Ph"
      },
      "source": [
        "# Random search"
      ]
    },
    {
      "cell_type": "code",
      "metadata": {
        "id": "NbnFeNK8-9up"
      },
      "source": [
        "mlcol = ['ANNO_COSTRUZIONE','SUPERFICIE_LORDA', 'SUPERFICIE_NETTA', 'VOLUME_LORDO', \r\n",
        "         'VOLUME_NETTO', 'SUPERFICIE_DISPERDENTE',\r\n",
        "         'TRASMITTANZA_MEDIA_INVOLUCRO', 'TRASMITTANZA_MEDIA_COPERTURA',\r\n",
        "         'TRASMITTANZA_MEDIA_BASAMENTO', 'TRASMITTANZA_MEDIA_SERRAMENTO',\r\n",
        "         'dd','SUP_FINESTRATA','SUP_OPACA']"
      ],
      "execution_count": 121,
      "outputs": []
    },
    {
      "cell_type": "code",
      "metadata": {
        "colab": {
          "base_uri": "https://localhost:8080/"
        },
        "id": "QIbN4Y2Q6-Va",
        "outputId": "cb617afa-dd62-43b4-bc4e-adf3406c7a51"
      },
      "source": [
        "param_dist = {'feature_fraction': np.linspace(0.4, 1, num=7),\r\n",
        "              'num_leaf' : list(range(20,40)),\r\n",
        "             'max_depth' : [-1],\r\n",
        "             'max_bin' : [100, 200, 300, 500, 750, 1000, 2000],\r\n",
        "             'bagging_fraction' : np.linspace(0.4, 1, num=14),\r\n",
        "             'bagging_freq' : list(range(1,10)),\r\n",
        "             'lambda_l1' : stats.uniform(0, 0.6),\r\n",
        "             'lambda_l2' : stats.uniform(0, 0.6)}\r\n",
        "\r\n",
        "lgbm = LGBMRegressor(n_estimators = 100, silent = True, verbose = 0, is_training_metric = True, n_jobs = 1, \r\n",
        "                     eval_metric  = 'mape')\r\n",
        "\r\n",
        "n_iter_search = 100\r\n",
        "\r\n",
        "random_search = RandomizedSearchCV(lgbm, param_distributions=param_dist, n_iter=n_iter_search, \r\n",
        "                                   scoring=modified_neg_mape_scorer, cv = 5, n_jobs = 6, verbose = 2)\r\n",
        "\r\n",
        "random_search.fit(cened[mlcol], cened['EPH'])"
      ],
      "execution_count": 122,
      "outputs": [
        {
          "output_type": "stream",
          "text": [
            "Fitting 5 folds for each of 100 candidates, totalling 500 fits\n"
          ],
          "name": "stdout"
        },
        {
          "output_type": "stream",
          "text": [
            "[Parallel(n_jobs=6)]: Using backend LokyBackend with 6 concurrent workers.\n",
            "[Parallel(n_jobs=6)]: Done  29 tasks      | elapsed:  1.6min\n",
            "[Parallel(n_jobs=6)]: Done 150 tasks      | elapsed:  8.0min\n",
            "[Parallel(n_jobs=6)]: Done 353 tasks      | elapsed: 18.0min\n",
            "[Parallel(n_jobs=6)]: Done 500 out of 500 | elapsed: 24.6min finished\n"
          ],
          "name": "stderr"
        },
        {
          "output_type": "execute_result",
          "data": {
            "text/plain": [
              "RandomizedSearchCV(cv=5, error_score=nan,\n",
              "                   estimator=LGBMRegressor(boosting_type='gbdt',\n",
              "                                           class_weight=None,\n",
              "                                           colsample_bytree=1.0,\n",
              "                                           eval_metric='mape',\n",
              "                                           importance_type='split',\n",
              "                                           is_training_metric=True,\n",
              "                                           learning_rate=0.1, max_depth=-1,\n",
              "                                           min_child_samples=20,\n",
              "                                           min_child_weight=0.001,\n",
              "                                           min_split_gain=0.0, n_estimators=100,\n",
              "                                           n_jobs=1, num_leaves=31,\n",
              "                                           objective=None, random_sta...\n",
              "                                        'lambda_l1': <scipy.stats._distn_infrastructure.rv_frozen object at 0x7fd007440908>,\n",
              "                                        'lambda_l2': <scipy.stats._distn_infrastructure.rv_frozen object at 0x7fd0074401d0>,\n",
              "                                        'max_bin': [100, 200, 300, 500, 750,\n",
              "                                                    1000, 2000],\n",
              "                                        'max_depth': [-1],\n",
              "                                        'num_leaf': [20, 21, 22, 23, 24, 25, 26,\n",
              "                                                     27, 28, 29, 30, 31, 32, 33,\n",
              "                                                     34, 35, 36, 37, 38, 39]},\n",
              "                   pre_dispatch='2*n_jobs', random_state=None, refit=True,\n",
              "                   return_train_score=False,\n",
              "                   scoring=make_scorer(modified_neg_mape), verbose=2)"
            ]
          },
          "metadata": {
            "tags": []
          },
          "execution_count": 122
        }
      ]
    },
    {
      "cell_type": "markdown",
      "metadata": {
        "id": "ZjNqelQa9tM6"
      },
      "source": [
        "# Print results"
      ]
    },
    {
      "cell_type": "code",
      "metadata": {
        "colab": {
          "base_uri": "https://localhost:8080/"
        },
        "id": "8po-ibOx9tjW",
        "outputId": "72f8e10f-81de-4a2d-99ca-556aef5cb374"
      },
      "source": [
        "print(random_search.best_params_)"
      ],
      "execution_count": 123,
      "outputs": [
        {
          "output_type": "stream",
          "text": [
            "{'bagging_fraction': 0.9538461538461538, 'bagging_freq': 4, 'feature_fraction': 0.5, 'lambda_l1': 0.12344304587385713, 'lambda_l2': 0.14934942051074568, 'max_bin': 1000, 'max_depth': -1, 'num_leaf': 31}\n"
          ],
          "name": "stdout"
        }
      ]
    },
    {
      "cell_type": "code",
      "metadata": {
        "colab": {
          "base_uri": "https://localhost:8080/"
        },
        "id": "THJn_s95914s",
        "outputId": "744980f0-6de9-4a46-e50f-b42b3875cd5c"
      },
      "source": [
        "print(random_search.best_score_)"
      ],
      "execution_count": 124,
      "outputs": [
        {
          "output_type": "stream",
          "text": [
            "-0.17476686516762513\n"
          ],
          "name": "stdout"
        }
      ]
    },
    {
      "cell_type": "code",
      "metadata": {
        "colab": {
          "base_uri": "https://localhost:8080/"
        },
        "id": "ta1btwWlTxJn",
        "outputId": "fd5525a4-323c-4492-d5ef-e24ec7186691"
      },
      "source": [
        "# Create a results df\r\n",
        "cv_df = pd.DataFrame(random_search.cv_results_)\r\n",
        "cv_df = cv_df.sort_values(by = ['rank_test_score']).reset_index()\r\n",
        "\r\n",
        "# Filter columns\r\n",
        "res_cols = [col for col in cv_df if col.startswith('split')]\r\n",
        "\r\n",
        "# Select best iter\r\n",
        "best_res = cv_df.loc[0]\r\n",
        "\r\n",
        "# Print results for each fold\r\n",
        "print(best_res[res_cols])"
      ],
      "execution_count": 135,
      "outputs": [
        {
          "output_type": "stream",
          "text": [
            "split0_test_score   -0.174701\n",
            "split1_test_score   -0.175215\n",
            "split2_test_score    -0.17495\n",
            "split3_test_score   -0.174548\n",
            "split4_test_score   -0.174421\n",
            "Name: 0, dtype: object\n"
          ],
          "name": "stdout"
        }
      ]
    },
    {
      "cell_type": "markdown",
      "metadata": {
        "id": "UHqwuWX1AeHK"
      },
      "source": [
        "# Train the final model"
      ]
    },
    {
      "cell_type": "code",
      "metadata": {
        "colab": {
          "base_uri": "https://localhost:8080/"
        },
        "id": "Zq7OjJKsAj0x",
        "outputId": "8bfa0e2d-ba39-4ff5-e69c-55e721126f03"
      },
      "source": [
        "light = LGBMRegressor(n_estimators = 1000, silent = False, verbose = 2, is_training_metric = True, n_jobs = 6)\r\n",
        "light.set_params(**random_search.best_params_)"
      ],
      "execution_count": 125,
      "outputs": [
        {
          "output_type": "execute_result",
          "data": {
            "text/plain": [
              "LGBMRegressor(bagging_fraction=0.9538461538461538, bagging_freq=4,\n",
              "              boosting_type='gbdt', class_weight=None, colsample_bytree=1.0,\n",
              "              feature_fraction=0.5, importance_type='split',\n",
              "              is_training_metric=True, lambda_l1=0.12344304587385713,\n",
              "              lambda_l2=0.14934942051074568, learning_rate=0.1, max_bin=1000,\n",
              "              max_depth=-1, min_child_samples=20, min_child_weight=0.001,\n",
              "              min_split_gain=0.0, n_estimators=1000, n_jobs=6, num_leaf=31,\n",
              "              num_leaves=31, objective=None, random_state=None, reg_alpha=0.0,\n",
              "              reg_lambda=0.0, silent=False, subsample=1.0,\n",
              "              subsample_for_bin=200000, subsample_freq=0, verbose=2)"
            ]
          },
          "metadata": {
            "tags": []
          },
          "execution_count": 125
        }
      ]
    },
    {
      "cell_type": "code",
      "metadata": {
        "colab": {
          "base_uri": "https://localhost:8080/"
        },
        "id": "XbLz3zitAuQo",
        "outputId": "9ea02ab3-1e7a-4dbb-bd6f-a68ca6562b32"
      },
      "source": [
        "light.fit(train[mlcol], train['EPH'])"
      ],
      "execution_count": 126,
      "outputs": [
        {
          "output_type": "execute_result",
          "data": {
            "text/plain": [
              "LGBMRegressor(bagging_fraction=0.9538461538461538, bagging_freq=4,\n",
              "              boosting_type='gbdt', class_weight=None, colsample_bytree=1.0,\n",
              "              feature_fraction=0.5, importance_type='split',\n",
              "              is_training_metric=True, lambda_l1=0.12344304587385713,\n",
              "              lambda_l2=0.14934942051074568, learning_rate=0.1, max_bin=1000,\n",
              "              max_depth=-1, min_child_samples=20, min_child_weight=0.001,\n",
              "              min_split_gain=0.0, n_estimators=1000, n_jobs=6, num_leaf=31,\n",
              "              num_leaves=31, objective=None, random_state=None, reg_alpha=0.0,\n",
              "              reg_lambda=0.0, silent=False, subsample=1.0,\n",
              "              subsample_for_bin=200000, subsample_freq=0, verbose=2)"
            ]
          },
          "metadata": {
            "tags": []
          },
          "execution_count": 126
        }
      ]
    },
    {
      "cell_type": "markdown",
      "metadata": {
        "id": "Ml7EZ7XXAvwc"
      },
      "source": [
        "# Test the model"
      ]
    },
    {
      "cell_type": "code",
      "metadata": {
        "id": "EJFVWFDvAx4h"
      },
      "source": [
        "y_pred = light.predict(test[mlcol])"
      ],
      "execution_count": 127,
      "outputs": []
    },
    {
      "cell_type": "code",
      "metadata": {
        "id": "hCtUFtWSBZ15"
      },
      "source": [
        "results_df = pd.DataFrame({'predicted' : y_pred, 'true' : test['EPH']})\r\n",
        "results_df['error'] = np.abs((results_df['true'] - results_df['predicted'])/results_df['true'])*100"
      ],
      "execution_count": 128,
      "outputs": []
    },
    {
      "cell_type": "code",
      "metadata": {
        "id": "ve6Lla28DXct",
        "colab": {
          "base_uri": "https://localhost:8080/"
        },
        "outputId": "dac6eb13-641e-4058-a540-898b4151e65a"
      },
      "source": [
        "# MAPE\r\n",
        "results_df['error'].mean()"
      ],
      "execution_count": 131,
      "outputs": [
        {
          "output_type": "execute_result",
          "data": {
            "text/plain": [
              "20.879417921160034"
            ]
          },
          "metadata": {
            "tags": []
          },
          "execution_count": 131
        }
      ]
    },
    {
      "cell_type": "code",
      "metadata": {
        "id": "luAQiAU3KB8L",
        "colab": {
          "base_uri": "https://localhost:8080/"
        },
        "outputId": "54fd7fa5-e143-47af-bd94-765397f836c8"
      },
      "source": [
        "# MAPE without >100%\r\n",
        "results_df[results_df.error <= 100].error.mean()"
      ],
      "execution_count": 130,
      "outputs": [
        {
          "output_type": "execute_result",
          "data": {
            "text/plain": [
              "16.612100347667194"
            ]
          },
          "metadata": {
            "tags": []
          },
          "execution_count": 130
        }
      ]
    },
    {
      "cell_type": "code",
      "metadata": {
        "id": "fyUDfx40m_ri",
        "outputId": "a6ba4063-5711-43a4-f6fa-1bee59231987",
        "colab": {
          "base_uri": "https://localhost:8080/",
          "height": 399
        }
      },
      "source": [
        "results_df"
      ],
      "execution_count": 132,
      "outputs": [
        {
          "output_type": "execute_result",
          "data": {
            "text/html": [
              "<div>\n",
              "<style scoped>\n",
              "    .dataframe tbody tr th:only-of-type {\n",
              "        vertical-align: middle;\n",
              "    }\n",
              "\n",
              "    .dataframe tbody tr th {\n",
              "        vertical-align: top;\n",
              "    }\n",
              "\n",
              "    .dataframe thead th {\n",
              "        text-align: right;\n",
              "    }\n",
              "</style>\n",
              "<table border=\"1\" class=\"dataframe\">\n",
              "  <thead>\n",
              "    <tr style=\"text-align: right;\">\n",
              "      <th></th>\n",
              "      <th>predicted</th>\n",
              "      <th>true</th>\n",
              "      <th>error</th>\n",
              "    </tr>\n",
              "  </thead>\n",
              "  <tbody>\n",
              "    <tr>\n",
              "      <th>6</th>\n",
              "      <td>188.723521</td>\n",
              "      <td>203.7737</td>\n",
              "      <td>7.385732</td>\n",
              "    </tr>\n",
              "    <tr>\n",
              "      <th>12</th>\n",
              "      <td>351.597201</td>\n",
              "      <td>457.9454</td>\n",
              "      <td>23.222899</td>\n",
              "    </tr>\n",
              "    <tr>\n",
              "      <th>13</th>\n",
              "      <td>47.959828</td>\n",
              "      <td>48.3549</td>\n",
              "      <td>0.817025</td>\n",
              "    </tr>\n",
              "    <tr>\n",
              "      <th>14</th>\n",
              "      <td>281.416392</td>\n",
              "      <td>253.8359</td>\n",
              "      <td>10.865481</td>\n",
              "    </tr>\n",
              "    <tr>\n",
              "      <th>16</th>\n",
              "      <td>276.038918</td>\n",
              "      <td>244.0243</td>\n",
              "      <td>13.119439</td>\n",
              "    </tr>\n",
              "    <tr>\n",
              "      <th>...</th>\n",
              "      <td>...</td>\n",
              "      <td>...</td>\n",
              "      <td>...</td>\n",
              "    </tr>\n",
              "    <tr>\n",
              "      <th>263526</th>\n",
              "      <td>159.051829</td>\n",
              "      <td>125.6282</td>\n",
              "      <td>26.605196</td>\n",
              "    </tr>\n",
              "    <tr>\n",
              "      <th>263532</th>\n",
              "      <td>202.756679</td>\n",
              "      <td>170.7102</td>\n",
              "      <td>18.772445</td>\n",
              "    </tr>\n",
              "    <tr>\n",
              "      <th>263545</th>\n",
              "      <td>251.084710</td>\n",
              "      <td>269.6724</td>\n",
              "      <td>6.892693</td>\n",
              "    </tr>\n",
              "    <tr>\n",
              "      <th>263546</th>\n",
              "      <td>244.227630</td>\n",
              "      <td>159.6327</td>\n",
              "      <td>52.993485</td>\n",
              "    </tr>\n",
              "    <tr>\n",
              "      <th>263549</th>\n",
              "      <td>299.819567</td>\n",
              "      <td>309.3611</td>\n",
              "      <td>3.084271</td>\n",
              "    </tr>\n",
              "  </tbody>\n",
              "</table>\n",
              "<p>52799 rows × 3 columns</p>\n",
              "</div>"
            ],
            "text/plain": [
              "         predicted      true      error\n",
              "6       188.723521  203.7737   7.385732\n",
              "12      351.597201  457.9454  23.222899\n",
              "13       47.959828   48.3549   0.817025\n",
              "14      281.416392  253.8359  10.865481\n",
              "16      276.038918  244.0243  13.119439\n",
              "...            ...       ...        ...\n",
              "263526  159.051829  125.6282  26.605196\n",
              "263532  202.756679  170.7102  18.772445\n",
              "263545  251.084710  269.6724   6.892693\n",
              "263546  244.227630  159.6327  52.993485\n",
              "263549  299.819567  309.3611   3.084271\n",
              "\n",
              "[52799 rows x 3 columns]"
            ]
          },
          "metadata": {
            "tags": []
          },
          "execution_count": 132
        }
      ]
    }
  ]
}