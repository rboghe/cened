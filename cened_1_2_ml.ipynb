{
  "nbformat": 4,
  "nbformat_minor": 0,
  "metadata": {
    "colab": {
      "name": "cened_1.2_ml.ipynb",
      "provenance": [],
      "authorship_tag": "ABX9TyOPO/0WwS6/P0ZrAvulw7jl",
      "include_colab_link": true
    },
    "kernelspec": {
      "display_name": "Python 3",
      "name": "python3"
    }
  },
  "cells": [
    {
      "cell_type": "markdown",
      "metadata": {
        "id": "view-in-github",
        "colab_type": "text"
      },
      "source": [
        "<a href=\"https://colab.research.google.com/github/rboghe/cened/blob/master/cened_1_2_ml.ipynb\" target=\"_parent\"><img src=\"https://colab.research.google.com/assets/colab-badge.svg\" alt=\"Open In Colab\"/></a>"
      ]
    },
    {
      "cell_type": "markdown",
      "metadata": {
        "id": "8e3keRjX4rEn"
      },
      "source": [
        "# Imports"
      ]
    },
    {
      "cell_type": "code",
      "metadata": {
        "id": "ths-id_T4ge3"
      },
      "source": [
        "import os\r\n",
        "import urllib.request\r\n",
        "import pandas as pd\r\n",
        "import numpy as np\r\n",
        "import random\r\n",
        "import matplotlib.pyplot as plt\r\n",
        "from sklearn.metrics import r2_score, make_scorer\r\n",
        "from sklearn.model_selection import RandomizedSearchCV\r\n",
        "import scipy.stats as stats\r\n",
        "from lightgbm import LGBMRegressor\r\n",
        "\r\n",
        "# Silence panda's setting with copy warning\r\n",
        "pd.options.mode.chained_assignment = None"
      ],
      "execution_count": null,
      "outputs": []
    },
    {
      "cell_type": "markdown",
      "metadata": {
        "id": "13K9ZDw04wiF"
      },
      "source": [
        "# Load data"
      ]
    },
    {
      "cell_type": "code",
      "metadata": {
        "id": "sJzLWKRf5TBE"
      },
      "source": [
        "# Cened 1.2\r\n",
        "url = 'https://www.dati.lombardia.it/api/views/rsg3-xhvk/rows.csv?accessType=DOWNLOAD'\r\n",
        "\r\n",
        "\r\n",
        "if os.path.isfile('/tmp/cened12.csv'):\r\n",
        "  pass\r\n",
        "else:\r\n",
        "  urllib.request.urlretrieve(url, '/tmp/cened12.csv')"
      ],
      "execution_count": null,
      "outputs": []
    },
    {
      "cell_type": "code",
      "metadata": {
        "id": "yxFzc7202X5U"
      },
      "source": [
        "# DDH\n",
        "url = 'https://raw.githubusercontent.com/rboghe/cened/master/degreedays.txt'\n",
        "\n",
        "urllib.request.urlretrieve(url, '/tmp/ddh.csv')\n",
        "\n",
        "ddh = pd.read_csv('/tmp/ddh.csv', usecols = ['comune','dd'])"
      ],
      "execution_count": null,
      "outputs": []
    },
    {
      "cell_type": "code",
      "metadata": {
        "id": "fiRt0wIy2ciM"
      },
      "source": [
        "cols = ['COMUNE','FOGLIO', 'PARTICELLA','SUPERFICIE_DISPERDENTE',\n",
        "          'TRASMITTANZA_MEDIA_COPERTURA','TRASMITTANZA_MEDIA_INVOLUCRO',\n",
        "          'TRASMITTANZA_MEDIA_BASAMENTO','TRASMITTANZA_MEDIA_SERRAMENTO',\n",
        "          'SUPERFICIE_LORDA', 'VOLUME_LORDO', 'DESTINAZIONE_DI_USO',\n",
        "          'ANNO_COSTRUZIONE','SUPERFICIE_VETRATA_OPACA', 'VOLUME_NETTO',\n",
        "          'SUPERFICIE_NETTA', 'EPH']\n",
        "  \n",
        "cened_old = pd.read_csv('/tmp/cened12.csv', usecols = cols)"
      ],
      "execution_count": null,
      "outputs": []
    },
    {
      "cell_type": "markdown",
      "metadata": {
        "id": "s2F4J8oU52DP"
      },
      "source": [
        "# Preprocessing"
      ]
    },
    {
      "cell_type": "code",
      "metadata": {
        "id": "bTycWYIA51kE"
      },
      "source": [
        "# Drop buildings with NaN values\r\n",
        "cened_old.dropna(inplace = True)\r\n",
        "\r\n",
        "# We'll use residential buildings only\r\n",
        "cened_old = cened_old[cened_old['DESTINAZIONE_DI_USO'] == 'E.1(1)']\r\n",
        "\r\n",
        "# Add ddh\r\n",
        "cened_old['COMUNE'] = cened_old['COMUNE'].str.lower()\r\n",
        "ddh['comune'] = ddh['comune'].str.lower()\r\n",
        "cened_old['COMUNE'] = cened_old['COMUNE'].str.replace(r\"o`\",  \"o'\")\r\n",
        "cened_old['COMUNE'] = cened_old['COMUNE'].str.replace(r\"baranzate\",  \"bollate\")\r\n",
        "cened_old['COMUNE'] = cened_old['COMUNE'].str.replace(r\"bovisio masciago\",  \"bovisio-masciago\")\r\n",
        "cened_old['COMUNE'] = cened_old['COMUNE'].str.replace(r\"cornate d`adda\",  \"cornate d'adda\")\r\n",
        "cened_old['COMUNE'] = cened_old['COMUNE'].str.replace(r\"cortenuova\",  \"cortenova\")\r\n",
        "cened_old['COMUNE'] = cened_old['COMUNE'].str.replace(r\"sant'omobono terme\",  \"sant'omobono imagna\")\r\n",
        "ddh['comune'] = ddh['comune'].str.replace(r\"è\",  \"e'\")\r\n",
        "ddh['comune'] = ddh['comune'].str.replace(r\"è\",  \"e'\")\r\n",
        "ddh['comune'] = ddh['comune'].str.replace(r\"é\",  \"e'\")\r\n",
        "ddh['comune'] = ddh['comune'].str.replace(r\"ò\",  \"o'\")\r\n",
        "ddh['comune'] = ddh['comune'].str.replace(r\"ù\",  \"u'\")\r\n",
        "\r\n",
        "cened_old = cened_old.merge(ddh, left_on='COMUNE', right_on='comune', how='left')\r\n",
        "\r\n",
        "\r\n",
        "\r\n",
        "# Correct floats\r\n",
        "for col in ['SUPERFICIE_LORDA', 'SUPERFICIE_NETTA', 'VOLUME_LORDO', 'VOLUME_NETTO',\r\n",
        "       'SUPERFICIE_DISPERDENTE', 'SUPERFICIE_VETRATA_OPACA',\r\n",
        "       'TRASMITTANZA_MEDIA_INVOLUCRO', 'TRASMITTANZA_MEDIA_COPERTURA',\r\n",
        "       'TRASMITTANZA_MEDIA_BASAMENTO', 'TRASMITTANZA_MEDIA_SERRAMENTO', 'EPH', 'dd']:\r\n",
        "    cened_old[col] = cened_old[col].astype(str)\r\n",
        "    cened_old[col] = cened_old[col].str.replace(r',', '')\r\n",
        "    cened_old[col] = cened_old[col].astype(\"float\")"
      ],
      "execution_count": null,
      "outputs": []
    },
    {
      "cell_type": "markdown",
      "metadata": {
        "id": "--rfTUVC5qyb"
      },
      "source": [
        "# Filtering"
      ]
    },
    {
      "cell_type": "code",
      "metadata": {
        "id": "rlICxbTx5sIt"
      },
      "source": [
        "# Drop buildings with wrong thermal conductivity\r\n",
        "for col in ['TRASMITTANZA_MEDIA_INVOLUCRO', 'TRASMITTANZA_MEDIA_COPERTURA',\r\n",
        "       'TRASMITTANZA_MEDIA_BASAMENTO']:\r\n",
        "    cened_old = cened_old[cened_old[col] > 0]\r\n",
        "    cened_old = cened_old[cened_old[col] < 4]\r\n",
        "\r\n",
        "cened_old = cened_old[cened_old['TRASMITTANZA_MEDIA_SERRAMENTO'] > 0]\r\n",
        "cened_old = cened_old[cened_old['TRASMITTANZA_MEDIA_SERRAMENTO'] < 6]\r\n",
        "\r\n",
        "# Drop buildings with wrong EPH\r\n",
        "cened_old = cened_old[cened_old['EPH'] > 0]\r\n",
        "cened_old = cened_old[cened_old['EPH'] < 1000]\r\n",
        "\r\n",
        "# Drop buildings with wrong An\r\n",
        "cened_old = cened_old[cened_old['SUPERFICIE_NETTA'] > 50]\r\n",
        "\r\n",
        "# Drop buildings with wrong Vn\r\n",
        "cened_old = cened_old[cened_old['VOLUME_NETTO'] > 150]\r\n",
        "\r\n",
        "# Drop buildings with wrong average height\r\n",
        "cened_old['ALTEZZA_MEDIA'] = cened_old['VOLUME_NETTO']/cened_old['SUPERFICIE_NETTA']\r\n",
        "cened_old = cened_old[cened_old['ALTEZZA_MEDIA'] > 2.4]\r\n",
        "\r\n",
        "\r\n",
        "# Drop buildings with wrong mean thermal conductivity\r\n",
        "cened_old['TRASMITTANZA_MEDIA'] = (cened_old['TRASMITTANZA_MEDIA_SERRAMENTO'] + cened_old['TRASMITTANZA_MEDIA_COPERTURA'] +\r\n",
        "         cened_old['TRASMITTANZA_MEDIA_BASAMENTO'] + cened_old['TRASMITTANZA_MEDIA_INVOLUCRO'])/4\r\n",
        "cened_old = cened_old[cened_old['TRASMITTANZA_MEDIA'] > 0.15]\r\n",
        "cened_old = cened_old[cened_old['TRASMITTANZA_MEDIA'] < 4]"
      ],
      "execution_count": null,
      "outputs": []
    },
    {
      "cell_type": "markdown",
      "metadata": {
        "id": "t-NviQVY6Ffl"
      },
      "source": [
        "# Feature engineering"
      ]
    },
    {
      "cell_type": "code",
      "metadata": {
        "id": "idAz0fO86FsB"
      },
      "source": [
        "# Opaque surface\r\n",
        "cened_old['SUP_OPACA'] = cened_old['SUPERFICIE_DISPERDENTE']/(1+cened_old['SUPERFICIE_DISPERDENTE'])\r\n",
        "\r\n",
        "# Opaque surface\r\n",
        "cened_old['SUP_FINESTRATA'] = cened_old['SUPERFICIE_DISPERDENTE'] - cened_old['SUP_OPACA']\r\n",
        "\r\n",
        "# Take care of construction year\r\n",
        "cened_old.ANNO_COSTRUZIONE = cened_old.ANNO_COSTRUZIONE.astype(str)\r\n",
        "cened_old.ANNO_COSTRUZIONE = cened_old.ANNO_COSTRUZIONE.map(lambda x:x[-4:])\r\n",
        "cened_old.ANNO_COSTRUZIONE = cened_old.ANNO_COSTRUZIONE.astype(int)"
      ],
      "execution_count": null,
      "outputs": []
    },
    {
      "cell_type": "markdown",
      "metadata": {
        "id": "rK7tT6FO6wjs"
      },
      "source": [
        "# Shuffle"
      ]
    },
    {
      "cell_type": "code",
      "metadata": {
        "id": "xQauAX_Z6ywH"
      },
      "source": [
        "cened = cened_old.sample(frac=1).reset_index(drop=True)"
      ],
      "execution_count": null,
      "outputs": []
    },
    {
      "cell_type": "markdown",
      "metadata": {
        "id": "xLy7NHfV6NOg"
      },
      "source": [
        "# Reserve a test set"
      ]
    },
    {
      "cell_type": "code",
      "metadata": {
        "id": "D8AmkFQH6Nl7"
      },
      "source": [
        "msk = np.random.rand(len(cened)) < 0.8\r\n",
        "train = cened[msk]\r\n",
        "test = cened[~msk]"
      ],
      "execution_count": null,
      "outputs": []
    },
    {
      "cell_type": "code",
      "metadata": {
        "colab": {
          "base_uri": "https://localhost:8080/"
        },
        "id": "Tz77V-S2_H01",
        "outputId": "b07ac0c5-f9d1-471d-e1fc-4b7ece11c62e"
      },
      "source": [
        "print(len(train))"
      ],
      "execution_count": null,
      "outputs": [
        {
          "output_type": "stream",
          "text": [
            "210715\n"
          ],
          "name": "stdout"
        }
      ]
    },
    {
      "cell_type": "code",
      "metadata": {
        "colab": {
          "base_uri": "https://localhost:8080/"
        },
        "id": "HeJnDatG_Kan",
        "outputId": "8e7bae2d-5ab7-4c41-cd01-21180962ca76"
      },
      "source": [
        "print(len(test))"
      ],
      "execution_count": null,
      "outputs": [
        {
          "output_type": "stream",
          "text": [
            "52835\n"
          ],
          "name": "stdout"
        }
      ]
    },
    {
      "cell_type": "markdown",
      "metadata": {
        "id": "7TMSuHej9Mw-"
      },
      "source": [
        "# Define MAPE"
      ]
    },
    {
      "cell_type": "code",
      "metadata": {
        "id": "sfmx3u169Q0i"
      },
      "source": [
        "def neg_mape(y_true, y_pred):\r\n",
        "  y_true = np.array(y_true)\r\n",
        "  y_pred = np.array(y_pred)\r\n",
        "  return -np.abs((y_true - y_pred)/y_true).mean()"
      ],
      "execution_count": null,
      "outputs": []
    },
    {
      "cell_type": "code",
      "metadata": {
        "id": "2TUZvEj1LFLu"
      },
      "source": [
        "def modified_neg_mape(y_true, y_pred):\r\n",
        "  y_true = np.array(y_true)\r\n",
        "  y_pred = np.array(y_pred)\r\n",
        "  errors = np.abs((y_true - y_pred)/y_true)\r\n",
        "  index = np.argwhere(errors > 1)\r\n",
        "  mod_errors = np.delete(errors, index)\r\n",
        "  return -mod_errors.mean()"
      ],
      "execution_count": null,
      "outputs": []
    },
    {
      "cell_type": "code",
      "metadata": {
        "id": "66onwvYJALQj"
      },
      "source": [
        "neg_mape_scorer = make_scorer(neg_mape, greater_is_better=True)"
      ],
      "execution_count": null,
      "outputs": []
    },
    {
      "cell_type": "code",
      "metadata": {
        "id": "53ze8caVLOOn"
      },
      "source": [
        "modified_neg_mape_scorer = make_scorer(modified_neg_mape, greater_is_better=True)"
      ],
      "execution_count": null,
      "outputs": []
    },
    {
      "cell_type": "markdown",
      "metadata": {
        "id": "P3sUK8BN6-Ph"
      },
      "source": [
        "# Random search"
      ]
    },
    {
      "cell_type": "code",
      "metadata": {
        "id": "NbnFeNK8-9up"
      },
      "source": [
        "mlcol = ['ANNO_COSTRUZIONE','SUPERFICIE_LORDA', 'SUPERFICIE_NETTA', 'VOLUME_LORDO', \r\n",
        "         'VOLUME_NETTO', 'SUPERFICIE_DISPERDENTE',\r\n",
        "         'TRASMITTANZA_MEDIA_INVOLUCRO', 'TRASMITTANZA_MEDIA_COPERTURA',\r\n",
        "         'TRASMITTANZA_MEDIA_BASAMENTO', 'TRASMITTANZA_MEDIA_SERRAMENTO',\r\n",
        "         'dd','SUP_FINESTRATA','SUP_OPACA']"
      ],
      "execution_count": null,
      "outputs": []
    },
    {
      "cell_type": "code",
      "metadata": {
        "colab": {
          "base_uri": "https://localhost:8080/"
        },
        "id": "QIbN4Y2Q6-Va",
        "outputId": "b106b23a-0cfc-464a-9ee6-162873cd0767"
      },
      "source": [
        "param_dist = {'feature_fraction': np.linspace(0.4, 1, num=7),\r\n",
        "              # 'n_estimators' : [100, 300, 600, 1000, 3000],\r\n",
        "              'num_leaf' : list(range(20,40)),\r\n",
        "             'max_depth' : [-1],\r\n",
        "             'max_bin' : [100, 200, 300, 500, 750, 1000, 2000],\r\n",
        "             'bagging_fraction' : np.linspace(0.4, 1, num=14),\r\n",
        "             'bagging_freq' : list(range(1,10)),\r\n",
        "             'lambda_l1' : stats.uniform(0, 0.6),\r\n",
        "             'lambda_l2' : stats.uniform(0, 0.6)}\r\n",
        "\r\n",
        "lgbm = LGBMRegressor(n_estimators = 100, silent = True, verbose = 0, is_training_metric = True, n_jobs = 1, \r\n",
        "                     eval_metric  = 'mape')\r\n",
        "\r\n",
        "n_iter_search = 10\r\n",
        "\r\n",
        "random_search = RandomizedSearchCV(lgbm, param_distributions=param_dist, n_iter=n_iter_search, \r\n",
        "                                   scoring=modified_neg_mape_scorer, cv = 5, n_jobs = 6, verbose = 2)\r\n",
        "\r\n",
        "random_search.fit(cened[mlcol], cened['EPH'])"
      ],
      "execution_count": null,
      "outputs": [
        {
          "output_type": "stream",
          "text": [
            "Fitting 5 folds for each of 10 candidates, totalling 50 fits\n"
          ],
          "name": "stdout"
        },
        {
          "output_type": "stream",
          "text": [
            "[Parallel(n_jobs=6)]: Using backend LokyBackend with 6 concurrent workers.\n",
            "[Parallel(n_jobs=6)]: Done  29 tasks      | elapsed:  1.4min\n",
            "[Parallel(n_jobs=6)]: Done  50 out of  50 | elapsed:  2.4min finished\n"
          ],
          "name": "stderr"
        },
        {
          "output_type": "execute_result",
          "data": {
            "text/plain": [
              "RandomizedSearchCV(cv=5, error_score=nan,\n",
              "                   estimator=LGBMRegressor(boosting_type='gbdt',\n",
              "                                           class_weight=None,\n",
              "                                           colsample_bytree=1.0,\n",
              "                                           eval_metric='mape',\n",
              "                                           importance_type='split',\n",
              "                                           is_training_metric=True,\n",
              "                                           learning_rate=0.1, max_depth=-1,\n",
              "                                           min_child_samples=20,\n",
              "                                           min_child_weight=0.001,\n",
              "                                           min_split_gain=0.0, n_estimators=100,\n",
              "                                           n_jobs=1, num_leaves=31,\n",
              "                                           objective=None, random_sta...\n",
              "                                        'lambda_l1': <scipy.stats._distn_infrastructure.rv_frozen object at 0x7fd005fbb978>,\n",
              "                                        'lambda_l2': <scipy.stats._distn_infrastructure.rv_frozen object at 0x7fd005fbb0b8>,\n",
              "                                        'max_bin': [100, 200, 300, 500, 750,\n",
              "                                                    1000, 2000],\n",
              "                                        'max_depth': [-1],\n",
              "                                        'num_leaf': [20, 21, 22, 23, 24, 25, 26,\n",
              "                                                     27, 28, 29, 30, 31, 32, 33,\n",
              "                                                     34, 35, 36, 37, 38, 39]},\n",
              "                   pre_dispatch='2*n_jobs', random_state=None, refit=True,\n",
              "                   return_train_score=False,\n",
              "                   scoring=make_scorer(modified_neg_mape), verbose=2)"
            ]
          },
          "metadata": {
            "tags": []
          },
          "execution_count": 92
        }
      ]
    },
    {
      "cell_type": "markdown",
      "metadata": {
        "id": "ZjNqelQa9tM6"
      },
      "source": [
        "# Print results"
      ]
    },
    {
      "cell_type": "code",
      "metadata": {
        "colab": {
          "base_uri": "https://localhost:8080/"
        },
        "id": "8po-ibOx9tjW",
        "outputId": "9203bb08-7cb1-4434-980b-c5d21e53284b"
      },
      "source": [
        "print(random_search.best_params_)"
      ],
      "execution_count": null,
      "outputs": [
        {
          "output_type": "stream",
          "text": [
            "{'bagging_fraction': 1.0, 'bagging_freq': 4, 'feature_fraction': 0.8999999999999999, 'lambda_l1': 0.46393035771685154, 'lambda_l2': 0.03413279439519168, 'max_bin': 750, 'max_depth': -1, 'num_leaf': 20}\n"
          ],
          "name": "stdout"
        }
      ]
    },
    {
      "cell_type": "code",
      "metadata": {
        "colab": {
          "base_uri": "https://localhost:8080/"
        },
        "id": "THJn_s95914s",
        "outputId": "b06d4026-5211-4b9b-ceb2-1d440f8622a9"
      },
      "source": [
        "print(random_search.best_score_)"
      ],
      "execution_count": null,
      "outputs": [
        {
          "output_type": "stream",
          "text": [
            "-0.17473533899234073\n"
          ],
          "name": "stdout"
        }
      ]
    },
    {
      "cell_type": "markdown",
      "metadata": {
        "id": "UHqwuWX1AeHK"
      },
      "source": [
        "# Train the final model"
      ]
    },
    {
      "cell_type": "code",
      "metadata": {
        "colab": {
          "base_uri": "https://localhost:8080/"
        },
        "id": "Zq7OjJKsAj0x",
        "outputId": "e07c31f8-c5b2-40d3-fd5b-af2dbf46f868"
      },
      "source": [
        "light = LGBMRegressor(n_estimators = 1000, silent = False, verbose = 2, is_training_metric = True, n_jobs = 6)\r\n",
        "light.set_params(**random_search.best_params_)"
      ],
      "execution_count": null,
      "outputs": [
        {
          "output_type": "execute_result",
          "data": {
            "text/plain": [
              "LGBMRegressor(bagging_fraction=1.0, bagging_freq=4, boosting_type='gbdt',\n",
              "              class_weight=None, colsample_bytree=1.0,\n",
              "              feature_fraction=0.8999999999999999, importance_type='split',\n",
              "              is_training_metric=True, lambda_l1=0.46393035771685154,\n",
              "              lambda_l2=0.03413279439519168, learning_rate=0.1, max_bin=750,\n",
              "              max_depth=-1, min_child_samples=20, min_child_weight=0.001,\n",
              "              min_split_gain=0.0, n_estimators=10000, n_jobs=6, num_leaf=20,\n",
              "              num_leaves=31, objective=None, random_state=None, reg_alpha=0.0,\n",
              "              reg_lambda=0.0, silent=False, subsample=1.0,\n",
              "              subsample_for_bin=200000, subsample_freq=0, verbose=2)"
            ]
          },
          "metadata": {
            "tags": []
          },
          "execution_count": 95
        }
      ]
    },
    {
      "cell_type": "code",
      "metadata": {
        "colab": {
          "background_save": true
        },
        "id": "XbLz3zitAuQo",
        "outputId": "2b418387-e14b-4b51-f882-421b4547899a"
      },
      "source": [
        "light.fit(train[mlcol], train['EPH'])"
      ],
      "execution_count": null,
      "outputs": [
        {
          "output_type": "execute_result",
          "data": {
            "text/plain": [
              "LGBMRegressor(bagging_fraction=1.0, bagging_freq=4, boosting_type='gbdt',\n",
              "              class_weight=None, colsample_bytree=1.0,\n",
              "              feature_fraction=0.8999999999999999, importance_type='split',\n",
              "              is_training_metric=True, lambda_l1=0.46393035771685154,\n",
              "              lambda_l2=0.03413279439519168, learning_rate=0.1, max_bin=750,\n",
              "              max_depth=-1, min_child_samples=20, min_child_weight=0.001,\n",
              "              min_split_gain=0.0, n_estimators=10000, n_jobs=6, num_leaf=20,\n",
              "              num_leaves=31, objective=None, random_state=None, reg_alpha=0.0,\n",
              "              reg_lambda=0.0, silent=False, subsample=1.0,\n",
              "              subsample_for_bin=200000, subsample_freq=0, verbose=2)"
            ]
          },
          "metadata": {
            "tags": []
          },
          "execution_count": 0
        }
      ]
    },
    {
      "cell_type": "markdown",
      "metadata": {
        "id": "Ml7EZ7XXAvwc"
      },
      "source": [
        "# Evaluate the model"
      ]
    },
    {
      "cell_type": "code",
      "metadata": {
        "id": "EJFVWFDvAx4h"
      },
      "source": [
        "y_pred = light.predict(test[mlcol])"
      ],
      "execution_count": 102,
      "outputs": []
    },
    {
      "cell_type": "code",
      "metadata": {
        "id": "hCtUFtWSBZ15"
      },
      "source": [
        "results_df = pd.DataFrame({'predicted' : y_pred, 'true' : test['EPH']})\r\n",
        "results_df['error'] = np.abs((results_df['true'] - results_df['predicted'])/results_df['true'])*100"
      ],
      "execution_count": 103,
      "outputs": []
    },
    {
      "cell_type": "code",
      "metadata": {
        "id": "ve6Lla28DXct",
        "colab": {
          "base_uri": "https://localhost:8080/"
        },
        "outputId": "7822a6b1-e390-42d4-c79b-3573382d1124"
      },
      "source": [
        "# MAPE\r\n",
        "results_df['error'].mean()"
      ],
      "execution_count": 104,
      "outputs": [
        {
          "output_type": "execute_result",
          "data": {
            "text/plain": [
              "40.39698301862012"
            ]
          },
          "metadata": {
            "tags": []
          },
          "execution_count": 104
        }
      ]
    },
    {
      "cell_type": "code",
      "metadata": {
        "id": "luAQiAU3KB8L",
        "colab": {
          "base_uri": "https://localhost:8080/"
        },
        "outputId": "a4dc56b6-07df-4db9-cc8c-2032292efd18"
      },
      "source": [
        "# MAPE without >100%\r\n",
        "results_df[results_df.error <= 100].error.mean()"
      ],
      "execution_count": 105,
      "outputs": [
        {
          "output_type": "execute_result",
          "data": {
            "text/plain": [
              "16.032692256295263"
            ]
          },
          "metadata": {
            "tags": []
          },
          "execution_count": 105
        }
      ]
    }
  ]
}