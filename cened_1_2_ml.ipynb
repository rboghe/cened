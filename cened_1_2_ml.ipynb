{
  "nbformat": 4,
  "nbformat_minor": 0,
  "metadata": {
    "colab": {
      "name": "cened_1.2_ml.ipynb",
      "provenance": [],
      "authorship_tag": "ABX9TyNxdk9Jov7HWCZdQU+vETJa",
      "include_colab_link": true
    },
    "kernelspec": {
      "display_name": "Python 3",
      "name": "python3"
    }
  },
  "cells": [
    {
      "cell_type": "markdown",
      "metadata": {
        "id": "view-in-github",
        "colab_type": "text"
      },
      "source": [
        "<a href=\"https://colab.research.google.com/github/rboghe/cened/blob/master/cened_1_2_ml.ipynb\" target=\"_parent\"><img src=\"https://colab.research.google.com/assets/colab-badge.svg\" alt=\"Open In Colab\"/></a>"
      ]
    },
    {
      "cell_type": "markdown",
      "metadata": {
        "id": "8e3keRjX4rEn"
      },
      "source": [
        "# Imports"
      ]
    },
    {
      "cell_type": "code",
      "metadata": {
        "id": "ths-id_T4ge3"
      },
      "source": [
        "import os\r\n",
        "import urllib.request\r\n",
        "import pandas as pd\r\n",
        "import numpy as np\r\n",
        "import random\r\n",
        "import matplotlib.pyplot as plt\r\n",
        "from sklearn.metrics import r2_score, make_scorer\r\n",
        "from sklearn.model_selection import RandomizedSearchCV\r\n",
        "import scipy.stats as stats\r\n",
        "from lightgbm import LGBMRegressor\r\n",
        "import seaborn as sns\r\n",
        "\r\n",
        "# Silence panda's setting with copy warning\r\n",
        "pd.options.mode.chained_assignment = None\r\n",
        "\r\n",
        "# Set Seaborn style\r\n",
        "sns.set_theme(style=\"white\")"
      ],
      "execution_count": 308,
      "outputs": []
    },
    {
      "cell_type": "markdown",
      "metadata": {
        "id": "13K9ZDw04wiF"
      },
      "source": [
        "# Load data"
      ]
    },
    {
      "cell_type": "code",
      "metadata": {
        "id": "sJzLWKRf5TBE"
      },
      "source": [
        "# Cened 1.2\r\n",
        "url = 'https://www.dati.lombardia.it/api/views/rsg3-xhvk/rows.csv?accessType=DOWNLOAD'\r\n",
        "\r\n",
        "\r\n",
        "if os.path.isfile('/tmp/cened12.csv'):\r\n",
        "  pass\r\n",
        "else:\r\n",
        "  urllib.request.urlretrieve(url, '/tmp/cened12.csv')"
      ],
      "execution_count": 309,
      "outputs": []
    },
    {
      "cell_type": "code",
      "metadata": {
        "id": "yxFzc7202X5U"
      },
      "source": [
        "# DDH\n",
        "url = 'https://raw.githubusercontent.com/rboghe/cened/master/degreedays.txt'\n",
        "\n",
        "urllib.request.urlretrieve(url, '/tmp/ddh.csv')\n",
        "\n",
        "ddh = pd.read_csv('/tmp/ddh.csv', usecols = ['comune','dd'])"
      ],
      "execution_count": 310,
      "outputs": []
    },
    {
      "cell_type": "code",
      "metadata": {
        "id": "fiRt0wIy2ciM"
      },
      "source": [
        "cols = ['COMUNE','FOGLIO', 'PARTICELLA','SUPERFICIE_DISPERDENTE',\n",
        "          'TRASMITTANZA_MEDIA_COPERTURA','TRASMITTANZA_MEDIA_INVOLUCRO',\n",
        "          'TRASMITTANZA_MEDIA_BASAMENTO','TRASMITTANZA_MEDIA_SERRAMENTO',\n",
        "          'SUPERFICIE_LORDA', 'VOLUME_LORDO', 'DESTINAZIONE_DI_USO',\n",
        "          'ANNO_COSTRUZIONE','SUPERFICIE_VETRATA_OPACA', 'VOLUME_NETTO',\n",
        "          'SUPERFICIE_NETTA', 'NUMERO_RICAMBI_ORARI', 'EPH']\n",
        "  \n",
        "cened_old = pd.read_csv('/tmp/cened12.csv', usecols = cols)"
      ],
      "execution_count": 311,
      "outputs": []
    },
    {
      "cell_type": "markdown",
      "metadata": {
        "id": "s2F4J8oU52DP"
      },
      "source": [
        "# Preprocessing"
      ]
    },
    {
      "cell_type": "code",
      "metadata": {
        "id": "bTycWYIA51kE"
      },
      "source": [
        "# Drop buildings with NaN values\r\n",
        "cened_old.dropna(inplace = True)\r\n",
        "\r\n",
        "# We'll use residential buildings only\r\n",
        "cened_old = cened_old[cened_old['DESTINAZIONE_DI_USO'] == 'E.1(1)']\r\n",
        "\r\n",
        "# Add ddh\r\n",
        "cened_old['COMUNE'] = cened_old['COMUNE'].str.lower()\r\n",
        "ddh['comune'] = ddh['comune'].str.lower()\r\n",
        "cened_old['COMUNE'] = cened_old['COMUNE'].str.replace(r\"o`\",  \"o'\")\r\n",
        "cened_old['COMUNE'] = cened_old['COMUNE'].str.replace(r\"baranzate\",  \"bollate\")\r\n",
        "cened_old['COMUNE'] = cened_old['COMUNE'].str.replace(r\"bovisio masciago\",  \"bovisio-masciago\")\r\n",
        "cened_old['COMUNE'] = cened_old['COMUNE'].str.replace(r\"cornate d`adda\",  \"cornate d'adda\")\r\n",
        "cened_old['COMUNE'] = cened_old['COMUNE'].str.replace(r\"cortenuova\",  \"cortenova\")\r\n",
        "cened_old['COMUNE'] = cened_old['COMUNE'].str.replace(r\"sant'omobono terme\",  \"sant'omobono imagna\")\r\n",
        "ddh['comune'] = ddh['comune'].str.replace(r\"è\",  \"e'\")\r\n",
        "ddh['comune'] = ddh['comune'].str.replace(r\"è\",  \"e'\")\r\n",
        "ddh['comune'] = ddh['comune'].str.replace(r\"é\",  \"e'\")\r\n",
        "ddh['comune'] = ddh['comune'].str.replace(r\"ò\",  \"o'\")\r\n",
        "ddh['comune'] = ddh['comune'].str.replace(r\"ù\",  \"u'\")\r\n",
        "\r\n",
        "cened_old = cened_old.merge(ddh, left_on='COMUNE', right_on='comune', how='left')\r\n",
        "\r\n",
        "\r\n",
        "\r\n",
        "# Correct floats\r\n",
        "for col in ['SUPERFICIE_LORDA', 'SUPERFICIE_NETTA', 'VOLUME_LORDO', 'VOLUME_NETTO',\r\n",
        "       'SUPERFICIE_DISPERDENTE', 'SUPERFICIE_VETRATA_OPACA',\r\n",
        "       'TRASMITTANZA_MEDIA_INVOLUCRO', 'TRASMITTANZA_MEDIA_COPERTURA',\r\n",
        "       'TRASMITTANZA_MEDIA_BASAMENTO', 'TRASMITTANZA_MEDIA_SERRAMENTO', 'EPH', 'dd']:\r\n",
        "    cened_old[col] = cened_old[col].astype(str)\r\n",
        "    cened_old[col] = cened_old[col].str.replace(r',', '')\r\n",
        "    cened_old[col] = cened_old[col].astype(\"float\")"
      ],
      "execution_count": 312,
      "outputs": []
    },
    {
      "cell_type": "code",
      "metadata": {
        "id": "KMx-EDjwT9RO",
        "outputId": "f31ed27c-1228-4f6e-ab68-e7a105029369",
        "colab": {
          "base_uri": "https://localhost:8080/"
        }
      },
      "source": [
        "# Full DB of residential buildings without missing data\r\n",
        "print(len(cened_old))"
      ],
      "execution_count": 313,
      "outputs": [
        {
          "output_type": "stream",
          "text": [
            "306008\n"
          ],
          "name": "stdout"
        }
      ]
    },
    {
      "cell_type": "markdown",
      "metadata": {
        "id": "t-NviQVY6Ffl"
      },
      "source": [
        "# Feature engineering"
      ]
    },
    {
      "cell_type": "code",
      "metadata": {
        "id": "idAz0fO86FsB"
      },
      "source": [
        "# Opaque surface\r\n",
        "cened_old['SUP_OPACA'] = cened_old['SUPERFICIE_DISPERDENTE']/(1+cened_old['SUPERFICIE_VETRATA_OPACA'])\r\n",
        "\r\n",
        "# Opaque surface\r\n",
        "cened_old['SUP_FINESTRATA'] = cened_old['SUPERFICIE_DISPERDENTE'] - cened_old['SUP_OPACA']\r\n",
        "\r\n",
        "# Take care of construction year\r\n",
        "cened_old.ANNO_COSTRUZIONE = cened_old.ANNO_COSTRUZIONE.astype(str)\r\n",
        "cened_old.ANNO_COSTRUZIONE = cened_old.ANNO_COSTRUZIONE.map(lambda x:x[-4:])\r\n",
        "cened_old.ANNO_COSTRUZIONE = cened_old.ANNO_COSTRUZIONE.astype(int)\r\n",
        "\r\n",
        "cened_old['PERIODO'] = pd.cut(cened_old.ANNO_COSTRUZIONE, bins=[0,1930,1945,1960,1976,1992,2006,3000],\r\n",
        "     labels=['Before 1930','1930-1945','1946-1960','1961-1976', '1977-1992', '1993-2006','After 2006']).cat.codes\r\n",
        "\r\n",
        "# Take care of ach\r\n",
        "cened_old.NUMERO_RICAMBI_ORARI = cened_old.NUMERO_RICAMBI_ORARI.astype(str)\r\n",
        "cened_old.NUMERO_RICAMBI_ORARI = cened_old.NUMERO_RICAMBI_ORARI.map(lambda x:x[:6])\r\n",
        "cened_old.NUMERO_RICAMBI_ORARI = cened_old.NUMERO_RICAMBI_ORARI.astype(float)"
      ],
      "execution_count": 314,
      "outputs": []
    },
    {
      "cell_type": "markdown",
      "metadata": {
        "id": "--rfTUVC5qyb"
      },
      "source": [
        "# Filtering"
      ]
    },
    {
      "cell_type": "markdown",
      "metadata": {
        "id": "ftOM4XlE-ymK"
      },
      "source": [
        "Taken from previous studies!"
      ]
    },
    {
      "cell_type": "code",
      "metadata": {
        "id": "rlICxbTx5sIt"
      },
      "source": [
        "# Drop buildings with wrong thermal conductivity\r\n",
        "for col in ['TRASMITTANZA_MEDIA_INVOLUCRO', 'TRASMITTANZA_MEDIA_COPERTURA',\r\n",
        "       'TRASMITTANZA_MEDIA_BASAMENTO']:\r\n",
        "    cened_old = cened_old[cened_old[col] > 0]\r\n",
        "    cened_old = cened_old[cened_old[col] < 4]\r\n",
        "\r\n",
        "cened_old = cened_old[cened_old['TRASMITTANZA_MEDIA_SERRAMENTO'] > 0]\r\n",
        "cened_old = cened_old[cened_old['TRASMITTANZA_MEDIA_SERRAMENTO'] < 6]\r\n",
        "\r\n",
        "# Drop buildings with wrong EPH\r\n",
        "cened_old = cened_old[cened_old['EPH'] > 5]\r\n",
        "cened_old = cened_old[cened_old['EPH'] < 1000]\r\n",
        "\r\n",
        "# Drop buildings with wrong An\r\n",
        "cened_old = cened_old[cened_old['SUPERFICIE_NETTA'] > 50]\r\n",
        "\r\n",
        "# Drop buildings with wrong Vn\r\n",
        "cened_old = cened_old[cened_old['VOLUME_NETTO'] > 150]\r\n",
        "\r\n",
        "# Drop buildings with wrong average height\r\n",
        "cened_old['ALTEZZA_MEDIA'] = cened_old['VOLUME_NETTO']/cened_old['SUPERFICIE_NETTA']\r\n",
        "cened_old = cened_old[cened_old['ALTEZZA_MEDIA'] > 2.4]\r\n",
        "\r\n",
        "\r\n",
        "# Drop buildings with wrong mean thermal conductivity\r\n",
        "cened_old['TRASMITTANZA_MEDIA'] = (cened_old['TRASMITTANZA_MEDIA_SERRAMENTO'] + cened_old['TRASMITTANZA_MEDIA_COPERTURA'] +\r\n",
        "         cened_old['TRASMITTANZA_MEDIA_BASAMENTO'] + cened_old['TRASMITTANZA_MEDIA_INVOLUCRO'])/4\r\n",
        "\r\n",
        "cened_old = cened_old[cened_old['TRASMITTANZA_MEDIA'] > 0.15]\r\n",
        "cened_old = cened_old[cened_old['TRASMITTANZA_MEDIA'] < 4]\r\n",
        "\r\n",
        "# Glazed surface\r\n",
        "cened_old = cened_old[cened_old['SUP_FINESTRATA'] > 1]\r\n",
        "\r\n",
        "# Glazing ratio\r\n",
        "cened_old = cened_old[cened_old['SUPERFICIE_VETRATA_OPACA'] > 0]\r\n",
        "cened_old = cened_old[cened_old['SUPERFICIE_VETRATA_OPACA'] < 0.9]"
      ],
      "execution_count": 315,
      "outputs": []
    },
    {
      "cell_type": "code",
      "metadata": {
        "id": "7zqMhuTsUEEC",
        "outputId": "bdb522bb-0790-4e2f-d151-8402e83e0b0b",
        "colab": {
          "base_uri": "https://localhost:8080/"
        }
      },
      "source": [
        "print(len(cened_old))"
      ],
      "execution_count": 316,
      "outputs": [
        {
          "output_type": "stream",
          "text": [
            "263234\n"
          ],
          "name": "stdout"
        }
      ]
    },
    {
      "cell_type": "markdown",
      "metadata": {
        "id": "spKskdWCL4mM"
      },
      "source": [
        "# Data analysis"
      ]
    },
    {
      "cell_type": "code",
      "metadata": {
        "id": "MvzSQpeLL_Ku",
        "colab": {
          "base_uri": "https://localhost:8080/",
          "height": 394
        },
        "outputId": "9628931d-a108-4f82-9a26-e207015260fa"
      },
      "source": [
        "# Period\r\n",
        "fig = plt.figure(figsize = (10,6))\r\n",
        "cplot = sns.countplot(x = pd.cut(cened_old.ANNO_COSTRUZIONE, bins=[0,1930,1945,1960,1976,1992,2006,3000], \r\n",
        "       labels=['Before 1930','1930-1945','1946-1960','1961-1976', '1977-1992', \r\n",
        "               '1993-2006','After 2006']), color = 'b')\r\n",
        "cplot.set(ylabel = 'Count', xlabel = 'Period')\r\n",
        "plt.show()"
      ],
      "execution_count": 317,
      "outputs": [
        {
          "output_type": "display_data",
          "data": {
            "image/png": "[encoded data removed]",
            "text/plain": [
              "<Figure size 720x432 with 1 Axes>"
            ]
          },
          "metadata": {
            "tags": []
          }
        }
      ]
    },
    {
      "cell_type": "markdown",
      "metadata": {
        "id": "rK7tT6FO6wjs"
      },
      "source": [
        "# Shuffle"
      ]
    },
    {
      "cell_type": "code",
      "metadata": {
        "id": "xQauAX_Z6ywH"
      },
      "source": [
        "cened = cened_old.sample(frac=1).reset_index(drop=True)"
      ],
      "execution_count": 318,
      "outputs": []
    },
    {
      "cell_type": "markdown",
      "metadata": {
        "id": "xLy7NHfV6NOg"
      },
      "source": [
        "# Reserve a test set"
      ]
    },
    {
      "cell_type": "code",
      "metadata": {
        "id": "D8AmkFQH6Nl7"
      },
      "source": [
        "msk = np.random.rand(len(cened)) < 0.8\r\n",
        "train = cened[msk]\r\n",
        "test = cened[~msk]"
      ],
      "execution_count": 319,
      "outputs": []
    },
    {
      "cell_type": "code",
      "metadata": {
        "colab": {
          "base_uri": "https://localhost:8080/"
        },
        "id": "Tz77V-S2_H01",
        "outputId": "f528a8d3-b53a-4c8f-88ef-390d4fb66ca8"
      },
      "source": [
        "print(len(train))"
      ],
      "execution_count": 320,
      "outputs": [
        {
          "output_type": "stream",
          "text": [
            "210926\n"
          ],
          "name": "stdout"
        }
      ]
    },
    {
      "cell_type": "code",
      "metadata": {
        "colab": {
          "base_uri": "https://localhost:8080/"
        },
        "id": "HeJnDatG_Kan",
        "outputId": "1abb3694-27ca-4636-cdca-d7debe1f976b"
      },
      "source": [
        "print(len(test))"
      ],
      "execution_count": 321,
      "outputs": [
        {
          "output_type": "stream",
          "text": [
            "52308\n"
          ],
          "name": "stdout"
        }
      ]
    },
    {
      "cell_type": "markdown",
      "metadata": {
        "id": "7TMSuHej9Mw-"
      },
      "source": [
        "# Define MAPE"
      ]
    },
    {
      "cell_type": "code",
      "metadata": {
        "id": "sfmx3u169Q0i"
      },
      "source": [
        "def neg_mape(y_true, y_pred):\r\n",
        "  y_true = np.array(y_true)\r\n",
        "  y_pred = np.array(y_pred)\r\n",
        "  return -np.abs((y_true - y_pred)/y_true).mean()"
      ],
      "execution_count": 322,
      "outputs": []
    },
    {
      "cell_type": "code",
      "metadata": {
        "id": "2TUZvEj1LFLu"
      },
      "source": [
        "def modified_neg_mape(y_true, y_pred):\r\n",
        "  y_true = np.array(y_true)\r\n",
        "  y_pred = np.array(y_pred)\r\n",
        "  errors = np.abs((y_true - y_pred)/y_true)\r\n",
        "  index = np.argwhere(errors > 1)\r\n",
        "  mod_errors = np.delete(errors, index)\r\n",
        "  return -mod_errors.mean()"
      ],
      "execution_count": 323,
      "outputs": []
    },
    {
      "cell_type": "code",
      "metadata": {
        "id": "66onwvYJALQj"
      },
      "source": [
        "neg_mape_scorer = make_scorer(neg_mape, greater_is_better=True)"
      ],
      "execution_count": 324,
      "outputs": []
    },
    {
      "cell_type": "code",
      "metadata": {
        "id": "53ze8caVLOOn"
      },
      "source": [
        "modified_neg_mape_scorer = make_scorer(modified_neg_mape, greater_is_better=True)"
      ],
      "execution_count": 325,
      "outputs": []
    },
    {
      "cell_type": "markdown",
      "metadata": {
        "id": "P3sUK8BN6-Ph"
      },
      "source": [
        "# Random search"
      ]
    },
    {
      "cell_type": "code",
      "metadata": {
        "id": "NbnFeNK8-9up"
      },
      "source": [
        "mlcol = ['PERIODO','SUPERFICIE_LORDA', 'SUPERFICIE_NETTA', 'VOLUME_LORDO', \r\n",
        "         'VOLUME_NETTO', 'SUPERFICIE_DISPERDENTE',\r\n",
        "         'TRASMITTANZA_MEDIA_INVOLUCRO', 'TRASMITTANZA_MEDIA_COPERTURA',\r\n",
        "         'TRASMITTANZA_MEDIA_BASAMENTO', 'TRASMITTANZA_MEDIA_SERRAMENTO',\r\n",
        "         'dd','SUP_FINESTRATA','SUP_OPACA', 'SUPERFICIE_VETRATA_OPACA',\r\n",
        "         'NUMERO_RICAMBI_ORARI']"
      ],
      "execution_count": 326,
      "outputs": []
    },
    {
      "cell_type": "code",
      "metadata": {
        "id": "f3xillEIJoec"
      },
      "source": [
        "cat_feats = ['PERIODO']"
      ],
      "execution_count": 327,
      "outputs": []
    },
    {
      "cell_type": "code",
      "metadata": {
        "colab": {
          "base_uri": "https://localhost:8080/"
        },
        "id": "QIbN4Y2Q6-Va",
        "outputId": "bdf55b46-c8b3-464b-b361-dac68735cd1d"
      },
      "source": [
        "param_dist = {'feature_fraction': np.linspace(0.4, 1, num=7),\r\n",
        "              'num_leaf' : list(range(20,40)),\r\n",
        "             'max_depth' : [-1],\r\n",
        "             'max_bin' : [100, 200, 300, 500, 750, 1000, 2000],\r\n",
        "             'bagging_fraction' : np.linspace(0.4, 1, num=14),\r\n",
        "             'bagging_freq' : list(range(1,10)),\r\n",
        "             'lambda_l1' : stats.uniform(0, 0.6),\r\n",
        "             'lambda_l2' : stats.uniform(0, 0.6)}\r\n",
        "\r\n",
        "lgbm = LGBMRegressor(n_estimators = 200, silent = True, verbose = 0, is_training_metric = True, n_jobs = 1, \r\n",
        "                     eval_metric  = 'mape')\r\n",
        "\r\n",
        "n_iter_search = 100\r\n",
        "\r\n",
        "random_search = RandomizedSearchCV(lgbm, param_distributions=param_dist, n_iter=n_iter_search, \r\n",
        "                                   scoring={'MAPE' : modified_neg_mape_scorer, 'R2' : 'r2'} , cv = 5, n_jobs = 6, verbose = 2, refit = 'MAPE')\r\n",
        "\r\n",
        "random_search.fit(cened[mlcol], cened['EPH'], categorical_feature = cat_feats)"
      ],
      "execution_count": 328,
      "outputs": [
        {
          "output_type": "stream",
          "text": [
            "Fitting 5 folds for each of 100 candidates, totalling 500 fits\n"
          ],
          "name": "stdout"
        },
        {
          "output_type": "stream",
          "text": [
            "[Parallel(n_jobs=6)]: Using backend LokyBackend with 6 concurrent workers.\n",
            "[Parallel(n_jobs=6)]: Done  29 tasks      | elapsed:  2.9min\n",
            "[Parallel(n_jobs=6)]: Done 150 tasks      | elapsed: 13.9min\n",
            "[Parallel(n_jobs=6)]: Done 353 tasks      | elapsed: 32.4min\n",
            "[Parallel(n_jobs=6)]: Done 500 out of 500 | elapsed: 46.8min finished\n",
            "/usr/local/lib/python3.6/dist-packages/lightgbm/basic.py:1209: UserWarning: categorical_feature in Dataset is overridden.\n",
            "New categorical_feature is ['PERIODO']\n",
            "  'New categorical_feature is {}'.format(sorted(list(categorical_feature))))\n"
          ],
          "name": "stderr"
        },
        {
          "output_type": "execute_result",
          "data": {
            "text/plain": [
              "RandomizedSearchCV(cv=5, error_score=nan,\n",
              "                   estimator=LGBMRegressor(boosting_type='gbdt',\n",
              "                                           class_weight=None,\n",
              "                                           colsample_bytree=1.0,\n",
              "                                           eval_metric='mape',\n",
              "                                           importance_type='split',\n",
              "                                           is_training_metric=True,\n",
              "                                           learning_rate=0.1, max_depth=-1,\n",
              "                                           min_child_samples=20,\n",
              "                                           min_child_weight=0.001,\n",
              "                                           min_split_gain=0.0, n_estimators=200,\n",
              "                                           n_jobs=1, num_leaves=31,\n",
              "                                           objective=None, random_sta...\n",
              "                                        'lambda_l2': <scipy.stats._distn_infrastructure.rv_frozen object at 0x7f8baa8c3ba8>,\n",
              "                                        'max_bin': [100, 200, 300, 500, 750,\n",
              "                                                    1000, 2000],\n",
              "                                        'max_depth': [-1],\n",
              "                                        'num_leaf': [20, 21, 22, 23, 24, 25, 26,\n",
              "                                                     27, 28, 29, 30, 31, 32, 33,\n",
              "                                                     34, 35, 36, 37, 38, 39]},\n",
              "                   pre_dispatch='2*n_jobs', random_state=None, refit='MAPE',\n",
              "                   return_train_score=False,\n",
              "                   scoring={'MAPE': make_scorer(modified_neg_mape), 'R2': 'r2'},\n",
              "                   verbose=2)"
            ]
          },
          "metadata": {
            "tags": []
          },
          "execution_count": 328
        }
      ]
    },
    {
      "cell_type": "markdown",
      "metadata": {
        "id": "ZjNqelQa9tM6"
      },
      "source": [
        "# Print results"
      ]
    },
    {
      "cell_type": "code",
      "metadata": {
        "colab": {
          "base_uri": "https://localhost:8080/"
        },
        "id": "8po-ibOx9tjW",
        "outputId": "85cd88b4-4467-4f3d-bc07-ee4c700b4f52"
      },
      "source": [
        "print(random_search.best_params_)"
      ],
      "execution_count": 329,
      "outputs": [
        {
          "output_type": "stream",
          "text": [
            "{'bagging_fraction': 0.9538461538461538, 'bagging_freq': 5, 'feature_fraction': 1.0, 'lambda_l1': 0.0032008623603136054, 'lambda_l2': 0.2930464255470075, 'max_bin': 1000, 'max_depth': -1, 'num_leaf': 29}\n"
          ],
          "name": "stdout"
        }
      ]
    },
    {
      "cell_type": "code",
      "metadata": {
        "colab": {
          "base_uri": "https://localhost:8080/"
        },
        "id": "THJn_s95914s",
        "outputId": "cc0c2d39-65e4-459a-ee6b-988fc7812eef"
      },
      "source": [
        "print(random_search.best_score_)"
      ],
      "execution_count": 330,
      "outputs": [
        {
          "output_type": "stream",
          "text": [
            "-0.16720073563051802\n"
          ],
          "name": "stdout"
        }
      ]
    },
    {
      "cell_type": "code",
      "metadata": {
        "colab": {
          "base_uri": "https://localhost:8080/"
        },
        "id": "ta1btwWlTxJn",
        "outputId": "6311b4ce-6502-41e6-a502-54dab3d1b814"
      },
      "source": [
        "# Create a results df\r\n",
        "cv_df = pd.DataFrame(random_search.cv_results_)\r\n",
        "cv_df = cv_df.sort_values(by = ['rank_test_MAPE']).reset_index()\r\n",
        "\r\n",
        "# Filter columns\r\n",
        "res_cols = [col for col in cv_df if col.startswith('split')]\r\n",
        "\r\n",
        "# Select best iter\r\n",
        "best_res = cv_df.loc[0]\r\n",
        "\r\n",
        "# Print results for each fold\r\n",
        "print(best_res[res_cols])"
      ],
      "execution_count": 331,
      "outputs": [
        {
          "output_type": "stream",
          "text": [
            "split0_test_MAPE    -0.16864\n",
            "split1_test_MAPE   -0.166589\n",
            "split2_test_MAPE   -0.166645\n",
            "split3_test_MAPE   -0.166864\n",
            "split4_test_MAPE   -0.167266\n",
            "split0_test_R2      0.872572\n",
            "split1_test_R2       0.87619\n",
            "split2_test_R2      0.874375\n",
            "split3_test_R2      0.876998\n",
            "split4_test_R2      0.874472\n",
            "Name: 0, dtype: object\n"
          ],
          "name": "stdout"
        }
      ]
    },
    {
      "cell_type": "code",
      "metadata": {
        "colab": {
          "base_uri": "https://localhost:8080/",
          "height": 285
        },
        "id": "Hy76OsHBdTP8",
        "outputId": "8ee86456-920d-4a70-8d2b-47b6d690b588"
      },
      "source": [
        "df = pd.DataFrame(best_res[res_cols])\r\n",
        "df = df.rename(columns = {0:'Value'})\r\n",
        "df['Fold'] = df.index.str[5:6]\r\n",
        "df['Metric'] = df.index.str[12:]\r\n",
        "df['Value'] = np.where(df['Metric'] == 'MAPE', df['Value'] * -1, df['Value'])\r\n",
        "ax = sns.barplot(x='Fold', y=\"Value\", hue=\"Metric\", data = df)"
      ],
      "execution_count": 333,
      "outputs": [
        {
          "output_type": "display_data",
          "data": {
            "image/png": "[encoded data removed]",
            "text/plain": [
              "<Figure size 432x288 with 1 Axes>"
            ]
          },
          "metadata": {
            "tags": []
          }
        }
      ]
    },
    {
      "cell_type": "markdown",
      "metadata": {
        "id": "UHqwuWX1AeHK"
      },
      "source": [
        "# Train the final model"
      ]
    },
    {
      "cell_type": "code",
      "metadata": {
        "colab": {
          "base_uri": "https://localhost:8080/"
        },
        "id": "Zq7OjJKsAj0x",
        "outputId": "e5e76c94-d372-42a0-ba92-b27206647765"
      },
      "source": [
        "light = LGBMRegressor(n_estimators = 10000, silent = False, verbose = 2, is_training_metric = True, n_jobs = 6)\r\n",
        "light.set_params(**random_search.best_params_)"
      ],
      "execution_count": 334,
      "outputs": [
        {
          "output_type": "execute_result",
          "data": {
            "text/plain": [
              "LGBMRegressor(bagging_fraction=0.9538461538461538, bagging_freq=5,\n",
              "              boosting_type='gbdt', class_weight=None, colsample_bytree=1.0,\n",
              "              feature_fraction=1.0, importance_type='split',\n",
              "              is_training_metric=True, lambda_l1=0.0032008623603136054,\n",
              "              lambda_l2=0.2930464255470075, learning_rate=0.1, max_bin=1000,\n",
              "              max_depth=-1, min_child_samples=20, min_child_weight=0.001,\n",
              "              min_split_gain=0.0, n_estimators=10000, n_jobs=6, num_leaf=29,\n",
              "              num_leaves=31, objective=None, random_state=None, reg_alpha=0.0,\n",
              "              reg_lambda=0.0, silent=False, subsample=1.0,\n",
              "              subsample_for_bin=200000, subsample_freq=0, verbose=2)"
            ]
          },
          "metadata": {
            "tags": []
          },
          "execution_count": 334
        }
      ]
    },
    {
      "cell_type": "code",
      "metadata": {
        "colab": {
          "base_uri": "https://localhost:8080/"
        },
        "id": "XbLz3zitAuQo",
        "outputId": "ffec7244-5451-499d-d407-603e57552b65"
      },
      "source": [
        "light.fit(train[mlcol], train['EPH'], categorical_feature = cat_feats)"
      ],
      "execution_count": 335,
      "outputs": [
        {
          "output_type": "stream",
          "text": [
            "/usr/local/lib/python3.6/dist-packages/lightgbm/basic.py:1209: UserWarning: categorical_feature in Dataset is overridden.\n",
            "New categorical_feature is ['PERIODO']\n",
            "  'New categorical_feature is {}'.format(sorted(list(categorical_feature))))\n"
          ],
          "name": "stderr"
        },
        {
          "output_type": "execute_result",
          "data": {
            "text/plain": [
              "LGBMRegressor(bagging_fraction=0.9538461538461538, bagging_freq=5,\n",
              "              boosting_type='gbdt', class_weight=None, colsample_bytree=1.0,\n",
              "              feature_fraction=1.0, importance_type='split',\n",
              "              is_training_metric=True, lambda_l1=0.0032008623603136054,\n",
              "              lambda_l2=0.2930464255470075, learning_rate=0.1, max_bin=1000,\n",
              "              max_depth=-1, min_child_samples=20, min_child_weight=0.001,\n",
              "              min_split_gain=0.0, n_estimators=10000, n_jobs=6, num_leaf=29,\n",
              "              num_leaves=31, objective=None, random_state=None, reg_alpha=0.0,\n",
              "              reg_lambda=0.0, silent=False, subsample=1.0,\n",
              "              subsample_for_bin=200000, subsample_freq=0, verbose=2)"
            ]
          },
          "metadata": {
            "tags": []
          },
          "execution_count": 335
        }
      ]
    },
    {
      "cell_type": "markdown",
      "metadata": {
        "id": "Ml7EZ7XXAvwc"
      },
      "source": [
        "# Test the model"
      ]
    },
    {
      "cell_type": "code",
      "metadata": {
        "id": "EJFVWFDvAx4h"
      },
      "source": [
        "y_pred = light.predict(test[mlcol]).clip(0)"
      ],
      "execution_count": 336,
      "outputs": []
    },
    {
      "cell_type": "code",
      "metadata": {
        "id": "hCtUFtWSBZ15"
      },
      "source": [
        "results_df = pd.DataFrame({'predicted' : y_pred, 'true' : test['EPH']})\r\n",
        "results_df['error'] = np.abs((results_df['true'] - results_df['predicted'])/results_df['true'])*100"
      ],
      "execution_count": 337,
      "outputs": []
    },
    {
      "cell_type": "code",
      "metadata": {
        "id": "ve6Lla28DXct",
        "colab": {
          "base_uri": "https://localhost:8080/"
        },
        "outputId": "8a8cded2-dfdd-48c4-bc84-17e061649b02"
      },
      "source": [
        "# MAPE\r\n",
        "results_df['error'].mean()"
      ],
      "execution_count": 338,
      "outputs": [
        {
          "output_type": "execute_result",
          "data": {
            "text/plain": [
              "18.443997295842415"
            ]
          },
          "metadata": {
            "tags": []
          },
          "execution_count": 338
        }
      ]
    },
    {
      "cell_type": "code",
      "metadata": {
        "colab": {
          "base_uri": "https://localhost:8080/"
        },
        "id": "3NeF_M_htAQS",
        "outputId": "50356339-0b18-4811-81a4-4a83286f7b04"
      },
      "source": [
        "# Max % error\r\n",
        "results_df['error'].max()"
      ],
      "execution_count": 339,
      "outputs": [
        {
          "output_type": "execute_result",
          "data": {
            "text/plain": [
              "5984.253397376704"
            ]
          },
          "metadata": {
            "tags": []
          },
          "execution_count": 339
        }
      ]
    },
    {
      "cell_type": "code",
      "metadata": {
        "colab": {
          "base_uri": "https://localhost:8080/"
        },
        "id": "C0o2UT8A2MZZ",
        "outputId": "4f51ade9-4b61-43f7-9e17-172409b92753"
      },
      "source": [
        "# Row with the highest % error\r\n",
        "results_df.iloc[results_df['error'].argmax()]"
      ],
      "execution_count": 340,
      "outputs": [
        {
          "output_type": "execute_result",
          "data": {
            "text/plain": [
              "predicted     486.679429\n",
              "true            7.999000\n",
              "error        5984.253397\n",
              "Name: 254056, dtype: float64"
            ]
          },
          "metadata": {
            "tags": []
          },
          "execution_count": 340
        }
      ]
    },
    {
      "cell_type": "code",
      "metadata": {
        "id": "luAQiAU3KB8L",
        "colab": {
          "base_uri": "https://localhost:8080/"
        },
        "outputId": "57aa0b70-2221-4654-cd4b-5fbbd7ef5913"
      },
      "source": [
        "# MAPE without >100%\r\n",
        "results_df[results_df.error <= 100].error.mean()"
      ],
      "execution_count": 341,
      "outputs": [
        {
          "output_type": "execute_result",
          "data": {
            "text/plain": [
              "15.66921293544868"
            ]
          },
          "metadata": {
            "tags": []
          },
          "execution_count": 341
        }
      ]
    },
    {
      "cell_type": "code",
      "metadata": {
        "colab": {
          "base_uri": "https://localhost:8080/"
        },
        "id": "xnsGYxRhZnmb",
        "outputId": "c7f3fb9a-5863-40cb-8828-fd05881abf84"
      },
      "source": [
        "# R2 \r\n",
        "print(r2_score(test['EPH'], y_pred))"
      ],
      "execution_count": 342,
      "outputs": [
        {
          "output_type": "stream",
          "text": [
            "0.8869746280731347\n"
          ],
          "name": "stdout"
        }
      ]
    },
    {
      "cell_type": "code",
      "metadata": {
        "colab": {
          "base_uri": "https://localhost:8080/"
        },
        "id": "fCoPtLWGZ6tu",
        "outputId": "60521684-647d-4740-e1fd-430e7af68818"
      },
      "source": [
        "# R2 without >100%\r\n",
        "print(r2_score(results_df[results_df.error <= 100].true, results_df[results_df.error <= 100].predicted))"
      ],
      "execution_count": 343,
      "outputs": [
        {
          "output_type": "stream",
          "text": [
            "0.8961127029254408\n"
          ],
          "name": "stdout"
        }
      ]
    },
    {
      "cell_type": "code",
      "metadata": {
        "id": "fyUDfx40m_ri",
        "colab": {
          "base_uri": "https://localhost:8080/",
          "height": 419
        },
        "outputId": "052bfe29-0ea6-400d-b083-dcf43ce52137"
      },
      "source": [
        "results_df"
      ],
      "execution_count": 344,
      "outputs": [
        {
          "output_type": "execute_result",
          "data": {
            "text/html": [
              "<div>\n",
              "<style scoped>\n",
              "    .dataframe tbody tr th:only-of-type {\n",
              "        vertical-align: middle;\n",
              "    }\n",
              "\n",
              "    .dataframe tbody tr th {\n",
              "        vertical-align: top;\n",
              "    }\n",
              "\n",
              "    .dataframe thead th {\n",
              "        text-align: right;\n",
              "    }\n",
              "</style>\n",
              "<table border=\"1\" class=\"dataframe\">\n",
              "  <thead>\n",
              "    <tr style=\"text-align: right;\">\n",
              "      <th></th>\n",
              "      <th>predicted</th>\n",
              "      <th>true</th>\n",
              "      <th>error</th>\n",
              "    </tr>\n",
              "  </thead>\n",
              "  <tbody>\n",
              "    <tr>\n",
              "      <th>12</th>\n",
              "      <td>319.361112</td>\n",
              "      <td>337.1064</td>\n",
              "      <td>5.264002</td>\n",
              "    </tr>\n",
              "    <tr>\n",
              "      <th>14</th>\n",
              "      <td>89.790204</td>\n",
              "      <td>85.7843</td>\n",
              "      <td>4.669740</td>\n",
              "    </tr>\n",
              "    <tr>\n",
              "      <th>17</th>\n",
              "      <td>219.545509</td>\n",
              "      <td>247.7039</td>\n",
              "      <td>11.367763</td>\n",
              "    </tr>\n",
              "    <tr>\n",
              "      <th>26</th>\n",
              "      <td>187.121059</td>\n",
              "      <td>190.5135</td>\n",
              "      <td>1.780683</td>\n",
              "    </tr>\n",
              "    <tr>\n",
              "      <th>36</th>\n",
              "      <td>158.398030</td>\n",
              "      <td>198.5449</td>\n",
              "      <td>20.220550</td>\n",
              "    </tr>\n",
              "    <tr>\n",
              "      <th>...</th>\n",
              "      <td>...</td>\n",
              "      <td>...</td>\n",
              "      <td>...</td>\n",
              "    </tr>\n",
              "    <tr>\n",
              "      <th>263213</th>\n",
              "      <td>124.546394</td>\n",
              "      <td>141.8701</td>\n",
              "      <td>12.210964</td>\n",
              "    </tr>\n",
              "    <tr>\n",
              "      <th>263217</th>\n",
              "      <td>188.032921</td>\n",
              "      <td>164.0724</td>\n",
              "      <td>14.603627</td>\n",
              "    </tr>\n",
              "    <tr>\n",
              "      <th>263224</th>\n",
              "      <td>302.153972</td>\n",
              "      <td>337.5744</td>\n",
              "      <td>10.492629</td>\n",
              "    </tr>\n",
              "    <tr>\n",
              "      <th>263227</th>\n",
              "      <td>375.192589</td>\n",
              "      <td>328.4093</td>\n",
              "      <td>14.245422</td>\n",
              "    </tr>\n",
              "    <tr>\n",
              "      <th>263229</th>\n",
              "      <td>397.335692</td>\n",
              "      <td>369.2971</td>\n",
              "      <td>7.592421</td>\n",
              "    </tr>\n",
              "  </tbody>\n",
              "</table>\n",
              "<p>52308 rows × 3 columns</p>\n",
              "</div>"
            ],
            "text/plain": [
              "         predicted      true      error\n",
              "12      319.361112  337.1064   5.264002\n",
              "14       89.790204   85.7843   4.669740\n",
              "17      219.545509  247.7039  11.367763\n",
              "26      187.121059  190.5135   1.780683\n",
              "36      158.398030  198.5449  20.220550\n",
              "...            ...       ...        ...\n",
              "263213  124.546394  141.8701  12.210964\n",
              "263217  188.032921  164.0724  14.603627\n",
              "263224  302.153972  337.5744  10.492629\n",
              "263227  375.192589  328.4093  14.245422\n",
              "263229  397.335692  369.2971   7.592421\n",
              "\n",
              "[52308 rows x 3 columns]"
            ]
          },
          "metadata": {
            "tags": []
          },
          "execution_count": 344
        }
      ]
    },
    {
      "cell_type": "markdown",
      "metadata": {
        "id": "MW3keZUTPD3p"
      },
      "source": [
        "# Error analysis"
      ]
    },
    {
      "cell_type": "code",
      "metadata": {
        "colab": {
          "base_uri": "https://localhost:8080/",
          "height": 312
        },
        "id": "b3zWyGsVPD3p",
        "outputId": "bdf3e569-d7ed-4281-c7be-e9e4fb8b150d"
      },
      "source": [
        "# Period\r\n",
        "bins = pd.cut(test.ANNO_COSTRUZIONE, bins=[0,1930,1945,1960,1976,1992,2006,3000], \r\n",
        "       labels=['Before 1930','1930-1945','1946-1960','1961-1976', '1977-1992', \r\n",
        "               '1993-2006','After 2006'])\r\n",
        "\r\n",
        "fig = plt.figure(figsize = (12, 4.5))\r\n",
        "box = sns.boxplot(y = results_df.error, x = bins, \r\n",
        "                  color='lightsteelblue', orient = 'v', \r\n",
        "                  showfliers = False)\r\n",
        "\r\n",
        "box.set(ylabel = 'MAPE [%]', xlabel = 'Period')\r\n",
        "plt.show()"
      ],
      "execution_count": 345,
      "outputs": [
        {
          "output_type": "display_data",
          "data": {
            "image/png": "[encoded data removed]",
            "text/plain": [
              "<Figure size 864x324 with 1 Axes>"
            ]
          },
          "metadata": {
            "tags": []
          }
        }
      ]
    },
    {
      "cell_type": "code",
      "metadata": {
        "colab": {
          "base_uri": "https://localhost:8080/",
          "height": 394
        },
        "id": "hWSW3vHwPHsj",
        "outputId": "fe24d491-aebb-41fa-fd76-bab1fa5f98d3"
      },
      "source": [
        "# Error\r\n",
        "fig = plt.figure(figsize = (10,6))\r\n",
        "cplot = sns.countplot(x = pd.cut(results_df.error, bins=[0,10,20,30,40,50,60,70,80,90,100,10000],\r\n",
        "                                 labels = ['<10', '10-20', '20-30', '30-40', '40-50', '50-60', '60-70', '70-80', '80-90', '90-100', '>100']), color = 'b')\r\n",
        "cplot.set(ylabel = 'Count', xlabel = 'MAPE [%]')\r\n",
        "plt.show()"
      ],
      "execution_count": 346,
      "outputs": [
        {
          "output_type": "display_data",
          "data": {
            "image/png": "[encoded data removed]",
            "text/plain": [
              "<Figure size 720x432 with 1 Axes>"
            ]
          },
          "metadata": {
            "tags": []
          }
        }
      ]
    },
    {
      "cell_type": "code",
      "metadata": {
        "colab": {
          "base_uri": "https://localhost:8080/",
          "height": 394
        },
        "id": "Xxb7w9BURrnP",
        "outputId": "5003b643-d92e-4323-8b82-7d458ee1ccef"
      },
      "source": [
        "# Scatterplot\r\n",
        "fig = plt.figure(figsize = (7,6))\r\n",
        "scatter = sns.scatterplot(data=results_df, x=\"predicted\", y=\"true\")\r\n",
        "scatter.set(ylabel = 'True', xlabel = 'Predicted',\r\n",
        "            xlim=(-30, 1030), ylim=(-30, 1030))\r\n",
        "m, b = np.polyfit(results_df['predicted'], results_df['true'], 1)\r\n",
        "# plt.plot(results_df['predicted'].values, m*results_df['predicted'] + b)\r\n",
        "plt.plot([0, 1000], [0,1000], c = 'r', linestyle='--')\r\n",
        "plt.show()"
      ],
      "execution_count": 347,
      "outputs": [
        {
          "output_type": "display_data",
          "data": {
            "image/png": "[encoded data removed]",
            "text/plain": [
              "<Figure size 504x432 with 1 Axes>"
            ]
          },
          "metadata": {
            "tags": []
          }
        }
      ]
    }
  ]
}