{
  "nbformat": 4,
  "nbformat_minor": 0,
  "metadata": {
    "colab": {
      "name": "Untitled0.ipynb",
      "provenance": [],
      "collapsed_sections": [],
      "authorship_tag": "ABX9TyOvNNSAc8/NXT5x2up4ZXjR",
      "include_colab_link": true
    },
    "kernelspec": {
      "name": "python3",
      "display_name": "Python 3"
    }
  },
  "cells": [
    {
      "cell_type": "markdown",
      "metadata": {
        "id": "view-in-github",
        "colab_type": "text"
      },
      "source": [
        "<a href=\"https://colab.research.google.com/github/rboghe/cened/blob/master/MergeDNN.ipynb\" target=\"_parent\"><img src=\"https://colab.research.google.com/assets/colab-badge.svg\" alt=\"Open In Colab\"/></a>"
      ]
    },
    {
      "cell_type": "markdown",
      "metadata": {
        "id": "NpYzrRpEl-rq"
      },
      "source": [
        "**TO-DO: filter before merging**"
      ]
    },
    {
      "cell_type": "markdown",
      "metadata": {
        "id": "rTgtbdUu612B"
      },
      "source": [
        "##Loading Files"
      ]
    },
    {
      "cell_type": "code",
      "metadata": {
        "id": "bFTamnUO12MU"
      },
      "source": [
        "import os\n",
        "import urllib.request\n",
        "import pandas as pd\n",
        "import numpy as np\n",
        "import random\n",
        "import tensorflow as tf\n",
        "from tensorflow.keras import backend as K\n",
        "import matplotlib.pyplot as plt\n",
        "from sklearn.metrics import r2_score\n",
        "\n",
        "# Silence panda's setting with copy warning\n",
        "pd.options.mode.chained_assignment = None"
      ],
      "execution_count": 327,
      "outputs": []
    },
    {
      "cell_type": "code",
      "metadata": {
        "id": "nBJZFlqV15MW"
      },
      "source": [
        "url = 'https://www.dati.lombardia.it/api/views/bbky-sde5/rows.csv?accessType=DOWNLOAD'\n",
        "\n",
        "if os.path.isdir('/tmp'):\n",
        "    if os.path.isfile('/tmp/cened20.csv'):\n",
        "      pass\n",
        "    else:\n",
        "      urllib.request.urlretrieve(url, '/tmp/cened20.csv')\n",
        "else:\n",
        "  os.mkdir('/tmp')\n",
        "  urllib.request.urlretrieve(url, '/tmp/cened20.csv')"
      ],
      "execution_count": 328,
      "outputs": []
    },
    {
      "cell_type": "code",
      "metadata": {
        "id": "FAw5P6g217ld"
      },
      "source": [
        "url = 'https://www.dati.lombardia.it/api/views/rsg3-xhvk/rows.csv?accessType=DOWNLOAD'\n",
        "\n",
        "\n",
        "if os.path.isfile('/tmp/cened12.csv'):\n",
        "  pass\n",
        "else:\n",
        "  urllib.request.urlretrieve(url, '/tmp/cened12.csv')\n"
      ],
      "execution_count": 329,
      "outputs": []
    },
    {
      "cell_type": "code",
      "metadata": {
        "id": "yxFzc7202X5U"
      },
      "source": [
        "url = 'https://raw.githubusercontent.com/rboghe/cened/master/degreedays.txt'\n",
        "\n",
        "urllib.request.urlretrieve(url, '/tmp/ddh.csv')\n",
        "\n",
        "ddh = pd.read_csv('/tmp/ddh.csv', usecols = ['comune','dd'])"
      ],
      "execution_count": 330,
      "outputs": []
    },
    {
      "cell_type": "code",
      "metadata": {
        "id": "fiRt0wIy2ciM",
        "colab": {
          "base_uri": "https://localhost:8080/"
        },
        "outputId": "5ff4686a-f81e-4155-eccb-653d8bbaf62a"
      },
      "source": [
        "cols20 = ['COMUNE','FOGLIO', 'PARTICELLA','SUPERFICIE_DISPERDENTE', 'EP_H_ND',\n",
        "        'RIQUALIFICAZIONE_ENERGETICA','RISTRUTTURAZIONE_IMPORTANTE', \n",
        "        'INTERO_EDIFICIO','SUPERF_UTILE_RISCALDATA','EP_GL_NREN','EP_GL_REN']\n",
        "\n",
        "cols12 = ['COMUNE','FOGLIO', 'PARTICELLA','SUPERFICIE_DISPERDENTE',\n",
        "          'TRASMITTANZA_MEDIA_COPERTURA','TRASMITTANZA_MEDIA_INVOLUCRO',\n",
        "          'TRASMITTANZA_MEDIA_BASAMENTO','TRASMITTANZA_MEDIA_SERRAMENTO',\n",
        "          'SUPERFICIE_LORDA', 'VOLUME_LORDO', 'DESTINAZIONE_DI_USO',\n",
        "          'ANNO_COSTRUZIONE','SUPERFICIE_VETRATA_OPACA', 'VOLUME_NETTO',\n",
        "          'SUPERFICIE_NETTA', 'EPH']\n",
        "  \n",
        "cened20 = pd.read_csv('/tmp/cened20.csv', usecols = cols20)\n",
        "cened12 = pd.read_csv('/tmp/cened12.csv', usecols = cols12)"
      ],
      "execution_count": 331,
      "outputs": [
        {
          "output_type": "stream",
          "text": [
            "/usr/local/lib/python3.6/dist-packages/IPython/core/interactiveshell.py:2718: DtypeWarning: Columns (6,7) have mixed types.Specify dtype option on import or set low_memory=False.\n",
            "  interactivity=interactivity, compiler=compiler, result=result)\n",
            "/usr/local/lib/python3.6/dist-packages/IPython/core/interactiveshell.py:2718: DtypeWarning: Columns (7) have mixed types.Specify dtype option on import or set low_memory=False.\n",
            "  interactivity=interactivity, compiler=compiler, result=result)\n"
          ],
          "name": "stderr"
        }
      ]
    },
    {
      "cell_type": "markdown",
      "metadata": {
        "id": "LrDzUNcW678_"
      },
      "source": [
        "## Pre-filtering"
      ]
    },
    {
      "cell_type": "code",
      "metadata": {
        "id": "LERkjzsP3s3N"
      },
      "source": [
        "cened20['EP_GL_NREN'].fillna(0, inplace=True)\n",
        "cened20['EP_GL_REN'].fillna(0, inplace=True)\n",
        "\n",
        "# Drop NaN \n",
        "cened20 = cened20.dropna()\n",
        "cened12 = cened12.dropna() "
      ],
      "execution_count": 332,
      "outputs": []
    },
    {
      "cell_type": "code",
      "metadata": {
        "id": "ML1vCA8xGOm2"
      },
      "source": [
        "# Only entire buildings\n",
        "cened20 = cened20[cened20['INTERO_EDIFICIO'] == True]"
      ],
      "execution_count": 333,
      "outputs": []
    },
    {
      "cell_type": "code",
      "metadata": {
        "id": "AOq-QxRlPRjA"
      },
      "source": [
        "# Drop renovations\n",
        "cened20 = cened20[cened20['RISTRUTTURAZIONE_IMPORTANTE'] == False]\n",
        "cened20 = cened20[cened20['RIQUALIFICAZIONE_ENERGETICA'] == False]"
      ],
      "execution_count": 334,
      "outputs": []
    },
    {
      "cell_type": "markdown",
      "metadata": {
        "id": "7V08nFsW7BmJ"
      },
      "source": [
        "## Merge"
      ]
    },
    {
      "cell_type": "code",
      "metadata": {
        "id": "dQYBddpD5yEK"
      },
      "source": [
        "# Merge dfs\n",
        "cenedtot = pd.merge(left=cened20, right=cened12, left_on=['COMUNE','FOGLIO', 'PARTICELLA'], \n",
        "                    right_on=['COMUNE','FOGLIO', 'PARTICELLA'],  how='inner') # , 'SUBALTERNO' | , 'SUBALTERNO'"
      ],
      "execution_count": 335,
      "outputs": []
    },
    {
      "cell_type": "code",
      "metadata": {
        "id": "e7VDGgXB6heV"
      },
      "source": [
        "# Compute difference between ext surfaces\n",
        "cenedtot['surfdiff'] = abs((cenedtot['SUPERF_UTILE_RISCALDATA'] - cenedtot['SUPERFICIE_NETTA'])/cenedtot['SUPERF_UTILE_RISCALDATA'])\n",
        "\n",
        "# Drop rows with high difference\n",
        "cenedtot = cenedtot[cenedtot['surfdiff'] < 0.2]\n",
        "\n",
        "# Compute difference between ext surfaces\n",
        "#cenedtot['surfdiff'] = abs((cenedtot['SUPERFICIE_DISPERDENTE_y'] - cenedtot['SUPERFICIE_DISPERDENTE_x'])/cenedtot['SUPERFICIE_DISPERDENTE_y'])\n",
        "\n",
        "# Drop rows with high difference\n",
        "#cenedtot = cenedtot[cenedtot['surfdiff'] < 0.05]\n",
        "\n"
      ],
      "execution_count": 336,
      "outputs": []
    },
    {
      "cell_type": "code",
      "metadata": {
        "id": "p18EC-SUazhQ"
      },
      "source": [
        "# Compute difference between ext surfaces\n",
        "cenedtot['ephdiff'] = abs((cenedtot['EPH'] - cenedtot['EP_H_ND'])/cenedtot['EPH'])\n",
        "\n",
        "# Drop rows with high difference\n",
        "cenedtot = cenedtot[cenedtot['ephdiff'] < 0.3]"
      ],
      "execution_count": 337,
      "outputs": []
    },
    {
      "cell_type": "code",
      "metadata": {
        "id": "Pur65Xv1OYqf"
      },
      "source": [
        "cenedtot = cenedtot.dropna() "
      ],
      "execution_count": 338,
      "outputs": []
    },
    {
      "cell_type": "markdown",
      "metadata": {
        "id": "5XoQZ2wFAnJM"
      },
      "source": [
        "##Feature Creation"
      ]
    },
    {
      "cell_type": "code",
      "metadata": {
        "id": "ypVKCrOKApsL"
      },
      "source": [
        "# Add ddh\n",
        "cenedtot['COMUNE'] = cenedtot['COMUNE'].str.lower()\n",
        "ddh['comune'] = ddh['comune'].str.lower()\n",
        "cenedtot['COMUNE'] = cenedtot['COMUNE'].str.replace(r\"o`\",  \"o'\")\n",
        "cenedtot['COMUNE'] = cenedtot['COMUNE'].str.replace(r\"baranzate\",  \"bollate\")\n",
        "cenedtot['COMUNE'] = cenedtot['COMUNE'].str.replace(r\"bovisio masciago\",  \"bovisio-masciago\")\n",
        "cenedtot['COMUNE'] = cenedtot['COMUNE'].str.replace(r\"cornate d`adda\",  \"cornate d'adda\")\n",
        "cenedtot['COMUNE'] = cenedtot['COMUNE'].str.replace(r\"cortenuova\",  \"cortenova\")\n",
        "cenedtot['COMUNE'] = cenedtot['COMUNE'].str.replace(r\"sant'omobono terme\",  \"sant'omobono imagna\")\n",
        "ddh['comune'] = ddh['comune'].str.replace(r\"è\",  \"e'\")\n",
        "ddh['comune'] = ddh['comune'].str.replace(r\"è\",  \"e'\")\n",
        "ddh['comune'] = ddh['comune'].str.replace(r\"é\",  \"e'\")\n",
        "ddh['comune'] = ddh['comune'].str.replace(r\"ò\",  \"o'\")\n",
        "ddh['comune'] = ddh['comune'].str.replace(r\"ù\",  \"u'\")\n",
        "\n",
        "cenedtot = cenedtot.merge(ddh, left_on='COMUNE', right_on='comune', how='left')"
      ],
      "execution_count": 339,
      "outputs": []
    },
    {
      "cell_type": "code",
      "metadata": {
        "id": "VUNzRqxmCql2"
      },
      "source": [
        "cenedtot.ANNO_COSTRUZIONE = cenedtot.ANNO_COSTRUZIONE.astype(str)\n",
        "cenedtot.ANNO_COSTRUZIONE = cenedtot.ANNO_COSTRUZIONE.map(lambda x:x[-4:])\n",
        "cenedtot.ANNO_COSTRUZIONE = cenedtot.ANNO_COSTRUZIONE.astype(int)\n",
        "\n",
        "cenedtot['PERIODO'] = pd.cut(cenedtot.ANNO_COSTRUZIONE, bins=[0,1930,1945,1960,1976,1992,2006,3000],\n",
        "     labels=['Before 1930','1930-1945','1946-1960','1961-1976', '1977-1992', '1993-2006','After 2006']).cat.codes"
      ],
      "execution_count": 340,
      "outputs": []
    },
    {
      "cell_type": "code",
      "metadata": {
        "id": "6OfhIaz6Dbe_"
      },
      "source": [
        "# Opaque surface\n",
        "cenedtot['SUP_OPACA'] = cenedtot['SUPERFICIE_DISPERDENTE_y']/(1+cenedtot['SUPERFICIE_VETRATA_OPACA'])\n",
        "\n",
        "# Opaque surface\n",
        "cenedtot['SUP_FINESTRATA'] = cenedtot['SUPERFICIE_DISPERDENTE_y'] - cenedtot['SUP_OPACA']"
      ],
      "execution_count": 341,
      "outputs": []
    },
    {
      "cell_type": "code",
      "metadata": {
        "id": "9hWzT2YyEEDj"
      },
      "source": [
        "cenedtot['ALTEZZA_MEDIA'] = cenedtot['VOLUME_NETTO']/cenedtot['SUPERFICIE_NETTA']"
      ],
      "execution_count": 342,
      "outputs": []
    },
    {
      "cell_type": "code",
      "metadata": {
        "id": "tlDJYgk9Eaqc"
      },
      "source": [
        "cenedtot['TRASMITTANZA_MEDIA'] = (cenedtot['TRASMITTANZA_MEDIA_SERRAMENTO'] + cenedtot['TRASMITTANZA_MEDIA_COPERTURA'] +\n",
        "         cenedtot['TRASMITTANZA_MEDIA_BASAMENTO'] + cenedtot['TRASMITTANZA_MEDIA_INVOLUCRO'])/4"
      ],
      "execution_count": 343,
      "outputs": []
    },
    {
      "cell_type": "code",
      "metadata": {
        "id": "SY89pmJMSXHd"
      },
      "source": [
        "cenedtot['EP_GL_TOT'] = cenedtot['EP_GL_REN'] + cenedtot['EP_GL_NREN']"
      ],
      "execution_count": 344,
      "outputs": []
    },
    {
      "cell_type": "markdown",
      "metadata": {
        "id": "4oJoiQie-SGo"
      },
      "source": [
        "##Filters"
      ]
    },
    {
      "cell_type": "code",
      "metadata": {
        "id": "nuOs5Fvv7FXS"
      },
      "source": [
        "for col in ['TRASMITTANZA_MEDIA_COPERTURA','TRASMITTANZA_MEDIA_INVOLUCRO',\n",
        "          'TRASMITTANZA_MEDIA_BASAMENTO','TRASMITTANZA_MEDIA_SERRAMENTO']:\n",
        "          cenedtot = cenedtot[cenedtot[col].between(0,6, inclusive=False)]"
      ],
      "execution_count": 345,
      "outputs": []
    },
    {
      "cell_type": "code",
      "metadata": {
        "id": "oo4Y_4pJUPAI"
      },
      "source": [
        "# Drop buildings with wrong An\n",
        "cenedtot = cenedtot[cenedtot['SUPERFICIE_NETTA'] > 50]\n",
        "\n",
        "# Drop buildings with wrong Vn\n",
        "cenedtot = cenedtot[cenedtot['VOLUME_NETTO'] > 150]"
      ],
      "execution_count": 346,
      "outputs": []
    },
    {
      "cell_type": "code",
      "metadata": {
        "id": "xX6NlYdF-LvI"
      },
      "source": [
        "cenedtot = cenedtot[cenedtot['DESTINAZIONE_DI_USO'] == 'E.1(1)']"
      ],
      "execution_count": 347,
      "outputs": []
    },
    {
      "cell_type": "code",
      "metadata": {
        "id": "1li1oBiSEWQt"
      },
      "source": [
        "cenedtot = cenedtot[cenedtot['TRASMITTANZA_MEDIA'] > 0.15]\n",
        "cenedtot = cenedtot[cenedtot['TRASMITTANZA_MEDIA'] < 4]"
      ],
      "execution_count": 348,
      "outputs": []
    },
    {
      "cell_type": "code",
      "metadata": {
        "id": "HnKYF5WOEiPA"
      },
      "source": [
        "cenedtot = cenedtot[cenedtot['ALTEZZA_MEDIA'] > 2.4]\n",
        "cenedtot = cenedtot[cenedtot['ALTEZZA_MEDIA'] < 6]"
      ],
      "execution_count": 349,
      "outputs": []
    },
    {
      "cell_type": "code",
      "metadata": {
        "id": "2hDXj9dVIJsf"
      },
      "source": [
        "# Drop buildings with wrong EPH\n",
        "# cenedtot = cenedtot[cenedtot['EP_H_ND'] > 120]\n",
        "cenedtot = cenedtot[cenedtot['EP_H_ND'] < 1000]"
      ],
      "execution_count": 350,
      "outputs": []
    },
    {
      "cell_type": "code",
      "metadata": {
        "id": "gUhc_Fkd-6gQ",
        "colab": {
          "base_uri": "https://localhost:8080/"
        },
        "outputId": "0b55b79f-a725-4729-98d0-3b4393a18920"
      },
      "source": [
        "len(cenedtot)"
      ],
      "execution_count": 351,
      "outputs": [
        {
          "output_type": "execute_result",
          "data": {
            "text/plain": [
              "1042"
            ]
          },
          "metadata": {
            "tags": []
          },
          "execution_count": 351
        }
      ]
    },
    {
      "cell_type": "markdown",
      "metadata": {
        "id": "dkAliS_s_Wdx"
      },
      "source": [
        "##ML"
      ]
    },
    {
      "cell_type": "code",
      "metadata": {
        "id": "JvcwQnAM_V0d"
      },
      "source": [
        "def mean_absolute_percentage_error(y_true, y_pred): \n",
        "    return np.mean(np.abs((y_true - y_pred) / y_true)) * 100"
      ],
      "execution_count": 352,
      "outputs": []
    },
    {
      "cell_type": "code",
      "metadata": {
        "id": "4LDj3OO2VE8P"
      },
      "source": [
        "def r2(y_true, y_pred):\n",
        "    SS_res =  K.sum(K.square( y_true-y_pred ))\n",
        "    SS_tot = K.sum(K.square( y_true - K.mean(y_true) ) )\n",
        "    return ( 1 - SS_res/(SS_tot + K.epsilon()) )"
      ],
      "execution_count": 353,
      "outputs": []
    },
    {
      "cell_type": "code",
      "metadata": {
        "id": "D_3lnhTFVIXP"
      },
      "source": [
        "def split_db(X, y, split = [.8,.1], seed = 0):\n",
        "    s = [x for x in range(len(y))]\n",
        "    random.Random(seed).shuffle(s)\n",
        "    X = X[s]\n",
        "    y = y[s]\n",
        "    split1 = int(len(X)*split[0])\n",
        "    split2 = split1 + int(len(X)*split[1])\n",
        "    X_train = X[:split1]\n",
        "    y_train = y[:split1]\n",
        "    X_val = X[split1:split2]\n",
        "    y_val = y[split1:split2]\n",
        "    X_test = X[split2:]\n",
        "    y_test = y[split2:]\n",
        "    return X_train, X_val, X_test, y_train, y_val, y_test"
      ],
      "execution_count": 354,
      "outputs": []
    },
    {
      "cell_type": "code",
      "metadata": {
        "id": "oPaQVfXDVQ3m"
      },
      "source": [
        "mlcol = ['SUPERFICIE_DISPERDENTE_y', 'SUPERFICIE_NETTA', 'VOLUME_NETTO',\n",
        "          'TRASMITTANZA_MEDIA_COPERTURA','TRASMITTANZA_MEDIA_INVOLUCRO',\n",
        "          'TRASMITTANZA_MEDIA_BASAMENTO','TRASMITTANZA_MEDIA_SERRAMENTO',\n",
        "          'SUPERFICIE_LORDA', 'VOLUME_LORDO','dd','PERIODO','SUP_OPACA',\n",
        "        'SUP_FINESTRATA']\n",
        "\n",
        "X = cenedtot[mlcol]"
      ],
      "execution_count": 355,
      "outputs": []
    },
    {
      "cell_type": "code",
      "metadata": {
        "id": "j_dRg2KMVKcJ"
      },
      "source": [
        "from sklearn.preprocessing import StandardScaler\n",
        "scaler = StandardScaler()\n",
        "X = scaler.fit_transform(X)"
      ],
      "execution_count": 356,
      "outputs": []
    },
    {
      "cell_type": "code",
      "metadata": {
        "id": "-OJQdQ71VWRj"
      },
      "source": [
        "y = cenedtot.EP_H_ND.values #EP_H_ND!!\n",
        "X_train, X_val, X_test, y_train, y_val, y_test = split_db(X, y, split = [.8,.1], seed = 42)"
      ],
      "execution_count": 357,
      "outputs": []
    },
    {
      "cell_type": "code",
      "metadata": {
        "id": "gUrQPwS2VdS1"
      },
      "source": [
        "K.clear_session()"
      ],
      "execution_count": 358,
      "outputs": []
    },
    {
      "cell_type": "code",
      "metadata": {
        "id": "wof0i_pOVev_"
      },
      "source": [
        "from keras.constraints import max_norm\n",
        "\n",
        "# Create NN\n",
        "model = tf.keras.models.Sequential([\n",
        "        tf.keras.layers.Dense(X.shape[1], activation='relu'),\n",
        "        #tf.keras.layers.Dropout(0.4),\n",
        "        tf.keras.layers.Dense(32, activation='relu', kernel_constraint=max_norm(3), bias_constraint=max_norm(3)), #, kernel_constraint=max_norm(3), bias_constraint=max_norm(3)\n",
        "        tf.keras.layers.Dense(1, activation='linear')\n",
        "        ])\n",
        "\n",
        "\n",
        "model.compile(optimizer = tf.keras.optimizers.Adam(learning_rate= 0.001), loss = 'mape', metrics=[r2, 'mape', 'mse'])\n",
        "\n",
        "history = model.fit(X_train, y_train, validation_data=(X_val, y_val), epochs = 9000, batch_size = 256, verbose=0) #,use_multiprocessing = True"
      ],
      "execution_count": 359,
      "outputs": []
    },
    {
      "cell_type": "code",
      "metadata": {
        "id": "601Y-aLZVkW2",
        "colab": {
          "base_uri": "https://localhost:8080/",
          "height": 573
        },
        "outputId": "ea92b63d-c994-46d8-cd2a-c592e26f579c"
      },
      "source": [
        "# Plot training & validation accuracy values\n",
        "plt.plot(history.history['r2'][20:])\n",
        "plt.plot(history.history['val_r2'][20:])\n",
        "plt.title('Model r2')\n",
        "plt.ylabel('R2')\n",
        "plt.xlabel('Epoch')\n",
        "plt.legend(['Train', 'Val'], loc='upper left')\n",
        "plt.show()\n",
        "\n",
        "# Plot training & validation loss values\n",
        "plt.plot(history.history['loss'][20:])\n",
        "plt.plot(history.history['val_loss'][20:])\n",
        "plt.title('Model loss')\n",
        "plt.ylabel('Loss')\n",
        "plt.xlabel('Epoch')\n",
        "plt.legend(['Train', 'Val'], loc='upper left')\n",
        "plt.show()"
      ],
      "execution_count": 360,
      "outputs": [
        {
          "output_type": "display_data",
          "data": {
            "image/png": "[encoded data removed]",
            "text/plain": [
              "<Figure size 432x288 with 1 Axes>"
            ]
          },
          "metadata": {
            "tags": [],
            "needs_background": "light"
          }
        },
        {
          "output_type": "display_data",
          "data": {
            "image/png": "[encoded data removed]",
            "text/plain": [
              "<Figure size 432x288 with 1 Axes>"
            ]
          },
          "metadata": {
            "tags": [],
            "needs_background": "light"
          }
        }
      ]
    },
    {
      "cell_type": "code",
      "metadata": {
        "id": "BtXAoxMWXsp4",
        "colab": {
          "base_uri": "https://localhost:8080/",
          "height": 573
        },
        "outputId": "308eb634-325d-468c-eafa-d6577f01bb03"
      },
      "source": [
        "# Plot training & validation accuracy values\n",
        "plt.plot(history.history['r2'][200:])\n",
        "plt.plot(history.history['val_r2'][200:])\n",
        "plt.title('Model r2')\n",
        "plt.ylabel('R2')\n",
        "plt.xlabel('Epoch')\n",
        "plt.legend(['Train', 'Val'], loc='upper left')\n",
        "plt.show()\n",
        "\n",
        "# Plot training & validation loss values\n",
        "plt.plot(history.history['loss'][200:])\n",
        "plt.plot(history.history['val_loss'][200:])\n",
        "plt.title('Model loss')\n",
        "plt.ylabel('Loss')\n",
        "plt.xlabel('Epoch')\n",
        "plt.legend(['Train', 'Val'], loc='upper left')\n",
        "plt.show()"
      ],
      "execution_count": 361,
      "outputs": [
        {
          "output_type": "display_data",
          "data": {
            "image/png": "[encoded data removed]",
            "text/plain": [
              "<Figure size 432x288 with 1 Axes>"
            ]
          },
          "metadata": {
            "tags": [],
            "needs_background": "light"
          }
        },
        {
          "output_type": "display_data",
          "data": {
            "image/png": "[encoded data removed]",
            "text/plain": [
              "<Figure size 432x288 with 1 Axes>"
            ]
          },
          "metadata": {
            "tags": [],
            "needs_background": "light"
          }
        }
      ]
    },
    {
      "cell_type": "code",
      "metadata": {
        "colab": {
          "base_uri": "https://localhost:8080/"
        },
        "id": "XlDzZ7seaSSX",
        "outputId": "5acb4616-c6c5-4a68-8b92-4596daafc364"
      },
      "source": [
        "y_pred = model.predict(X_test)\n",
        "mape = np.mean(tf.keras.losses.MAPE(y_test, y_pred))\n",
        "print(mape)"
      ],
      "execution_count": 363,
      "outputs": [
        {
          "output_type": "stream",
          "text": [
            "81.49107\n"
          ],
          "name": "stdout"
        }
      ]
    },
    {
      "cell_type": "code",
      "metadata": {
        "id": "SEhuQL7nHXaY",
        "colab": {
          "base_uri": "https://localhost:8080/",
          "height": 1000
        },
        "outputId": "39a94409-4b4a-4c65-b60c-a6a7de0a84d5"
      },
      "source": [
        "import lightgbm as lgb\n",
        "\n",
        "\n",
        "train_data = lgb.Dataset(X_train, label=y_train)\n",
        "val_data = lgb.Dataset(X_val, label=y_val)\n",
        "\n",
        "parameters = {\n",
        "    'application': 'regression',\n",
        "    'objective': 'regression',\n",
        "    'metric': 'mape',\n",
        "    'is_unbalance': 'true',\n",
        "    'boosting': 'gbdt',\n",
        "    'num_leaves': 62,\n",
        "    'feature_fraction': 0.5,\n",
        "    'bagging_fraction': 0.5,\n",
        "    'bagging_freq': 20,\n",
        "    'learning_rate': 0.05,\n",
        "    'verbose': 0\n",
        "}\n",
        "\n",
        "model_gb = lgb.train(parameters,\n",
        "                       train_data,\n",
        "                       valid_sets=val_data,\n",
        "                       num_boost_round=5000,\n",
        "                       early_stopping_rounds=200)\n",
        "\n",
        "lgb.plot_importance(model_gb, figsize = (6,10),grid = False)\n",
        "plt.show()"
      ],
      "execution_count": 364,
      "outputs": [
        {
          "output_type": "stream",
          "text": [
            "[1]\tvalid_0's mape: 0.547634\n",
            "Training until validation scores don't improve for 200 rounds.\n",
            "[2]\tvalid_0's mape: 0.527694\n",
            "[3]\tvalid_0's mape: 0.509276\n",
            "[4]\tvalid_0's mape: 0.493841\n",
            "[5]\tvalid_0's mape: 0.477801\n",
            "[6]\tvalid_0's mape: 0.465635\n",
            "[7]\tvalid_0's mape: 0.45146\n",
            "[8]\tvalid_0's mape: 0.440406\n",
            "[9]\tvalid_0's mape: 0.429804\n",
            "[10]\tvalid_0's mape: 0.419177\n",
            "[11]\tvalid_0's mape: 0.409952\n",
            "[12]\tvalid_0's mape: 0.401155\n",
            "[13]\tvalid_0's mape: 0.393928\n",
            "[14]\tvalid_0's mape: 0.383298\n",
            "[15]\tvalid_0's mape: 0.376078\n",
            "[16]\tvalid_0's mape: 0.365886\n",
            "[17]\tvalid_0's mape: 0.359786\n",
            "[18]\tvalid_0's mape: 0.354326\n",
            "[19]\tvalid_0's mape: 0.346422\n",
            "[20]\tvalid_0's mape: 0.339329\n",
            "[21]\tvalid_0's mape: 0.33474\n",
            "[22]\tvalid_0's mape: 0.330097\n",
            "[23]\tvalid_0's mape: 0.325056\n",
            "[24]\tvalid_0's mape: 0.318686\n",
            "[25]\tvalid_0's mape: 0.313168\n",
            "[26]\tvalid_0's mape: 0.308244\n",
            "[27]\tvalid_0's mape: 0.304753\n",
            "[28]\tvalid_0's mape: 0.301264\n",
            "[29]\tvalid_0's mape: 0.296149\n",
            "[30]\tvalid_0's mape: 0.293321\n",
            "[31]\tvalid_0's mape: 0.290825\n",
            "[32]\tvalid_0's mape: 0.287745\n",
            "[33]\tvalid_0's mape: 0.28451\n",
            "[34]\tvalid_0's mape: 0.282974\n",
            "[35]\tvalid_0's mape: 0.280537\n",
            "[36]\tvalid_0's mape: 0.278998\n",
            "[37]\tvalid_0's mape: 0.276185\n",
            "[38]\tvalid_0's mape: 0.273853\n",
            "[39]\tvalid_0's mape: 0.272693\n",
            "[40]\tvalid_0's mape: 0.271062\n",
            "[41]\tvalid_0's mape: 0.269461\n",
            "[42]\tvalid_0's mape: 0.267973\n",
            "[43]\tvalid_0's mape: 0.26557\n",
            "[44]\tvalid_0's mape: 0.263285\n",
            "[45]\tvalid_0's mape: 0.26105\n",
            "[46]\tvalid_0's mape: 0.259429\n",
            "[47]\tvalid_0's mape: 0.258811\n",
            "[48]\tvalid_0's mape: 0.258147\n",
            "[49]\tvalid_0's mape: 0.257387\n",
            "[50]\tvalid_0's mape: 0.25719\n",
            "[51]\tvalid_0's mape: 0.256783\n",
            "[52]\tvalid_0's mape: 0.255455\n",
            "[53]\tvalid_0's mape: 0.25485\n",
            "[54]\tvalid_0's mape: 0.254093\n",
            "[55]\tvalid_0's mape: 0.254568\n",
            "[56]\tvalid_0's mape: 0.255301\n",
            "[57]\tvalid_0's mape: 0.25448\n",
            "[58]\tvalid_0's mape: 0.254518\n",
            "[59]\tvalid_0's mape: 0.254015\n",
            "[60]\tvalid_0's mape: 0.25389\n",
            "[61]\tvalid_0's mape: 0.253765\n",
            "[62]\tvalid_0's mape: 0.253938\n",
            "[63]\tvalid_0's mape: 0.2538\n",
            "[64]\tvalid_0's mape: 0.255537\n",
            "[65]\tvalid_0's mape: 0.25514\n",
            "[66]\tvalid_0's mape: 0.254854\n",
            "[67]\tvalid_0's mape: 0.254322\n",
            "[68]\tvalid_0's mape: 0.254656\n",
            "[69]\tvalid_0's mape: 0.254557\n",
            "[70]\tvalid_0's mape: 0.254508\n",
            "[71]\tvalid_0's mape: 0.255072\n",
            "[72]\tvalid_0's mape: 0.255274\n",
            "[73]\tvalid_0's mape: 0.256149\n",
            "[74]\tvalid_0's mape: 0.255351\n",
            "[75]\tvalid_0's mape: 0.255188\n",
            "[76]\tvalid_0's mape: 0.256015\n",
            "[77]\tvalid_0's mape: 0.255859\n",
            "[78]\tvalid_0's mape: 0.255271\n",
            "[79]\tvalid_0's mape: 0.255512\n",
            "[80]\tvalid_0's mape: 0.255042\n",
            "[81]\tvalid_0's mape: 0.254482\n",
            "[82]\tvalid_0's mape: 0.25482\n",
            "[83]\tvalid_0's mape: 0.254891\n",
            "[84]\tvalid_0's mape: 0.254587\n",
            "[85]\tvalid_0's mape: 0.254305\n",
            "[86]\tvalid_0's mape: 0.254451\n",
            "[87]\tvalid_0's mape: 0.254348\n",
            "[88]\tvalid_0's mape: 0.254437\n",
            "[89]\tvalid_0's mape: 0.254035\n",
            "[90]\tvalid_0's mape: 0.253531\n",
            "[91]\tvalid_0's mape: 0.253225\n",
            "[92]\tvalid_0's mape: 0.253299\n",
            "[93]\tvalid_0's mape: 0.253114\n",
            "[94]\tvalid_0's mape: 0.252707\n",
            "[95]\tvalid_0's mape: 0.252603\n",
            "[96]\tvalid_0's mape: 0.251721\n",
            "[97]\tvalid_0's mape: 0.251414\n",
            "[98]\tvalid_0's mape: 0.250637\n",
            "[99]\tvalid_0's mape: 0.250753\n",
            "[100]\tvalid_0's mape: 0.250321\n",
            "[101]\tvalid_0's mape: 0.250373\n",
            "[102]\tvalid_0's mape: 0.249829\n",
            "[103]\tvalid_0's mape: 0.249789\n",
            "[104]\tvalid_0's mape: 0.249735\n",
            "[105]\tvalid_0's mape: 0.249588\n",
            "[106]\tvalid_0's mape: 0.249408\n",
            "[107]\tvalid_0's mape: 0.248713\n",
            "[108]\tvalid_0's mape: 0.24889\n",
            "[109]\tvalid_0's mape: 0.249082\n",
            "[110]\tvalid_0's mape: 0.249176\n",
            "[111]\tvalid_0's mape: 0.249255\n",
            "[112]\tvalid_0's mape: 0.249384\n",
            "[113]\tvalid_0's mape: 0.250238\n",
            "[114]\tvalid_0's mape: 0.249842\n",
            "[115]\tvalid_0's mape: 0.250154\n",
            "[116]\tvalid_0's mape: 0.250382\n",
            "[117]\tvalid_0's mape: 0.250665\n",
            "[118]\tvalid_0's mape: 0.250922\n",
            "[119]\tvalid_0's mape: 0.250604\n",
            "[120]\tvalid_0's mape: 0.250242\n",
            "[121]\tvalid_0's mape: 0.250101\n",
            "[122]\tvalid_0's mape: 0.249629\n",
            "[123]\tvalid_0's mape: 0.249769\n",
            "[124]\tvalid_0's mape: 0.249401\n",
            "[125]\tvalid_0's mape: 0.249367\n",
            "[126]\tvalid_0's mape: 0.249515\n",
            "[127]\tvalid_0's mape: 0.249682\n",
            "[128]\tvalid_0's mape: 0.250033\n",
            "[129]\tvalid_0's mape: 0.250397\n",
            "[130]\tvalid_0's mape: 0.25015\n",
            "[131]\tvalid_0's mape: 0.249875\n",
            "[132]\tvalid_0's mape: 0.250196\n",
            "[133]\tvalid_0's mape: 0.250419\n",
            "[134]\tvalid_0's mape: 0.250428\n",
            "[135]\tvalid_0's mape: 0.250739\n",
            "[136]\tvalid_0's mape: 0.25068\n",
            "[137]\tvalid_0's mape: 0.250449\n",
            "[138]\tvalid_0's mape: 0.25012\n",
            "[139]\tvalid_0's mape: 0.250222\n",
            "[140]\tvalid_0's mape: 0.249466\n",
            "[141]\tvalid_0's mape: 0.248605\n",
            "[142]\tvalid_0's mape: 0.247926\n",
            "[143]\tvalid_0's mape: 0.247333\n",
            "[144]\tvalid_0's mape: 0.247554\n",
            "[145]\tvalid_0's mape: 0.247277\n",
            "[146]\tvalid_0's mape: 0.247691\n",
            "[147]\tvalid_0's mape: 0.248562\n",
            "[148]\tvalid_0's mape: 0.24826\n",
            "[149]\tvalid_0's mape: 0.248628\n",
            "[150]\tvalid_0's mape: 0.247952\n",
            "[151]\tvalid_0's mape: 0.247927\n",
            "[152]\tvalid_0's mape: 0.247824\n",
            "[153]\tvalid_0's mape: 0.24784\n",
            "[154]\tvalid_0's mape: 0.247876\n",
            "[155]\tvalid_0's mape: 0.247078\n",
            "[156]\tvalid_0's mape: 0.24817\n",
            "[157]\tvalid_0's mape: 0.247618\n",
            "[158]\tvalid_0's mape: 0.247573\n",
            "[159]\tvalid_0's mape: 0.247202\n",
            "[160]\tvalid_0's mape: 0.247329\n",
            "[161]\tvalid_0's mape: 0.247035\n",
            "[162]\tvalid_0's mape: 0.246691\n",
            "[163]\tvalid_0's mape: 0.247358\n",
            "[164]\tvalid_0's mape: 0.247651\n",
            "[165]\tvalid_0's mape: 0.247828\n",
            "[166]\tvalid_0's mape: 0.247849\n",
            "[167]\tvalid_0's mape: 0.247805\n",
            "[168]\tvalid_0's mape: 0.247944\n",
            "[169]\tvalid_0's mape: 0.248248\n",
            "[170]\tvalid_0's mape: 0.248469\n",
            "[171]\tvalid_0's mape: 0.248375\n",
            "[172]\tvalid_0's mape: 0.248732\n",
            "[173]\tvalid_0's mape: 0.249004\n",
            "[174]\tvalid_0's mape: 0.249168\n",
            "[175]\tvalid_0's mape: 0.248876\n",
            "[176]\tvalid_0's mape: 0.248873\n",
            "[177]\tvalid_0's mape: 0.248525\n",
            "[178]\tvalid_0's mape: 0.247992\n",
            "[179]\tvalid_0's mape: 0.248476\n",
            "[180]\tvalid_0's mape: 0.248093\n",
            "[181]\tvalid_0's mape: 0.248295\n",
            "[182]\tvalid_0's mape: 0.248169\n",
            "[183]\tvalid_0's mape: 0.247632\n",
            "[184]\tvalid_0's mape: 0.247701\n",
            "[185]\tvalid_0's mape: 0.248207\n",
            "[186]\tvalid_0's mape: 0.24823\n",
            "[187]\tvalid_0's mape: 0.24864\n",
            "[188]\tvalid_0's mape: 0.248649\n",
            "[189]\tvalid_0's mape: 0.248444\n",
            "[190]\tvalid_0's mape: 0.248062\n",
            "[191]\tvalid_0's mape: 0.247744\n",
            "[192]\tvalid_0's mape: 0.247918\n",
            "[193]\tvalid_0's mape: 0.247749\n",
            "[194]\tvalid_0's mape: 0.247543\n",
            "[195]\tvalid_0's mape: 0.247346\n",
            "[196]\tvalid_0's mape: 0.247077\n",
            "[197]\tvalid_0's mape: 0.246912\n",
            "[198]\tvalid_0's mape: 0.247208\n",
            "[199]\tvalid_0's mape: 0.247438\n",
            "[200]\tvalid_0's mape: 0.247211\n",
            "[201]\tvalid_0's mape: 0.247292\n",
            "[202]\tvalid_0's mape: 0.247303\n",
            "[203]\tvalid_0's mape: 0.246902\n",
            "[204]\tvalid_0's mape: 0.246567\n",
            "[205]\tvalid_0's mape: 0.245623\n",
            "[206]\tvalid_0's mape: 0.245383\n",
            "[207]\tvalid_0's mape: 0.245469\n",
            "[208]\tvalid_0's mape: 0.24538\n",
            "[209]\tvalid_0's mape: 0.245216\n",
            "[210]\tvalid_0's mape: 0.245232\n",
            "[211]\tvalid_0's mape: 0.245275\n",
            "[212]\tvalid_0's mape: 0.245384\n",
            "[213]\tvalid_0's mape: 0.245981\n",
            "[214]\tvalid_0's mape: 0.245807\n",
            "[215]\tvalid_0's mape: 0.245317\n",
            "[216]\tvalid_0's mape: 0.244945\n",
            "[217]\tvalid_0's mape: 0.245167\n",
            "[218]\tvalid_0's mape: 0.245055\n",
            "[219]\tvalid_0's mape: 0.244576\n",
            "[220]\tvalid_0's mape: 0.244749\n",
            "[221]\tvalid_0's mape: 0.244956\n",
            "[222]\tvalid_0's mape: 0.245483\n",
            "[223]\tvalid_0's mape: 0.245268\n",
            "[224]\tvalid_0's mape: 0.244784\n",
            "[225]\tvalid_0's mape: 0.244583\n",
            "[226]\tvalid_0's mape: 0.244515\n",
            "[227]\tvalid_0's mape: 0.244928\n",
            "[228]\tvalid_0's mape: 0.244802\n",
            "[229]\tvalid_0's mape: 0.244614\n",
            "[230]\tvalid_0's mape: 0.243797\n",
            "[231]\tvalid_0's mape: 0.244147\n",
            "[232]\tvalid_0's mape: 0.244383\n",
            "[233]\tvalid_0's mape: 0.244853\n",
            "[234]\tvalid_0's mape: 0.24467\n",
            "[235]\tvalid_0's mape: 0.244457\n",
            "[236]\tvalid_0's mape: 0.244334\n",
            "[237]\tvalid_0's mape: 0.244185\n",
            "[238]\tvalid_0's mape: 0.244246\n",
            "[239]\tvalid_0's mape: 0.244175\n",
            "[240]\tvalid_0's mape: 0.244038\n",
            "[241]\tvalid_0's mape: 0.24435\n",
            "[242]\tvalid_0's mape: 0.244614\n",
            "[243]\tvalid_0's mape: 0.244269\n",
            "[244]\tvalid_0's mape: 0.2437\n",
            "[245]\tvalid_0's mape: 0.243782\n",
            "[246]\tvalid_0's mape: 0.243648\n",
            "[247]\tvalid_0's mape: 0.243477\n",
            "[248]\tvalid_0's mape: 0.243143\n",
            "[249]\tvalid_0's mape: 0.242994\n",
            "[250]\tvalid_0's mape: 0.242678\n",
            "[251]\tvalid_0's mape: 0.243006\n",
            "[252]\tvalid_0's mape: 0.242873\n",
            "[253]\tvalid_0's mape: 0.242959\n",
            "[254]\tvalid_0's mape: 0.242688\n",
            "[255]\tvalid_0's mape: 0.243081\n",
            "[256]\tvalid_0's mape: 0.242772\n",
            "[257]\tvalid_0's mape: 0.242939\n",
            "[258]\tvalid_0's mape: 0.242636\n",
            "[259]\tvalid_0's mape: 0.242343\n",
            "[260]\tvalid_0's mape: 0.242451\n",
            "[261]\tvalid_0's mape: 0.242278\n",
            "[262]\tvalid_0's mape: 0.241831\n",
            "[263]\tvalid_0's mape: 0.241667\n",
            "[264]\tvalid_0's mape: 0.24137\n",
            "[265]\tvalid_0's mape: 0.241082\n",
            "[266]\tvalid_0's mape: 0.241034\n",
            "[267]\tvalid_0's mape: 0.241297\n",
            "[268]\tvalid_0's mape: 0.241561\n",
            "[269]\tvalid_0's mape: 0.241617\n",
            "[270]\tvalid_0's mape: 0.241665\n",
            "[271]\tvalid_0's mape: 0.241763\n",
            "[272]\tvalid_0's mape: 0.241145\n",
            "[273]\tvalid_0's mape: 0.240927\n",
            "[274]\tvalid_0's mape: 0.24093\n",
            "[275]\tvalid_0's mape: 0.240836\n",
            "[276]\tvalid_0's mape: 0.241016\n",
            "[277]\tvalid_0's mape: 0.24125\n",
            "[278]\tvalid_0's mape: 0.241172\n",
            "[279]\tvalid_0's mape: 0.241535\n",
            "[280]\tvalid_0's mape: 0.241456\n",
            "[281]\tvalid_0's mape: 0.241526\n",
            "[282]\tvalid_0's mape: 0.241051\n",
            "[283]\tvalid_0's mape: 0.241064\n",
            "[284]\tvalid_0's mape: 0.241023\n",
            "[285]\tvalid_0's mape: 0.240572\n",
            "[286]\tvalid_0's mape: 0.241206\n",
            "[287]\tvalid_0's mape: 0.240926\n",
            "[288]\tvalid_0's mape: 0.241005\n",
            "[289]\tvalid_0's mape: 0.240917\n",
            "[290]\tvalid_0's mape: 0.241014\n",
            "[291]\tvalid_0's mape: 0.240637\n",
            "[292]\tvalid_0's mape: 0.240581\n",
            "[293]\tvalid_0's mape: 0.24106\n",
            "[294]\tvalid_0's mape: 0.240824\n",
            "[295]\tvalid_0's mape: 0.240902\n",
            "[296]\tvalid_0's mape: 0.241057\n",
            "[297]\tvalid_0's mape: 0.241089\n",
            "[298]\tvalid_0's mape: 0.240988\n",
            "[299]\tvalid_0's mape: 0.241156\n",
            "[300]\tvalid_0's mape: 0.241247\n",
            "[301]\tvalid_0's mape: 0.241185\n",
            "[302]\tvalid_0's mape: 0.240874\n",
            "[303]\tvalid_0's mape: 0.240912\n",
            "[304]\tvalid_0's mape: 0.240634\n",
            "[305]\tvalid_0's mape: 0.240324\n",
            "[306]\tvalid_0's mape: 0.24052\n",
            "[307]\tvalid_0's mape: 0.2404\n",
            "[308]\tvalid_0's mape: 0.240353\n",
            "[309]\tvalid_0's mape: 0.240924\n",
            "[310]\tvalid_0's mape: 0.240926\n",
            "[311]\tvalid_0's mape: 0.241352\n",
            "[312]\tvalid_0's mape: 0.241335\n",
            "[313]\tvalid_0's mape: 0.241391\n",
            "[314]\tvalid_0's mape: 0.241442\n",
            "[315]\tvalid_0's mape: 0.241781\n",
            "[316]\tvalid_0's mape: 0.241874\n",
            "[317]\tvalid_0's mape: 0.24164\n",
            "[318]\tvalid_0's mape: 0.24203\n",
            "[319]\tvalid_0's mape: 0.241513\n",
            "[320]\tvalid_0's mape: 0.241618\n",
            "[321]\tvalid_0's mape: 0.241967\n",
            "[322]\tvalid_0's mape: 0.242134\n",
            "[323]\tvalid_0's mape: 0.241922\n",
            "[324]\tvalid_0's mape: 0.24183\n",
            "[325]\tvalid_0's mape: 0.241921\n",
            "[326]\tvalid_0's mape: 0.241769\n",
            "[327]\tvalid_0's mape: 0.241802\n",
            "[328]\tvalid_0's mape: 0.24199\n",
            "[329]\tvalid_0's mape: 0.241721\n",
            "[330]\tvalid_0's mape: 0.241641\n",
            "[331]\tvalid_0's mape: 0.24207\n",
            "[332]\tvalid_0's mape: 0.241842\n",
            "[333]\tvalid_0's mape: 0.241774\n",
            "[334]\tvalid_0's mape: 0.241608\n",
            "[335]\tvalid_0's mape: 0.241837\n",
            "[336]\tvalid_0's mape: 0.241792\n",
            "[337]\tvalid_0's mape: 0.241551\n",
            "[338]\tvalid_0's mape: 0.241416\n",
            "[339]\tvalid_0's mape: 0.241509\n",
            "[340]\tvalid_0's mape: 0.24147\n",
            "[341]\tvalid_0's mape: 0.241527\n",
            "[342]\tvalid_0's mape: 0.241881\n",
            "[343]\tvalid_0's mape: 0.242177\n",
            "[344]\tvalid_0's mape: 0.242697\n",
            "[345]\tvalid_0's mape: 0.242858\n",
            "[346]\tvalid_0's mape: 0.243135\n",
            "[347]\tvalid_0's mape: 0.243042\n",
            "[348]\tvalid_0's mape: 0.243532\n",
            "[349]\tvalid_0's mape: 0.243844\n",
            "[350]\tvalid_0's mape: 0.243958\n",
            "[351]\tvalid_0's mape: 0.243904\n",
            "[352]\tvalid_0's mape: 0.244293\n",
            "[353]\tvalid_0's mape: 0.244342\n",
            "[354]\tvalid_0's mape: 0.244288\n",
            "[355]\tvalid_0's mape: 0.244754\n",
            "[356]\tvalid_0's mape: 0.244875\n",
            "[357]\tvalid_0's mape: 0.245192\n",
            "[358]\tvalid_0's mape: 0.245267\n",
            "[359]\tvalid_0's mape: 0.245834\n",
            "[360]\tvalid_0's mape: 0.245918\n",
            "[361]\tvalid_0's mape: 0.246015\n",
            "[362]\tvalid_0's mape: 0.245958\n",
            "[363]\tvalid_0's mape: 0.24574\n",
            "[364]\tvalid_0's mape: 0.246107\n",
            "[365]\tvalid_0's mape: 0.245904\n",
            "[366]\tvalid_0's mape: 0.245574\n",
            "[367]\tvalid_0's mape: 0.245314\n",
            "[368]\tvalid_0's mape: 0.245547\n",
            "[369]\tvalid_0's mape: 0.245494\n",
            "[370]\tvalid_0's mape: 0.245788\n",
            "[371]\tvalid_0's mape: 0.245966\n",
            "[372]\tvalid_0's mape: 0.246004\n",
            "[373]\tvalid_0's mape: 0.245652\n",
            "[374]\tvalid_0's mape: 0.245763\n",
            "[375]\tvalid_0's mape: 0.245357\n",
            "[376]\tvalid_0's mape: 0.245422\n",
            "[377]\tvalid_0's mape: 0.245342\n",
            "[378]\tvalid_0's mape: 0.245446\n",
            "[379]\tvalid_0's mape: 0.245307\n",
            "[380]\tvalid_0's mape: 0.245689\n",
            "[381]\tvalid_0's mape: 0.245295\n",
            "[382]\tvalid_0's mape: 0.245093\n",
            "[383]\tvalid_0's mape: 0.245078\n",
            "[384]\tvalid_0's mape: 0.24512\n",
            "[385]\tvalid_0's mape: 0.245307\n",
            "[386]\tvalid_0's mape: 0.245083\n",
            "[387]\tvalid_0's mape: 0.244934\n",
            "[388]\tvalid_0's mape: 0.244905\n",
            "[389]\tvalid_0's mape: 0.244731\n",
            "[390]\tvalid_0's mape: 0.244459\n",
            "[391]\tvalid_0's mape: 0.244384\n",
            "[392]\tvalid_0's mape: 0.244563\n",
            "[393]\tvalid_0's mape: 0.244328\n",
            "[394]\tvalid_0's mape: 0.244226\n",
            "[395]\tvalid_0's mape: 0.244439\n",
            "[396]\tvalid_0's mape: 0.244591\n",
            "[397]\tvalid_0's mape: 0.244966\n",
            "[398]\tvalid_0's mape: 0.244983\n",
            "[399]\tvalid_0's mape: 0.245266\n",
            "[400]\tvalid_0's mape: 0.245403\n",
            "[401]\tvalid_0's mape: 0.245677\n",
            "[402]\tvalid_0's mape: 0.246123\n",
            "[403]\tvalid_0's mape: 0.246\n",
            "[404]\tvalid_0's mape: 0.246141\n",
            "[405]\tvalid_0's mape: 0.246123\n",
            "[406]\tvalid_0's mape: 0.246143\n",
            "[407]\tvalid_0's mape: 0.246424\n",
            "[408]\tvalid_0's mape: 0.246695\n",
            "[409]\tvalid_0's mape: 0.246816\n",
            "[410]\tvalid_0's mape: 0.247109\n",
            "[411]\tvalid_0's mape: 0.247448\n",
            "[412]\tvalid_0's mape: 0.247667\n",
            "[413]\tvalid_0's mape: 0.24744\n",
            "[414]\tvalid_0's mape: 0.247567\n",
            "[415]\tvalid_0's mape: 0.247438\n",
            "[416]\tvalid_0's mape: 0.247517\n",
            "[417]\tvalid_0's mape: 0.247217\n",
            "[418]\tvalid_0's mape: 0.247076\n",
            "[419]\tvalid_0's mape: 0.246977\n",
            "[420]\tvalid_0's mape: 0.246919\n",
            "[421]\tvalid_0's mape: 0.246727\n",
            "[422]\tvalid_0's mape: 0.247058\n",
            "[423]\tvalid_0's mape: 0.247123\n",
            "[424]\tvalid_0's mape: 0.247562\n",
            "[425]\tvalid_0's mape: 0.247287\n",
            "[426]\tvalid_0's mape: 0.247319\n",
            "[427]\tvalid_0's mape: 0.247471\n",
            "[428]\tvalid_0's mape: 0.247505\n",
            "[429]\tvalid_0's mape: 0.248028\n",
            "[430]\tvalid_0's mape: 0.248087\n",
            "[431]\tvalid_0's mape: 0.247853\n",
            "[432]\tvalid_0's mape: 0.24796\n",
            "[433]\tvalid_0's mape: 0.248061\n",
            "[434]\tvalid_0's mape: 0.247984\n",
            "[435]\tvalid_0's mape: 0.247995\n",
            "[436]\tvalid_0's mape: 0.248457\n",
            "[437]\tvalid_0's mape: 0.248587\n",
            "[438]\tvalid_0's mape: 0.2485\n",
            "[439]\tvalid_0's mape: 0.248506\n",
            "[440]\tvalid_0's mape: 0.248681\n",
            "[441]\tvalid_0's mape: 0.248483\n",
            "[442]\tvalid_0's mape: 0.248187\n",
            "[443]\tvalid_0's mape: 0.247698\n",
            "[444]\tvalid_0's mape: 0.247634\n",
            "[445]\tvalid_0's mape: 0.247241\n",
            "[446]\tvalid_0's mape: 0.247021\n",
            "[447]\tvalid_0's mape: 0.246786\n",
            "[448]\tvalid_0's mape: 0.247038\n",
            "[449]\tvalid_0's mape: 0.247099\n",
            "[450]\tvalid_0's mape: 0.246828\n",
            "[451]\tvalid_0's mape: 0.246332\n",
            "[452]\tvalid_0's mape: 0.246115\n",
            "[453]\tvalid_0's mape: 0.246158\n",
            "[454]\tvalid_0's mape: 0.246036\n",
            "[455]\tvalid_0's mape: 0.246021\n",
            "[456]\tvalid_0's mape: 0.245864\n",
            "[457]\tvalid_0's mape: 0.245683\n",
            "[458]\tvalid_0's mape: 0.245348\n",
            "[459]\tvalid_0's mape: 0.245315\n",
            "[460]\tvalid_0's mape: 0.245358\n",
            "[461]\tvalid_0's mape: 0.245256\n",
            "[462]\tvalid_0's mape: 0.245434\n",
            "[463]\tvalid_0's mape: 0.245541\n",
            "[464]\tvalid_0's mape: 0.245617\n",
            "[465]\tvalid_0's mape: 0.245549\n",
            "[466]\tvalid_0's mape: 0.245715\n",
            "[467]\tvalid_0's mape: 0.245685\n",
            "[468]\tvalid_0's mape: 0.245647\n",
            "[469]\tvalid_0's mape: 0.245708\n",
            "[470]\tvalid_0's mape: 0.245449\n",
            "[471]\tvalid_0's mape: 0.245431\n",
            "[472]\tvalid_0's mape: 0.245177\n",
            "[473]\tvalid_0's mape: 0.245508\n",
            "[474]\tvalid_0's mape: 0.245506\n",
            "[475]\tvalid_0's mape: 0.245691\n",
            "[476]\tvalid_0's mape: 0.245873\n",
            "[477]\tvalid_0's mape: 0.246154\n",
            "[478]\tvalid_0's mape: 0.246394\n",
            "[479]\tvalid_0's mape: 0.246254\n",
            "[480]\tvalid_0's mape: 0.246529\n",
            "[481]\tvalid_0's mape: 0.246553\n",
            "[482]\tvalid_0's mape: 0.246815\n",
            "[483]\tvalid_0's mape: 0.2468\n",
            "[484]\tvalid_0's mape: 0.246802\n",
            "[485]\tvalid_0's mape: 0.247015\n",
            "[486]\tvalid_0's mape: 0.246906\n",
            "[487]\tvalid_0's mape: 0.247036\n",
            "[488]\tvalid_0's mape: 0.246887\n",
            "[489]\tvalid_0's mape: 0.246559\n",
            "[490]\tvalid_0's mape: 0.246552\n",
            "[491]\tvalid_0's mape: 0.24661\n",
            "[492]\tvalid_0's mape: 0.247039\n",
            "[493]\tvalid_0's mape: 0.246865\n",
            "[494]\tvalid_0's mape: 0.246956\n",
            "[495]\tvalid_0's mape: 0.24696\n",
            "[496]\tvalid_0's mape: 0.246976\n",
            "[497]\tvalid_0's mape: 0.247254\n",
            "[498]\tvalid_0's mape: 0.247189\n",
            "[499]\tvalid_0's mape: 0.247197\n",
            "[500]\tvalid_0's mape: 0.247141\n",
            "[501]\tvalid_0's mape: 0.247147\n",
            "[502]\tvalid_0's mape: 0.246972\n",
            "[503]\tvalid_0's mape: 0.246996\n",
            "[504]\tvalid_0's mape: 0.246934\n",
            "[505]\tvalid_0's mape: 0.246939\n",
            "Early stopping, best iteration is:\n",
            "[305]\tvalid_0's mape: 0.240324\n"
          ],
          "name": "stdout"
        },
        {
          "output_type": "display_data",
          "data": {
            "image/png": "[encoded data removed]",
            "text/plain": [
              "<Figure size 432x720 with 1 Axes>"
            ]
          },
          "metadata": {
            "tags": [],
            "needs_background": "light"
          }
        }
      ]
    },
    {
      "cell_type": "code",
      "metadata": {
        "id": "8WyS1_tKagOB",
        "outputId": "edaf58c7-62e8-4502-eaea-5b5698daefb0",
        "colab": {
          "base_uri": "https://localhost:8080/"
        }
      },
      "source": [
        "y_pred = model_gb.predict(X_test)\n",
        "mape = np.mean(tf.keras.losses.MAPE(y_test, y_pred))\n",
        "print(mape)"
      ],
      "execution_count": 365,
      "outputs": [
        {
          "output_type": "stream",
          "text": [
            "21.288136403558518\n"
          ],
          "name": "stdout"
        }
      ]
    }
  ]
}