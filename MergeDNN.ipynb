{
  "nbformat": 4,
  "nbformat_minor": 0,
  "metadata": {
    "colab": {
      "name": "Untitled0.ipynb",
      "provenance": [],
      "collapsed_sections": [],
      "authorship_tag": "ABX9TyMP/dQJJbIBht/nQ9i/T5fb",
      "include_colab_link": true
    },
    "kernelspec": {
      "name": "python3",
      "display_name": "Python 3"
    }
  },
  "cells": [
    {
      "cell_type": "markdown",
      "metadata": {
        "id": "view-in-github",
        "colab_type": "text"
      },
      "source": [
        "<a href=\"https://colab.research.google.com/github/rboghe/cened/blob/master/MergeDNN.ipynb\" target=\"_parent\"><img src=\"https://colab.research.google.com/assets/colab-badge.svg\" alt=\"Open In Colab\"/></a>"
      ]
    },
    {
      "cell_type": "markdown",
      "metadata": {
        "id": "NpYzrRpEl-rq",
        "colab_type": "text"
      },
      "source": [
        "**TO-DO: filter before merging**"
      ]
    },
    {
      "cell_type": "markdown",
      "metadata": {
        "id": "rTgtbdUu612B",
        "colab_type": "text"
      },
      "source": [
        "##Loading Files"
      ]
    },
    {
      "cell_type": "code",
      "metadata": {
        "id": "bFTamnUO12MU",
        "colab_type": "code",
        "colab": {}
      },
      "source": [
        "import os\n",
        "import urllib.request\n",
        "import pandas as pd\n",
        "import numpy as np\n",
        "import random\n",
        "import tensorflow as tf\n",
        "from tensorflow.keras import backend as K\n",
        "import matplotlib.pyplot as plt\n",
        "from sklearn.metrics import r2_score\n",
        "\n",
        "# Silence panda's setting with copy warning\n",
        "pd.options.mode.chained_assignment = None"
      ],
      "execution_count": 0,
      "outputs": []
    },
    {
      "cell_type": "code",
      "metadata": {
        "id": "nBJZFlqV15MW",
        "colab_type": "code",
        "colab": {}
      },
      "source": [
        "url = 'https://www.dati.lombardia.it/api/views/bbky-sde5/rows.csv?accessType=DOWNLOAD'\n",
        "\n",
        "if os.path.isdir('/tmp'):\n",
        "    if os.path.isfile('/tmp/cened20.csv'):\n",
        "      pass\n",
        "    else:\n",
        "      urllib.request.urlretrieve(url, '/tmp/cened20.csv')\n",
        "else:\n",
        "  os.mkdir('/tmp')\n",
        "  urllib.request.urlretrieve(url, '/tmp/cened20.csv')"
      ],
      "execution_count": 0,
      "outputs": []
    },
    {
      "cell_type": "code",
      "metadata": {
        "id": "FAw5P6g217ld",
        "colab_type": "code",
        "colab": {}
      },
      "source": [
        "url = 'https://www.dati.lombardia.it/api/views/rsg3-xhvk/rows.csv?accessType=DOWNLOAD'\n",
        "\n",
        "\n",
        "if os.path.isfile('/tmp/cened12.csv'):\n",
        "  pass\n",
        "else:\n",
        "  urllib.request.urlretrieve(url, '/tmp/cened12.csv')\n"
      ],
      "execution_count": 0,
      "outputs": []
    },
    {
      "cell_type": "code",
      "metadata": {
        "id": "yxFzc7202X5U",
        "colab_type": "code",
        "colab": {}
      },
      "source": [
        "url = 'https://raw.githubusercontent.com/rboghe/cened/master/degreedays.txt'\n",
        "\n",
        "urllib.request.urlretrieve(url, '/tmp/ddh.csv')\n",
        "\n",
        "ddh = pd.read_csv('/tmp/ddh.csv', usecols = ['comune','dd'])"
      ],
      "execution_count": 0,
      "outputs": []
    },
    {
      "cell_type": "code",
      "metadata": {
        "id": "fiRt0wIy2ciM",
        "colab_type": "code",
        "colab": {
          "base_uri": "https://localhost:8080/",
          "height": 51
        },
        "outputId": "3abc7c4b-b421-40cf-db8c-6dec5b8ab1b2"
      },
      "source": [
        "cols20 = ['COMUNE','FOGLIO', 'PARTICELLA','SUPERFICIE_DISPERDENTE', 'EP_H_ND',\n",
        "        'RIQUALIFICAZIONE_ENERGETICA','RISTRUTTURAZIONE_IMPORTANTE', \n",
        "        'INTERO_EDIFICIO','SUPERF_UTILE_RISCALDATA','EP_GL_NREN','EP_GL_REN']\n",
        "\n",
        "cols12 = ['COMUNE','FOGLIO', 'PARTICELLA','SUPERFICIE_DISPERDENTE',\n",
        "          'TRASMITTANZA_MEDIA_COPERTURA','TRASMITTANZA_MEDIA_INVOLUCRO',\n",
        "          'TRASMITTANZA_MEDIA_BASAMENTO','TRASMITTANZA_MEDIA_SERRAMENTO',\n",
        "          'SUPERFICIE_LORDA', 'VOLUME_LORDO', 'DESTINAZIONE_DI_USO',\n",
        "          'ANNO_COSTRUZIONE','SUPERFICIE_VETRATA_OPACA', 'VOLUME_NETTO',\n",
        "          'SUPERFICIE_NETTA', 'EPH']\n",
        "  \n",
        "cened20 = pd.read_csv('/tmp/cened20.csv', usecols = cols20)\n",
        "cened12 = pd.read_csv('/tmp/cened12.csv', usecols = cols12)"
      ],
      "execution_count": 701,
      "outputs": [
        {
          "output_type": "stream",
          "text": [
            "/usr/local/lib/python3.6/dist-packages/IPython/core/interactiveshell.py:2718: DtypeWarning: Columns (6,7) have mixed types.Specify dtype option on import or set low_memory=False.\n",
            "  interactivity=interactivity, compiler=compiler, result=result)\n"
          ],
          "name": "stderr"
        }
      ]
    },
    {
      "cell_type": "markdown",
      "metadata": {
        "id": "LrDzUNcW678_",
        "colab_type": "text"
      },
      "source": [
        "## Pre-filtering"
      ]
    },
    {
      "cell_type": "code",
      "metadata": {
        "id": "LERkjzsP3s3N",
        "colab_type": "code",
        "colab": {}
      },
      "source": [
        "cened20['EP_GL_NREN'].fillna(0, inplace=True)\n",
        "cened20['EP_GL_REN'].fillna(0, inplace=True)\n",
        "\n",
        "# Drop NaN \n",
        "cened20 = cened20.dropna()\n",
        "cened12 = cened12.dropna() "
      ],
      "execution_count": 0,
      "outputs": []
    },
    {
      "cell_type": "code",
      "metadata": {
        "id": "ML1vCA8xGOm2",
        "colab_type": "code",
        "colab": {}
      },
      "source": [
        "# Only entire buildings\n",
        "cened20 = cened20[cened20['INTERO_EDIFICIO'] == True]"
      ],
      "execution_count": 0,
      "outputs": []
    },
    {
      "cell_type": "code",
      "metadata": {
        "id": "AOq-QxRlPRjA",
        "colab_type": "code",
        "colab": {}
      },
      "source": [
        "# Drop renovations\n",
        "cened20 = cened20[cened20['RISTRUTTURAZIONE_IMPORTANTE'] == False]\n",
        "cened20 = cened20[cened20['RIQUALIFICAZIONE_ENERGETICA'] == False]"
      ],
      "execution_count": 0,
      "outputs": []
    },
    {
      "cell_type": "markdown",
      "metadata": {
        "id": "7V08nFsW7BmJ",
        "colab_type": "text"
      },
      "source": [
        "## Merge"
      ]
    },
    {
      "cell_type": "code",
      "metadata": {
        "id": "dQYBddpD5yEK",
        "colab_type": "code",
        "colab": {}
      },
      "source": [
        "# Merge dfs\n",
        "cenedtot = pd.merge(left=cened20, right=cened12, left_on=['COMUNE','FOGLIO', 'PARTICELLA'], \n",
        "                    right_on=['COMUNE','FOGLIO', 'PARTICELLA'],  how='inner') # , 'SUBALTERNO' | , 'SUBALTERNO'"
      ],
      "execution_count": 0,
      "outputs": []
    },
    {
      "cell_type": "code",
      "metadata": {
        "id": "e7VDGgXB6heV",
        "colab_type": "code",
        "colab": {}
      },
      "source": [
        "# Compute difference between ext surfaces\n",
        "cenedtot['surfdiff'] = abs((cenedtot['SUPERF_UTILE_RISCALDATA'] - cenedtot['SUPERFICIE_NETTA'])/cenedtot['SUPERF_UTILE_RISCALDATA'])\n",
        "\n",
        "# Drop rows with high difference\n",
        "cenedtot = cenedtot[cenedtot['surfdiff'] < 0.2]\n",
        "\n",
        "# Compute difference between ext surfaces\n",
        "#cenedtot['surfdiff'] = abs((cenedtot['SUPERFICIE_DISPERDENTE_y'] - cenedtot['SUPERFICIE_DISPERDENTE_x'])/cenedtot['SUPERFICIE_DISPERDENTE_y'])\n",
        "\n",
        "# Drop rows with high difference\n",
        "#cenedtot = cenedtot[cenedtot['surfdiff'] < 0.05]\n",
        "\n"
      ],
      "execution_count": 0,
      "outputs": []
    },
    {
      "cell_type": "code",
      "metadata": {
        "id": "p18EC-SUazhQ",
        "colab_type": "code",
        "colab": {}
      },
      "source": [
        "# Compute difference between ext surfaces\n",
        "cenedtot['ephdiff'] = abs((cenedtot['EPH'] - cenedtot['EP_H_ND'])/cenedtot['EPH'])\n",
        "\n",
        "# Drop rows with high difference\n",
        "cenedtot = cenedtot[cenedtot['ephdiff'] < 0.3]"
      ],
      "execution_count": 0,
      "outputs": []
    },
    {
      "cell_type": "code",
      "metadata": {
        "id": "Pur65Xv1OYqf",
        "colab_type": "code",
        "colab": {}
      },
      "source": [
        "cenedtot = cenedtot.dropna() "
      ],
      "execution_count": 0,
      "outputs": []
    },
    {
      "cell_type": "markdown",
      "metadata": {
        "id": "5XoQZ2wFAnJM",
        "colab_type": "text"
      },
      "source": [
        "##Feature Creation"
      ]
    },
    {
      "cell_type": "code",
      "metadata": {
        "id": "ypVKCrOKApsL",
        "colab_type": "code",
        "colab": {}
      },
      "source": [
        "# Add ddh\n",
        "cenedtot['COMUNE'] = cenedtot['COMUNE'].str.lower()\n",
        "ddh['comune'] = ddh['comune'].str.lower()\n",
        "cenedtot['COMUNE'] = cenedtot['COMUNE'].str.replace(r\"o`\",  \"o'\")\n",
        "cenedtot['COMUNE'] = cenedtot['COMUNE'].str.replace(r\"baranzate\",  \"bollate\")\n",
        "cenedtot['COMUNE'] = cenedtot['COMUNE'].str.replace(r\"bovisio masciago\",  \"bovisio-masciago\")\n",
        "cenedtot['COMUNE'] = cenedtot['COMUNE'].str.replace(r\"cornate d`adda\",  \"cornate d'adda\")\n",
        "cenedtot['COMUNE'] = cenedtot['COMUNE'].str.replace(r\"cortenuova\",  \"cortenova\")\n",
        "cenedtot['COMUNE'] = cenedtot['COMUNE'].str.replace(r\"sant'omobono terme\",  \"sant'omobono imagna\")\n",
        "ddh['comune'] = ddh['comune'].str.replace(r\"è\",  \"e'\")\n",
        "ddh['comune'] = ddh['comune'].str.replace(r\"è\",  \"e'\")\n",
        "ddh['comune'] = ddh['comune'].str.replace(r\"é\",  \"e'\")\n",
        "ddh['comune'] = ddh['comune'].str.replace(r\"ò\",  \"o'\")\n",
        "ddh['comune'] = ddh['comune'].str.replace(r\"ù\",  \"u'\")\n",
        "\n",
        "cenedtot = cenedtot.merge(ddh, left_on='COMUNE', right_on='comune', how='left')"
      ],
      "execution_count": 0,
      "outputs": []
    },
    {
      "cell_type": "code",
      "metadata": {
        "id": "VUNzRqxmCql2",
        "colab_type": "code",
        "colab": {}
      },
      "source": [
        "cenedtot.ANNO_COSTRUZIONE = cenedtot.ANNO_COSTRUZIONE.astype(str)\n",
        "cenedtot.ANNO_COSTRUZIONE = cenedtot.ANNO_COSTRUZIONE.map(lambda x:x[-4:])\n",
        "cenedtot.ANNO_COSTRUZIONE = cenedtot.ANNO_COSTRUZIONE.astype(int)\n",
        "\n",
        "cenedtot['PERIODO'] = pd.cut(cenedtot.ANNO_COSTRUZIONE, bins=[0,1930,1945,1960,1976,1992,2006,3000],\n",
        "     labels=['Before 1930','1930-1945','1946-1960','1961-1976', '1977-1992', '1993-2006','After 2006']).cat.codes"
      ],
      "execution_count": 0,
      "outputs": []
    },
    {
      "cell_type": "code",
      "metadata": {
        "id": "6OfhIaz6Dbe_",
        "colab_type": "code",
        "colab": {}
      },
      "source": [
        "# Opaque surface\n",
        "cenedtot['SUP_OPACA'] = cenedtot['SUPERFICIE_DISPERDENTE_y']/(1+cenedtot['SUPERFICIE_VETRATA_OPACA'])\n",
        "\n",
        "# Opaque surface\n",
        "cenedtot['SUP_FINESTRATA'] = cenedtot['SUPERFICIE_DISPERDENTE_y'] - cenedtot['SUP_OPACA']"
      ],
      "execution_count": 0,
      "outputs": []
    },
    {
      "cell_type": "code",
      "metadata": {
        "id": "9hWzT2YyEEDj",
        "colab_type": "code",
        "colab": {}
      },
      "source": [
        "cenedtot['ALTEZZA_MEDIA'] = cenedtot['VOLUME_NETTO']/cenedtot['SUPERFICIE_NETTA']"
      ],
      "execution_count": 0,
      "outputs": []
    },
    {
      "cell_type": "code",
      "metadata": {
        "id": "tlDJYgk9Eaqc",
        "colab_type": "code",
        "colab": {}
      },
      "source": [
        "cenedtot['TRASMITTANZA_MEDIA'] = (cenedtot['TRASMITTANZA_MEDIA_SERRAMENTO'] + cenedtot['TRASMITTANZA_MEDIA_COPERTURA'] +\n",
        "         cenedtot['TRASMITTANZA_MEDIA_BASAMENTO'] + cenedtot['TRASMITTANZA_MEDIA_INVOLUCRO'])/4"
      ],
      "execution_count": 0,
      "outputs": []
    },
    {
      "cell_type": "code",
      "metadata": {
        "id": "SY89pmJMSXHd",
        "colab_type": "code",
        "colab": {}
      },
      "source": [
        "cenedtot['EP_GL_TOT'] = cenedtot['EP_GL_REN'] + cenedtot['EP_GL_NREN']"
      ],
      "execution_count": 0,
      "outputs": []
    },
    {
      "cell_type": "markdown",
      "metadata": {
        "id": "4oJoiQie-SGo",
        "colab_type": "text"
      },
      "source": [
        "##Filters"
      ]
    },
    {
      "cell_type": "code",
      "metadata": {
        "id": "nuOs5Fvv7FXS",
        "colab_type": "code",
        "colab": {}
      },
      "source": [
        "for col in ['TRASMITTANZA_MEDIA_COPERTURA','TRASMITTANZA_MEDIA_INVOLUCRO',\n",
        "          'TRASMITTANZA_MEDIA_BASAMENTO','TRASMITTANZA_MEDIA_SERRAMENTO']:\n",
        "          cenedtot = cenedtot[cenedtot[col].between(0,6, inclusive=False)]"
      ],
      "execution_count": 0,
      "outputs": []
    },
    {
      "cell_type": "code",
      "metadata": {
        "id": "oo4Y_4pJUPAI",
        "colab_type": "code",
        "colab": {}
      },
      "source": [
        "# Drop buildings with wrong An\n",
        "cenedtot = cenedtot[cenedtot['SUPERFICIE_NETTA'] > 50]\n",
        "\n",
        "# Drop buildings with wrong Vn\n",
        "cenedtot = cenedtot[cenedtot['VOLUME_NETTO'] > 150]"
      ],
      "execution_count": 0,
      "outputs": []
    },
    {
      "cell_type": "code",
      "metadata": {
        "id": "xX6NlYdF-LvI",
        "colab_type": "code",
        "colab": {}
      },
      "source": [
        "cenedtot = cenedtot[cenedtot['DESTINAZIONE_DI_USO'] == 'E.1(1)']"
      ],
      "execution_count": 0,
      "outputs": []
    },
    {
      "cell_type": "code",
      "metadata": {
        "id": "1li1oBiSEWQt",
        "colab_type": "code",
        "colab": {}
      },
      "source": [
        "cenedtot = cenedtot[cenedtot['TRASMITTANZA_MEDIA'] > 0.15]\n",
        "cenedtot = cenedtot[cenedtot['TRASMITTANZA_MEDIA'] < 4]"
      ],
      "execution_count": 0,
      "outputs": []
    },
    {
      "cell_type": "code",
      "metadata": {
        "id": "HnKYF5WOEiPA",
        "colab_type": "code",
        "colab": {}
      },
      "source": [
        "cenedtot = cenedtot[cenedtot['ALTEZZA_MEDIA'] > 2.4]\n",
        "cenedtot = cenedtot[cenedtot['ALTEZZA_MEDIA'] < 6]"
      ],
      "execution_count": 0,
      "outputs": []
    },
    {
      "cell_type": "code",
      "metadata": {
        "id": "2hDXj9dVIJsf",
        "colab_type": "code",
        "colab": {}
      },
      "source": [
        "# Drop buildings with wrong EPH\n",
        "# cenedtot = cenedtot[cenedtot['EP_H_ND'] > 120]\n",
        "cenedtot = cenedtot[cenedtot['EP_H_ND'] < 1000]"
      ],
      "execution_count": 0,
      "outputs": []
    },
    {
      "cell_type": "code",
      "metadata": {
        "id": "gUhc_Fkd-6gQ",
        "colab_type": "code",
        "colab": {
          "base_uri": "https://localhost:8080/",
          "height": 34
        },
        "outputId": "5730d2d9-59b3-476a-cc75-74f4836ae475"
      },
      "source": [
        "len(cenedtot)"
      ],
      "execution_count": 721,
      "outputs": [
        {
          "output_type": "execute_result",
          "data": {
            "text/plain": [
              "957"
            ]
          },
          "metadata": {
            "tags": []
          },
          "execution_count": 721
        }
      ]
    },
    {
      "cell_type": "markdown",
      "metadata": {
        "id": "dkAliS_s_Wdx",
        "colab_type": "text"
      },
      "source": [
        "##ML"
      ]
    },
    {
      "cell_type": "code",
      "metadata": {
        "id": "JvcwQnAM_V0d",
        "colab_type": "code",
        "colab": {}
      },
      "source": [
        "def mean_absolute_percentage_error(y_true, y_pred): \n",
        "    return np.mean(np.abs((y_true - y_pred) / y_true)) * 100"
      ],
      "execution_count": 0,
      "outputs": []
    },
    {
      "cell_type": "code",
      "metadata": {
        "id": "4LDj3OO2VE8P",
        "colab_type": "code",
        "colab": {}
      },
      "source": [
        "def r2(y_true, y_pred):\n",
        "    SS_res =  K.sum(K.square( y_true-y_pred ))\n",
        "    SS_tot = K.sum(K.square( y_true - K.mean(y_true) ) )\n",
        "    return ( 1 - SS_res/(SS_tot + K.epsilon()) )"
      ],
      "execution_count": 0,
      "outputs": []
    },
    {
      "cell_type": "code",
      "metadata": {
        "id": "D_3lnhTFVIXP",
        "colab_type": "code",
        "colab": {}
      },
      "source": [
        "def split_db(X, y, split = [.8,.1], seed = 0):\n",
        "    s = [x for x in range(len(y))]\n",
        "    random.Random(seed).shuffle(s)\n",
        "    X = X[s]\n",
        "    y = y[s]\n",
        "    split1 = int(len(X)*split[0])\n",
        "    split2 = split1 + int(len(X)*split[1])\n",
        "    X_train = X[:split1]\n",
        "    y_train = y[:split1]\n",
        "    X_val = X[split1:split2]\n",
        "    y_val = y[split1:split2]\n",
        "    X_test = X[split2:]\n",
        "    y_test = y[split2:]\n",
        "    return X_train, X_val, X_test, y_train, y_val, y_test"
      ],
      "execution_count": 0,
      "outputs": []
    },
    {
      "cell_type": "code",
      "metadata": {
        "id": "oPaQVfXDVQ3m",
        "colab_type": "code",
        "colab": {}
      },
      "source": [
        "mlcol = ['SUPERFICIE_DISPERDENTE_y', 'SUPERFICIE_NETTA', 'VOLUME_NETTO',\n",
        "          'TRASMITTANZA_MEDIA_COPERTURA','TRASMITTANZA_MEDIA_INVOLUCRO',\n",
        "          'TRASMITTANZA_MEDIA_BASAMENTO','TRASMITTANZA_MEDIA_SERRAMENTO',\n",
        "          'SUPERFICIE_LORDA', 'VOLUME_LORDO','dd','PERIODO','SUP_OPACA',\n",
        "        'SUP_FINESTRATA']\n",
        "\n",
        "X = cenedtot[mlcol]"
      ],
      "execution_count": 0,
      "outputs": []
    },
    {
      "cell_type": "code",
      "metadata": {
        "id": "j_dRg2KMVKcJ",
        "colab_type": "code",
        "colab": {}
      },
      "source": [
        "from sklearn.preprocessing import MinMaxScaler\n",
        "min_max_scaler = MinMaxScaler()\n",
        "X = min_max_scaler.fit_transform(X)"
      ],
      "execution_count": 0,
      "outputs": []
    },
    {
      "cell_type": "code",
      "metadata": {
        "id": "-OJQdQ71VWRj",
        "colab_type": "code",
        "colab": {}
      },
      "source": [
        "y = cenedtot.EP_H_ND.values #EP_H_ND!!\n",
        "X_train, X_val, X_test, y_train, y_val, y_test = split_db(X, y, split = [.8,.1], seed = 42)"
      ],
      "execution_count": 0,
      "outputs": []
    },
    {
      "cell_type": "code",
      "metadata": {
        "id": "gUrQPwS2VdS1",
        "colab_type": "code",
        "colab": {}
      },
      "source": [
        "K.clear_session()"
      ],
      "execution_count": 0,
      "outputs": []
    },
    {
      "cell_type": "code",
      "metadata": {
        "id": "wof0i_pOVev_",
        "colab_type": "code",
        "colab": {}
      },
      "source": [
        "from keras.constraints import max_norm\n",
        "\n",
        "# Create NN\n",
        "model = tf.keras.models.Sequential([\n",
        "        tf.keras.layers.Dense(X.shape[1], activation='relu'),\n",
        "        #tf.keras.layers.Dropout(0.4),\n",
        "        tf.keras.layers.Dense(32, activation='relu', kernel_constraint=max_norm(3), bias_constraint=max_norm(3)), #, kernel_constraint=max_norm(3), bias_constraint=max_norm(3)\n",
        "        tf.keras.layers.Dense(1, activation='linear')\n",
        "        ])\n",
        "\n",
        "\n",
        "model.compile(optimizer = tf.keras.optimizers.Adam(learning_rate= 0.001), loss = 'mape', metrics=[r2, 'mape', 'mse'])\n",
        "\n",
        "history = model.fit(X_train, y_train, validation_data=(X_val, y_val), epochs = 9000, batch_size = 256, verbose=0) #,use_multiprocessing = True"
      ],
      "execution_count": 0,
      "outputs": []
    },
    {
      "cell_type": "code",
      "metadata": {
        "id": "601Y-aLZVkW2",
        "colab_type": "code",
        "colab": {
          "base_uri": "https://localhost:8080/",
          "height": 573
        },
        "outputId": "176cb3cc-5e6a-4346-8647-da51d7465160"
      },
      "source": [
        "# Plot training & validation accuracy values\n",
        "plt.plot(history.history['r2'][20:])\n",
        "plt.plot(history.history['val_r2'][20:])\n",
        "plt.title('Model r2')\n",
        "plt.ylabel('R2')\n",
        "plt.xlabel('Epoch')\n",
        "plt.legend(['Train', 'Val'], loc='upper left')\n",
        "plt.show()\n",
        "\n",
        "# Plot training & validation loss values\n",
        "plt.plot(history.history['loss'][20:])\n",
        "plt.plot(history.history['val_loss'][20:])\n",
        "plt.title('Model loss')\n",
        "plt.ylabel('Loss')\n",
        "plt.xlabel('Epoch')\n",
        "plt.legend(['Train', 'Val'], loc='upper left')\n",
        "plt.show()"
      ],
      "execution_count": 730,
      "outputs": [
        {
          "output_type": "display_data",
          "data": {
            "image/png": "[encoded data removed]",
            "text/plain": [
              "<Figure size 432x288 with 1 Axes>"
            ]
          },
          "metadata": {
            "tags": [],
            "needs_background": "light"
          }
        },
        {
          "output_type": "display_data",
          "data": {
            "image/png": "[encoded data removed]",
            "text/plain": [
              "<Figure size 432x288 with 1 Axes>"
            ]
          },
          "metadata": {
            "tags": [],
            "needs_background": "light"
          }
        }
      ]
    },
    {
      "cell_type": "code",
      "metadata": {
        "id": "BtXAoxMWXsp4",
        "colab_type": "code",
        "colab": {
          "base_uri": "https://localhost:8080/",
          "height": 573
        },
        "outputId": "4eb8aa70-7de5-46cf-b6a1-357d77e0fa9e"
      },
      "source": [
        "# Plot training & validation accuracy values\n",
        "plt.plot(history.history['r2'][200:])\n",
        "plt.plot(history.history['val_r2'][200:])\n",
        "plt.title('Model r2')\n",
        "plt.ylabel('R2')\n",
        "plt.xlabel('Epoch')\n",
        "plt.legend(['Train', 'Val'], loc='upper left')\n",
        "plt.show()\n",
        "\n",
        "# Plot training & validation loss values\n",
        "plt.plot(history.history['loss'][200:])\n",
        "plt.plot(history.history['val_loss'][200:])\n",
        "plt.title('Model loss')\n",
        "plt.ylabel('Loss')\n",
        "plt.xlabel('Epoch')\n",
        "plt.legend(['Train', 'Val'], loc='upper left')\n",
        "plt.show()"
      ],
      "execution_count": 731,
      "outputs": [
        {
          "output_type": "display_data",
          "data": {
            "image/png": "[encoded data removed]",
            "text/plain": [
              "<Figure size 432x288 with 1 Axes>"
            ]
          },
          "metadata": {
            "tags": [],
            "needs_background": "light"
          }
        },
        {
          "output_type": "display_data",
          "data": {
            "image/png": "[encoded data removed]",
            "text/plain": [
              "<Figure size 432x288 with 1 Axes>"
            ]
          },
          "metadata": {
            "tags": [],
            "needs_background": "light"
          }
        }
      ]
    }
  ]
}