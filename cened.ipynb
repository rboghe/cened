{
  "nbformat": 4,
  "nbformat_minor": 0,
  "metadata": {
    "colab": {
      "name": "Untitled0.ipynb",
      "provenance": [],
      "collapsed_sections": [],
      "authorship_tag": "ABX9TyPKRSH4uU12AtoqKjYOu+kJ",
      "include_colab_link": true
    },
    "kernelspec": {
      "name": "python3",
      "display_name": "Python 3"
    }
  },
  "cells": [
    {
      "cell_type": "markdown",
      "metadata": {
        "id": "view-in-github",
        "colab_type": "text"
      },
      "source": [
        "<a href=\"https://colab.research.google.com/github/rboghe/cened/blob/master/cened.ipynb\" target=\"_parent\"><img src=\"https://colab.research.google.com/assets/colab-badge.svg\" alt=\"Open In Colab\"/></a>"
      ]
    },
    {
      "cell_type": "code",
      "metadata": {
        "id": "SZiK4HNAQF5X",
        "colab_type": "code",
        "colab": {}
      },
      "source": [
        "import pandas as pd"
      ],
      "execution_count": 0,
      "outputs": []
    },
    {
      "cell_type": "code",
      "metadata": {
        "id": "mbKNfaWKO8ls",
        "colab_type": "code",
        "colab": {}
      },
      "source": [
        "\n",
        "try:\n",
        "  shutil.rmtree('/tmp')\n",
        "except:\n",
        "  pass\n",
        "\n",
        "path_cened_ext = 'https://github.com/rboghe/cened/blob/master/cened_joined.csv?raw=true'\n",
        "\n",
        "cened = pd.read_csv(path_cened_ext)"
      ],
      "execution_count": 0,
      "outputs": []
    },
    {
      "cell_type": "code",
      "metadata": {
        "id": "393u_lMQwJvv",
        "colab_type": "code",
        "colab": {
          "base_uri": "https://localhost:8080/",
          "height": 1000
        },
        "outputId": "7811e9c4-3013-4c2c-aab3-7857de774b77"
      },
      "source": [
        "for col in cened.columns:\n",
        "  print(col)"
      ],
      "execution_count": 6,
      "outputs": [
        {
          "output_type": "stream",
          "text": [
            "Unnamed: 0\n",
            "COD_APE\n",
            "DATA_INS\n",
            "RESIDENZIALE\n",
            "NON_RESIDENZIALE\n",
            "COMUNE_CATASTALE\n",
            "SEZIONE_x\n",
            "FOGLIO\n",
            "PARTICELLA\n",
            "SUBALTERNO\n",
            "PROPRIETA_PUBBLICA\n",
            "USO_PUBBLICO\n",
            "CLASSIFICAZIONE_DPR\n",
            "INTERO_EDIFICIO\n",
            "UNITA_IMMOBILIARE\n",
            "GRUPPO_UNITA_IMMOBILIARI\n",
            "NUMERO_UNITA_IMMOBILIARI\n",
            "NUOVA_COSTRUZIONE\n",
            "PASSAGGIO_PROPRIETA\n",
            "LOCAZIONE\n",
            "RISTRUTTURAZIONE_IMPORTANTE\n",
            "RIQUALIFICAZIONE_ENERGETICA\n",
            "OGGETTO_ALTRO\n",
            "OGGETTO_ALTRO_TXT\n",
            "REGIONE\n",
            "COMUNE_x\n",
            "INDIRIZZO_x\n",
            "PIANO\n",
            "INTERNO\n",
            "WGS84_X\n",
            "WGS84_Y\n",
            "location\n",
            "ZONA_CLIMATICA\n",
            "ANNO_COSTRUZIONE_x\n",
            "SUPERF_UTILE_RISCALDATA\n",
            "SUPERF_UTILE_RAFFRESCATA\n",
            "VOLUME_LORDO_RISCALDATO\n",
            "VOLUME_LORDO_RAFFRESCATO\n",
            "CLIMATIZZAZIONE_INVERNALE\n",
            "CLIMATIZZAZIONE_ESTIVA\n",
            "VENTILAZIONE_MECCANICA\n",
            "PROD_ACQUA_CALDA_SANITARIA\n",
            "ILLUMINAZIONE\n",
            "TRASPORTO_PERSONE_COSE\n",
            "PI\n",
            "PE\n",
            "EDIFICIO_ENERGIA_QUASI_ZERO\n",
            "CLASSE_ENERGETICA_x\n",
            "EP_GL_NREN\n",
            "Y\n",
            "Z\n",
            "EP_GL_REN\n",
            "EMISSIONI_CO2\n",
            "CONSUMI_ENERGIA_ELETTRICA\n",
            "CONSUMI_GAS_NATURALE\n",
            "CONSUMI_GPL\n",
            "CONSUMI_CARBONE\n",
            "CONSUMI_GASOLIO\n",
            "CONSUMI_BIOMASSE_SOLIDE\n",
            "CONSUMI_BIOMASSE_LIQUIDE\n",
            "CONSUMI_BIOMASSE_GASSOSE\n",
            "CONSUMI_SOLARE_FOTOVOLTAICO\n",
            "CONSUMI_SOLARE_TERMICO\n",
            "CONSUMI_EOLICO\n",
            "CONSUMI_TELERISCALDAMENTO\n",
            "CONSUMI_TELERAFFRESCAMENTO\n",
            "CONSUMI_ALTRO\n",
            "RIQ_CLASSE_RAGG\n",
            "RIQ_EP_GL_NREN_RAGG\n",
            "DS_CODICE_INTERVENTO_1\n",
            "DS_TIPO_INTERVENTO_1\n",
            "FL_COMPORTA_RISTRUT_1\n",
            "NM_TEMPO_RITORNO_INVESTIM_1\n",
            "DS_CLASSE_RAGGIUNGIBILE_1\n",
            "NM_EP_GL_NREN_RAGGIUNG_1\n",
            "DS_CODICE_INTERVENTO_2\n",
            "DS_TIPO_INTERVENTO_2\n",
            "FL_COMPORTA_RISTRUT_2\n",
            "NM_TEMPO_RITORNO_INVESTIM_2\n",
            "DS_CLASSE_RAGGIUNGIBILE_2\n",
            "NM_EP_GL_NREN_RAGGIUNG_2\n",
            "DS_CODICE_INTERVENTO_3\n",
            "DS_TIPO_INTERVENTO_3\n",
            "FL_COMPORTA_RISTRUT_3\n",
            "NM_TEMPO_RITORNO_INVESTIM_3\n",
            "DS_CLASSE_RAGGIUNGIBILE_3\n",
            "NM_EP_GL_NREN_RAGGIUNG_3\n",
            "DS_CODICE_INTERVENTO_4\n",
            "DS_TIPO_INTERVENTO_4\n",
            "FL_COMPORTA_RISTRUT_4\n",
            "NM_TEMPO_RITORNO_INVESTIM_4\n",
            "DS_CLASSE_RAGGIUNGIBILE_4\n",
            "NM_EP_GL_NREN_RAGGIUNG_4\n",
            "DS_CODICE_INTERVENTO_5\n",
            "DS_TIPO_INTERVENTO_5\n",
            "FL_COMPORTA_RISTRUT_5\n",
            "NM_TEMPO_RITORNO_INVESTIM_5\n",
            "DS_CLASSE_RAGGIUNGIBILE_5\n",
            "NM_EP_GL_NREN_RAGGIUNG_5\n",
            "DS_CODICE_INTERVENTO_6\n",
            "DS_TIPO_INTERVENTO_6\n",
            "FL_COMPORTA_RISTRUT_6\n",
            "NM_TEMPO_RITORNO_INVESTIM_6\n",
            "DS_CLASSE_RAGGIUNGIBILE_6\n",
            "NM_EP_GL_NREN_RAGGIUNG_6\n",
            "DS_CODICE_INTERVENTO_7\n",
            "DS_TIPO_INTERVENTO_7\n",
            "FL_COMPORTA_RISTRUT_7\n",
            "NM_TEMPO_RITORNO_INVESTIM_7\n",
            "DS_CLASSE_RAGGIUNGIBILE_7\n",
            "NM_EP_GL_NREN_RAGGIUNG_7\n",
            "ENERGIA_ESPORTATA\n",
            "VETTORE_ENERGETICO\n",
            "SUPERFICIE_DISPERDENTE_x\n",
            "RAPPORTO_SV\n",
            "EP_H_ND\n",
            "A_SOL_EST_A_SUP_UTILE\n",
            "Y_IE\n",
            "CI_TIPO_IMPIANTO_1\n",
            "CI_ANNO_INSTALLAZIONE_1\n",
            "CI_CODICE_CATASTO_1\n",
            "CI_VETTORE_ENERGETICO_1\n",
            "CI_POTENZA_NOMINALE_1\n",
            "CI_TIPO_IMPIANTO_2\n",
            "CI_ANNO_INSTALLAZIONE_2\n",
            "CI_VETTORE_ENERGETICO_2\n",
            "CI_POTENZA_NOMINALE_2\n",
            "CI_EFFICIENZA_MEDIA\n",
            "CI_EPREN\n",
            "CI_EPNREN\n",
            "CE_TIPO_IMPIANTO_1\n",
            "CE_ANNO_INSTALLAZIONE_1\n",
            "CE_VETTORE_ENERGETICO_1\n",
            "CE_POTENZA_NOMINALE_1\n",
            "CE_TIPO_IMPIANTO_2\n",
            "CE_ANNO_INSTALLAZIONE_2\n",
            "CE_VETTORE_ENERGETICO_2\n",
            "CE_POTENZA_NOMINALE_2\n",
            "CE_EFFICIENZA_MEDIA\n",
            "CE_EPREN\n",
            "CE_EPNREN\n",
            "PA_TIPO_IMPIANTO\n",
            "PA_ANNO_INSTALLAZIONE\n",
            "PA_VETTORE_ENERGETICO\n",
            "PA_POTENZA_NOMINALE\n",
            "PA_EFFICIENZA_MEDIA\n",
            "PA_EPREN\n",
            "PA_EPNREN\n",
            "IC_TIPO_IMPIANTO\n",
            "IC_ANNO_INSTALLAZIONE\n",
            "IC_VETTORE_ENERGETICO\n",
            "IC_POTENZA_NOMINALE\n",
            "IC_EFFICIENZA_MEDIA\n",
            "IC_EPREN\n",
            "IC_EPNREN\n",
            "PFR_TIPO_IMPIANTO_1\n",
            "PFR_ANNO_INSTALLAZIONE_1\n",
            "PFR_VETTORE_ENERGETICO_1\n",
            "PFR_POTENZA_NOMINALE_1\n",
            "PFR_EFFICIENZA_MEDIA_1\n",
            "PFR_EPREN_1\n",
            "PFR_EPNREN_1\n",
            "PFR_TIPO_IMPIANTO_2\n",
            "PFR_ANNO_INSTALLAZIONE_2\n",
            "PFR_VETTORE_ENERGETICO_2\n",
            "PFR_POTENZA_NOMINALE_2\n",
            "PFR_EFFICIENZA_MEDIA_2\n",
            "PFR_EPREN_2\n",
            "PFR_EPNREN_2\n",
            "VM_TIPO_IMPIANTO\n",
            "VM_ANNO_INSTALLAZIONE\n",
            "VM_VETTORE_ENERGETICO\n",
            "VM_POTENZA_NOMINALE\n",
            "VM_EFFICIENZA_MEDIA\n",
            "VM_EPREN\n",
            "VM_EPNREN\n",
            "ILL_TIPO_IMPIANTO\n",
            "ILL_ANNO_INSTALLAZIONE\n",
            "ILL_VETTORE_ENERGETICO\n",
            "ILL_POTENZA_NOMINALE\n",
            "ILL_EFFICIENZA_MEDIA\n",
            "ILL_EPREN\n",
            "ILL_EPNREN\n",
            "TPC_TIPO_IMPIANTO_1\n",
            "TPC_ANNO_INSTALLAZIONE_1\n",
            "TPC_VETTORE_ENERGETICO_1\n",
            "TPC_POTENZA_NOMINALE_1\n",
            "TPC_EFFICIENZA_MEDIA_1\n",
            "TPC_EPREN_1\n",
            "TPC_EPNREN_1\n",
            "TPC_TIPO_IMPIANTO_2\n",
            "TPC_ANNO_INSTALLAZIONE_2\n",
            "TPC_VETTORE_ENERGETICO_2\n",
            "TPC_POTENZA_NOMINALE_2\n",
            "TPC_EFFICIENZA_MEDIA_2\n",
            "TPC_EPREN_2\n",
            "TPC_EPNREN_2\n",
            "SOPRALLUOGO\n",
            "SW_REQUISITI\n",
            "SW_SEMPLIFICATO\n",
            "Limiti amministrativi 2015 delle province di Regione Lombardia\n",
            "ENTE_PUBBLICO\n",
            "ATS Regione Lombardia\n",
            "Limiti amministrativi 2014 delle province di Regione Lombardia\n",
            "TECNICO_ABILITATO\n",
            "SOCIETA\n",
            "NOME_DENOMINAZIONE_CERT\n",
            "TITOLO_CERT\n",
            "ORDINE_CERT\n",
            "CODICE_IDENTIFICATIVO_PRATICA\n",
            "DATA_CHIUSURA_PRATICA\n",
            "INDIRIZZO_y\n",
            "PROVINCIA\n",
            "COMUNE_y\n",
            "SEZIONE_y\n",
            "NOME_CERTIFICATORE\n",
            "COGNOME_CERTIFICATORE\n",
            "EDIFICIO_PUBBLICO\n",
            "DESTINAZIONE_DI_USO\n",
            "ANNO_COSTRUZIONE_y\n",
            "MOTIVAZIONE_APE\n",
            "SUPERFICIE_LORDA\n",
            "SUPERFICIE_NETTA\n",
            "VOLUME_LORDO\n",
            "VOLUME_NETTO\n",
            "SUPERFICIE_DISPERDENTE_y\n",
            "SUPERFICIE_VETRATA_OPACA\n",
            "TRASMITTANZA_MEDIA_INVOLUCRO\n",
            "TRASMITTANZA_MEDIA_COPERTURA\n",
            "TRASMITTANZA_MEDIA_BASAMENTO\n",
            "TRASMITTANZA_MEDIA_SERRAMENTO\n",
            "CLASSE_ENERGETICA_y\n",
            "EPH\n",
            "ETH\n",
            "ETC\n",
            "EFER\n",
            "EMISSIONI_DI_CO2\n",
            "EPW\n",
            "EPT\n",
            "EF_GLOB_MEDIA_RISCALDAMENTO\n",
            "EF_GLOB_MEDIA_ACQUA_CALDA_SAN\n",
            "EGHW\n",
            "TIPOLOGIA_VENTILAZIONE\n",
            "NUMERO_RICAMBI_ORARI\n",
            "TIPOLOGIA_PANNELLO_ST\n",
            "TIPOLOGIA_PANNELLO_FV\n",
            "SUPERFICIE_CAPTANTE_FV\n",
            "SUPERFICIE_APERTURA_ST\n",
            "SUP_PAN_FV_SUP_UTILE\n",
            "SUP_PAN_ST_SUP_UTILE\n",
            "TIPOLOGIA_COMBUSTIBILE\n",
            "TIPOLOGIA_GENERATORE\n",
            "POTENZA_GENERATORE\n"
          ],
          "name": "stdout"
        }
      ]
    },
    {
      "cell_type": "code",
      "metadata": {
        "id": "pSBdFWo5x8F4",
        "colab_type": "code",
        "colab": {
          "base_uri": "https://localhost:8080/",
          "height": 287
        },
        "outputId": "51651e5a-2b7b-4e24-cc2c-ca5c1d297f15"
      },
      "source": [
        "cened.CLASSE_ENERGETICA_x.value_counts().plot(kind='bar')"
      ],
      "execution_count": 10,
      "outputs": [
        {
          "output_type": "execute_result",
          "data": {
            "text/plain": [
              "<matplotlib.axes._subplots.AxesSubplot at 0x7f8d8acd3dd8>"
            ]
          },
          "metadata": {
            "tags": []
          },
          "execution_count": 10
        },
        {
          "output_type": "display_data",
          "data": {
            "image/png": "[encoded data removed]",
            "text/plain": [
              "<Figure size 432x288 with 1 Axes>"
            ]
          },
          "metadata": {
            "tags": []
          }
        }
      ]
    },
    {
      "cell_type": "code",
      "metadata": {
        "id": "Q5nT-q7dyc_u",
        "colab_type": "code",
        "colab": {
          "base_uri": "https://localhost:8080/",
          "height": 290
        },
        "outputId": "c4400c94-f16e-47bd-f1af-08b9b193064f"
      },
      "source": [
        "cened.CLASSE_ENERGETICA_y.value_counts().plot(kind='bar')"
      ],
      "execution_count": 11,
      "outputs": [
        {
          "output_type": "execute_result",
          "data": {
            "text/plain": [
              "<matplotlib.axes._subplots.AxesSubplot at 0x7f8d8b07b588>"
            ]
          },
          "metadata": {
            "tags": []
          },
          "execution_count": 11
        },
        {
          "output_type": "display_data",
          "data": {
            "image/png": "[encoded data removed]",
            "text/plain": [
              "<Figure size 432x288 with 1 Axes>"
            ]
          },
          "metadata": {
            "tags": []
          }
        }
      ]
    },
    {
      "cell_type": "code",
      "metadata": {
        "id": "sRSvHQpl8mKe",
        "colab_type": "code",
        "colab": {}
      },
      "source": [
        "cened['same'] = cened['CLASSE_ENERGETICA_x'] == cened['CLASSE_ENERGETICA_y']"
      ],
      "execution_count": 0,
      "outputs": []
    },
    {
      "cell_type": "code",
      "metadata": {
        "id": "1eQJ8Nxg81ch",
        "colab_type": "code",
        "colab": {
          "base_uri": "https://localhost:8080/",
          "height": 299
        },
        "outputId": "1342dc4a-62f4-4fb8-8c8a-a25cbb7ff88c"
      },
      "source": [
        "cened.same.value_counts().plot(kind='bar')"
      ],
      "execution_count": 13,
      "outputs": [
        {
          "output_type": "execute_result",
          "data": {
            "text/plain": [
              "<matplotlib.axes._subplots.AxesSubplot at 0x7f8d8aab9b70>"
            ]
          },
          "metadata": {
            "tags": []
          },
          "execution_count": 13
        },
        {
          "output_type": "display_data",
          "data": {
            "image/png": "[encoded data removed]",
            "text/plain": [
              "<Figure size 432x288 with 1 Axes>"
            ]
          },
          "metadata": {
            "tags": []
          }
        }
      ]
    },
    {
      "cell_type": "code",
      "metadata": {
        "id": "W2b5Z-pwxGbb",
        "colab_type": "code",
        "colab": {
          "base_uri": "https://localhost:8080/",
          "height": 280
        },
        "outputId": "ffac8427-2c25-4b09-9a8d-d62a37ea0c9e"
      },
      "source": [
        "cened.ZONA_CLIMATICA.value_counts().plot(kind='bar')"
      ],
      "execution_count": 7,
      "outputs": [
        {
          "output_type": "execute_result",
          "data": {
            "text/plain": [
              "<matplotlib.axes._subplots.AxesSubplot at 0x7f8d8b649978>"
            ]
          },
          "metadata": {
            "tags": []
          },
          "execution_count": 7
        },
        {
          "output_type": "display_data",
          "data": {
            "image/png": "[encoded data removed]",
            "text/plain": [
              "<Figure size 432x288 with 1 Axes>"
            ]
          },
          "metadata": {
            "tags": []
          }
        }
      ]
    }
  ]
}