{
  "nbformat": 4,
  "nbformat_minor": 0,
  "metadata": {
    "colab": {
      "name": "cened_2.0_ml.ipynb",
      "provenance": [],
      "authorship_tag": "ABX9TyMtRQCF7fAa+dGD38kBBgQk",
      "include_colab_link": true
    },
    "kernelspec": {
      "display_name": "Python 3",
      "name": "python3"
    }
  },
  "cells": [
    {
      "cell_type": "markdown",
      "metadata": {
        "id": "view-in-github",
        "colab_type": "text"
      },
      "source": [
        "<a href=\"https://colab.research.google.com/github/rboghe/cened/blob/master/cened_2_0_ml.ipynb\" target=\"_parent\"><img src=\"https://colab.research.google.com/assets/colab-badge.svg\" alt=\"Open In Colab\"/></a>"
      ]
    },
    {
      "cell_type": "markdown",
      "metadata": {
        "id": "8e3keRjX4rEn"
      },
      "source": [
        "# Imports"
      ]
    },
    {
      "cell_type": "code",
      "metadata": {
        "id": "ths-id_T4ge3"
      },
      "source": [
        "import os\r\n",
        "import urllib.request\r\n",
        "import pandas as pd\r\n",
        "import numpy as np\r\n",
        "import random\r\n",
        "import matplotlib.pyplot as plt\r\n",
        "from sklearn.metrics import r2_score, make_scorer\r\n",
        "from sklearn.model_selection import RandomizedSearchCV\r\n",
        "import scipy.stats as stats\r\n",
        "from lightgbm import LGBMRegressor, plot_importance\r\n",
        "import seaborn as sns\r\n",
        "\r\n",
        "# Silence pandas setting with copy warning\r\n",
        "pd.options.mode.chained_assignment = None\r\n",
        "\r\n",
        "# Set Seaborn style\r\n",
        "sns.set_theme(style=\"white\")"
      ],
      "execution_count": 55,
      "outputs": []
    },
    {
      "cell_type": "markdown",
      "metadata": {
        "id": "13K9ZDw04wiF"
      },
      "source": [
        "# Load data"
      ]
    },
    {
      "cell_type": "code",
      "metadata": {
        "id": "sJzLWKRf5TBE"
      },
      "source": [
        "# Cened 2.0\r\n",
        "url = 'https://www.dati.lombardia.it/api/views/bbky-sde5/rows.csv?accessType=DOWNLOAD'\r\n",
        "\r\n",
        "if os.path.isdir('/tmp'):\r\n",
        "    if os.path.isfile('/tmp/cened20.csv'):\r\n",
        "      pass\r\n",
        "    else:\r\n",
        "      urllib.request.urlretrieve(url, '/tmp/cened20.csv')\r\n",
        "else:\r\n",
        "  os.mkdir('/tmp')\r\n",
        "  urllib.request.urlretrieve(url, '/tmp/cened20.csv')"
      ],
      "execution_count": 8,
      "outputs": []
    },
    {
      "cell_type": "code",
      "metadata": {
        "id": "yxFzc7202X5U"
      },
      "source": [
        "# DDH\n",
        "url = 'https://raw.githubusercontent.com/rboghe/cened/master/degreedays.txt'\n",
        "\n",
        "urllib.request.urlretrieve(url, '/tmp/ddh.csv')\n",
        "\n",
        "ddh = pd.read_csv('/tmp/ddh.csv', usecols = ['comune','dd'])"
      ],
      "execution_count": 9,
      "outputs": []
    },
    {
      "cell_type": "code",
      "metadata": {
        "id": "fiRt0wIy2ciM"
      },
      "source": [
        "cols = ['INTERO_EDIFICIO', 'RIQUALIFICAZIONE_ENERGETICA', 'ZONA_CLIMATICA',\n",
        "           'ANNO_COSTRUZIONE','SUPERF_UTILE_RISCALDATA', 'SUPERF_UTILE_RAFFRESCATA',\n",
        "           'VOLUME_LORDO_RISCALDATO', 'VOLUME_LORDO_RAFFRESCATO', 'CLASSE_ENERGETICA', \n",
        "           'SUPERFICIE_DISPERDENTE', 'RAPPORTO_SV','A_SOL_EST_A_SUP_UTILE','Y_IE', \n",
        "           'CLASSIFICAZIONE_DPR', 'COMUNE', 'EP_H_ND','EP_GL_NREN','EP_GL_REN', \n",
        "           'NUMERO_UNITA_IMMOBILIARI', 'RISTRUTTURAZIONE_IMPORTANTE', 'Y']\n",
        "  \n",
        "cened_new = pd.read_csv('/tmp/cened20.csv', usecols = cols)"
      ],
      "execution_count": 10,
      "outputs": []
    },
    {
      "cell_type": "markdown",
      "metadata": {
        "id": "s2F4J8oU52DP"
      },
      "source": [
        "# Preprocessing"
      ]
    },
    {
      "cell_type": "code",
      "metadata": {
        "id": "bTycWYIA51kE"
      },
      "source": [
        "# Fillna\r\n",
        "for col in ['EP_GL_NREN', 'EP_GL_REN']:\r\n",
        "    cened_new[col].fillna(0, inplace=True)\r\n",
        "\r\n",
        "# Drop buildings with NaN values\r\n",
        "cened_new.dropna(inplace = True)\r\n",
        "\r\n",
        "# Only entire buildings\r\n",
        "# cened_new = cened_new[cened_new['INTERO_EDIFICIO'] == True]\r\n",
        "\r\n",
        "# Drop renovations\r\n",
        "#cened_new = cened_new[cened_new['RISTRUTTURAZIONE_IMPORTANTE'] == False]\r\n",
        "#cened_new = cened_new[cened_new['RIQUALIFICAZIONE_ENERGETICA'] == False]\r\n",
        "\r\n",
        "# We'll use residential buildings only\r\n",
        "cened_new['CLASSIFICAZIONE_DPR'] = cened_new['CLASSIFICAZIONE_DPR'].str.replace(r'E.1 (1)', 'E.1(1)')\r\n",
        "cened_new = cened_new[cened_new['CLASSIFICAZIONE_DPR'] == 'E.1(1)']\r\n",
        "\r\n",
        "# Add ddh\r\n",
        "cened_new['COMUNE'] = cened_new['COMUNE'].str.lower()\r\n",
        "ddh['comune'] = ddh['comune'].str.lower()\r\n",
        "cened_new['COMUNE'] = cened_new['COMUNE'].str.replace(r\"`\",  \"'\")\r\n",
        "cened_new['COMUNE'] = cened_new['COMUNE'].str.replace(r\"o`\",  \"o'\")\r\n",
        "cened_new['COMUNE'] = cened_new['COMUNE'].str.replace(r\"baranzate\",  \"bollate\")\r\n",
        "cened_new['COMUNE'] = cened_new['COMUNE'].str.replace(r\"bovisio masciago\",  \"bovisio-masciago\")\r\n",
        "cened_new['COMUNE'] = cened_new['COMUNE'].str.replace(r\"cornate d`adda\",  \"cornate d'adda\")\r\n",
        "cened_new['COMUNE'] = cened_new['COMUNE'].str.replace(r\"cortenuova\",  \"cortenova\")\r\n",
        "cened_new['COMUNE'] = cened_new['COMUNE'].str.replace(r\"sant'omobono terme\",  \"sant'omobono imagna\")\r\n",
        "cened_new['COMUNE'] = cened_new['COMUNE'].str.replace(r\"borgo virgilio\",  \"virgilio\")\r\n",
        "cened_new['COMUNE'] = cened_new['COMUNE'].str.replace(r\" - \",  \"-\")\r\n",
        "cened_new['COMUNE'] = cened_new['COMUNE'].str.replace(r\"cassina de pecchi\",  \"cassina de' pecchi\")\r\n",
        "cened_new['COMUNE'] = cened_new['COMUNE'].str.replace(r\"cerano intelvi\",  \"cerano d'intelvi\")\r\n",
        "cened_new['COMUNE'] = cened_new['COMUNE'].str.replace(r\"colverde\",  \"drezzo\")\r\n",
        "cened_new['COMUNE'] = cened_new['COMUNE'].str.replace(r\"cornale e bastida\",  \"cornale\")\r\n",
        "cened_new['COMUNE'] = cened_new['COMUNE'].str.replace(r\"corteolona e genzone\",  \"corteolona\")\r\n",
        "cened_new['COMUNE'] = cened_new['COMUNE'].str.replace(r\"costa serina\",  \"costa di serina\")\r\n",
        "cened_new['COMUNE'] = cened_new['COMUNE'].str.replace(r\"gabbioneta binanuova\",  \"gabbioneta-binanuova\")\r\n",
        "cened_new['COMUNE'] = cened_new['COMUNE'].str.replace(r\"gadesco pieve delmona\",  \"gadesco-pieve delmona\")\r\n",
        "cened_new['COMUNE'] = cened_new['COMUNE'].str.replace(r\"gerre de'caprioli\",  \"gerre de' caprioli\")\r\n",
        "cened_new['COMUNE'] = cened_new['COMUNE'].str.replace(r\"gravedona ed uniti\",  \"grandola ed uniti\")\r\n",
        "cened_new['COMUNE'] = cened_new['COMUNE'].str.replace(r\"la valletta brianza\",  \"perego\")\r\n",
        "cened_new['COMUNE'] = cened_new['COMUNE'].str.replace(r\"lonato del garda\",  \"lonato\")\r\n",
        "cened_new['COMUNE'] = cened_new['COMUNE'].str.replace(r\"maccagno con pino e veddasca\",  \"maccagno\")\r\n",
        "cened_new['COMUNE'] = cened_new['COMUNE'].str.replace(r\"ramponio vernia\",  \"ramponio verna\")\r\n",
        "cened_new['COMUNE'] = cened_new['COMUNE'].str.replace(r\"sermide e felonica\",  \"sermide\")\r\n",
        "cened_new['COMUNE'] = cened_new['COMUNE'].str.replace(r\"toscolano maderno\",  \"toscolano-maderno\")\r\n",
        "cened_new['COMUNE'] = cened_new['COMUNE'].str.replace(r\"tremezzina\",  \"tremezzo\")\r\n",
        "cened_new['COMUNE'] = cened_new['COMUNE'].str.replace(r\"val brembilla\",  \"brembilla\")\r\n",
        "cened_new['COMUNE'] = cened_new['COMUNE'].str.replace(r\"verderio\",  \"verderio inferiore\")\r\n",
        "\r\n",
        "ddh['comune'] = ddh['comune'].str.replace(r\"è\",  \"e'\")\r\n",
        "ddh['comune'] = ddh['comune'].str.replace(r\"è\",  \"e'\")\r\n",
        "ddh['comune'] = ddh['comune'].str.replace(r\"é\",  \"e'\")\r\n",
        "ddh['comune'] = ddh['comune'].str.replace(r\"ò\",  \"o'\")\r\n",
        "ddh['comune'] = ddh['comune'].str.replace(r\"ù\",  \"u'\")\r\n",
        "\r\n",
        "cened_new = cened_new.merge(ddh, left_on='COMUNE', right_on='comune', how='left')\r\n",
        "\r\n",
        "# Riqualificazione\r\n",
        "cened_new['RIQUALIFICAZIONE_ENERGETICA'] = cened_new['RIQUALIFICAZIONE_ENERGETICA'].astype(\"category\").cat.codes\r\n",
        "\r\n",
        "# Ristrutturazione\r\n",
        "cened_new['RISTRUTTURAZIONE_IMPORTANTE'] = cened_new['RISTRUTTURAZIONE_IMPORTANTE'].astype(\"category\").cat.codes\r\n",
        "\r\n",
        "# Climatizzazione\r\n",
        "#cened_new['CLIMATIZZAZIONE_INVERNALE'] = cened_new['CLIMATIZZAZIONE_INVERNALE'].astype(\"category\").cat.codes\r\n",
        "\r\n",
        "# Correct floats\r\n",
        "for col in ['SUPERF_UTILE_RISCALDATA',\r\n",
        "           'SUPERF_UTILE_RAFFRESCATA','VOLUME_LORDO_RISCALDATO','VOLUME_LORDO_RAFFRESCATO','SUPERFICIE_DISPERDENTE',\r\n",
        "           'RAPPORTO_SV','A_SOL_EST_A_SUP_UTILE','Y_IE','EP_H_ND','EP_GL_NREN','EP_GL_REN']:\r\n",
        "    cened_new[col] = cened_new[col].astype(str)\r\n",
        "    cened_new[col] = cened_new[col].str.replace(r',', '')\r\n",
        "    cened_new[col] = cened_new[col].astype(\"float\")"
      ],
      "execution_count": 11,
      "outputs": []
    },
    {
      "cell_type": "code",
      "metadata": {
        "id": "cbTMx8Ukql-F"
      },
      "source": [
        "#EPG\r\n",
        "cened_new['EPG'] = cened_new['EP_GL_NREN'] + cened_new['EP_GL_REN']"
      ],
      "execution_count": 12,
      "outputs": []
    },
    {
      "cell_type": "code",
      "metadata": {
        "colab": {
          "base_uri": "https://localhost:8080/"
        },
        "id": "5xwrfpKQ8LFQ",
        "outputId": "135e2d9e-2367-4335-dacd-1ba14d88f594"
      },
      "source": [
        "# Full DB of residential buildings without missing data\r\n",
        "print(len(cened_new))"
      ],
      "execution_count": 13,
      "outputs": [
        {
          "output_type": "stream",
          "text": [
            "439674\n"
          ],
          "name": "stdout"
        }
      ]
    },
    {
      "cell_type": "markdown",
      "metadata": {
        "id": "t-NviQVY6Ffl"
      },
      "source": [
        "# Feature engineering"
      ]
    },
    {
      "cell_type": "code",
      "metadata": {
        "id": "idAz0fO86FsB"
      },
      "source": [
        "# Mean height\r\n",
        "cened_new['ALTEZZA_MEDIA'] = cened_new['VOLUME_LORDO_RISCALDATO']/cened_new['SUPERF_UTILE_RISCALDATA']\r\n",
        "\r\n",
        "# Period\r\n",
        "cened_new.ANNO_COSTRUZIONE = cened_new.ANNO_COSTRUZIONE.astype(str)\r\n",
        "cened_new.ANNO_COSTRUZIONE = cened_new.ANNO_COSTRUZIONE.map(lambda x:x[-4:])\r\n",
        "cened_new.ANNO_COSTRUZIONE = cened_new.ANNO_COSTRUZIONE.astype(int)\r\n",
        "\r\n",
        "cened_new['PERIODO'] = pd.cut(cened_new.ANNO_COSTRUZIONE, bins=[0,1930,1945,1960,1976,1992,2006,3000],\r\n",
        "     labels=['Before 1930','1930-1945','1946-1960','1961-1976', '1977-1992', '1993-2006','After 2006']).cat.codes\r\n",
        "\r\n",
        "# East facing surface\r\n",
        "cened_new['A_SOL_EST'] = cened_new['A_SOL_EST_A_SUP_UTILE']*cened_new['SUPERF_UTILE_RISCALDATA']"
      ],
      "execution_count": 14,
      "outputs": []
    },
    {
      "cell_type": "markdown",
      "metadata": {
        "id": "nl5K91NBcGjH"
      },
      "source": [
        "# Filters"
      ]
    },
    {
      "cell_type": "code",
      "metadata": {
        "id": "ZXustvs8RKCl"
      },
      "source": [
        "cened_new = cened_new[cened_new['EP_H_ND'] > 5]\r\n",
        "cened_new = cened_new[cened_new['EP_H_ND'] < 1000]"
      ],
      "execution_count": 15,
      "outputs": []
    },
    {
      "cell_type": "code",
      "metadata": {
        "id": "-20pMSZPiqrg"
      },
      "source": [
        "cened_new = cened_new[cened_new['SUPERF_UTILE_RISCALDATA'] >= 50]"
      ],
      "execution_count": 16,
      "outputs": []
    },
    {
      "cell_type": "code",
      "metadata": {
        "id": "0_Ga6LU5is0d"
      },
      "source": [
        "cened_new = cened_new[cened_new['VOLUME_LORDO_RISCALDATO'] >= 150]"
      ],
      "execution_count": 17,
      "outputs": []
    },
    {
      "cell_type": "code",
      "metadata": {
        "id": "ByUVxIy5ivIr"
      },
      "source": [
        "cened_new = cened_new[cened_new['ALTEZZA_MEDIA'] > 2.4]"
      ],
      "execution_count": 18,
      "outputs": []
    },
    {
      "cell_type": "code",
      "metadata": {
        "id": "sIRKkc4Dix6J"
      },
      "source": [
        "cened_new = cened_new[cened_new['Y_IE'] <= 6]\n",
        "cened_new = cened_new[cened_new['Y_IE'] >= 0.01] #0.03"
      ],
      "execution_count": 19,
      "outputs": []
    },
    {
      "cell_type": "code",
      "metadata": {
        "id": "ToHli5VbpcjL"
      },
      "source": [
        "cened_new = cened_new[cened_new['A_SOL_EST_A_SUP_UTILE'] <= 0.5]\n",
        "cened_new = cened_new[cened_new['A_SOL_EST_A_SUP_UTILE'] > 0]"
      ],
      "execution_count": 20,
      "outputs": []
    },
    {
      "cell_type": "code",
      "metadata": {
        "id": "LFCS2xQRnTjJ",
        "colab": {
          "base_uri": "https://localhost:8080/"
        },
        "outputId": "24a1a7ff-df33-4e77-eeaf-fc6ce0000818"
      },
      "source": [
        "len(cened_new)"
      ],
      "execution_count": 21,
      "outputs": [
        {
          "output_type": "execute_result",
          "data": {
            "text/plain": [
              "299458"
            ]
          },
          "metadata": {
            "tags": []
          },
          "execution_count": 21
        }
      ]
    },
    {
      "cell_type": "markdown",
      "metadata": {
        "id": "spKskdWCL4mM"
      },
      "source": [
        "# Data analysis"
      ]
    },
    {
      "cell_type": "code",
      "metadata": {
        "id": "MvzSQpeLL_Ku",
        "colab": {
          "base_uri": "https://localhost:8080/",
          "height": 394
        },
        "outputId": "e9f8dfa1-af6f-4c4c-c986-d9e275e5f8b7"
      },
      "source": [
        "# Period\r\n",
        "fig = plt.figure(figsize = (10,6))\r\n",
        "cplot = sns.countplot(x = pd.cut(cened_new.ANNO_COSTRUZIONE, bins=[0,1930,1945,1960,1976,1992,2006,3000], \r\n",
        "       labels=['Before 1930','1930-1945','1946-1960','1961-1976', '1977-1992', \r\n",
        "               '1993-2006','After 2006']), color = 'b')\r\n",
        "cplot.set(ylabel = 'Count', xlabel = 'Period')\r\n",
        "plt.show()"
      ],
      "execution_count": 22,
      "outputs": [
        {
          "output_type": "display_data",
          "data": {
            "image/png": "[encoded data removed]",
            "text/plain": [
              "<Figure size 720x432 with 1 Axes>"
            ]
          },
          "metadata": {
            "tags": []
          }
        }
      ]
    },
    {
      "cell_type": "markdown",
      "metadata": {
        "id": "rK7tT6FO6wjs"
      },
      "source": [
        "# Shuffle"
      ]
    },
    {
      "cell_type": "code",
      "metadata": {
        "id": "xQauAX_Z6ywH"
      },
      "source": [
        "cened = cened_new.sample(frac=1).reset_index(drop=True)"
      ],
      "execution_count": 23,
      "outputs": []
    },
    {
      "cell_type": "markdown",
      "metadata": {
        "id": "xLy7NHfV6NOg"
      },
      "source": [
        "# Reserve a test set"
      ]
    },
    {
      "cell_type": "code",
      "metadata": {
        "id": "D8AmkFQH6Nl7"
      },
      "source": [
        "msk = np.random.rand(len(cened)) < 0.8\r\n",
        "train = cened[msk]\r\n",
        "test = cened[~msk]"
      ],
      "execution_count": 24,
      "outputs": []
    },
    {
      "cell_type": "code",
      "metadata": {
        "colab": {
          "base_uri": "https://localhost:8080/"
        },
        "id": "Tz77V-S2_H01",
        "outputId": "121394e6-1d2e-4d3c-926d-85ffe924035f"
      },
      "source": [
        "print(len(train))"
      ],
      "execution_count": 25,
      "outputs": [
        {
          "output_type": "stream",
          "text": [
            "239613\n"
          ],
          "name": "stdout"
        }
      ]
    },
    {
      "cell_type": "code",
      "metadata": {
        "colab": {
          "base_uri": "https://localhost:8080/"
        },
        "id": "HeJnDatG_Kan",
        "outputId": "35a295db-8001-489a-e435-1b620b353c63"
      },
      "source": [
        "print(len(test)) # 6646"
      ],
      "execution_count": 26,
      "outputs": [
        {
          "output_type": "stream",
          "text": [
            "59845\n"
          ],
          "name": "stdout"
        }
      ]
    },
    {
      "cell_type": "markdown",
      "metadata": {
        "id": "7TMSuHej9Mw-"
      },
      "source": [
        "# Define MAPE"
      ]
    },
    {
      "cell_type": "code",
      "metadata": {
        "id": "sfmx3u169Q0i"
      },
      "source": [
        "def neg_mape(y_true, y_pred):\r\n",
        "  y_true = np.array(y_true)\r\n",
        "  y_pred = np.array(y_pred)\r\n",
        "  return -np.abs((y_true - y_pred)/y_true).mean()"
      ],
      "execution_count": 27,
      "outputs": []
    },
    {
      "cell_type": "code",
      "metadata": {
        "id": "2TUZvEj1LFLu"
      },
      "source": [
        "def modified_neg_mape(y_true, y_pred):\r\n",
        "  y_true = np.array(y_true)\r\n",
        "  y_pred = np.array(y_pred)\r\n",
        "  errors = np.abs((y_true - y_pred)/y_true)\r\n",
        "  index = np.argwhere(errors > 1)\r\n",
        "  mod_errors = np.delete(errors, index)\r\n",
        "  return -mod_errors.mean()"
      ],
      "execution_count": 28,
      "outputs": []
    },
    {
      "cell_type": "code",
      "metadata": {
        "id": "66onwvYJALQj"
      },
      "source": [
        "neg_mape_scorer = make_scorer(neg_mape, greater_is_better=True)"
      ],
      "execution_count": 29,
      "outputs": []
    },
    {
      "cell_type": "code",
      "metadata": {
        "id": "53ze8caVLOOn"
      },
      "source": [
        "modified_neg_mape_scorer = make_scorer(modified_neg_mape, greater_is_better=True)"
      ],
      "execution_count": 30,
      "outputs": []
    },
    {
      "cell_type": "markdown",
      "metadata": {
        "id": "P3sUK8BN6-Ph"
      },
      "source": [
        "# Random search"
      ]
    },
    {
      "cell_type": "code",
      "metadata": {
        "id": "NbnFeNK8-9up"
      },
      "source": [
        "mlcol = ['SUPERF_UTILE_RISCALDATA',\r\n",
        "           'VOLUME_LORDO_RISCALDATO',\r\n",
        "           'SUPERFICIE_DISPERDENTE', 'dd','PERIODO',\r\n",
        "           'RAPPORTO_SV','A_SOL_EST_A_SUP_UTILE','Y_IE',\r\n",
        "           'ALTEZZA_MEDIA', 'A_SOL_EST', 'NUMERO_UNITA_IMMOBILIARI']"
      ],
      "execution_count": 31,
      "outputs": []
    },
    {
      "cell_type": "code",
      "metadata": {
        "id": "uX_GGcEKzP16"
      },
      "source": [
        "cat_feats = ['PERIODO']"
      ],
      "execution_count": 32,
      "outputs": []
    },
    {
      "cell_type": "code",
      "metadata": {
        "colab": {
          "base_uri": "https://localhost:8080/"
        },
        "id": "QIbN4Y2Q6-Va",
        "outputId": "5c913792-3dfd-41d7-fe8c-005b797e5aa9"
      },
      "source": [
        "param_dist = {'feature_fraction': np.linspace(0.4, 1, num=7),\r\n",
        "              'num_leaf' : list(range(20,40)),\r\n",
        "             'max_depth' : [-1],\r\n",
        "             'max_bin' : [100, 200, 300, 500, 750, 1000, 2000],\r\n",
        "             'bagging_fraction' : np.linspace(0.4, 1, num=14),\r\n",
        "             'bagging_freq' : list(range(1,10)),\r\n",
        "             'lambda_l1' : stats.uniform(0, 0.6),\r\n",
        "             'lambda_l2' : stats.uniform(0, 0.6)}\r\n",
        "\r\n",
        "lgbm = LGBMRegressor(n_estimators = 200, silent = True, verbose = 0, is_training_metric = True, n_jobs = 1, \r\n",
        "                     eval_metric  = 'mape')\r\n",
        "\r\n",
        "n_iter_search = 100\r\n",
        "\r\n",
        "random_search = RandomizedSearchCV(lgbm, param_distributions=param_dist, n_iter=n_iter_search, \r\n",
        "                                   scoring={'MAPE' : modified_neg_mape_scorer, 'R2' : 'r2'} , cv = 5, n_jobs = 6, verbose = 2, refit = 'MAPE')\r\n",
        "\r\n",
        "random_search.fit(cened[mlcol], cened['EP_H_ND'], categorical_feature = cat_feats)"
      ],
      "execution_count": 33,
      "outputs": [
        {
          "output_type": "stream",
          "text": [
            "Fitting 5 folds for each of 100 candidates, totalling 500 fits\n"
          ],
          "name": "stdout"
        },
        {
          "output_type": "stream",
          "text": [
            "[Parallel(n_jobs=6)]: Using backend LokyBackend with 6 concurrent workers.\n",
            "[Parallel(n_jobs=6)]: Done  29 tasks      | elapsed:  2.2min\n",
            "[Parallel(n_jobs=6)]: Done 150 tasks      | elapsed: 11.0min\n",
            "[Parallel(n_jobs=6)]: Done 353 tasks      | elapsed: 25.2min\n",
            "[Parallel(n_jobs=6)]: Done 500 out of 500 | elapsed: 35.8min finished\n",
            "/usr/local/lib/python3.6/dist-packages/lightgbm/basic.py:1209: UserWarning: categorical_feature in Dataset is overridden.\n",
            "New categorical_feature is ['PERIODO']\n",
            "  'New categorical_feature is {}'.format(sorted(list(categorical_feature))))\n"
          ],
          "name": "stderr"
        },
        {
          "output_type": "execute_result",
          "data": {
            "text/plain": [
              "RandomizedSearchCV(cv=5, error_score=nan,\n",
              "                   estimator=LGBMRegressor(boosting_type='gbdt',\n",
              "                                           class_weight=None,\n",
              "                                           colsample_bytree=1.0,\n",
              "                                           eval_metric='mape',\n",
              "                                           importance_type='split',\n",
              "                                           is_training_metric=True,\n",
              "                                           learning_rate=0.1, max_depth=-1,\n",
              "                                           min_child_samples=20,\n",
              "                                           min_child_weight=0.001,\n",
              "                                           min_split_gain=0.0, n_estimators=200,\n",
              "                                           n_jobs=1, num_leaves=31,\n",
              "                                           objective=None, random_sta...\n",
              "                                        'lambda_l2': <scipy.stats._distn_infrastructure.rv_frozen object at 0x7f18be7a64e0>,\n",
              "                                        'max_bin': [100, 200, 300, 500, 750,\n",
              "                                                    1000, 2000],\n",
              "                                        'max_depth': [-1],\n",
              "                                        'num_leaf': [20, 21, 22, 23, 24, 25, 26,\n",
              "                                                     27, 28, 29, 30, 31, 32, 33,\n",
              "                                                     34, 35, 36, 37, 38, 39]},\n",
              "                   pre_dispatch='2*n_jobs', random_state=None, refit='MAPE',\n",
              "                   return_train_score=False,\n",
              "                   scoring={'MAPE': make_scorer(modified_neg_mape), 'R2': 'r2'},\n",
              "                   verbose=2)"
            ]
          },
          "metadata": {
            "tags": []
          },
          "execution_count": 33
        }
      ]
    },
    {
      "cell_type": "markdown",
      "metadata": {
        "id": "ZjNqelQa9tM6"
      },
      "source": [
        "# Print results"
      ]
    },
    {
      "cell_type": "code",
      "metadata": {
        "colab": {
          "base_uri": "https://localhost:8080/"
        },
        "id": "8po-ibOx9tjW",
        "outputId": "10f8028b-2d80-4710-cf77-5e04fbda7923"
      },
      "source": [
        "print(random_search.best_params_)"
      ],
      "execution_count": 34,
      "outputs": [
        {
          "output_type": "stream",
          "text": [
            "{'bagging_fraction': 1.0, 'bagging_freq': 1, 'feature_fraction': 0.8999999999999999, 'lambda_l1': 0.11392449969227349, 'lambda_l2': 0.3811095935512577, 'max_bin': 2000, 'max_depth': -1, 'num_leaf': 36}\n"
          ],
          "name": "stdout"
        }
      ]
    },
    {
      "cell_type": "code",
      "metadata": {
        "colab": {
          "base_uri": "https://localhost:8080/"
        },
        "id": "THJn_s95914s",
        "outputId": "371ed8ca-d754-48f7-becf-4df3dbc96ef8"
      },
      "source": [
        "print(random_search.best_score_)"
      ],
      "execution_count": 35,
      "outputs": [
        {
          "output_type": "stream",
          "text": [
            "-0.24375652436883605\n"
          ],
          "name": "stdout"
        }
      ]
    },
    {
      "cell_type": "code",
      "metadata": {
        "colab": {
          "base_uri": "https://localhost:8080/"
        },
        "id": "ta1btwWlTxJn",
        "outputId": "9542fdf0-27d3-4c22-d589-0f33848adcac"
      },
      "source": [
        "# Create a results df\r\n",
        "cv_df = pd.DataFrame(random_search.cv_results_)\r\n",
        "cv_df = cv_df.sort_values(by = ['rank_test_MAPE']).reset_index()\r\n",
        "\r\n",
        "# Filter columns\r\n",
        "res_cols = [col for col in cv_df if col.startswith('split')]\r\n",
        "\r\n",
        "# Select best iter\r\n",
        "best_res = cv_df.loc[0]\r\n",
        "\r\n",
        "# Print results for each fold\r\n",
        "print(best_res[res_cols]) # around 23"
      ],
      "execution_count": 36,
      "outputs": [
        {
          "output_type": "stream",
          "text": [
            "split0_test_MAPE   -0.244103\n",
            "split1_test_MAPE   -0.244327\n",
            "split2_test_MAPE   -0.243087\n",
            "split3_test_MAPE   -0.243589\n",
            "split4_test_MAPE   -0.243677\n",
            "split0_test_R2       0.63891\n",
            "split1_test_R2      0.626395\n",
            "split2_test_R2      0.633258\n",
            "split3_test_R2      0.637792\n",
            "split4_test_R2      0.637896\n",
            "Name: 0, dtype: object\n"
          ],
          "name": "stdout"
        }
      ]
    },
    {
      "cell_type": "code",
      "metadata": {
        "id": "Hy76OsHBdTP8",
        "colab": {
          "base_uri": "https://localhost:8080/",
          "height": 285
        },
        "outputId": "867fdeca-b1f5-4da8-bd66-22eebf7b52fc"
      },
      "source": [
        "df = pd.DataFrame(best_res[res_cols])\r\n",
        "df = df.rename(columns = {0:'Value'})\r\n",
        "df['Fold'] = df.index.str[5:6]\r\n",
        "df['Metric'] = df.index.str[12:]\r\n",
        "df['Value'] = np.where(df['Metric'] == 'MAPE', df['Value'] * -1, df['Value'])\r\n",
        "ax = sns.barplot(x='Fold', y=\"Value\", hue=\"Metric\", data = df)"
      ],
      "execution_count": 37,
      "outputs": [
        {
          "output_type": "display_data",
          "data": {
            "image/png": "[encoded data removed]",
            "text/plain": [
              "<Figure size 432x288 with 1 Axes>"
            ]
          },
          "metadata": {
            "tags": []
          }
        }
      ]
    },
    {
      "cell_type": "markdown",
      "metadata": {
        "id": "UHqwuWX1AeHK"
      },
      "source": [
        "# Train the final model"
      ]
    },
    {
      "cell_type": "code",
      "metadata": {
        "colab": {
          "base_uri": "https://localhost:8080/"
        },
        "id": "Zq7OjJKsAj0x",
        "outputId": "802c1516-c572-4c46-98b5-628fed892a68"
      },
      "source": [
        "light = LGBMRegressor(n_estimators = 10000, silent = False, verbose = 2, is_training_metric = True, n_jobs = 6)\r\n",
        "light.set_params(**random_search.best_params_)"
      ],
      "execution_count": 38,
      "outputs": [
        {
          "output_type": "execute_result",
          "data": {
            "text/plain": [
              "LGBMRegressor(bagging_fraction=1.0, bagging_freq=1, boosting_type='gbdt',\n",
              "              class_weight=None, colsample_bytree=1.0,\n",
              "              feature_fraction=0.8999999999999999, importance_type='split',\n",
              "              is_training_metric=True, lambda_l1=0.11392449969227349,\n",
              "              lambda_l2=0.3811095935512577, learning_rate=0.1, max_bin=2000,\n",
              "              max_depth=-1, min_child_samples=20, min_child_weight=0.001,\n",
              "              min_split_gain=0.0, n_estimators=10000, n_jobs=6, num_leaf=36,\n",
              "              num_leaves=31, objective=None, random_state=None, reg_alpha=0.0,\n",
              "              reg_lambda=0.0, silent=False, subsample=1.0,\n",
              "              subsample_for_bin=200000, subsample_freq=0, verbose=2)"
            ]
          },
          "metadata": {
            "tags": []
          },
          "execution_count": 38
        }
      ]
    },
    {
      "cell_type": "code",
      "metadata": {
        "colab": {
          "base_uri": "https://localhost:8080/"
        },
        "id": "XbLz3zitAuQo",
        "outputId": "f3e7377f-3eff-464e-d4ad-9307cc9f08ca"
      },
      "source": [
        "light.fit(train[mlcol], train['EP_H_ND'])"
      ],
      "execution_count": 39,
      "outputs": [
        {
          "output_type": "execute_result",
          "data": {
            "text/plain": [
              "LGBMRegressor(bagging_fraction=1.0, bagging_freq=1, boosting_type='gbdt',\n",
              "              class_weight=None, colsample_bytree=1.0,\n",
              "              feature_fraction=0.8999999999999999, importance_type='split',\n",
              "              is_training_metric=True, lambda_l1=0.11392449969227349,\n",
              "              lambda_l2=0.3811095935512577, learning_rate=0.1, max_bin=2000,\n",
              "              max_depth=-1, min_child_samples=20, min_child_weight=0.001,\n",
              "              min_split_gain=0.0, n_estimators=10000, n_jobs=6, num_leaf=36,\n",
              "              num_leaves=31, objective=None, random_state=None, reg_alpha=0.0,\n",
              "              reg_lambda=0.0, silent=False, subsample=1.0,\n",
              "              subsample_for_bin=200000, subsample_freq=0, verbose=2)"
            ]
          },
          "metadata": {
            "tags": []
          },
          "execution_count": 39
        }
      ]
    },
    {
      "cell_type": "markdown",
      "metadata": {
        "id": "Ml7EZ7XXAvwc"
      },
      "source": [
        "# Test the model"
      ]
    },
    {
      "cell_type": "code",
      "metadata": {
        "id": "EJFVWFDvAx4h"
      },
      "source": [
        "y_pred = light.predict(test[mlcol]).clip(0)"
      ],
      "execution_count": 40,
      "outputs": []
    },
    {
      "cell_type": "code",
      "metadata": {
        "id": "hCtUFtWSBZ15"
      },
      "source": [
        "results_df = pd.DataFrame({'predicted' : y_pred, 'true' : test['EP_H_ND']})\r\n",
        "results_df['error'] = np.abs((results_df['true'] - results_df['predicted'])/results_df['true'])*100"
      ],
      "execution_count": 41,
      "outputs": []
    },
    {
      "cell_type": "code",
      "metadata": {
        "id": "ve6Lla28DXct",
        "colab": {
          "base_uri": "https://localhost:8080/"
        },
        "outputId": "6e28774d-146a-4ad0-ed1e-cafec383500d"
      },
      "source": [
        "# MAPE\r\n",
        "results_df['error'].mean()"
      ],
      "execution_count": 42,
      "outputs": [
        {
          "output_type": "execute_result",
          "data": {
            "text/plain": [
              "33.93284263161914"
            ]
          },
          "metadata": {
            "tags": []
          },
          "execution_count": 42
        }
      ]
    },
    {
      "cell_type": "code",
      "metadata": {
        "id": "3NeF_M_htAQS",
        "colab": {
          "base_uri": "https://localhost:8080/"
        },
        "outputId": "32bb7a7f-0b30-4cae-f311-505db01be777"
      },
      "source": [
        "# Max % error\r\n",
        "results_df['error'].max()"
      ],
      "execution_count": 43,
      "outputs": [
        {
          "output_type": "execute_result",
          "data": {
            "text/plain": [
              "1518.6747923788632"
            ]
          },
          "metadata": {
            "tags": []
          },
          "execution_count": 43
        }
      ]
    },
    {
      "cell_type": "code",
      "metadata": {
        "id": "C0o2UT8A2MZZ",
        "colab": {
          "base_uri": "https://localhost:8080/"
        },
        "outputId": "2e06c7a9-a6d0-47b0-ba29-3f45214eb9c5"
      },
      "source": [
        "# Row with the highest % error\r\n",
        "results_df.iloc[results_df['error'].argmax()]"
      ],
      "execution_count": 44,
      "outputs": [
        {
          "output_type": "execute_result",
          "data": {
            "text/plain": [
              "predicted     114.764043\n",
              "true            7.090000\n",
              "error        1518.674792\n",
              "Name: 202368, dtype: float64"
            ]
          },
          "metadata": {
            "tags": []
          },
          "execution_count": 44
        }
      ]
    },
    {
      "cell_type": "code",
      "metadata": {
        "id": "luAQiAU3KB8L",
        "colab": {
          "base_uri": "https://localhost:8080/"
        },
        "outputId": "1c8911ae-b2c4-4d3f-c788-ee030a31440d"
      },
      "source": [
        "# MAPE without >100%\r\n",
        "results_df[results_df.error <= 100].error.mean()"
      ],
      "execution_count": 45,
      "outputs": [
        {
          "output_type": "execute_result",
          "data": {
            "text/plain": [
              "24.036280043183012"
            ]
          },
          "metadata": {
            "tags": []
          },
          "execution_count": 45
        }
      ]
    },
    {
      "cell_type": "code",
      "metadata": {
        "id": "xnsGYxRhZnmb",
        "colab": {
          "base_uri": "https://localhost:8080/"
        },
        "outputId": "b1098ae1-50c6-42d3-872d-d04f9ac6d7eb"
      },
      "source": [
        "# R2 \r\n",
        "print(r2_score(test['EP_H_ND'], y_pred))"
      ],
      "execution_count": 46,
      "outputs": [
        {
          "output_type": "stream",
          "text": [
            "0.6449219944337001\n"
          ],
          "name": "stdout"
        }
      ]
    },
    {
      "cell_type": "code",
      "metadata": {
        "id": "fCoPtLWGZ6tu",
        "colab": {
          "base_uri": "https://localhost:8080/"
        },
        "outputId": "4700270e-3e82-4544-9b72-ea89bdb5c7f6"
      },
      "source": [
        "# R2 without >100%\r\n",
        "print(r2_score(results_df[results_df.error <= 100].true, results_df[results_df.error <= 100].predicted))"
      ],
      "execution_count": 47,
      "outputs": [
        {
          "output_type": "stream",
          "text": [
            "0.6833666054630323\n"
          ],
          "name": "stdout"
        }
      ]
    },
    {
      "cell_type": "code",
      "metadata": {
        "id": "fyUDfx40m_ri",
        "colab": {
          "base_uri": "https://localhost:8080/",
          "height": 419
        },
        "outputId": "dd717e3e-4767-41b9-8971-b08be50b9b04"
      },
      "source": [
        "results_df"
      ],
      "execution_count": 48,
      "outputs": [
        {
          "output_type": "execute_result",
          "data": {
            "text/html": [
              "<div>\n",
              "<style scoped>\n",
              "    .dataframe tbody tr th:only-of-type {\n",
              "        vertical-align: middle;\n",
              "    }\n",
              "\n",
              "    .dataframe tbody tr th {\n",
              "        vertical-align: top;\n",
              "    }\n",
              "\n",
              "    .dataframe thead th {\n",
              "        text-align: right;\n",
              "    }\n",
              "</style>\n",
              "<table border=\"1\" class=\"dataframe\">\n",
              "  <thead>\n",
              "    <tr style=\"text-align: right;\">\n",
              "      <th></th>\n",
              "      <th>predicted</th>\n",
              "      <th>true</th>\n",
              "      <th>error</th>\n",
              "    </tr>\n",
              "  </thead>\n",
              "  <tbody>\n",
              "    <tr>\n",
              "      <th>2</th>\n",
              "      <td>204.333665</td>\n",
              "      <td>215.38</td>\n",
              "      <td>5.128765</td>\n",
              "    </tr>\n",
              "    <tr>\n",
              "      <th>3</th>\n",
              "      <td>123.188357</td>\n",
              "      <td>61.80</td>\n",
              "      <td>99.333911</td>\n",
              "    </tr>\n",
              "    <tr>\n",
              "      <th>7</th>\n",
              "      <td>177.037853</td>\n",
              "      <td>170.94</td>\n",
              "      <td>3.567248</td>\n",
              "    </tr>\n",
              "    <tr>\n",
              "      <th>9</th>\n",
              "      <td>225.514177</td>\n",
              "      <td>235.05</td>\n",
              "      <td>4.056934</td>\n",
              "    </tr>\n",
              "    <tr>\n",
              "      <th>12</th>\n",
              "      <td>182.783685</td>\n",
              "      <td>249.76</td>\n",
              "      <td>26.816270</td>\n",
              "    </tr>\n",
              "    <tr>\n",
              "      <th>...</th>\n",
              "      <td>...</td>\n",
              "      <td>...</td>\n",
              "      <td>...</td>\n",
              "    </tr>\n",
              "    <tr>\n",
              "      <th>299440</th>\n",
              "      <td>152.402420</td>\n",
              "      <td>176.51</td>\n",
              "      <td>13.657912</td>\n",
              "    </tr>\n",
              "    <tr>\n",
              "      <th>299442</th>\n",
              "      <td>165.347597</td>\n",
              "      <td>203.57</td>\n",
              "      <td>18.776049</td>\n",
              "    </tr>\n",
              "    <tr>\n",
              "      <th>299446</th>\n",
              "      <td>120.520210</td>\n",
              "      <td>154.02</td>\n",
              "      <td>21.750286</td>\n",
              "    </tr>\n",
              "    <tr>\n",
              "      <th>299450</th>\n",
              "      <td>95.080025</td>\n",
              "      <td>99.85</td>\n",
              "      <td>4.777140</td>\n",
              "    </tr>\n",
              "    <tr>\n",
              "      <th>299457</th>\n",
              "      <td>57.118544</td>\n",
              "      <td>132.33</td>\n",
              "      <td>56.836285</td>\n",
              "    </tr>\n",
              "  </tbody>\n",
              "</table>\n",
              "<p>59845 rows × 3 columns</p>\n",
              "</div>"
            ],
            "text/plain": [
              "         predicted    true      error\n",
              "2       204.333665  215.38   5.128765\n",
              "3       123.188357   61.80  99.333911\n",
              "7       177.037853  170.94   3.567248\n",
              "9       225.514177  235.05   4.056934\n",
              "12      182.783685  249.76  26.816270\n",
              "...            ...     ...        ...\n",
              "299440  152.402420  176.51  13.657912\n",
              "299442  165.347597  203.57  18.776049\n",
              "299446  120.520210  154.02  21.750286\n",
              "299450   95.080025   99.85   4.777140\n",
              "299457   57.118544  132.33  56.836285\n",
              "\n",
              "[59845 rows x 3 columns]"
            ]
          },
          "metadata": {
            "tags": []
          },
          "execution_count": 48
        }
      ]
    },
    {
      "cell_type": "code",
      "metadata": {
        "id": "0c9tej3NmmoF",
        "colab": {
          "base_uri": "https://localhost:8080/",
          "height": 318
        },
        "outputId": "b164ec28-30c3-46ea-900f-fd7c39c1c1fc"
      },
      "source": [
        "plot_importance(light)"
      ],
      "execution_count": 56,
      "outputs": [
        {
          "output_type": "execute_result",
          "data": {
            "text/plain": [
              "<matplotlib.axes._subplots.AxesSubplot at 0x7f18c38825f8>"
            ]
          },
          "metadata": {
            "tags": []
          },
          "execution_count": 56
        },
        {
          "output_type": "display_data",
          "data": {
            "image/png": "[encoded data removed]",
            "text/plain": [
              "<Figure size 432x288 with 1 Axes>"
            ]
          },
          "metadata": {
            "tags": []
          }
        }
      ]
    },
    {
      "cell_type": "markdown",
      "metadata": {
        "id": "MW3keZUTPD3p"
      },
      "source": [
        "# Error analysis"
      ]
    },
    {
      "cell_type": "code",
      "metadata": {
        "id": "b3zWyGsVPD3p",
        "colab": {
          "base_uri": "https://localhost:8080/",
          "height": 312
        },
        "outputId": "976a58a7-678f-4bd1-9991-c7549dc9a504"
      },
      "source": [
        "# Period\r\n",
        "bins = pd.cut(test.ANNO_COSTRUZIONE, bins=[0,1930,1945,1960,1976,1992,2006,3000], \r\n",
        "       labels=['Before 1930','1930-1945','1946-1960','1961-1976', '1977-1992', \r\n",
        "               '1993-2006','After 2006'])\r\n",
        "\r\n",
        "fig = plt.figure(figsize = (12, 4.5))\r\n",
        "box = sns.boxplot(y = results_df.error, x = bins, \r\n",
        "                  color='lightsteelblue', orient = 'v', \r\n",
        "                  showfliers = False)\r\n",
        "\r\n",
        "box.set(ylabel = 'MAPE [%]', xlabel = 'Period')\r\n",
        "plt.show()"
      ],
      "execution_count": 49,
      "outputs": [
        {
          "output_type": "display_data",
          "data": {
            "image/png": "[encoded data removed]",
            "text/plain": [
              "<Figure size 864x324 with 1 Axes>"
            ]
          },
          "metadata": {
            "tags": []
          }
        }
      ]
    },
    {
      "cell_type": "code",
      "metadata": {
        "id": "hWSW3vHwPHsj",
        "colab": {
          "base_uri": "https://localhost:8080/",
          "height": 394
        },
        "outputId": "a54dc2b7-369b-4001-c2d7-52f8abfc6819"
      },
      "source": [
        "# Error\r\n",
        "fig = plt.figure(figsize = (10,6))\r\n",
        "cplot = sns.countplot(x = pd.cut(results_df.error, bins=[0,10,20,30,40,50,60,70,80,90,100,10000],\r\n",
        "                                 labels = ['<10', '10-20', '20-30', '30-40', '40-50', '50-60', '60-70', '70-80', '80-90', '90-100', '>100']), color = 'b')\r\n",
        "cplot.set(ylabel = 'Count', xlabel = 'MAPE [%]')\r\n",
        "plt.show()"
      ],
      "execution_count": 50,
      "outputs": [
        {
          "output_type": "display_data",
          "data": {
            "image/png": "[encoded data removed]",
            "text/plain": [
              "<Figure size 720x432 with 1 Axes>"
            ]
          },
          "metadata": {
            "tags": []
          }
        }
      ]
    },
    {
      "cell_type": "code",
      "metadata": {
        "id": "Xxb7w9BURrnP",
        "colab": {
          "base_uri": "https://localhost:8080/",
          "height": 394
        },
        "outputId": "abeeff00-1581-457e-97ac-c660452a8c99"
      },
      "source": [
        "# Scatterplot\r\n",
        "fig = plt.figure(figsize = (7,6))\r\n",
        "scatter = sns.scatterplot(data=results_df, x=\"predicted\", y=\"true\")\r\n",
        "#scatter.set(ylabel = 'True', xlabel = 'Predicted',\r\n",
        "#            xlim=(-30, 1000), ylim=(-30, 1000))\r\n",
        "m, b = np.polyfit(results_df['predicted'], results_df['true'], 1)\r\n",
        "plt.plot(results_df['predicted'].values, m*results_df['predicted'] + b)\r\n",
        "plt.plot([0, 970], [0,970], c = 'r', linestyle='--')\r\n",
        "plt.show()"
      ],
      "execution_count": 54,
      "outputs": [
        {
          "output_type": "display_data",
          "data": {
            "image/png": "[encoded data removed]",
            "text/plain": [
              "<Figure size 504x432 with 1 Axes>"
            ]
          },
          "metadata": {
            "tags": []
          }
        }
      ]
    }
  ]
}