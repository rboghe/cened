{
  "nbformat": 4,
  "nbformat_minor": 0,
  "metadata": {
    "colab": {
      "name": "cened_2.0_ml.ipynb",
      "provenance": [],
      "authorship_tag": "ABX9TyNCpdxOYRqDfIyuMrbeWQdg",
      "include_colab_link": true
    },
    "kernelspec": {
      "display_name": "Python 3",
      "name": "python3"
    }
  },
  "cells": [
    {
      "cell_type": "markdown",
      "metadata": {
        "id": "view-in-github",
        "colab_type": "text"
      },
      "source": [
        "<a href=\"https://colab.research.google.com/github/rboghe/cened/blob/master/cened_2_0_ml.ipynb\" target=\"_parent\"><img src=\"https://colab.research.google.com/assets/colab-badge.svg\" alt=\"Open In Colab\"/></a>"
      ]
    },
    {
      "cell_type": "markdown",
      "metadata": {
        "id": "8e3keRjX4rEn"
      },
      "source": [
        "# Imports"
      ]
    },
    {
      "cell_type": "code",
      "metadata": {
        "id": "ths-id_T4ge3"
      },
      "source": [
        "import os\r\n",
        "import urllib.request\r\n",
        "import pandas as pd\r\n",
        "import numpy as np\r\n",
        "import random\r\n",
        "import matplotlib.pyplot as plt\r\n",
        "from sklearn.metrics import r2_score, make_scorer\r\n",
        "from sklearn.model_selection import RandomizedSearchCV\r\n",
        "import scipy.stats as stats\r\n",
        "from lightgbm import LGBMRegressor, plot_importance\r\n",
        "import seaborn as sns\r\n",
        "\r\n",
        "# Silence pandas setting with copy warning\r\n",
        "pd.options.mode.chained_assignment = None\r\n",
        "\r\n",
        "# Set Seaborn style\r\n",
        "sns.set_theme(style=\"white\")"
      ],
      "execution_count": 1,
      "outputs": []
    },
    {
      "cell_type": "markdown",
      "metadata": {
        "id": "13K9ZDw04wiF"
      },
      "source": [
        "# Load data"
      ]
    },
    {
      "cell_type": "code",
      "metadata": {
        "id": "sJzLWKRf5TBE"
      },
      "source": [
        "# Cened 2.0\r\n",
        "url = 'https://www.dati.lombardia.it/api/views/bbky-sde5/rows.csv?accessType=DOWNLOAD'\r\n",
        "\r\n",
        "if os.path.isdir('/tmp'):\r\n",
        "    if os.path.isfile('/tmp/cened20.csv'):\r\n",
        "      pass\r\n",
        "    else:\r\n",
        "      urllib.request.urlretrieve(url, '/tmp/cened20.csv')\r\n",
        "else:\r\n",
        "  os.mkdir('/tmp')\r\n",
        "  urllib.request.urlretrieve(url, '/tmp/cened20.csv')"
      ],
      "execution_count": 2,
      "outputs": []
    },
    {
      "cell_type": "code",
      "metadata": {
        "id": "yxFzc7202X5U"
      },
      "source": [
        "# DDH\n",
        "url = 'https://raw.githubusercontent.com/rboghe/cened/master/degreedays.txt'\n",
        "\n",
        "urllib.request.urlretrieve(url, '/tmp/ddh.csv')\n",
        "\n",
        "ddh = pd.read_csv('/tmp/ddh.csv', usecols = ['comune','dd'])"
      ],
      "execution_count": 3,
      "outputs": []
    },
    {
      "cell_type": "code",
      "metadata": {
        "id": "fiRt0wIy2ciM"
      },
      "source": [
        "cols = ['INTERO_EDIFICIO', 'RIQUALIFICAZIONE_ENERGETICA', 'ZONA_CLIMATICA',\n",
        "           'ANNO_COSTRUZIONE','SUPERF_UTILE_RISCALDATA', 'SUPERF_UTILE_RAFFRESCATA',\n",
        "           'VOLUME_LORDO_RISCALDATO', 'VOLUME_LORDO_RAFFRESCATO', 'CLASSE_ENERGETICA', \n",
        "           'SUPERFICIE_DISPERDENTE', 'RAPPORTO_SV','A_SOL_EST_A_SUP_UTILE','Y_IE', \n",
        "           'CLASSIFICAZIONE_DPR', 'COMUNE', 'EP_H_ND','EP_GL_NREN','EP_GL_REN', \n",
        "           'NUMERO_UNITA_IMMOBILIARI', 'RISTRUTTURAZIONE_IMPORTANTE', 'Y']\n",
        "  \n",
        "cened_new = pd.read_csv('/tmp/cened20.csv', usecols = cols)"
      ],
      "execution_count": 4,
      "outputs": []
    },
    {
      "cell_type": "code",
      "metadata": {
        "id": "fcpEUIINhQMl",
        "outputId": "fa7da90a-f243-4f11-d91b-a4b9163a470c",
        "colab": {
          "base_uri": "https://localhost:8080/"
        }
      },
      "source": [
        "len(cened_new)"
      ],
      "execution_count": 5,
      "outputs": [
        {
          "output_type": "execute_result",
          "data": {
            "text/plain": [
              "939605"
            ]
          },
          "metadata": {
            "tags": []
          },
          "execution_count": 5
        }
      ]
    },
    {
      "cell_type": "markdown",
      "metadata": {
        "id": "s2F4J8oU52DP"
      },
      "source": [
        "# Preprocessing"
      ]
    },
    {
      "cell_type": "code",
      "metadata": {
        "id": "bTycWYIA51kE"
      },
      "source": [
        "# Fillna\r\n",
        "for col in ['EP_GL_NREN', 'EP_GL_REN']:\r\n",
        "    cened_new[col].fillna(0, inplace=True)\r\n",
        "\r\n",
        "# Drop buildings with NaN values\r\n",
        "cened_new.dropna(inplace = True)\r\n",
        "\r\n",
        "# Only entire buildings\r\n",
        "# cened_new = cened_new[cened_new['INTERO_EDIFICIO'] == True]\r\n",
        "\r\n",
        "# Drop renovations\r\n",
        "#cened_new = cened_new[cened_new['RISTRUTTURAZIONE_IMPORTANTE'] == False]\r\n",
        "#cened_new = cened_new[cened_new['RIQUALIFICAZIONE_ENERGETICA'] == False]\r\n",
        "\r\n",
        "# We'll use residential buildings only\r\n",
        "cened_new['CLASSIFICAZIONE_DPR'] = cened_new['CLASSIFICAZIONE_DPR'].str.replace(r'E.1 (1)', 'E.1(1)')\r\n",
        "cened_new = cened_new[cened_new['CLASSIFICAZIONE_DPR'] == 'E.1(1)']\r\n",
        "\r\n",
        "# Add ddh\r\n",
        "cened_new['COMUNE'] = cened_new['COMUNE'].str.lower()\r\n",
        "ddh['comune'] = ddh['comune'].str.lower()\r\n",
        "cened_new['COMUNE'] = cened_new['COMUNE'].str.replace(r\"`\",  \"'\")\r\n",
        "cened_new['COMUNE'] = cened_new['COMUNE'].str.replace(r\"o`\",  \"o'\")\r\n",
        "cened_new['COMUNE'] = cened_new['COMUNE'].str.replace(r\"baranzate\",  \"bollate\")\r\n",
        "cened_new['COMUNE'] = cened_new['COMUNE'].str.replace(r\"bovisio masciago\",  \"bovisio-masciago\")\r\n",
        "cened_new['COMUNE'] = cened_new['COMUNE'].str.replace(r\"cornate d`adda\",  \"cornate d'adda\")\r\n",
        "cened_new['COMUNE'] = cened_new['COMUNE'].str.replace(r\"cortenuova\",  \"cortenova\")\r\n",
        "cened_new['COMUNE'] = cened_new['COMUNE'].str.replace(r\"sant'omobono terme\",  \"sant'omobono imagna\")\r\n",
        "cened_new['COMUNE'] = cened_new['COMUNE'].str.replace(r\"borgo virgilio\",  \"virgilio\")\r\n",
        "cened_new['COMUNE'] = cened_new['COMUNE'].str.replace(r\" - \",  \"-\")\r\n",
        "cened_new['COMUNE'] = cened_new['COMUNE'].str.replace(r\"cassina de pecchi\",  \"cassina de' pecchi\")\r\n",
        "cened_new['COMUNE'] = cened_new['COMUNE'].str.replace(r\"cerano intelvi\",  \"cerano d'intelvi\")\r\n",
        "cened_new['COMUNE'] = cened_new['COMUNE'].str.replace(r\"colverde\",  \"drezzo\")\r\n",
        "cened_new['COMUNE'] = cened_new['COMUNE'].str.replace(r\"cornale e bastida\",  \"cornale\")\r\n",
        "cened_new['COMUNE'] = cened_new['COMUNE'].str.replace(r\"corteolona e genzone\",  \"corteolona\")\r\n",
        "cened_new['COMUNE'] = cened_new['COMUNE'].str.replace(r\"costa serina\",  \"costa di serina\")\r\n",
        "cened_new['COMUNE'] = cened_new['COMUNE'].str.replace(r\"gabbioneta binanuova\",  \"gabbioneta-binanuova\")\r\n",
        "cened_new['COMUNE'] = cened_new['COMUNE'].str.replace(r\"gadesco pieve delmona\",  \"gadesco-pieve delmona\")\r\n",
        "cened_new['COMUNE'] = cened_new['COMUNE'].str.replace(r\"gerre de'caprioli\",  \"gerre de' caprioli\")\r\n",
        "cened_new['COMUNE'] = cened_new['COMUNE'].str.replace(r\"gravedona ed uniti\",  \"grandola ed uniti\")\r\n",
        "cened_new['COMUNE'] = cened_new['COMUNE'].str.replace(r\"la valletta brianza\",  \"perego\")\r\n",
        "cened_new['COMUNE'] = cened_new['COMUNE'].str.replace(r\"lonato del garda\",  \"lonato\")\r\n",
        "cened_new['COMUNE'] = cened_new['COMUNE'].str.replace(r\"maccagno con pino e veddasca\",  \"maccagno\")\r\n",
        "cened_new['COMUNE'] = cened_new['COMUNE'].str.replace(r\"ramponio vernia\",  \"ramponio verna\")\r\n",
        "cened_new['COMUNE'] = cened_new['COMUNE'].str.replace(r\"sermide e felonica\",  \"sermide\")\r\n",
        "cened_new['COMUNE'] = cened_new['COMUNE'].str.replace(r\"toscolano maderno\",  \"toscolano-maderno\")\r\n",
        "cened_new['COMUNE'] = cened_new['COMUNE'].str.replace(r\"tremezzina\",  \"tremezzo\")\r\n",
        "cened_new['COMUNE'] = cened_new['COMUNE'].str.replace(r\"val brembilla\",  \"brembilla\")\r\n",
        "cened_new['COMUNE'] = cened_new['COMUNE'].str.replace(r\"verderio\",  \"verderio inferiore\")\r\n",
        "\r\n",
        "ddh['comune'] = ddh['comune'].str.replace(r\"è\",  \"e'\")\r\n",
        "ddh['comune'] = ddh['comune'].str.replace(r\"è\",  \"e'\")\r\n",
        "ddh['comune'] = ddh['comune'].str.replace(r\"é\",  \"e'\")\r\n",
        "ddh['comune'] = ddh['comune'].str.replace(r\"ò\",  \"o'\")\r\n",
        "ddh['comune'] = ddh['comune'].str.replace(r\"ù\",  \"u'\")\r\n",
        "\r\n",
        "cened_new = cened_new.merge(ddh, left_on='COMUNE', right_on='comune', how='left')\r\n",
        "\r\n",
        "# Riqualificazione\r\n",
        "cened_new['RIQUALIFICAZIONE_ENERGETICA'] = cened_new['RIQUALIFICAZIONE_ENERGETICA'].astype(\"category\").cat.codes\r\n",
        "\r\n",
        "# Ristrutturazione\r\n",
        "cened_new['RISTRUTTURAZIONE_IMPORTANTE'] = cened_new['RISTRUTTURAZIONE_IMPORTANTE'].astype(\"category\").cat.codes\r\n",
        "\r\n",
        "# Climatizzazione\r\n",
        "#cened_new['CLIMATIZZAZIONE_INVERNALE'] = cened_new['CLIMATIZZAZIONE_INVERNALE'].astype(\"category\").cat.codes\r\n",
        "\r\n",
        "# Correct floats\r\n",
        "for col in ['SUPERF_UTILE_RISCALDATA',\r\n",
        "           'SUPERF_UTILE_RAFFRESCATA','VOLUME_LORDO_RISCALDATO','VOLUME_LORDO_RAFFRESCATO','SUPERFICIE_DISPERDENTE',\r\n",
        "           'RAPPORTO_SV','A_SOL_EST_A_SUP_UTILE','Y_IE','EP_H_ND','EP_GL_NREN','EP_GL_REN']:\r\n",
        "    cened_new[col] = cened_new[col].astype(str)\r\n",
        "    cened_new[col] = cened_new[col].str.replace(r',', '')\r\n",
        "    cened_new[col] = cened_new[col].astype(\"float\")"
      ],
      "execution_count": 6,
      "outputs": []
    },
    {
      "cell_type": "code",
      "metadata": {
        "id": "cbTMx8Ukql-F"
      },
      "source": [
        "#EPG\r\n",
        "cened_new['EPG'] = cened_new['EP_GL_NREN'] + cened_new['EP_GL_REN']"
      ],
      "execution_count": 7,
      "outputs": []
    },
    {
      "cell_type": "code",
      "metadata": {
        "colab": {
          "base_uri": "https://localhost:8080/"
        },
        "id": "5xwrfpKQ8LFQ",
        "outputId": "6e8fe3d1-55d8-426b-f542-600e03b496ff"
      },
      "source": [
        "# Full DB of residential buildings without missing data\r\n",
        "print(len(cened_new))"
      ],
      "execution_count": 8,
      "outputs": [
        {
          "output_type": "stream",
          "text": [
            "439674\n"
          ],
          "name": "stdout"
        }
      ]
    },
    {
      "cell_type": "markdown",
      "metadata": {
        "id": "t-NviQVY6Ffl"
      },
      "source": [
        "# Feature engineering"
      ]
    },
    {
      "cell_type": "code",
      "metadata": {
        "id": "idAz0fO86FsB"
      },
      "source": [
        "# Mean height\r\n",
        "cened_new['ALTEZZA_MEDIA'] = cened_new['VOLUME_LORDO_RISCALDATO']/cened_new['SUPERF_UTILE_RISCALDATA']\r\n",
        "\r\n",
        "# Period\r\n",
        "cened_new.ANNO_COSTRUZIONE = cened_new.ANNO_COSTRUZIONE.astype(str)\r\n",
        "cened_new.ANNO_COSTRUZIONE = cened_new.ANNO_COSTRUZIONE.map(lambda x:x[-4:])\r\n",
        "cened_new.ANNO_COSTRUZIONE = cened_new.ANNO_COSTRUZIONE.astype(int)\r\n",
        "\r\n",
        "cened_new['PERIODO'] = pd.cut(cened_new.ANNO_COSTRUZIONE, bins=[0,1930,1945,1960,1976,1992,2006,3000],\r\n",
        "     labels=['Before 1930','1930-1945','1946-1960','1961-1976', '1977-1992', '1993-2006','After 2006']).cat.codes\r\n",
        "\r\n",
        "# East facing surface\r\n",
        "cened_new['A_SOL_EST'] = cened_new['A_SOL_EST_A_SUP_UTILE']*cened_new['SUPERF_UTILE_RISCALDATA']"
      ],
      "execution_count": 9,
      "outputs": []
    },
    {
      "cell_type": "markdown",
      "metadata": {
        "id": "nl5K91NBcGjH"
      },
      "source": [
        "# Filters"
      ]
    },
    {
      "cell_type": "code",
      "metadata": {
        "id": "ZXustvs8RKCl"
      },
      "source": [
        "cened_new = cened_new[cened_new['EP_H_ND'] > 5]\r\n",
        "cened_new = cened_new[cened_new['EP_H_ND'] < 1000]"
      ],
      "execution_count": 10,
      "outputs": []
    },
    {
      "cell_type": "code",
      "metadata": {
        "id": "-20pMSZPiqrg"
      },
      "source": [
        "cened_new = cened_new[cened_new['SUPERF_UTILE_RISCALDATA'] >= 50]"
      ],
      "execution_count": 11,
      "outputs": []
    },
    {
      "cell_type": "code",
      "metadata": {
        "id": "0_Ga6LU5is0d"
      },
      "source": [
        "cened_new = cened_new[cened_new['VOLUME_LORDO_RISCALDATO'] >= 150]"
      ],
      "execution_count": 12,
      "outputs": []
    },
    {
      "cell_type": "code",
      "metadata": {
        "id": "ByUVxIy5ivIr"
      },
      "source": [
        "cened_new = cened_new[cened_new['ALTEZZA_MEDIA'] > 2.4]"
      ],
      "execution_count": 13,
      "outputs": []
    },
    {
      "cell_type": "code",
      "metadata": {
        "id": "sIRKkc4Dix6J"
      },
      "source": [
        "cened_new = cened_new[cened_new['Y_IE'] <= 6]\n",
        "cened_new = cened_new[cened_new['Y_IE'] >= 0.01] #0.03"
      ],
      "execution_count": 14,
      "outputs": []
    },
    {
      "cell_type": "code",
      "metadata": {
        "id": "ToHli5VbpcjL"
      },
      "source": [
        "cened_new = cened_new[cened_new['A_SOL_EST_A_SUP_UTILE'] <= 0.5]\n",
        "cened_new = cened_new[cened_new['A_SOL_EST_A_SUP_UTILE'] > 0]"
      ],
      "execution_count": 15,
      "outputs": []
    },
    {
      "cell_type": "code",
      "metadata": {
        "id": "LFCS2xQRnTjJ",
        "colab": {
          "base_uri": "https://localhost:8080/"
        },
        "outputId": "b78ef41b-cccd-4d16-e3ee-23995a6a0d4c"
      },
      "source": [
        "len(cened_new)"
      ],
      "execution_count": 16,
      "outputs": [
        {
          "output_type": "execute_result",
          "data": {
            "text/plain": [
              "299458"
            ]
          },
          "metadata": {
            "tags": []
          },
          "execution_count": 16
        }
      ]
    },
    {
      "cell_type": "markdown",
      "metadata": {
        "id": "spKskdWCL4mM"
      },
      "source": [
        "# Data analysis"
      ]
    },
    {
      "cell_type": "code",
      "metadata": {
        "id": "MvzSQpeLL_Ku",
        "colab": {
          "base_uri": "https://localhost:8080/",
          "height": 317
        },
        "outputId": "20e535b6-d5a6-415b-ea2a-f4cf456578f2"
      },
      "source": [
        "# Period\r\n",
        "fig = plt.figure(figsize = (6,4))\r\n",
        "cplot = sns.countplot(x = pd.cut(cened_new.ANNO_COSTRUZIONE, bins=[0,1930,1945,1960,1976,1992,2006,3000], \r\n",
        "       labels=['Before 1930','1930-1945','1946-1960','1961-1976', '1977-1992', \r\n",
        "               '1993-2006','After 2006']), color = 'b')\r\n",
        "cplot.set(ylabel = 'Count', xlabel = 'Period')\r\n",
        "plt.xticks(rotation=30)\r\n",
        "plt.show()"
      ],
      "execution_count": 59,
      "outputs": [
        {
          "output_type": "display_data",
          "data": {
            "image/png": "[encoded data removed]",
            "text/plain": [
              "<Figure size 432x288 with 1 Axes>"
            ]
          },
          "metadata": {
            "tags": [],
            "needs_background": "light"
          }
        }
      ]
    },
    {
      "cell_type": "markdown",
      "metadata": {
        "id": "rK7tT6FO6wjs"
      },
      "source": [
        "# Shuffle"
      ]
    },
    {
      "cell_type": "code",
      "metadata": {
        "id": "xQauAX_Z6ywH"
      },
      "source": [
        "cened = cened_new.sample(frac=1).reset_index(drop=True)"
      ],
      "execution_count": 18,
      "outputs": []
    },
    {
      "cell_type": "markdown",
      "metadata": {
        "id": "xLy7NHfV6NOg"
      },
      "source": [
        "# Reserve a test set"
      ]
    },
    {
      "cell_type": "code",
      "metadata": {
        "id": "D8AmkFQH6Nl7"
      },
      "source": [
        "msk = np.random.rand(len(cened)) < 0.8\r\n",
        "train = cened[msk]\r\n",
        "test = cened[~msk]"
      ],
      "execution_count": 19,
      "outputs": []
    },
    {
      "cell_type": "code",
      "metadata": {
        "colab": {
          "base_uri": "https://localhost:8080/"
        },
        "id": "Tz77V-S2_H01",
        "outputId": "3f199202-8efe-45d3-a1f5-60f28d36a766"
      },
      "source": [
        "print(len(train))"
      ],
      "execution_count": 20,
      "outputs": [
        {
          "output_type": "stream",
          "text": [
            "239541\n"
          ],
          "name": "stdout"
        }
      ]
    },
    {
      "cell_type": "code",
      "metadata": {
        "colab": {
          "base_uri": "https://localhost:8080/"
        },
        "id": "HeJnDatG_Kan",
        "outputId": "7f3d95cf-55af-4e59-bc65-eae6e49c1bcb"
      },
      "source": [
        "print(len(test)) # 6646"
      ],
      "execution_count": 21,
      "outputs": [
        {
          "output_type": "stream",
          "text": [
            "59917\n"
          ],
          "name": "stdout"
        }
      ]
    },
    {
      "cell_type": "markdown",
      "metadata": {
        "id": "7TMSuHej9Mw-"
      },
      "source": [
        "# Define MAPE"
      ]
    },
    {
      "cell_type": "code",
      "metadata": {
        "id": "sfmx3u169Q0i"
      },
      "source": [
        "def neg_mape(y_true, y_pred):\r\n",
        "  y_true = np.array(y_true)\r\n",
        "  y_pred = np.array(y_pred)\r\n",
        "  return -np.abs((y_true - y_pred)/y_true).mean()"
      ],
      "execution_count": 22,
      "outputs": []
    },
    {
      "cell_type": "code",
      "metadata": {
        "id": "2TUZvEj1LFLu"
      },
      "source": [
        "def modified_neg_mape(y_true, y_pred):\r\n",
        "  y_true = np.array(y_true)\r\n",
        "  y_pred = np.array(y_pred)\r\n",
        "  errors = np.abs((y_true - y_pred)/y_true)\r\n",
        "  index = np.argwhere(errors > 1)\r\n",
        "  mod_errors = np.delete(errors, index)\r\n",
        "  return -mod_errors.mean()"
      ],
      "execution_count": 23,
      "outputs": []
    },
    {
      "cell_type": "code",
      "metadata": {
        "id": "66onwvYJALQj"
      },
      "source": [
        "neg_mape_scorer = make_scorer(neg_mape, greater_is_better=True)"
      ],
      "execution_count": 24,
      "outputs": []
    },
    {
      "cell_type": "code",
      "metadata": {
        "id": "53ze8caVLOOn"
      },
      "source": [
        "modified_neg_mape_scorer = make_scorer(modified_neg_mape, greater_is_better=True)"
      ],
      "execution_count": 25,
      "outputs": []
    },
    {
      "cell_type": "markdown",
      "metadata": {
        "id": "P3sUK8BN6-Ph"
      },
      "source": [
        "# Random search"
      ]
    },
    {
      "cell_type": "code",
      "metadata": {
        "id": "NbnFeNK8-9up"
      },
      "source": [
        "mlcol = ['SUPERF_UTILE_RISCALDATA',\r\n",
        "           'VOLUME_LORDO_RISCALDATO',\r\n",
        "           'SUPERFICIE_DISPERDENTE', 'dd','PERIODO',\r\n",
        "           'RAPPORTO_SV','A_SOL_EST_A_SUP_UTILE','Y_IE',\r\n",
        "           'ALTEZZA_MEDIA', 'A_SOL_EST', 'NUMERO_UNITA_IMMOBILIARI']"
      ],
      "execution_count": 26,
      "outputs": []
    },
    {
      "cell_type": "code",
      "metadata": {
        "id": "uX_GGcEKzP16"
      },
      "source": [
        "cat_feats = ['PERIODO']"
      ],
      "execution_count": 27,
      "outputs": []
    },
    {
      "cell_type": "code",
      "metadata": {
        "colab": {
          "base_uri": "https://localhost:8080/"
        },
        "id": "QIbN4Y2Q6-Va",
        "outputId": "debcd13f-1840-4efe-d534-36ed329e3ada"
      },
      "source": [
        "param_dist = {'feature_fraction': np.linspace(0.4, 1, num=7),\r\n",
        "              'num_leaf' : list(range(20,40)),\r\n",
        "             'max_depth' : [-1],\r\n",
        "             'max_bin' : [100, 200, 300, 500, 750, 1000, 2000],\r\n",
        "             'bagging_fraction' : np.linspace(0.4, 1, num=14),\r\n",
        "             'bagging_freq' : list(range(1,10)),\r\n",
        "             'lambda_l1' : stats.uniform(0, 0.6),\r\n",
        "             'lambda_l2' : stats.uniform(0, 0.6)}\r\n",
        "\r\n",
        "lgbm = LGBMRegressor(n_estimators = 200, silent = True, verbose = 0, is_training_metric = True, n_jobs = 1, \r\n",
        "                     eval_metric  = 'mape')\r\n",
        "\r\n",
        "n_iter_search = 100\r\n",
        "\r\n",
        "random_search = RandomizedSearchCV(lgbm, param_distributions=param_dist, n_iter=n_iter_search, \r\n",
        "                                   scoring={'MAPE' : neg_mape_scorer, 'MAPE <100%' : modified_neg_mape_scorer, 'R2' : 'r2'} , cv = 5, n_jobs = 6, verbose = 2, refit = 'MAPE <100%')\r\n",
        "\r\n",
        "random_search.fit(cened[mlcol], cened['EP_H_ND'], categorical_feature = cat_feats)"
      ],
      "execution_count": 28,
      "outputs": [
        {
          "output_type": "stream",
          "text": [
            "Fitting 5 folds for each of 100 candidates, totalling 500 fits\n"
          ],
          "name": "stdout"
        },
        {
          "output_type": "stream",
          "text": [
            "[Parallel(n_jobs=6)]: Using backend LokyBackend with 6 concurrent workers.\n",
            "[Parallel(n_jobs=6)]: Done  29 tasks      | elapsed:  2.3min\n",
            "[Parallel(n_jobs=6)]: Done 150 tasks      | elapsed: 10.8min\n",
            "[Parallel(n_jobs=6)]: Done 353 tasks      | elapsed: 25.7min\n",
            "[Parallel(n_jobs=6)]: Done 500 out of 500 | elapsed: 36.4min finished\n",
            "/usr/local/lib/python3.6/dist-packages/lightgbm/basic.py:1209: UserWarning: categorical_feature in Dataset is overridden.\n",
            "New categorical_feature is ['PERIODO']\n",
            "  'New categorical_feature is {}'.format(sorted(list(categorical_feature))))\n"
          ],
          "name": "stderr"
        },
        {
          "output_type": "execute_result",
          "data": {
            "text/plain": [
              "RandomizedSearchCV(cv=5, error_score=nan,\n",
              "                   estimator=LGBMRegressor(boosting_type='gbdt',\n",
              "                                           class_weight=None,\n",
              "                                           colsample_bytree=1.0,\n",
              "                                           eval_metric='mape',\n",
              "                                           importance_type='split',\n",
              "                                           is_training_metric=True,\n",
              "                                           learning_rate=0.1, max_depth=-1,\n",
              "                                           min_child_samples=20,\n",
              "                                           min_child_weight=0.001,\n",
              "                                           min_split_gain=0.0, n_estimators=200,\n",
              "                                           n_jobs=1, num_leaves=31,\n",
              "                                           objective=None, random_sta...\n",
              "                                        'lambda_l2': <scipy.stats._distn_infrastructure.rv_frozen object at 0x7fb621be6be0>,\n",
              "                                        'max_bin': [100, 200, 300, 500, 750,\n",
              "                                                    1000, 2000],\n",
              "                                        'max_depth': [-1],\n",
              "                                        'num_leaf': [20, 21, 22, 23, 24, 25, 26,\n",
              "                                                     27, 28, 29, 30, 31, 32, 33,\n",
              "                                                     34, 35, 36, 37, 38, 39]},\n",
              "                   pre_dispatch='2*n_jobs', random_state=None,\n",
              "                   refit='MAPE <100%', return_train_score=False,\n",
              "                   scoring={'MAPE': make_scorer(neg_mape),\n",
              "                            'MAPE <100%': make_scorer(modified_neg_mape),\n",
              "                            'R2': 'r2'},\n",
              "                   verbose=2)"
            ]
          },
          "metadata": {
            "tags": []
          },
          "execution_count": 28
        }
      ]
    },
    {
      "cell_type": "markdown",
      "metadata": {
        "id": "ZjNqelQa9tM6"
      },
      "source": [
        "# Print results"
      ]
    },
    {
      "cell_type": "code",
      "metadata": {
        "colab": {
          "base_uri": "https://localhost:8080/"
        },
        "id": "8po-ibOx9tjW",
        "outputId": "69a17785-11bd-43ab-8a5b-52cc04ab3e2b"
      },
      "source": [
        "print(random_search.best_params_)"
      ],
      "execution_count": 29,
      "outputs": [
        {
          "output_type": "stream",
          "text": [
            "{'bagging_fraction': 1.0, 'bagging_freq': 7, 'feature_fraction': 0.8999999999999999, 'lambda_l1': 0.371861758217605, 'lambda_l2': 0.14516775700310205, 'max_bin': 750, 'max_depth': -1, 'num_leaf': 30}\n"
          ],
          "name": "stdout"
        }
      ]
    },
    {
      "cell_type": "code",
      "metadata": {
        "colab": {
          "base_uri": "https://localhost:8080/"
        },
        "id": "THJn_s95914s",
        "outputId": "1f1c45fd-2613-4389-939e-90bb6ab6e575"
      },
      "source": [
        "print(random_search.best_score_)"
      ],
      "execution_count": 30,
      "outputs": [
        {
          "output_type": "stream",
          "text": [
            "-0.2439704103753349\n"
          ],
          "name": "stdout"
        }
      ]
    },
    {
      "cell_type": "code",
      "metadata": {
        "colab": {
          "base_uri": "https://localhost:8080/"
        },
        "id": "ta1btwWlTxJn",
        "outputId": "d26dfcc0-9903-4bf9-a542-0ba94fe24bc3"
      },
      "source": [
        "# Create a results df\r\n",
        "cv_df = pd.DataFrame(random_search.cv_results_)\r\n",
        "cv_df = cv_df.sort_values(by = ['rank_test_MAPE']).reset_index()\r\n",
        "\r\n",
        "# Filter columns\r\n",
        "res_cols = [col for col in cv_df if col.startswith('split')]\r\n",
        "\r\n",
        "# Select best iter\r\n",
        "best_res = cv_df.loc[0]\r\n",
        "\r\n",
        "# Print results for each fold\r\n",
        "print(best_res[res_cols]) # around 23"
      ],
      "execution_count": 31,
      "outputs": [
        {
          "output_type": "stream",
          "text": [
            "split0_test_MAPE         -0.353688\n",
            "split1_test_MAPE          -0.35049\n",
            "split2_test_MAPE         -0.352523\n",
            "split3_test_MAPE         -0.353112\n",
            "split4_test_MAPE         -0.351155\n",
            "split0_test_MAPE <100%   -0.244619\n",
            "split1_test_MAPE <100%   -0.244196\n",
            "split2_test_MAPE <100%   -0.244806\n",
            "split3_test_MAPE <100%   -0.244472\n",
            "split4_test_MAPE <100%   -0.243187\n",
            "split0_test_R2            0.635495\n",
            "split1_test_R2            0.637997\n",
            "split2_test_R2            0.630188\n",
            "split3_test_R2            0.635019\n",
            "split4_test_R2            0.638903\n",
            "Name: 0, dtype: object\n"
          ],
          "name": "stdout"
        }
      ]
    },
    {
      "cell_type": "code",
      "metadata": {
        "id": "Hy76OsHBdTP8",
        "colab": {
          "base_uri": "https://localhost:8080/",
          "height": 557
        },
        "outputId": "99c60599-70bc-46f2-92a8-7d4016033d87"
      },
      "source": [
        "df = pd.DataFrame(best_res[res_cols])\r\n",
        "df = df.rename(columns = {0:'Value'})\r\n",
        "df['Fold'] = df.index.str[5:6]\r\n",
        "df['Metric'] = df.index.str[12:]\r\n",
        "df['Value'] = np.where(df['Metric'] == 'R2', df['Value'], df['Value'] * -1)\r\n",
        "ax = sns.barplot(x='Fold', y=\"Value\", hue=\"Metric\", data = df[df['Metric'] != 'R2'])\r\n",
        "ax.set(ylim = (0, 0.38))\r\n",
        "plt.show()\r\n",
        "ax = sns.barplot(x='Fold', y=\"Value\", hue=\"Metric\", data = df[df['Metric'] == 'R2'])\r\n",
        "ax.set(ylim = (0, 1))\r\n",
        "plt.show()"
      ],
      "execution_count": 54,
      "outputs": [
        {
          "output_type": "display_data",
          "data": {
            "image/png": "[encoded data removed]",
            "text/plain": [
              "<Figure size 432x288 with 1 Axes>"
            ]
          },
          "metadata": {
            "tags": [],
            "needs_background": "light"
          }
        },
        {
          "output_type": "display_data",
          "data": {
            "image/png": "[encoded data removed]",
            "text/plain": [
              "<Figure size 432x288 with 1 Axes>"
            ]
          },
          "metadata": {
            "tags": [],
            "needs_background": "light"
          }
        }
      ]
    },
    {
      "cell_type": "markdown",
      "metadata": {
        "id": "UHqwuWX1AeHK"
      },
      "source": [
        "# Train the final model"
      ]
    },
    {
      "cell_type": "code",
      "metadata": {
        "colab": {
          "base_uri": "https://localhost:8080/"
        },
        "id": "Zq7OjJKsAj0x",
        "outputId": "cc88d5b7-fca9-4e50-846b-fe000d77f88f"
      },
      "source": [
        "light = LGBMRegressor(n_estimators = 10000, silent = False, verbose = 2, is_training_metric = True, n_jobs = 6)\r\n",
        "light.set_params(**random_search.best_params_)"
      ],
      "execution_count": 33,
      "outputs": [
        {
          "output_type": "execute_result",
          "data": {
            "text/plain": [
              "LGBMRegressor(bagging_fraction=1.0, bagging_freq=7, boosting_type='gbdt',\n",
              "              class_weight=None, colsample_bytree=1.0,\n",
              "              feature_fraction=0.8999999999999999, importance_type='split',\n",
              "              is_training_metric=True, lambda_l1=0.371861758217605,\n",
              "              lambda_l2=0.14516775700310205, learning_rate=0.1, max_bin=750,\n",
              "              max_depth=-1, min_child_samples=20, min_child_weight=0.001,\n",
              "              min_split_gain=0.0, n_estimators=10000, n_jobs=6, num_leaf=30,\n",
              "              num_leaves=31, objective=None, random_state=None, reg_alpha=0.0,\n",
              "              reg_lambda=0.0, silent=False, subsample=1.0,\n",
              "              subsample_for_bin=200000, subsample_freq=0, verbose=2)"
            ]
          },
          "metadata": {
            "tags": []
          },
          "execution_count": 33
        }
      ]
    },
    {
      "cell_type": "code",
      "metadata": {
        "colab": {
          "base_uri": "https://localhost:8080/"
        },
        "id": "XbLz3zitAuQo",
        "outputId": "c52c8474-adac-45d4-b895-df7903d82f8f"
      },
      "source": [
        "light.fit(train[mlcol], train['EP_H_ND'])"
      ],
      "execution_count": 34,
      "outputs": [
        {
          "output_type": "execute_result",
          "data": {
            "text/plain": [
              "LGBMRegressor(bagging_fraction=1.0, bagging_freq=7, boosting_type='gbdt',\n",
              "              class_weight=None, colsample_bytree=1.0,\n",
              "              feature_fraction=0.8999999999999999, importance_type='split',\n",
              "              is_training_metric=True, lambda_l1=0.371861758217605,\n",
              "              lambda_l2=0.14516775700310205, learning_rate=0.1, max_bin=750,\n",
              "              max_depth=-1, min_child_samples=20, min_child_weight=0.001,\n",
              "              min_split_gain=0.0, n_estimators=10000, n_jobs=6, num_leaf=30,\n",
              "              num_leaves=31, objective=None, random_state=None, reg_alpha=0.0,\n",
              "              reg_lambda=0.0, silent=False, subsample=1.0,\n",
              "              subsample_for_bin=200000, subsample_freq=0, verbose=2)"
            ]
          },
          "metadata": {
            "tags": []
          },
          "execution_count": 34
        }
      ]
    },
    {
      "cell_type": "markdown",
      "metadata": {
        "id": "Ml7EZ7XXAvwc"
      },
      "source": [
        "# Test the model"
      ]
    },
    {
      "cell_type": "code",
      "metadata": {
        "id": "EJFVWFDvAx4h"
      },
      "source": [
        "y_pred = light.predict(test[mlcol]).clip(0)"
      ],
      "execution_count": 35,
      "outputs": []
    },
    {
      "cell_type": "code",
      "metadata": {
        "id": "hCtUFtWSBZ15"
      },
      "source": [
        "results_df = pd.DataFrame({'predicted' : y_pred, 'true' : test['EP_H_ND']})\r\n",
        "results_df['error'] = np.abs((results_df['true'] - results_df['predicted'])/results_df['true'])*100"
      ],
      "execution_count": 36,
      "outputs": []
    },
    {
      "cell_type": "code",
      "metadata": {
        "id": "ve6Lla28DXct",
        "colab": {
          "base_uri": "https://localhost:8080/"
        },
        "outputId": "133eae03-bc9e-4372-8c75-9ddf8c7cd0c8"
      },
      "source": [
        "# MAPE\r\n",
        "results_df['error'].mean()"
      ],
      "execution_count": 37,
      "outputs": [
        {
          "output_type": "execute_result",
          "data": {
            "text/plain": [
              "33.92114147696821"
            ]
          },
          "metadata": {
            "tags": []
          },
          "execution_count": 37
        }
      ]
    },
    {
      "cell_type": "code",
      "metadata": {
        "id": "3NeF_M_htAQS",
        "colab": {
          "base_uri": "https://localhost:8080/"
        },
        "outputId": "dc67bb59-e293-4e88-ccfd-26ea1c1053b0"
      },
      "source": [
        "# Max % error\r\n",
        "results_df['error'].max()"
      ],
      "execution_count": 38,
      "outputs": [
        {
          "output_type": "execute_result",
          "data": {
            "text/plain": [
              "2177.154617456377"
            ]
          },
          "metadata": {
            "tags": []
          },
          "execution_count": 38
        }
      ]
    },
    {
      "cell_type": "code",
      "metadata": {
        "id": "C0o2UT8A2MZZ",
        "colab": {
          "base_uri": "https://localhost:8080/"
        },
        "outputId": "80e8739c-ab12-4d2c-cae6-241d98cc514b"
      },
      "source": [
        "# Row with the highest % error\r\n",
        "results_df.iloc[results_df['error'].argmax()]"
      ],
      "execution_count": 39,
      "outputs": [
        {
          "output_type": "execute_result",
          "data": {
            "text/plain": [
              "predicted     232.497486\n",
              "true           10.210000\n",
              "error        2177.154617\n",
              "Name: 209289, dtype: float64"
            ]
          },
          "metadata": {
            "tags": []
          },
          "execution_count": 39
        }
      ]
    },
    {
      "cell_type": "code",
      "metadata": {
        "id": "luAQiAU3KB8L",
        "colab": {
          "base_uri": "https://localhost:8080/"
        },
        "outputId": "e97601d9-0abd-416b-c49a-0b3e24885710"
      },
      "source": [
        "# MAPE without >100%\r\n",
        "results_df[results_df.error <= 100].error.mean()"
      ],
      "execution_count": 40,
      "outputs": [
        {
          "output_type": "execute_result",
          "data": {
            "text/plain": [
              "24.24505592281679"
            ]
          },
          "metadata": {
            "tags": []
          },
          "execution_count": 40
        }
      ]
    },
    {
      "cell_type": "code",
      "metadata": {
        "id": "xnsGYxRhZnmb",
        "colab": {
          "base_uri": "https://localhost:8080/"
        },
        "outputId": "dcc53def-0720-4664-f78e-0d924cc02a8c"
      },
      "source": [
        "# R2 \r\n",
        "print(r2_score(test['EP_H_ND'], y_pred))"
      ],
      "execution_count": 41,
      "outputs": [
        {
          "output_type": "stream",
          "text": [
            "0.6353711010928301\n"
          ],
          "name": "stdout"
        }
      ]
    },
    {
      "cell_type": "code",
      "metadata": {
        "id": "fCoPtLWGZ6tu",
        "colab": {
          "base_uri": "https://localhost:8080/"
        },
        "outputId": "debddbb1-cf7c-4ea4-925d-315a37d55cf2"
      },
      "source": [
        "# R2 without >100%\r\n",
        "print(r2_score(results_df[results_df.error <= 100].true, results_df[results_df.error <= 100].predicted))"
      ],
      "execution_count": 42,
      "outputs": [
        {
          "output_type": "stream",
          "text": [
            "0.6748541693043698\n"
          ],
          "name": "stdout"
        }
      ]
    },
    {
      "cell_type": "code",
      "metadata": {
        "id": "fyUDfx40m_ri",
        "colab": {
          "base_uri": "https://localhost:8080/",
          "height": 419
        },
        "outputId": "b07ea0a3-9896-42bf-e46e-78b960e8c38c"
      },
      "source": [
        "results_df"
      ],
      "execution_count": 43,
      "outputs": [
        {
          "output_type": "execute_result",
          "data": {
            "text/html": [
              "<div>\n",
              "<style scoped>\n",
              "    .dataframe tbody tr th:only-of-type {\n",
              "        vertical-align: middle;\n",
              "    }\n",
              "\n",
              "    .dataframe tbody tr th {\n",
              "        vertical-align: top;\n",
              "    }\n",
              "\n",
              "    .dataframe thead th {\n",
              "        text-align: right;\n",
              "    }\n",
              "</style>\n",
              "<table border=\"1\" class=\"dataframe\">\n",
              "  <thead>\n",
              "    <tr style=\"text-align: right;\">\n",
              "      <th></th>\n",
              "      <th>predicted</th>\n",
              "      <th>true</th>\n",
              "      <th>error</th>\n",
              "    </tr>\n",
              "  </thead>\n",
              "  <tbody>\n",
              "    <tr>\n",
              "      <th>7</th>\n",
              "      <td>138.492645</td>\n",
              "      <td>107.23</td>\n",
              "      <td>29.154756</td>\n",
              "    </tr>\n",
              "    <tr>\n",
              "      <th>9</th>\n",
              "      <td>174.564948</td>\n",
              "      <td>111.74</td>\n",
              "      <td>56.224224</td>\n",
              "    </tr>\n",
              "    <tr>\n",
              "      <th>10</th>\n",
              "      <td>86.835975</td>\n",
              "      <td>114.14</td>\n",
              "      <td>23.921522</td>\n",
              "    </tr>\n",
              "    <tr>\n",
              "      <th>14</th>\n",
              "      <td>69.213695</td>\n",
              "      <td>70.90</td>\n",
              "      <td>2.378428</td>\n",
              "    </tr>\n",
              "    <tr>\n",
              "      <th>18</th>\n",
              "      <td>90.779691</td>\n",
              "      <td>96.15</td>\n",
              "      <td>5.585345</td>\n",
              "    </tr>\n",
              "    <tr>\n",
              "      <th>...</th>\n",
              "      <td>...</td>\n",
              "      <td>...</td>\n",
              "      <td>...</td>\n",
              "    </tr>\n",
              "    <tr>\n",
              "      <th>299411</th>\n",
              "      <td>100.841936</td>\n",
              "      <td>88.84</td>\n",
              "      <td>13.509608</td>\n",
              "    </tr>\n",
              "    <tr>\n",
              "      <th>299432</th>\n",
              "      <td>106.993036</td>\n",
              "      <td>114.58</td>\n",
              "      <td>6.621543</td>\n",
              "    </tr>\n",
              "    <tr>\n",
              "      <th>299441</th>\n",
              "      <td>76.305565</td>\n",
              "      <td>41.17</td>\n",
              "      <td>85.342640</td>\n",
              "    </tr>\n",
              "    <tr>\n",
              "      <th>299443</th>\n",
              "      <td>81.770104</td>\n",
              "      <td>94.74</td>\n",
              "      <td>13.689990</td>\n",
              "    </tr>\n",
              "    <tr>\n",
              "      <th>299447</th>\n",
              "      <td>236.531835</td>\n",
              "      <td>305.57</td>\n",
              "      <td>22.593240</td>\n",
              "    </tr>\n",
              "  </tbody>\n",
              "</table>\n",
              "<p>59917 rows × 3 columns</p>\n",
              "</div>"
            ],
            "text/plain": [
              "         predicted    true      error\n",
              "7       138.492645  107.23  29.154756\n",
              "9       174.564948  111.74  56.224224\n",
              "10       86.835975  114.14  23.921522\n",
              "14       69.213695   70.90   2.378428\n",
              "18       90.779691   96.15   5.585345\n",
              "...            ...     ...        ...\n",
              "299411  100.841936   88.84  13.509608\n",
              "299432  106.993036  114.58   6.621543\n",
              "299441   76.305565   41.17  85.342640\n",
              "299443   81.770104   94.74  13.689990\n",
              "299447  236.531835  305.57  22.593240\n",
              "\n",
              "[59917 rows x 3 columns]"
            ]
          },
          "metadata": {
            "tags": []
          },
          "execution_count": 43
        }
      ]
    },
    {
      "cell_type": "code",
      "metadata": {
        "id": "0c9tej3NmmoF",
        "colab": {
          "base_uri": "https://localhost:8080/",
          "height": 318
        },
        "outputId": "3ec1a4c8-4536-4cb7-f21d-a5b6f96f60bf"
      },
      "source": [
        "plot_importance(light)"
      ],
      "execution_count": 44,
      "outputs": [
        {
          "output_type": "execute_result",
          "data": {
            "text/plain": [
              "<matplotlib.axes._subplots.AxesSubplot at 0x7fb621be6240>"
            ]
          },
          "metadata": {
            "tags": []
          },
          "execution_count": 44
        },
        {
          "output_type": "display_data",
          "data": {
            "image/png": "[encoded data removed]",
            "text/plain": [
              "<Figure size 432x288 with 1 Axes>"
            ]
          },
          "metadata": {
            "tags": [],
            "needs_background": "light"
          }
        }
      ]
    },
    {
      "cell_type": "markdown",
      "metadata": {
        "id": "MW3keZUTPD3p"
      },
      "source": [
        "# Error analysis"
      ]
    },
    {
      "cell_type": "code",
      "metadata": {
        "id": "b3zWyGsVPD3p",
        "colab": {
          "base_uri": "https://localhost:8080/",
          "height": 345
        },
        "outputId": "0beb115c-4e7c-4847-ee9b-a68fcabeb2f8"
      },
      "source": [
        "# Period\r\n",
        "bins = pd.cut(test.ANNO_COSTRUZIONE, bins=[0,1930,1945,1960,1976,1992,2006,3000], \r\n",
        "       labels=['Before 1930','1930-1945','1946-1960','1961-1976', '1977-1992', \r\n",
        "               '1993-2006','After 2006'])\r\n",
        "\r\n",
        "fig = plt.figure(figsize = (8, 4.5))\r\n",
        "box = sns.boxplot(y = results_df.error, x = bins, \r\n",
        "                  color='lightsteelblue', orient = 'v', \r\n",
        "                  showfliers = False)\r\n",
        "\r\n",
        "box.set(ylim = (0, 150), ylabel = 'MAPE [%]', xlabel = 'Period')\r\n",
        "plt.xticks(rotation=30)\r\n",
        "plt.show()"
      ],
      "execution_count": 60,
      "outputs": [
        {
          "output_type": "display_data",
          "data": {
            "image/png": "[encoded data removed]",
            "text/plain": [
              "<Figure size 576x324 with 1 Axes>"
            ]
          },
          "metadata": {
            "tags": [],
            "needs_background": "light"
          }
        }
      ]
    },
    {
      "cell_type": "code",
      "metadata": {
        "id": "hWSW3vHwPHsj",
        "colab": {
          "base_uri": "https://localhost:8080/",
          "height": 303
        },
        "outputId": "e2ee8e59-cd12-45f5-9850-c231e4020ebe"
      },
      "source": [
        "# Error\r\n",
        "fig = plt.figure(figsize = (7.5,4))\r\n",
        "cplot = sns.countplot(x = pd.cut(results_df.error, bins=[0,10,20,30,40,50,60,70,80,90,100,10000],\r\n",
        "                                 labels = ['<10', '10-20', '20-30', '30-40', '40-50', '50-60', '60-70', '70-80', '80-90', '90-100', '>100']), color = 'b')\r\n",
        "cplot.set(ylabel = 'Count', xlabel = 'MAPE [%]')\r\n",
        "plt.xticks(rotation=30)\r\n",
        "plt.show()"
      ],
      "execution_count": 57,
      "outputs": [
        {
          "output_type": "display_data",
          "data": {
            "image/png": "[encoded data removed]",
            "text/plain": [
              "<Figure size 540x288 with 1 Axes>"
            ]
          },
          "metadata": {
            "tags": [],
            "needs_background": "light"
          }
        }
      ]
    },
    {
      "cell_type": "code",
      "metadata": {
        "id": "Xxb7w9BURrnP",
        "colab": {
          "base_uri": "https://localhost:8080/",
          "height": 339
        },
        "outputId": "d51b174f-9a65-4aca-a697-27846b8d22ba"
      },
      "source": [
        "# Scatterplot\r\n",
        "fig = plt.figure(figsize = (6,5))\r\n",
        "scatter = sns.scatterplot(data=results_df, x=\"predicted\", y=\"true\")\r\n",
        "#scatter.set(ylabel = 'True', xlabel = 'Predicted',\r\n",
        "#            xlim=(-30, 1000), ylim=(-30, 1000))\r\n",
        "m, b = np.polyfit(results_df['predicted'], results_df['true'], 1)\r\n",
        "plt.plot(results_df['predicted'].values, m*results_df['predicted'] + b)\r\n",
        "plt.plot([0, 970], [0,970], c = 'r', linestyle='--')\r\n",
        "plt.show()"
      ],
      "execution_count": 58,
      "outputs": [
        {
          "output_type": "display_data",
          "data": {
            "image/png": "[encoded data removed]",
            "text/plain": [
              "<Figure size 432x360 with 1 Axes>"
            ]
          },
          "metadata": {
            "tags": [],
            "needs_background": "light"
          }
        }
      ]
    }
  ]
}