{
  "nbformat": 4,
  "nbformat_minor": 0,
  "metadata": {
    "colab": {
      "name": "cened_2.0_ml.ipynb",
      "provenance": [],
      "authorship_tag": "ABX9TyMMseoqpT7TmxSuLaPRA8e6",
      "include_colab_link": true
    },
    "kernelspec": {
      "display_name": "Python 3",
      "name": "python3"
    }
  },
  "cells": [
    {
      "cell_type": "markdown",
      "metadata": {
        "id": "view-in-github",
        "colab_type": "text"
      },
      "source": [
        "<a href=\"https://colab.research.google.com/github/rboghe/cened/blob/master/cened_2_0_ml.ipynb\" target=\"_parent\"><img src=\"https://colab.research.google.com/assets/colab-badge.svg\" alt=\"Open In Colab\"/></a>"
      ]
    },
    {
      "cell_type": "markdown",
      "metadata": {
        "id": "8e3keRjX4rEn"
      },
      "source": [
        "# Imports"
      ]
    },
    {
      "cell_type": "code",
      "metadata": {
        "id": "ths-id_T4ge3"
      },
      "source": [
        "import os\r\n",
        "import urllib.request\r\n",
        "import pandas as pd\r\n",
        "import numpy as np\r\n",
        "import random\r\n",
        "import matplotlib.pyplot as plt\r\n",
        "from sklearn.metrics import r2_score, make_scorer\r\n",
        "from sklearn.model_selection import RandomizedSearchCV\r\n",
        "import scipy.stats as stats\r\n",
        "from lightgbm import LGBMRegressor\r\n",
        "\r\n",
        "# Silence panda's setting with copy warning\r\n",
        "pd.options.mode.chained_assignment = None"
      ],
      "execution_count": 86,
      "outputs": []
    },
    {
      "cell_type": "markdown",
      "metadata": {
        "id": "13K9ZDw04wiF"
      },
      "source": [
        "# Load data"
      ]
    },
    {
      "cell_type": "code",
      "metadata": {
        "id": "sJzLWKRf5TBE"
      },
      "source": [
        "# Cened 2.0\r\n",
        "url = 'https://www.dati.lombardia.it/api/views/bbky-sde5/rows.csv?accessType=DOWNLOAD'\r\n",
        "\r\n",
        "if os.path.isdir('/tmp'):\r\n",
        "    if os.path.isfile('/tmp/cened20.csv'):\r\n",
        "      pass\r\n",
        "    else:\r\n",
        "      urllib.request.urlretrieve(url, '/tmp/cened20.csv')\r\n",
        "else:\r\n",
        "  os.mkdir('/tmp')\r\n",
        "  urllib.request.urlretrieve(url, '/tmp/cened20.csv')"
      ],
      "execution_count": 87,
      "outputs": []
    },
    {
      "cell_type": "code",
      "metadata": {
        "id": "yxFzc7202X5U"
      },
      "source": [
        "# DDH\n",
        "url = 'https://raw.githubusercontent.com/rboghe/cened/master/degreedays.txt'\n",
        "\n",
        "urllib.request.urlretrieve(url, '/tmp/ddh.csv')\n",
        "\n",
        "ddh = pd.read_csv('/tmp/ddh.csv', usecols = ['comune','dd'])"
      ],
      "execution_count": 88,
      "outputs": []
    },
    {
      "cell_type": "code",
      "metadata": {
        "id": "fiRt0wIy2ciM",
        "colab": {
          "base_uri": "https://localhost:8080/"
        },
        "outputId": "88b0d77d-a77d-4291-8913-8a16fe8a1f29"
      },
      "source": [
        "cols = ['INTERO_EDIFICIO', 'RIQUALIFICAZIONE_ENERGETICA', 'ZONA_CLIMATICA',\n",
        "           'ANNO_COSTRUZIONE','SUPERF_UTILE_RISCALDATA', 'SUPERF_UTILE_RAFFRESCATA',\n",
        "           'VOLUME_LORDO_RISCALDATO', 'VOLUME_LORDO_RAFFRESCATO', 'CLASSE_ENERGETICA', \n",
        "           'SUPERFICIE_DISPERDENTE', 'RAPPORTO_SV','A_SOL_EST_A_SUP_UTILE','Y_IE', \n",
        "           'CLASSIFICAZIONE_DPR', 'COMUNE', 'EP_H_ND','EP_GL_NREN','EP_GL_REN', \n",
        "           'NUMERO_UNITA_IMMOBILIARI', 'RISTRUTTURAZIONE_IMPORTANTE', 'Y', \n",
        "           'CLIMATIZZAZIONE_INVERNALE', 'CI_TIPO_IMPIANTO_1', 'CI_ANNO_INSTALLAZIONE_1',\n",
        "           'CI_VETTORE_ENERGETICO_1', 'CI_EFFICIENZA_MEDIA', 'CI_POTENZA_NOMINALE_2', 'CI_POTENZA_NOMINALE_1',\n",
        "           'PFR_TIPO_IMPIANTO_1', 'PFR_ANNO_INSTALLAZIONE_1','PFR_VETTORE_ENERGETICO_1',\n",
        "           'PFR_EFFICIENZA_MEDIA_1', 'PFR_POTENZA_NOMINALE_1', 'VENTILAZIONE_MECCANICA',\n",
        "           'PFR_TIPO_IMPIANTO_2', 'PFR_ANNO_INSTALLAZIONE_2','PFR_VETTORE_ENERGETICO_2',\n",
        "           'PFR_EFFICIENZA_MEDIA_2', 'PFR_POTENZA_NOMINALE_2']\n",
        "  \n",
        "cened_new = pd.read_csv('/tmp/cened20.csv', usecols = cols)"
      ],
      "execution_count": 89,
      "outputs": [
        {
          "output_type": "stream",
          "text": [
            "/usr/local/lib/python3.6/dist-packages/IPython/core/interactiveshell.py:2718: DtypeWarning: Columns (161,163) have mixed types.Specify dtype option on import or set low_memory=False.\n",
            "  interactivity=interactivity, compiler=compiler, result=result)\n"
          ],
          "name": "stderr"
        }
      ]
    },
    {
      "cell_type": "markdown",
      "metadata": {
        "id": "s2F4J8oU52DP"
      },
      "source": [
        "# Preprocessing"
      ]
    },
    {
      "cell_type": "code",
      "metadata": {
        "id": "bTycWYIA51kE"
      },
      "source": [
        "# Fillna\r\n",
        "for col in ['CI_TIPO_IMPIANTO_1', 'CI_ANNO_INSTALLAZIONE_1','CI_VETTORE_ENERGETICO_1',\r\n",
        "           'CI_EFFICIENZA_MEDIA', 'CI_POTENZA_NOMINALE_1','PFR_TIPO_IMPIANTO_1', \r\n",
        "            'PFR_ANNO_INSTALLAZIONE_1','PFR_VETTORE_ENERGETICO_1', 'PFR_EFFICIENZA_MEDIA_1', \r\n",
        "            'PFR_POTENZA_NOMINALE_1', 'VENTILAZIONE_MECCANICA','PFR_TIPO_IMPIANTO_2', \r\n",
        "            'PFR_ANNO_INSTALLAZIONE_2','PFR_VETTORE_ENERGETICO_2', 'PFR_EFFICIENZA_MEDIA_2', \r\n",
        "            'PFR_POTENZA_NOMINALE_2','CI_POTENZA_NOMINALE_2','EP_GL_NREN', 'EP_GL_REN']:\r\n",
        "    cened_new[col].fillna(0, inplace=True)\r\n",
        "\r\n",
        "# Drop buildings with NaN values\r\n",
        "cened_new.dropna(inplace = True)\r\n",
        "\r\n",
        "# Only entire buildings\r\n",
        "cened_new = cened_new[cened_new['INTERO_EDIFICIO'] == True]\r\n",
        "\r\n",
        "# Drop renovations\r\n",
        "#cened_new = cened_new[cened_new['RISTRUTTURAZIONE_IMPORTANTE'] == False]\r\n",
        "#cened_new = cened_new[cened_new['RIQUALIFICAZIONE_ENERGETICA'] == False]\r\n",
        "\r\n",
        "# We'll use residential buildings only\r\n",
        "cened_new['CLASSIFICAZIONE_DPR'] = cened_new['CLASSIFICAZIONE_DPR'].str.replace(r'E.1 (1)', 'E.1(1)')\r\n",
        "cened_new = cened_new[cened_new['CLASSIFICAZIONE_DPR'] == 'E.1(1)']\r\n",
        "\r\n",
        "# Add ddh\r\n",
        "cened_new['COMUNE'] = cened_new['COMUNE'].str.lower()\r\n",
        "ddh['comune'] = ddh['comune'].str.lower()\r\n",
        "cened_new['COMUNE'] = cened_new['COMUNE'].str.replace(r\"`\",  \"'\")\r\n",
        "cened_new['COMUNE'] = cened_new['COMUNE'].str.replace(r\"o`\",  \"o'\")\r\n",
        "cened_new['COMUNE'] = cened_new['COMUNE'].str.replace(r\"baranzate\",  \"bollate\")\r\n",
        "cened_new['COMUNE'] = cened_new['COMUNE'].str.replace(r\"bovisio masciago\",  \"bovisio-masciago\")\r\n",
        "cened_new['COMUNE'] = cened_new['COMUNE'].str.replace(r\"cornate d`adda\",  \"cornate d'adda\")\r\n",
        "cened_new['COMUNE'] = cened_new['COMUNE'].str.replace(r\"cortenuova\",  \"cortenova\")\r\n",
        "cened_new['COMUNE'] = cened_new['COMUNE'].str.replace(r\"sant'omobono terme\",  \"sant'omobono imagna\")\r\n",
        "cened_new['COMUNE'] = cened_new['COMUNE'].str.replace(r\"borgo virgilio\",  \"virgilio\")\r\n",
        "cened_new['COMUNE'] = cened_new['COMUNE'].str.replace(r\" - \",  \"-\")\r\n",
        "cened_new['COMUNE'] = cened_new['COMUNE'].str.replace(r\"cassina de pecchi\",  \"cassina de' pecchi\")\r\n",
        "cened_new['COMUNE'] = cened_new['COMUNE'].str.replace(r\"cerano intelvi\",  \"cerano d'intelvi\")\r\n",
        "cened_new['COMUNE'] = cened_new['COMUNE'].str.replace(r\"colverde\",  \"drezzo\")\r\n",
        "cened_new['COMUNE'] = cened_new['COMUNE'].str.replace(r\"cornale e bastida\",  \"cornale\")\r\n",
        "cened_new['COMUNE'] = cened_new['COMUNE'].str.replace(r\"corteolona e genzone\",  \"corteolona\")\r\n",
        "cened_new['COMUNE'] = cened_new['COMUNE'].str.replace(r\"costa serina\",  \"costa di serina\")\r\n",
        "cened_new['COMUNE'] = cened_new['COMUNE'].str.replace(r\"gabbioneta binanuova\",  \"gabbioneta-binanuova\")\r\n",
        "cened_new['COMUNE'] = cened_new['COMUNE'].str.replace(r\"gadesco pieve delmona\",  \"gadesco-pieve delmona\")\r\n",
        "cened_new['COMUNE'] = cened_new['COMUNE'].str.replace(r\"gerre de'caprioli\",  \"gerre de' caprioli\")\r\n",
        "cened_new['COMUNE'] = cened_new['COMUNE'].str.replace(r\"gravedona ed uniti\",  \"grandola ed uniti\")\r\n",
        "cened_new['COMUNE'] = cened_new['COMUNE'].str.replace(r\"la valletta brianza\",  \"perego\")\r\n",
        "cened_new['COMUNE'] = cened_new['COMUNE'].str.replace(r\"lonato del garda\",  \"lonato\")\r\n",
        "cened_new['COMUNE'] = cened_new['COMUNE'].str.replace(r\"maccagno con pino e veddasca\",  \"maccagno\")\r\n",
        "cened_new['COMUNE'] = cened_new['COMUNE'].str.replace(r\"ramponio vernia\",  \"ramponio verna\")\r\n",
        "cened_new['COMUNE'] = cened_new['COMUNE'].str.replace(r\"sermide e felonica\",  \"sermide\")\r\n",
        "cened_new['COMUNE'] = cened_new['COMUNE'].str.replace(r\"toscolano maderno\",  \"toscolano-maderno\")\r\n",
        "cened_new['COMUNE'] = cened_new['COMUNE'].str.replace(r\"tremezzina\",  \"tremezzo\")\r\n",
        "cened_new['COMUNE'] = cened_new['COMUNE'].str.replace(r\"val brembilla\",  \"brembilla\")\r\n",
        "cened_new['COMUNE'] = cened_new['COMUNE'].str.replace(r\"verderio\",  \"verderio inferiore\")\r\n",
        "\r\n",
        "ddh['comune'] = ddh['comune'].str.replace(r\"è\",  \"e'\")\r\n",
        "ddh['comune'] = ddh['comune'].str.replace(r\"è\",  \"e'\")\r\n",
        "ddh['comune'] = ddh['comune'].str.replace(r\"é\",  \"e'\")\r\n",
        "ddh['comune'] = ddh['comune'].str.replace(r\"ò\",  \"o'\")\r\n",
        "ddh['comune'] = ddh['comune'].str.replace(r\"ù\",  \"u'\")\r\n",
        "\r\n",
        "cened_new = cened_new.merge(ddh, left_on='COMUNE', right_on='comune', how='left')\r\n",
        "\r\n",
        "# Riqualificazione\r\n",
        "cened_new['RIQUALIFICAZIONE_ENERGETICA'] = cened_new['RIQUALIFICAZIONE_ENERGETICA'].astype(\"category\").cat.codes\r\n",
        "\r\n",
        "# Ristrutturazione\r\n",
        "cened_new['RISTRUTTURAZIONE_IMPORTANTE'] = cened_new['RISTRUTTURAZIONE_IMPORTANTE'].astype(\"category\").cat.codes\r\n",
        "\r\n",
        "# Climatizzazione\r\n",
        "cened_new['CLIMATIZZAZIONE_INVERNALE'] = cened_new['CLIMATIZZAZIONE_INVERNALE'].astype(\"category\").cat.codes\r\n",
        "\r\n",
        "# Correct floats\r\n",
        "for col in ['SUPERF_UTILE_RISCALDATA',\r\n",
        "           'SUPERF_UTILE_RAFFRESCATA','VOLUME_LORDO_RISCALDATO','VOLUME_LORDO_RAFFRESCATO','SUPERFICIE_DISPERDENTE',\r\n",
        "           'RAPPORTO_SV','A_SOL_EST_A_SUP_UTILE','Y_IE','EP_H_ND','EP_GL_NREN','EP_GL_REN']:\r\n",
        "    cened_new[col] = cened_new[col].astype(str)\r\n",
        "    cened_new[col] = cened_new[col].str.replace(r',', '')\r\n",
        "    cened_new[col] = cened_new[col].astype(\"float\")"
      ],
      "execution_count": 90,
      "outputs": []
    },
    {
      "cell_type": "code",
      "metadata": {
        "id": "cbTMx8Ukql-F"
      },
      "source": [
        "#EPH\r\n",
        "cened_new['EPG'] = cened_new['EP_GL_NREN'] + cened_new['EP_GL_REN']"
      ],
      "execution_count": 91,
      "outputs": []
    },
    {
      "cell_type": "markdown",
      "metadata": {
        "id": "t-NviQVY6Ffl"
      },
      "source": [
        "# Feature engineering"
      ]
    },
    {
      "cell_type": "code",
      "metadata": {
        "id": "idAz0fO86FsB"
      },
      "source": [
        "# Mean height\r\n",
        "cened_new['ALTEZZA_MEDIA'] = cened_new['VOLUME_LORDO_RISCALDATO']/cened_new['SUPERF_UTILE_RISCALDATA']\r\n",
        "\r\n",
        "# Period\r\n",
        "cened_new.ANNO_COSTRUZIONE = cened_new.ANNO_COSTRUZIONE.astype(str)\r\n",
        "cened_new.ANNO_COSTRUZIONE = cened_new.ANNO_COSTRUZIONE.map(lambda x:x[-4:])\r\n",
        "cened_new.ANNO_COSTRUZIONE = cened_new.ANNO_COSTRUZIONE.astype(int)\r\n",
        "\r\n",
        "cened_new['PERIODO'] = pd.cut(cened_new.ANNO_COSTRUZIONE, bins=[0,1930,1945,1960,1976,1992,2006,3000],\r\n",
        "     labels=['Before 1930','1930-1945','1946-1960','1961-1976', '1977-1992', '1993-2006','After 2006']).cat.codes\r\n",
        "\r\n",
        "# East facing surface\r\n",
        "cened_new['A_SOL_EST'] = cened_new['A_SOL_EST_A_SUP_UTILE']/cened_new['SUPERF_UTILE_RISCALDATA'] #?????????"
      ],
      "execution_count": 92,
      "outputs": []
    },
    {
      "cell_type": "markdown",
      "metadata": {
        "id": "nl5K91NBcGjH"
      },
      "source": [
        "# Filters"
      ]
    },
    {
      "cell_type": "code",
      "metadata": {
        "id": "ZXustvs8RKCl"
      },
      "source": [
        "cened_new = cened_new[cened_new['EP_H_ND'] < 1000]"
      ],
      "execution_count": 93,
      "outputs": []
    },
    {
      "cell_type": "code",
      "metadata": {
        "id": "-20pMSZPiqrg"
      },
      "source": [
        "cened_new = cened_new[cened_new['SUPERF_UTILE_RISCALDATA'] >= 30]"
      ],
      "execution_count": 94,
      "outputs": []
    },
    {
      "cell_type": "code",
      "metadata": {
        "id": "0_Ga6LU5is0d"
      },
      "source": [
        "cened_new = cened_new[cened_new['VOLUME_LORDO_RISCALDATO'] >= 75]"
      ],
      "execution_count": 95,
      "outputs": []
    },
    {
      "cell_type": "code",
      "metadata": {
        "id": "ByUVxIy5ivIr"
      },
      "source": [
        "cened_new = cened_new[cened_new['ALTEZZA_MEDIA'] > 2.5]\n",
        "cened_new = cened_new[cened_new['ALTEZZA_MEDIA'] < 5]"
      ],
      "execution_count": 96,
      "outputs": []
    },
    {
      "cell_type": "code",
      "metadata": {
        "id": "sIRKkc4Dix6J"
      },
      "source": [
        "cened_new = cened_new[cened_new['Y_IE'] <= 6]\n",
        "cened_new = cened_new[cened_new['Y_IE'] >= 0.01] #0.03"
      ],
      "execution_count": 97,
      "outputs": []
    },
    {
      "cell_type": "code",
      "metadata": {
        "id": "aQzPwD01jvLu"
      },
      "source": [
        "#cened_new = cened_new[cened_new['CI_POTENZA_NOMINALE_1'] > 0]\n",
        "#cened_new = cened_new[cened_new['CI_POTENZA_NOMINALE_1'] < 200]"
      ],
      "execution_count": 98,
      "outputs": []
    },
    {
      "cell_type": "code",
      "metadata": {
        "id": "6-jbcghYkzMo"
      },
      "source": [
        "#cened_new = cened_new[cened_new['CI_EFFICIENZA_MEDIA'] >= 0.2]\n",
        "#cened_new = cened_new[cened_new['CI_EFFICIENZA_MEDIA'] <= 5]"
      ],
      "execution_count": 99,
      "outputs": []
    },
    {
      "cell_type": "code",
      "metadata": {
        "id": "ToHli5VbpcjL"
      },
      "source": [
        "cened_new = cened_new[cened_new['A_SOL_EST_A_SUP_UTILE'] <= 0.5]\n",
        "cened_new = cened_new[cened_new['A_SOL_EST_A_SUP_UTILE'] > 0]"
      ],
      "execution_count": 100,
      "outputs": []
    },
    {
      "cell_type": "code",
      "metadata": {
        "id": "LFCS2xQRnTjJ",
        "colab": {
          "base_uri": "https://localhost:8080/"
        },
        "outputId": "ea45842b-fdd2-4655-d4d8-60dd7721e4a2"
      },
      "source": [
        "len(cened_new)"
      ],
      "execution_count": 101,
      "outputs": [
        {
          "output_type": "execute_result",
          "data": {
            "text/plain": [
              "32901"
            ]
          },
          "metadata": {
            "tags": []
          },
          "execution_count": 101
        }
      ]
    },
    {
      "cell_type": "markdown",
      "metadata": {
        "id": "rK7tT6FO6wjs"
      },
      "source": [
        "# Shuffle"
      ]
    },
    {
      "cell_type": "code",
      "metadata": {
        "id": "xQauAX_Z6ywH"
      },
      "source": [
        "cened = cened_new.sample(frac=1).reset_index(drop=True)"
      ],
      "execution_count": 102,
      "outputs": []
    },
    {
      "cell_type": "markdown",
      "metadata": {
        "id": "xLy7NHfV6NOg"
      },
      "source": [
        "# Reserve a test set"
      ]
    },
    {
      "cell_type": "code",
      "metadata": {
        "id": "D8AmkFQH6Nl7"
      },
      "source": [
        "msk = np.random.rand(len(cened)) < 0.8\r\n",
        "train = cened[msk]\r\n",
        "test = cened[~msk]"
      ],
      "execution_count": 103,
      "outputs": []
    },
    {
      "cell_type": "code",
      "metadata": {
        "colab": {
          "base_uri": "https://localhost:8080/"
        },
        "id": "Tz77V-S2_H01",
        "outputId": "02b64837-88d0-40e6-df7a-9ab16ba43a9a"
      },
      "source": [
        "print(len(train))"
      ],
      "execution_count": 104,
      "outputs": [
        {
          "output_type": "stream",
          "text": [
            "26255\n"
          ],
          "name": "stdout"
        }
      ]
    },
    {
      "cell_type": "code",
      "metadata": {
        "colab": {
          "base_uri": "https://localhost:8080/"
        },
        "id": "HeJnDatG_Kan",
        "outputId": "8ccbaa29-b264-40d6-9ab4-8a761b12fcde"
      },
      "source": [
        "print(len(test))"
      ],
      "execution_count": 105,
      "outputs": [
        {
          "output_type": "stream",
          "text": [
            "6646\n"
          ],
          "name": "stdout"
        }
      ]
    },
    {
      "cell_type": "markdown",
      "metadata": {
        "id": "7TMSuHej9Mw-"
      },
      "source": [
        "# Define MAPE"
      ]
    },
    {
      "cell_type": "code",
      "metadata": {
        "id": "sfmx3u169Q0i"
      },
      "source": [
        "def neg_mape(y_true, y_pred):\r\n",
        "  y_true = np.array(y_true)\r\n",
        "  y_pred = np.array(y_pred)\r\n",
        "  return -np.abs((y_true - y_pred)/y_true).mean()"
      ],
      "execution_count": 106,
      "outputs": []
    },
    {
      "cell_type": "code",
      "metadata": {
        "id": "2TUZvEj1LFLu"
      },
      "source": [
        "def modified_neg_mape(y_true, y_pred):\r\n",
        "  y_true = np.array(y_true)\r\n",
        "  y_pred = np.array(y_pred)\r\n",
        "  errors = np.abs((y_true - y_pred)/y_true)\r\n",
        "  index = np.argwhere(errors > 1)\r\n",
        "  mod_errors = np.delete(errors, index)\r\n",
        "  return -mod_errors.mean()"
      ],
      "execution_count": 107,
      "outputs": []
    },
    {
      "cell_type": "code",
      "metadata": {
        "id": "66onwvYJALQj"
      },
      "source": [
        "neg_mape_scorer = make_scorer(neg_mape, greater_is_better=True)"
      ],
      "execution_count": 108,
      "outputs": []
    },
    {
      "cell_type": "code",
      "metadata": {
        "id": "53ze8caVLOOn"
      },
      "source": [
        "modified_neg_mape_scorer = make_scorer(modified_neg_mape, greater_is_better=True)"
      ],
      "execution_count": 109,
      "outputs": []
    },
    {
      "cell_type": "markdown",
      "metadata": {
        "id": "P3sUK8BN6-Ph"
      },
      "source": [
        "# Random search"
      ]
    },
    {
      "cell_type": "code",
      "metadata": {
        "id": "NbnFeNK8-9up"
      },
      "source": [
        "mlcol = ['SUPERF_UTILE_RISCALDATA',\r\n",
        "           'VOLUME_LORDO_RISCALDATO',\r\n",
        "           'SUPERFICIE_DISPERDENTE', 'dd','PERIODO',\r\n",
        "           'RAPPORTO_SV','A_SOL_EST_A_SUP_UTILE','Y_IE',\r\n",
        "           'ALTEZZA_MEDIA', 'RIQUALIFICAZIONE_ENERGETICA','RISTRUTTURAZIONE_IMPORTANTE',\r\n",
        "             'A_SOL_EST', 'NUMERO_UNITA_IMMOBILIARI']"
      ],
      "execution_count": 141,
      "outputs": []
    },
    {
      "cell_type": "code",
      "metadata": {
        "id": "uX_GGcEKzP16"
      },
      "source": [
        "cat_feats = ['PERIODO']"
      ],
      "execution_count": 142,
      "outputs": []
    },
    {
      "cell_type": "code",
      "metadata": {
        "colab": {
          "base_uri": "https://localhost:8080/"
        },
        "id": "QIbN4Y2Q6-Va",
        "outputId": "18275082-42de-45e7-9dd0-160b0da19186"
      },
      "source": [
        "param_dist = {'feature_fraction': np.linspace(0.4, 1, num=7),\r\n",
        "              'num_leaf' : list(range(20,40)),\r\n",
        "             'max_depth' : [-1],\r\n",
        "             'max_bin' : [100, 200, 300, 500, 750, 1000, 2000],\r\n",
        "             'bagging_fraction' : np.linspace(0.4, 1, num=14),\r\n",
        "             'bagging_freq' : list(range(1,10)),\r\n",
        "             'lambda_l1' : stats.uniform(0, 0.6),\r\n",
        "             'lambda_l2' : stats.uniform(0, 0.6)}\r\n",
        "\r\n",
        "lgbm = LGBMRegressor(n_estimators = 100, silent = True, verbose = 0, is_training_metric = True, n_jobs = 1, \r\n",
        "                     eval_metric  = 'mape')\r\n",
        "\r\n",
        "n_iter_search = 100\r\n",
        "\r\n",
        "random_search = RandomizedSearchCV(lgbm, param_distributions=param_dist, n_iter=n_iter_search, \r\n",
        "                                   scoring=modified_neg_mape_scorer, cv = 5, n_jobs = 6, verbose = 2)\r\n",
        "\r\n",
        "random_search.fit(cened[mlcol], cened['EP_H_ND'], categorical_feature = cat_feats)"
      ],
      "execution_count": 143,
      "outputs": [
        {
          "output_type": "stream",
          "text": [
            "Fitting 5 folds for each of 100 candidates, totalling 500 fits\n"
          ],
          "name": "stdout"
        },
        {
          "output_type": "stream",
          "text": [
            "[Parallel(n_jobs=6)]: Using backend LokyBackend with 6 concurrent workers.\n",
            "[Parallel(n_jobs=6)]: Done  29 tasks      | elapsed:   13.3s\n",
            "[Parallel(n_jobs=6)]: Done 150 tasks      | elapsed:  1.2min\n",
            "[Parallel(n_jobs=6)]: Done 353 tasks      | elapsed:  2.8min\n",
            "[Parallel(n_jobs=6)]: Done 500 out of 500 | elapsed:  3.9min finished\n",
            "/usr/local/lib/python3.6/dist-packages/lightgbm/basic.py:1209: UserWarning: categorical_feature in Dataset is overridden.\n",
            "New categorical_feature is ['PERIODO']\n",
            "  'New categorical_feature is {}'.format(sorted(list(categorical_feature))))\n"
          ],
          "name": "stderr"
        },
        {
          "output_type": "execute_result",
          "data": {
            "text/plain": [
              "RandomizedSearchCV(cv=5, error_score=nan,\n",
              "                   estimator=LGBMRegressor(boosting_type='gbdt',\n",
              "                                           class_weight=None,\n",
              "                                           colsample_bytree=1.0,\n",
              "                                           eval_metric='mape',\n",
              "                                           importance_type='split',\n",
              "                                           is_training_metric=True,\n",
              "                                           learning_rate=0.1, max_depth=-1,\n",
              "                                           min_child_samples=20,\n",
              "                                           min_child_weight=0.001,\n",
              "                                           min_split_gain=0.0, n_estimators=100,\n",
              "                                           n_jobs=1, num_leaves=31,\n",
              "                                           objective=None, random_sta...\n",
              "                                        'lambda_l1': <scipy.stats._distn_infrastructure.rv_frozen object at 0x7f0a773c4828>,\n",
              "                                        'lambda_l2': <scipy.stats._distn_infrastructure.rv_frozen object at 0x7f0a773c45c0>,\n",
              "                                        'max_bin': [100, 200, 300, 500, 750,\n",
              "                                                    1000, 2000],\n",
              "                                        'max_depth': [-1],\n",
              "                                        'num_leaf': [20, 21, 22, 23, 24, 25, 26,\n",
              "                                                     27, 28, 29, 30, 31, 32, 33,\n",
              "                                                     34, 35, 36, 37, 38, 39]},\n",
              "                   pre_dispatch='2*n_jobs', random_state=None, refit=True,\n",
              "                   return_train_score=False,\n",
              "                   scoring=make_scorer(modified_neg_mape), verbose=2)"
            ]
          },
          "metadata": {
            "tags": []
          },
          "execution_count": 143
        }
      ]
    },
    {
      "cell_type": "markdown",
      "metadata": {
        "id": "ZjNqelQa9tM6"
      },
      "source": [
        "# Print results"
      ]
    },
    {
      "cell_type": "code",
      "metadata": {
        "colab": {
          "base_uri": "https://localhost:8080/"
        },
        "id": "8po-ibOx9tjW",
        "outputId": "af8b13f6-1a8b-4c18-fe17-b9eccc575331"
      },
      "source": [
        "print(random_search.best_params_)"
      ],
      "execution_count": 144,
      "outputs": [
        {
          "output_type": "stream",
          "text": [
            "{'bagging_fraction': 0.8615384615384616, 'bagging_freq': 9, 'feature_fraction': 1.0, 'lambda_l1': 0.05869879136219036, 'lambda_l2': 0.5647457425082241, 'max_bin': 300, 'max_depth': -1, 'num_leaf': 39}\n"
          ],
          "name": "stdout"
        }
      ]
    },
    {
      "cell_type": "code",
      "metadata": {
        "colab": {
          "base_uri": "https://localhost:8080/"
        },
        "id": "THJn_s95914s",
        "outputId": "91219e67-acc0-4702-c1b6-f04a59d93d1e"
      },
      "source": [
        "print(random_search.best_score_)"
      ],
      "execution_count": 145,
      "outputs": [
        {
          "output_type": "stream",
          "text": [
            "-0.2348192513866231\n"
          ],
          "name": "stdout"
        }
      ]
    },
    {
      "cell_type": "code",
      "metadata": {
        "colab": {
          "base_uri": "https://localhost:8080/"
        },
        "id": "ta1btwWlTxJn",
        "outputId": "e90adbc4-1c22-4378-b6d1-4b030515283e"
      },
      "source": [
        "# Create a results df\r\n",
        "cv_df = pd.DataFrame(random_search.cv_results_)\r\n",
        "cv_df = cv_df.sort_values(by = ['rank_test_score']).reset_index()\r\n",
        "\r\n",
        "# Filter columns\r\n",
        "res_cols = [col for col in cv_df if col.startswith('split')]\r\n",
        "\r\n",
        "# Select best iter\r\n",
        "best_res = cv_df.loc[0]\r\n",
        "\r\n",
        "# Print results for each fold\r\n",
        "print(best_res[res_cols])"
      ],
      "execution_count": 146,
      "outputs": [
        {
          "output_type": "stream",
          "text": [
            "split0_test_score   -0.236666\n",
            "split1_test_score   -0.234864\n",
            "split2_test_score   -0.231509\n",
            "split3_test_score   -0.236418\n",
            "split4_test_score   -0.234639\n",
            "Name: 0, dtype: object\n"
          ],
          "name": "stdout"
        }
      ]
    },
    {
      "cell_type": "markdown",
      "metadata": {
        "id": "UHqwuWX1AeHK"
      },
      "source": [
        "# Train the final model"
      ]
    },
    {
      "cell_type": "code",
      "metadata": {
        "colab": {
          "base_uri": "https://localhost:8080/"
        },
        "id": "Zq7OjJKsAj0x",
        "outputId": "4ecd732a-6174-4ca5-9578-bc95a15eb3d3"
      },
      "source": [
        "light = LGBMRegressor(n_estimators = 1000, silent = False, verbose = 2, is_training_metric = True, n_jobs = 6)\r\n",
        "light.set_params(**random_search.best_params_)"
      ],
      "execution_count": 147,
      "outputs": [
        {
          "output_type": "execute_result",
          "data": {
            "text/plain": [
              "LGBMRegressor(bagging_fraction=0.8615384615384616, bagging_freq=9,\n",
              "              boosting_type='gbdt', class_weight=None, colsample_bytree=1.0,\n",
              "              feature_fraction=1.0, importance_type='split',\n",
              "              is_training_metric=True, lambda_l1=0.05869879136219036,\n",
              "              lambda_l2=0.5647457425082241, learning_rate=0.1, max_bin=300,\n",
              "              max_depth=-1, min_child_samples=20, min_child_weight=0.001,\n",
              "              min_split_gain=0.0, n_estimators=1000, n_jobs=6, num_leaf=39,\n",
              "              num_leaves=31, objective=None, random_state=None, reg_alpha=0.0,\n",
              "              reg_lambda=0.0, silent=False, subsample=1.0,\n",
              "              subsample_for_bin=200000, subsample_freq=0, verbose=2)"
            ]
          },
          "metadata": {
            "tags": []
          },
          "execution_count": 147
        }
      ]
    },
    {
      "cell_type": "code",
      "metadata": {
        "colab": {
          "base_uri": "https://localhost:8080/"
        },
        "id": "XbLz3zitAuQo",
        "outputId": "e0ffa6fc-2ac3-4c7a-8914-026283ff8173"
      },
      "source": [
        "light.fit(train[mlcol], train['EP_H_ND'])"
      ],
      "execution_count": 148,
      "outputs": [
        {
          "output_type": "execute_result",
          "data": {
            "text/plain": [
              "LGBMRegressor(bagging_fraction=0.8615384615384616, bagging_freq=9,\n",
              "              boosting_type='gbdt', class_weight=None, colsample_bytree=1.0,\n",
              "              feature_fraction=1.0, importance_type='split',\n",
              "              is_training_metric=True, lambda_l1=0.05869879136219036,\n",
              "              lambda_l2=0.5647457425082241, learning_rate=0.1, max_bin=300,\n",
              "              max_depth=-1, min_child_samples=20, min_child_weight=0.001,\n",
              "              min_split_gain=0.0, n_estimators=1000, n_jobs=6, num_leaf=39,\n",
              "              num_leaves=31, objective=None, random_state=None, reg_alpha=0.0,\n",
              "              reg_lambda=0.0, silent=False, subsample=1.0,\n",
              "              subsample_for_bin=200000, subsample_freq=0, verbose=2)"
            ]
          },
          "metadata": {
            "tags": []
          },
          "execution_count": 148
        }
      ]
    },
    {
      "cell_type": "markdown",
      "metadata": {
        "id": "Ml7EZ7XXAvwc"
      },
      "source": [
        "# Test the model"
      ]
    },
    {
      "cell_type": "code",
      "metadata": {
        "id": "EJFVWFDvAx4h"
      },
      "source": [
        "y_pred = light.predict(test[mlcol])"
      ],
      "execution_count": 149,
      "outputs": []
    },
    {
      "cell_type": "code",
      "metadata": {
        "id": "hCtUFtWSBZ15"
      },
      "source": [
        "results_df = pd.DataFrame({'predicted' : y_pred, 'true' : test['EP_H_ND']})\r\n",
        "results_df['error'] = np.abs((results_df['true'] - results_df['predicted'])/results_df['true'])*100"
      ],
      "execution_count": 150,
      "outputs": []
    },
    {
      "cell_type": "code",
      "metadata": {
        "id": "ve6Lla28DXct",
        "colab": {
          "base_uri": "https://localhost:8080/"
        },
        "outputId": "7240b537-1bcf-43a1-c232-50684a07a820"
      },
      "source": [
        "# MAPE\r\n",
        "results_df['error'].mean()"
      ],
      "execution_count": 151,
      "outputs": [
        {
          "output_type": "execute_result",
          "data": {
            "text/plain": [
              "32.396839006945335"
            ]
          },
          "metadata": {
            "tags": []
          },
          "execution_count": 151
        }
      ]
    },
    {
      "cell_type": "code",
      "metadata": {
        "id": "luAQiAU3KB8L",
        "colab": {
          "base_uri": "https://localhost:8080/"
        },
        "outputId": "a8a2d106-8f8e-47fc-ee9a-bb90b43d5d18"
      },
      "source": [
        "# MAPE without >100%\r\n",
        "results_df[results_df.error <= 100].error.mean()"
      ],
      "execution_count": 152,
      "outputs": [
        {
          "output_type": "execute_result",
          "data": {
            "text/plain": [
              "23.724833963995568"
            ]
          },
          "metadata": {
            "tags": []
          },
          "execution_count": 152
        }
      ]
    },
    {
      "cell_type": "code",
      "metadata": {
        "colab": {
          "base_uri": "https://localhost:8080/",
          "height": 399
        },
        "id": "fyUDfx40m_ri",
        "outputId": "44ef6a62-e118-404b-8dd5-45bc7d02e33b"
      },
      "source": [
        "results_df"
      ],
      "execution_count": 153,
      "outputs": [
        {
          "output_type": "execute_result",
          "data": {
            "text/html": [
              "<div>\n",
              "<style scoped>\n",
              "    .dataframe tbody tr th:only-of-type {\n",
              "        vertical-align: middle;\n",
              "    }\n",
              "\n",
              "    .dataframe tbody tr th {\n",
              "        vertical-align: top;\n",
              "    }\n",
              "\n",
              "    .dataframe thead th {\n",
              "        text-align: right;\n",
              "    }\n",
              "</style>\n",
              "<table border=\"1\" class=\"dataframe\">\n",
              "  <thead>\n",
              "    <tr style=\"text-align: right;\">\n",
              "      <th></th>\n",
              "      <th>predicted</th>\n",
              "      <th>true</th>\n",
              "      <th>error</th>\n",
              "    </tr>\n",
              "  </thead>\n",
              "  <tbody>\n",
              "    <tr>\n",
              "      <th>4</th>\n",
              "      <td>258.732389</td>\n",
              "      <td>350.57</td>\n",
              "      <td>26.196654</td>\n",
              "    </tr>\n",
              "    <tr>\n",
              "      <th>7</th>\n",
              "      <td>198.385245</td>\n",
              "      <td>227.31</td>\n",
              "      <td>12.724806</td>\n",
              "    </tr>\n",
              "    <tr>\n",
              "      <th>13</th>\n",
              "      <td>333.960173</td>\n",
              "      <td>338.39</td>\n",
              "      <td>1.309089</td>\n",
              "    </tr>\n",
              "    <tr>\n",
              "      <th>28</th>\n",
              "      <td>130.815895</td>\n",
              "      <td>94.08</td>\n",
              "      <td>39.047507</td>\n",
              "    </tr>\n",
              "    <tr>\n",
              "      <th>30</th>\n",
              "      <td>236.791823</td>\n",
              "      <td>200.16</td>\n",
              "      <td>18.301271</td>\n",
              "    </tr>\n",
              "    <tr>\n",
              "      <th>...</th>\n",
              "      <td>...</td>\n",
              "      <td>...</td>\n",
              "      <td>...</td>\n",
              "    </tr>\n",
              "    <tr>\n",
              "      <th>32889</th>\n",
              "      <td>275.902577</td>\n",
              "      <td>349.70</td>\n",
              "      <td>21.103066</td>\n",
              "    </tr>\n",
              "    <tr>\n",
              "      <th>32891</th>\n",
              "      <td>91.553891</td>\n",
              "      <td>54.75</td>\n",
              "      <td>67.221719</td>\n",
              "    </tr>\n",
              "    <tr>\n",
              "      <th>32893</th>\n",
              "      <td>312.186444</td>\n",
              "      <td>399.14</td>\n",
              "      <td>21.785227</td>\n",
              "    </tr>\n",
              "    <tr>\n",
              "      <th>32896</th>\n",
              "      <td>82.225885</td>\n",
              "      <td>28.55</td>\n",
              "      <td>188.006604</td>\n",
              "    </tr>\n",
              "    <tr>\n",
              "      <th>32899</th>\n",
              "      <td>272.761443</td>\n",
              "      <td>286.28</td>\n",
              "      <td>4.722145</td>\n",
              "    </tr>\n",
              "  </tbody>\n",
              "</table>\n",
              "<p>6646 rows × 3 columns</p>\n",
              "</div>"
            ],
            "text/plain": [
              "        predicted    true       error\n",
              "4      258.732389  350.57   26.196654\n",
              "7      198.385245  227.31   12.724806\n",
              "13     333.960173  338.39    1.309089\n",
              "28     130.815895   94.08   39.047507\n",
              "30     236.791823  200.16   18.301271\n",
              "...           ...     ...         ...\n",
              "32889  275.902577  349.70   21.103066\n",
              "32891   91.553891   54.75   67.221719\n",
              "32893  312.186444  399.14   21.785227\n",
              "32896   82.225885   28.55  188.006604\n",
              "32899  272.761443  286.28    4.722145\n",
              "\n",
              "[6646 rows x 3 columns]"
            ]
          },
          "metadata": {
            "tags": []
          },
          "execution_count": 153
        }
      ]
    }
  ]
}