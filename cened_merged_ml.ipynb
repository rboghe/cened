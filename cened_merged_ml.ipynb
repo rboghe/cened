{
  "nbformat": 4,
  "nbformat_minor": 0,
  "metadata": {
    "colab": {
      "name": "Untitled0.ipynb",
      "provenance": [],
      "collapsed_sections": [],
      "authorship_tag": "ABX9TyOE35/ThBltWsYXBveN017F",
      "include_colab_link": true
    },
    "kernelspec": {
      "name": "python3",
      "display_name": "Python 3"
    }
  },
  "cells": [
    {
      "cell_type": "markdown",
      "metadata": {
        "id": "view-in-github",
        "colab_type": "text"
      },
      "source": [
        "<a href=\"https://colab.research.google.com/github/rboghe/cened/blob/master/cened_merged_ml.ipynb\" target=\"_parent\"><img src=\"https://colab.research.google.com/assets/colab-badge.svg\" alt=\"Open In Colab\"/></a>"
      ]
    },
    {
      "cell_type": "markdown",
      "metadata": {
        "id": "NpYzrRpEl-rq"
      },
      "source": [
        "# TO DO"
      ]
    },
    {
      "cell_type": "markdown",
      "metadata": {
        "id": "EzQtURBMNU7J"
      },
      "source": [
        "\r\n",
        "\r\n",
        "*   take care of _x and _y\r\n"
      ]
    },
    {
      "cell_type": "markdown",
      "metadata": {
        "id": "rTgtbdUu612B"
      },
      "source": [
        "##Loading Files"
      ]
    },
    {
      "cell_type": "code",
      "metadata": {
        "id": "bFTamnUO12MU"
      },
      "source": [
        "import os\n",
        "import urllib.request\n",
        "import pandas as pd\n",
        "import numpy as np\n",
        "import random\n",
        "import matplotlib.pyplot as plt\n",
        "from sklearn.metrics import r2_score, make_scorer\n",
        "from lightgbm import LGBMRegressor, plot_importance\n",
        "import scipy.stats as stats\n",
        "from sklearn.model_selection import RandomizedSearchCV\n",
        "import seaborn as sns\n",
        "\n",
        "# Silence panda's setting with copy warning\n",
        "pd.options.mode.chained_assignment = None\n",
        "\n",
        "# Set Seaborn style\n",
        "sns.set_theme(style=\"white\")"
      ],
      "execution_count": 1150,
      "outputs": []
    },
    {
      "cell_type": "code",
      "metadata": {
        "id": "nBJZFlqV15MW"
      },
      "source": [
        "url = 'https://www.dati.lombardia.it/api/views/bbky-sde5/rows.csv?accessType=DOWNLOAD'\n",
        "\n",
        "if os.path.isdir('/tmp'):\n",
        "    if os.path.isfile('/tmp/cened20.csv'):\n",
        "      pass\n",
        "    else:\n",
        "      urllib.request.urlretrieve(url, '/tmp/cened20.csv')\n",
        "else:\n",
        "  os.mkdir('/tmp')\n",
        "  urllib.request.urlretrieve(url, '/tmp/cened20.csv')"
      ],
      "execution_count": 1151,
      "outputs": []
    },
    {
      "cell_type": "code",
      "metadata": {
        "id": "FAw5P6g217ld"
      },
      "source": [
        "url = 'https://www.dati.lombardia.it/api/views/rsg3-xhvk/rows.csv?accessType=DOWNLOAD'\n",
        "\n",
        "\n",
        "if os.path.isfile('/tmp/cened12.csv'):\n",
        "  pass\n",
        "else:\n",
        "  urllib.request.urlretrieve(url, '/tmp/cened12.csv')"
      ],
      "execution_count": 1152,
      "outputs": []
    },
    {
      "cell_type": "code",
      "metadata": {
        "id": "yxFzc7202X5U"
      },
      "source": [
        "url = 'https://raw.githubusercontent.com/rboghe/cened/master/degreedays.txt'\n",
        "\n",
        "urllib.request.urlretrieve(url, '/tmp/ddh.csv')\n",
        "\n",
        "ddh = pd.read_csv('/tmp/ddh.csv', usecols = ['comune','dd'])"
      ],
      "execution_count": 1153,
      "outputs": []
    },
    {
      "cell_type": "code",
      "metadata": {
        "id": "fiRt0wIy2ciM",
        "colab": {
          "base_uri": "https://localhost:8080/"
        },
        "outputId": "8b1236cc-4325-4c24-ccf4-e0ca9cc98e79"
      },
      "source": [
        "cols20 = ['RIQUALIFICAZIONE_ENERGETICA',\n",
        "           'ANNO_COSTRUZIONE','SUPERF_UTILE_RISCALDATA', \n",
        "           'VOLUME_LORDO_RISCALDATO', 'SUPERFICIE_DISPERDENTE', 'RAPPORTO_SV','A_SOL_EST_A_SUP_UTILE','Y_IE', \n",
        "           'CLASSIFICAZIONE_DPR', 'COMUNE', 'EP_H_ND','EP_GL_NREN','EP_GL_REN', \n",
        "           'NUMERO_UNITA_IMMOBILIARI', 'RISTRUTTURAZIONE_IMPORTANTE', \n",
        "           'COMUNE','FOGLIO', 'PARTICELLA', 'SUBALTERNO']\n",
        "\n",
        "cols12 = ['COMUNE','FOGLIO', 'PARTICELLA', 'SUBALTERNO','SUPERFICIE_DISPERDENTE',\n",
        "          'TRASMITTANZA_MEDIA_COPERTURA','TRASMITTANZA_MEDIA_INVOLUCRO',\n",
        "          'TRASMITTANZA_MEDIA_BASAMENTO','TRASMITTANZA_MEDIA_SERRAMENTO',\n",
        "          'SUPERFICIE_LORDA', 'VOLUME_LORDO', 'DESTINAZIONE_DI_USO',\n",
        "          'SUPERFICIE_VETRATA_OPACA', 'VOLUME_NETTO',\n",
        "          'SUPERFICIE_NETTA', 'ANNO_COSTRUZIONE','NUMERO_RICAMBI_ORARI', 'EPH']\n",
        "  \n",
        "cened20 = pd.read_csv('/tmp/cened20.csv', usecols = cols20)\n",
        "cened12 = pd.read_csv('/tmp/cened12.csv', usecols = cols12)"
      ],
      "execution_count": 1154,
      "outputs": [
        {
          "output_type": "stream",
          "text": [
            "/usr/local/lib/python3.6/dist-packages/IPython/core/interactiveshell.py:2718: DtypeWarning: Columns (6,7,19,20) have mixed types.Specify dtype option on import or set low_memory=False.\n",
            "  interactivity=interactivity, compiler=compiler, result=result)\n"
          ],
          "name": "stderr"
        }
      ]
    },
    {
      "cell_type": "markdown",
      "metadata": {
        "id": "LrDzUNcW678_"
      },
      "source": [
        "## Pre-processing"
      ]
    },
    {
      "cell_type": "code",
      "metadata": {
        "id": "LERkjzsP3s3N"
      },
      "source": [
        "cened20['EP_GL_NREN'].fillna(0, inplace=True)\n",
        "cened20['EP_GL_REN'].fillna(0, inplace=True)\n",
        "\n",
        "# Drop NaN \n",
        "cened20 = cened20.dropna()\n",
        "cened12 = cened12.dropna() "
      ],
      "execution_count": 1155,
      "outputs": []
    },
    {
      "cell_type": "code",
      "metadata": {
        "id": "ML1vCA8xGOm2"
      },
      "source": [
        "# Only entire buildings\n",
        "# cened20 = cened20[cened20['INTERO_EDIFICIO'] == True]"
      ],
      "execution_count": 1156,
      "outputs": []
    },
    {
      "cell_type": "code",
      "metadata": {
        "id": "AOq-QxRlPRjA"
      },
      "source": [
        "# Drop renovations\n",
        "cened20 = cened20[cened20['RISTRUTTURAZIONE_IMPORTANTE'] == False]\n",
        "cened20 = cened20[cened20['RIQUALIFICAZIONE_ENERGETICA'] == False]"
      ],
      "execution_count": 1157,
      "outputs": []
    },
    {
      "cell_type": "code",
      "metadata": {
        "id": "SAtnjPoiJJZO"
      },
      "source": [
        "cened20.ANNO_COSTRUZIONE = cened20.ANNO_COSTRUZIONE.astype(str)\r\n",
        "cened20.ANNO_COSTRUZIONE = cened20.ANNO_COSTRUZIONE.map(lambda x:x[-4:])\r\n",
        "cened20.ANNO_COSTRUZIONE = cened20.ANNO_COSTRUZIONE.astype(int)\r\n",
        "\r\n",
        "cened20['PERIODO_20'] = pd.cut(cened20.ANNO_COSTRUZIONE, bins=[0,1930,1945,1960,1976,1992,2006,3000],\r\n",
        "     labels=['Before 1930','1930-1945','1946-1960','1961-1976', '1977-1992', '1993-2006','After 2006']).cat.codes"
      ],
      "execution_count": 1158,
      "outputs": []
    },
    {
      "cell_type": "code",
      "metadata": {
        "id": "RZz3XxKbJQpC"
      },
      "source": [
        "cened12.ANNO_COSTRUZIONE = cened12.ANNO_COSTRUZIONE.astype(str)\r\n",
        "cened12.ANNO_COSTRUZIONE = cened12.ANNO_COSTRUZIONE.map(lambda x:x[-4:])\r\n",
        "cened12.ANNO_COSTRUZIONE = cened12.ANNO_COSTRUZIONE.astype(int)\r\n",
        "\r\n",
        "cened12['PERIODO_12'] = pd.cut(cened12.ANNO_COSTRUZIONE, bins=[0,1930,1945,1960,1976,1992,2006,3000],\r\n",
        "     labels=['Before 1930','1930-1945','1946-1960','1961-1976', '1977-1992', '1993-2006','After 2006']).cat.codes"
      ],
      "execution_count": 1159,
      "outputs": []
    },
    {
      "cell_type": "markdown",
      "metadata": {
        "id": "7V08nFsW7BmJ"
      },
      "source": [
        "## Merge"
      ]
    },
    {
      "cell_type": "code",
      "metadata": {
        "id": "FhlF_D8KRkgm"
      },
      "source": [
        "# Take care of city names\r\n",
        "cened12['COMUNE'] = cened12['COMUNE'].str.lower()\r\n",
        "cened12['COMUNE'] = cened12['COMUNE'].str.replace(r\"o`\",  \"o'\")\r\n",
        "cened12['COMUNE'] = cened12['COMUNE'].str.replace(r\"baranzate\",  \"bollate\")\r\n",
        "cened12['COMUNE'] = cened12['COMUNE'].str.replace(r\"bovisio masciago\",  \"bovisio-masciago\")\r\n",
        "cened12['COMUNE'] = cened12['COMUNE'].str.replace(r\"cornate d`adda\",  \"cornate d'adda\")\r\n",
        "cened12['COMUNE'] = cened12['COMUNE'].str.replace(r\"cortenuova\",  \"cortenova\")\r\n",
        "cened12['COMUNE'] = cened12['COMUNE'].str.replace(r\"sant'omobono terme\",  \"sant'omobono imagna\")\r\n",
        "\r\n",
        "cened20['COMUNE'] = cened20['COMUNE'].str.lower()\r\n",
        "cened20['COMUNE'] = cened20['COMUNE'].str.replace(r\"`\",  \"'\")\r\n",
        "cened20['COMUNE'] = cened20['COMUNE'].str.replace(r\"o`\",  \"o'\")\r\n",
        "cened20['COMUNE'] = cened20['COMUNE'].str.replace(r\"baranzate\",  \"bollate\")\r\n",
        "cened20['COMUNE'] = cened20['COMUNE'].str.replace(r\"bovisio masciago\",  \"bovisio-masciago\")\r\n",
        "cened20['COMUNE'] = cened20['COMUNE'].str.replace(r\"cornate d`adda\",  \"cornate d'adda\")\r\n",
        "cened20['COMUNE'] = cened20['COMUNE'].str.replace(r\"cortenuova\",  \"cortenova\")\r\n",
        "cened20['COMUNE'] = cened20['COMUNE'].str.replace(r\"sant'omobono terme\",  \"sant'omobono imagna\")\r\n",
        "cened20['COMUNE'] = cened20['COMUNE'].str.replace(r\"borgo virgilio\",  \"virgilio\")\r\n",
        "cened20['COMUNE'] = cened20['COMUNE'].str.replace(r\" - \",  \"-\")\r\n",
        "cened20['COMUNE'] = cened20['COMUNE'].str.replace(r\"cassina de pecchi\",  \"cassina de' pecchi\")\r\n",
        "cened20['COMUNE'] = cened20['COMUNE'].str.replace(r\"cerano intelvi\",  \"cerano d'intelvi\")\r\n",
        "cened20['COMUNE'] = cened20['COMUNE'].str.replace(r\"colverde\",  \"drezzo\")\r\n",
        "cened20['COMUNE'] = cened20['COMUNE'].str.replace(r\"cornale e bastida\",  \"cornale\")\r\n",
        "cened20['COMUNE'] = cened20['COMUNE'].str.replace(r\"corteolona e genzone\",  \"corteolona\")\r\n",
        "cened20['COMUNE'] = cened20['COMUNE'].str.replace(r\"costa serina\",  \"costa di serina\")\r\n",
        "cened20['COMUNE'] = cened20['COMUNE'].str.replace(r\"gabbioneta binanuova\",  \"gabbioneta-binanuova\")\r\n",
        "cened20['COMUNE'] = cened20['COMUNE'].str.replace(r\"gadesco pieve delmona\",  \"gadesco-pieve delmona\")\r\n",
        "cened20['COMUNE'] = cened20['COMUNE'].str.replace(r\"gerre de'caprioli\",  \"gerre de' caprioli\")\r\n",
        "cened20['COMUNE'] = cened20['COMUNE'].str.replace(r\"gravedona ed uniti\",  \"grandola ed uniti\")\r\n",
        "cened20['COMUNE'] = cened20['COMUNE'].str.replace(r\"la valletta brianza\",  \"perego\")\r\n",
        "cened20['COMUNE'] = cened20['COMUNE'].str.replace(r\"lonato del garda\",  \"lonato\")\r\n",
        "cened20['COMUNE'] = cened20['COMUNE'].str.replace(r\"maccagno con pino e veddasca\",  \"maccagno\")\r\n",
        "cened20['COMUNE'] = cened20['COMUNE'].str.replace(r\"ramponio vernia\",  \"ramponio verna\")\r\n",
        "cened20['COMUNE'] = cened20['COMUNE'].str.replace(r\"sermide e felonica\",  \"sermide\")\r\n",
        "cened20['COMUNE'] = cened20['COMUNE'].str.replace(r\"toscolano maderno\",  \"toscolano-maderno\")\r\n",
        "cened20['COMUNE'] = cened20['COMUNE'].str.replace(r\"tremezzina\",  \"tremezzo\")\r\n",
        "cened20['COMUNE'] = cened20['COMUNE'].str.replace(r\"val brembilla\",  \"brembilla\")\r\n",
        "cened20['COMUNE'] = cened20['COMUNE'].str.replace(r\"verderio\",  \"verderio inferiore\")"
      ],
      "execution_count": 1160,
      "outputs": []
    },
    {
      "cell_type": "code",
      "metadata": {
        "id": "YXe5ekClqP3T"
      },
      "source": [
        "exall12 = cened12['SUBALTERNO'].str.extractall('(\\d+)').fillna(0)\r\n",
        "cened12 = exall12.join(cened12.reindex(exall12.index, level=0)).reset_index()\r\n",
        "cened12['SUBALTERNO'] = cened12[0]\r\n",
        "\r\n",
        "exall20 = cened20['SUBALTERNO'].str.extractall('(\\d+)').fillna(0)\r\n",
        "cened20 = exall20.join(cened20.reindex(exall20.index, level=0)).reset_index()\r\n",
        "cened20['SUBALTERNO'] = cened20[0]"
      ],
      "execution_count": 1161,
      "outputs": []
    },
    {
      "cell_type": "code",
      "metadata": {
        "id": "dQYBddpD5yEK"
      },
      "source": [
        "# Merge dfs\n",
        "cenedtot = pd.merge(left=cened20, right=cened12, left_on=['COMUNE','FOGLIO', 'PARTICELLA', 'SUBALTERNO'], #, 'PERIODO' \n",
        "                    right_on=['COMUNE','FOGLIO', 'PARTICELLA', 'SUBALTERNO'],  how='inner') # , 'SUBALTERNO' | , 'SUBALTERNO'"
      ],
      "execution_count": 1162,
      "outputs": []
    },
    {
      "cell_type": "code",
      "metadata": {
        "colab": {
          "base_uri": "https://localhost:8080/"
        },
        "id": "kCuWUarfLAbK",
        "outputId": "5a762275-24c0-4092-aa02-c8509b4ccf33"
      },
      "source": [
        "print(len(cenedtot))"
      ],
      "execution_count": 1163,
      "outputs": [
        {
          "output_type": "stream",
          "text": [
            "2287\n"
          ],
          "name": "stdout"
        }
      ]
    },
    {
      "cell_type": "markdown",
      "metadata": {
        "id": "bXVWPjsGdL7-"
      },
      "source": [
        "## Pre-filtering"
      ]
    },
    {
      "cell_type": "code",
      "metadata": {
        "id": "e7VDGgXB6heV"
      },
      "source": [
        "# Compute difference between ext surfaces\n",
        "# cenedtot['surfdiff'] = abs((cenedtot['SUPERF_UTILE_RISCALDATA'] - cenedtot['SUPERFICIE_NETTA'])/cenedtot['SUPERF_UTILE_RISCALDATA'])\n",
        "\n",
        "# Drop rows with high difference\n",
        "#cenedtot = cenedtot[cenedtot['surfdiff'] < 0.25]\n",
        "\n",
        "# Compute difference between ext surfaces\n",
        "#cenedtot['surfdiff'] = abs((cenedtot['SUPERFICIE_DISPERDENTE_y'] - cenedtot['SUPERFICIE_DISPERDENTE_x'])/cenedtot['SUPERFICIE_DISPERDENTE_y'])\n",
        "\n",
        "# Drop rows with high difference\n",
        "#cenedtot = cenedtot[cenedtot['surfdiff'] < 0.25]"
      ],
      "execution_count": 1164,
      "outputs": []
    },
    {
      "cell_type": "code",
      "metadata": {
        "id": "p18EC-SUazhQ"
      },
      "source": [
        "# Compute difference between EPH\n",
        "#cenedtot['ephdiff'] = abs((cenedtot['EPH'] - cenedtot['EP_H_ND'])/cenedtot['EPH'])\n",
        "\n",
        "# Drop rows with high difference\n",
        "#cenedtot = cenedtot[cenedtot['ephdiff'] < 0.30]"
      ],
      "execution_count": 1165,
      "outputs": []
    },
    {
      "cell_type": "code",
      "metadata": {
        "id": "xX6NlYdF-LvI"
      },
      "source": [
        "cenedtot['DESTINAZIONE_DI_USO'] = cenedtot['DESTINAZIONE_DI_USO'].str.replace(r'E.1 (1)', 'E.1(1)')\r\n",
        "cenedtot = cenedtot[cenedtot['DESTINAZIONE_DI_USO'] == 'E.1(1)']\r\n",
        "# cenedtot = cenedtot[cenedtot['DESTINAZIONE_DI_USO'].str.contains('|'.join(['E.1', 'E.2']))]"
      ],
      "execution_count": 1166,
      "outputs": []
    },
    {
      "cell_type": "code",
      "metadata": {
        "id": "Pur65Xv1OYqf"
      },
      "source": [
        "cenedtot = cenedtot.dropna() "
      ],
      "execution_count": 1167,
      "outputs": []
    },
    {
      "cell_type": "markdown",
      "metadata": {
        "id": "zvgAL77lLCDf"
      },
      "source": [
        "# Preprocessing"
      ]
    },
    {
      "cell_type": "code",
      "metadata": {
        "id": "Nf2ID1f1Nyb1"
      },
      "source": [
        "cenedtot['SUPERFICIE_DISPERDENTE'] = (cenedtot['SUPERFICIE_DISPERDENTE_x'] + cenedtot['SUPERFICIE_DISPERDENTE_y'])/2"
      ],
      "execution_count": 1168,
      "outputs": []
    },
    {
      "cell_type": "code",
      "metadata": {
        "id": "QtdWCtJmK3hs"
      },
      "source": [
        "# Correct floats\r\n",
        "for col in ['SUPERF_UTILE_RISCALDATA',\r\n",
        "           'VOLUME_LORDO_RISCALDATO', 'SUPERFICIE_DISPERDENTE',\r\n",
        "           'RAPPORTO_SV','A_SOL_EST_A_SUP_UTILE','Y_IE','EP_H_ND','EP_GL_NREN','EP_GL_REN']:\r\n",
        "    cenedtot[col] = cenedtot[col].astype(str)\r\n",
        "    cenedtot[col] = cenedtot[col].str.replace(r',', '')\r\n",
        "    cenedtot[col] = cenedtot[col].astype(\"float\")"
      ],
      "execution_count": 1169,
      "outputs": []
    },
    {
      "cell_type": "code",
      "metadata": {
        "id": "bdvdZbIjUXtW"
      },
      "source": [
        "# Take care of ach\r\n",
        "cenedtot.NUMERO_RICAMBI_ORARI = cenedtot.NUMERO_RICAMBI_ORARI.astype(str)\r\n",
        "cenedtot.NUMERO_RICAMBI_ORARI = cenedtot.NUMERO_RICAMBI_ORARI.map(lambda x:x[:6])\r\n",
        "cenedtot.NUMERO_RICAMBI_ORARI = cenedtot.NUMERO_RICAMBI_ORARI.astype(float)"
      ],
      "execution_count": 1170,
      "outputs": []
    },
    {
      "cell_type": "markdown",
      "metadata": {
        "id": "5XoQZ2wFAnJM"
      },
      "source": [
        "##Feature engineering"
      ]
    },
    {
      "cell_type": "code",
      "metadata": {
        "id": "ypVKCrOKApsL"
      },
      "source": [
        "# Add ddh\n",
        "ddh['comune'] = ddh['comune'].str.lower()\n",
        "ddh['comune'] = ddh['comune'].str.replace(r\"è\",  \"e'\")\n",
        "ddh['comune'] = ddh['comune'].str.replace(r\"è\",  \"e'\")\n",
        "ddh['comune'] = ddh['comune'].str.replace(r\"é\",  \"e'\")\n",
        "ddh['comune'] = ddh['comune'].str.replace(r\"ò\",  \"o'\")\n",
        "ddh['comune'] = ddh['comune'].str.replace(r\"ù\",  \"u'\")\n",
        "\n",
        "cenedtot = cenedtot.merge(ddh, left_on='COMUNE', right_on='comune', how='left')"
      ],
      "execution_count": 1171,
      "outputs": []
    },
    {
      "cell_type": "code",
      "metadata": {
        "id": "6OfhIaz6Dbe_"
      },
      "source": [
        "# Opaque surface\n",
        "cenedtot['SUP_OPACA'] = cenedtot['SUPERFICIE_DISPERDENTE']/(1+cenedtot['SUPERFICIE_VETRATA_OPACA'])\n",
        "\n",
        "# Glazing\n",
        "cenedtot['SUP_FINESTRATA'] = cenedtot['SUPERFICIE_DISPERDENTE'] - cenedtot['SUP_OPACA']"
      ],
      "execution_count": 1172,
      "outputs": []
    },
    {
      "cell_type": "code",
      "metadata": {
        "id": "9hWzT2YyEEDj"
      },
      "source": [
        "cenedtot['ALTEZZA_MEDIA_12'] = cenedtot['VOLUME_NETTO']/cenedtot['SUPERFICIE_NETTA']\r\n",
        "cenedtot['ALTEZZA_MEDIA_20'] = cenedtot['VOLUME_LORDO_RISCALDATO']/cenedtot['SUPERF_UTILE_RISCALDATA']"
      ],
      "execution_count": 1173,
      "outputs": []
    },
    {
      "cell_type": "code",
      "metadata": {
        "id": "tlDJYgk9Eaqc"
      },
      "source": [
        "cenedtot['TRASMITTANZA_MEDIA'] = (cenedtot['TRASMITTANZA_MEDIA_SERRAMENTO'] + cenedtot['TRASMITTANZA_MEDIA_COPERTURA'] +\n",
        "         cenedtot['TRASMITTANZA_MEDIA_BASAMENTO'] + cenedtot['TRASMITTANZA_MEDIA_INVOLUCRO'])/4"
      ],
      "execution_count": 1174,
      "outputs": []
    },
    {
      "cell_type": "code",
      "metadata": {
        "id": "SY89pmJMSXHd"
      },
      "source": [
        "cenedtot['EP_GL_TOT'] = cenedtot['EP_GL_REN'] + cenedtot['EP_GL_NREN']"
      ],
      "execution_count": 1175,
      "outputs": []
    },
    {
      "cell_type": "code",
      "metadata": {
        "id": "FNtdqkb9LNw9"
      },
      "source": [
        "# East facing surface\r\n",
        "cenedtot['A_SOL_EST'] = cenedtot['A_SOL_EST_A_SUP_UTILE']*cenedtot['SUPERF_UTILE_RISCALDATA']"
      ],
      "execution_count": 1176,
      "outputs": []
    },
    {
      "cell_type": "markdown",
      "metadata": {
        "id": "4oJoiQie-SGo"
      },
      "source": [
        "##Filters"
      ]
    },
    {
      "cell_type": "code",
      "metadata": {
        "id": "nuOs5Fvv7FXS"
      },
      "source": [
        "for col in ['TRASMITTANZA_MEDIA_COPERTURA','TRASMITTANZA_MEDIA_INVOLUCRO',\n",
        "          'TRASMITTANZA_MEDIA_BASAMENTO','TRASMITTANZA_MEDIA_SERRAMENTO']:\n",
        "          cenedtot = cenedtot[cenedtot[col].between(0,6, inclusive=False)]\n",
        "\n",
        "cenedtot = cenedtot[cenedtot['TRASMITTANZA_MEDIA'] > 0.15]\n",
        "cenedtot = cenedtot[cenedtot['TRASMITTANZA_MEDIA'] < 4]\n",
        "\n",
        "cenedtot = cenedtot[cenedtot['Y_IE'] <= 6]\n",
        "cenedtot = cenedtot[cenedtot['Y_IE'] >= 0.01]"
      ],
      "execution_count": 1177,
      "outputs": []
    },
    {
      "cell_type": "code",
      "metadata": {
        "id": "oo4Y_4pJUPAI"
      },
      "source": [
        "# Drop buildings with wrong An\n",
        "cenedtot = cenedtot[cenedtot['SUPERFICIE_NETTA'] >= 50]\n",
        "cenedtot = cenedtot[cenedtot['SUPERF_UTILE_RISCALDATA'] >= 50]\n",
        "\n",
        "# Drop buildings with wrong Vn\n",
        "cenedtot = cenedtot[cenedtot['VOLUME_NETTO'] > 150]\n",
        "cenedtot = cenedtot[cenedtot['VOLUME_LORDO_RISCALDATO'] >= 150]"
      ],
      "execution_count": 1178,
      "outputs": []
    },
    {
      "cell_type": "code",
      "metadata": {
        "id": "b9K1nHZQSnGC"
      },
      "source": [
        "# Glazed surface\r\n",
        "cenedtot = cenedtot[cenedtot['SUP_FINESTRATA'] > 1]\r\n",
        "\r\n",
        "# Glazing ratio\r\n",
        "cenedtot = cenedtot[cenedtot['SUPERFICIE_VETRATA_OPACA'] > 0]\r\n",
        "cenedtot = cenedtot[cenedtot['SUPERFICIE_VETRATA_OPACA'] < 0.9]"
      ],
      "execution_count": 1179,
      "outputs": []
    },
    {
      "cell_type": "code",
      "metadata": {
        "id": "HnKYF5WOEiPA"
      },
      "source": [
        "cenedtot = cenedtot[cenedtot['ALTEZZA_MEDIA_12'] > 2.4]\n",
        "cenedtot = cenedtot[cenedtot['ALTEZZA_MEDIA_20'] > 2.4]"
      ],
      "execution_count": 1180,
      "outputs": []
    },
    {
      "cell_type": "code",
      "metadata": {
        "id": "2hDXj9dVIJsf"
      },
      "source": [
        "# Drop buildings with wrong EPH\n",
        "cenedtot = cenedtot[cenedtot['EP_H_ND'] > 5]\n",
        "cenedtot = cenedtot[cenedtot['EP_H_ND'] < 1000]"
      ],
      "execution_count": 1181,
      "outputs": []
    },
    {
      "cell_type": "code",
      "metadata": {
        "id": "xujIABTpWY3e"
      },
      "source": [
        "cenedtot = cenedtot[cenedtot['A_SOL_EST_A_SUP_UTILE'] <= 0.5]\r\n",
        "cenedtot = cenedtot[cenedtot['A_SOL_EST_A_SUP_UTILE'] > 0]"
      ],
      "execution_count": 1182,
      "outputs": []
    },
    {
      "cell_type": "code",
      "metadata": {
        "id": "gUhc_Fkd-6gQ",
        "colab": {
          "base_uri": "https://localhost:8080/"
        },
        "outputId": "94b72520-3578-43e7-e678-d5c866d18036"
      },
      "source": [
        "len(cenedtot)"
      ],
      "execution_count": 1183,
      "outputs": [
        {
          "output_type": "execute_result",
          "data": {
            "text/plain": [
              "1341"
            ]
          },
          "metadata": {
            "tags": []
          },
          "execution_count": 1183
        }
      ]
    },
    {
      "cell_type": "markdown",
      "metadata": {
        "id": "jjki_9utExQG"
      },
      "source": [
        "# Shuffle"
      ]
    },
    {
      "cell_type": "code",
      "metadata": {
        "id": "5Ao1QXyfEwPv"
      },
      "source": [
        "cened = cenedtot.sample(frac=1, random_state = 42).reset_index(drop=True)"
      ],
      "execution_count": 1184,
      "outputs": []
    },
    {
      "cell_type": "markdown",
      "metadata": {
        "id": "xLy7NHfV6NOg"
      },
      "source": [
        "# Reserve a test set"
      ]
    },
    {
      "cell_type": "code",
      "metadata": {
        "id": "D8AmkFQH6Nl7"
      },
      "source": [
        "msk = np.random.rand(len(cened)) < 0.8\r\n",
        "train = cened[msk]\r\n",
        "test = cened[~msk]"
      ],
      "execution_count": 1185,
      "outputs": []
    },
    {
      "cell_type": "code",
      "metadata": {
        "colab": {
          "base_uri": "https://localhost:8080/"
        },
        "id": "Tz77V-S2_H01",
        "outputId": "2a09033d-881d-41af-f03d-dcbe189ec772"
      },
      "source": [
        "print(len(train))"
      ],
      "execution_count": 1186,
      "outputs": [
        {
          "output_type": "stream",
          "text": [
            "1062\n"
          ],
          "name": "stdout"
        }
      ]
    },
    {
      "cell_type": "code",
      "metadata": {
        "colab": {
          "base_uri": "https://localhost:8080/"
        },
        "id": "HeJnDatG_Kan",
        "outputId": "d64bfacf-4e3e-4b69-d4ba-2f2f996fa9ca"
      },
      "source": [
        "print(len(test))"
      ],
      "execution_count": 1187,
      "outputs": [
        {
          "output_type": "stream",
          "text": [
            "279\n"
          ],
          "name": "stdout"
        }
      ]
    },
    {
      "cell_type": "markdown",
      "metadata": {
        "id": "7TMSuHej9Mw-"
      },
      "source": [
        "# Define MAPE"
      ]
    },
    {
      "cell_type": "code",
      "metadata": {
        "id": "sfmx3u169Q0i"
      },
      "source": [
        "def neg_mape(y_true, y_pred):\r\n",
        "  y_true = np.array(y_true)\r\n",
        "  y_pred = np.array(y_pred)\r\n",
        "  return -np.abs((y_true - y_pred)/y_true).mean()"
      ],
      "execution_count": 1188,
      "outputs": []
    },
    {
      "cell_type": "code",
      "metadata": {
        "id": "2TUZvEj1LFLu"
      },
      "source": [
        "def modified_neg_mape(y_true, y_pred):\r\n",
        "  y_true = np.array(y_true)\r\n",
        "  y_pred = np.array(y_pred)\r\n",
        "  errors = np.abs((y_true - y_pred)/y_true)\r\n",
        "  index = np.argwhere(errors > 1)\r\n",
        "  mod_errors = np.delete(errors, index)\r\n",
        "  return -mod_errors.mean()"
      ],
      "execution_count": 1189,
      "outputs": []
    },
    {
      "cell_type": "code",
      "metadata": {
        "id": "66onwvYJALQj"
      },
      "source": [
        "neg_mape_scorer = make_scorer(neg_mape, greater_is_better=True)"
      ],
      "execution_count": 1190,
      "outputs": []
    },
    {
      "cell_type": "code",
      "metadata": {
        "id": "53ze8caVLOOn"
      },
      "source": [
        "modified_neg_mape_scorer = make_scorer(modified_neg_mape, greater_is_better=True)"
      ],
      "execution_count": 1191,
      "outputs": []
    },
    {
      "cell_type": "markdown",
      "metadata": {
        "id": "ul4W6e_uJXE1"
      },
      "source": [
        "# 2.0 inputs"
      ]
    },
    {
      "cell_type": "markdown",
      "metadata": {
        "id": "OR6CdvGxJXE3"
      },
      "source": [
        "## Random search"
      ]
    },
    {
      "cell_type": "code",
      "metadata": {
        "id": "nUa9KYcPJXE5"
      },
      "source": [
        "mlcol = ['SUPERF_UTILE_RISCALDATA',\r\n",
        "           'VOLUME_LORDO_RISCALDATO',\r\n",
        "           'SUPERFICIE_DISPERDENTE_x', 'dd','PERIODO_20',\r\n",
        "           'RAPPORTO_SV','A_SOL_EST_A_SUP_UTILE','Y_IE',\r\n",
        "           'ALTEZZA_MEDIA_20', 'A_SOL_EST', 'NUMERO_UNITA_IMMOBILIARI']"
      ],
      "execution_count": 1192,
      "outputs": []
    },
    {
      "cell_type": "code",
      "metadata": {
        "id": "wSR0Cy3TJXE7"
      },
      "source": [
        "cat_feats = ['PERIODO_20']"
      ],
      "execution_count": 1193,
      "outputs": []
    },
    {
      "cell_type": "code",
      "metadata": {
        "colab": {
          "base_uri": "https://localhost:8080/"
        },
        "id": "NP2PcwciJXE8",
        "outputId": "9de585ee-ecfe-4558-8522-8fccdf560d40"
      },
      "source": [
        "param_dist = {'feature_fraction': np.linspace(0.4, 1, num=7),\r\n",
        "              'num_leaf' : list(range(20,40)),\r\n",
        "             'max_depth' : [-1],\r\n",
        "             'max_bin' : [100, 200, 300, 500, 750, 1000, 2000],\r\n",
        "             'bagging_fraction' : np.linspace(0.4, 1, num=14),\r\n",
        "             'bagging_freq' : list(range(1,10)),\r\n",
        "             'lambda_l1' : stats.uniform(0, 0.6),\r\n",
        "             'lambda_l2' : stats.uniform(0, 0.6)}\r\n",
        "\r\n",
        "lgbm = LGBMRegressor(n_estimators = 200, silent = True, verbose = 0, is_training_metric = True, n_jobs = 1, \r\n",
        "                     eval_metric  = 'mape')\r\n",
        "\r\n",
        "n_iter_search = 100\r\n",
        "\r\n",
        "random_search = RandomizedSearchCV(lgbm, param_distributions=param_dist, n_iter=n_iter_search, \r\n",
        "                                   scoring=neg_mape_scorer, cv = 5, n_jobs = 6, verbose = 2)\r\n",
        "\r\n",
        "random_search.fit(cened[mlcol], cened['EP_H_ND'], categorical_feature = cat_feats)"
      ],
      "execution_count": 1194,
      "outputs": [
        {
          "output_type": "stream",
          "text": [
            "Fitting 5 folds for each of 100 candidates, totalling 500 fits\n"
          ],
          "name": "stdout"
        },
        {
          "output_type": "stream",
          "text": [
            "[Parallel(n_jobs=6)]: Using backend LokyBackend with 6 concurrent workers.\n",
            "[Parallel(n_jobs=6)]: Done  29 tasks      | elapsed:    8.3s\n",
            "[Parallel(n_jobs=6)]: Done 150 tasks      | elapsed:   29.2s\n",
            "[Parallel(n_jobs=6)]: Done 353 tasks      | elapsed:  1.0min\n",
            "[Parallel(n_jobs=6)]: Done 500 out of 500 | elapsed:  1.4min finished\n",
            "/usr/local/lib/python3.6/dist-packages/lightgbm/basic.py:1209: UserWarning: categorical_feature in Dataset is overridden.\n",
            "New categorical_feature is ['PERIODO_20']\n",
            "  'New categorical_feature is {}'.format(sorted(list(categorical_feature))))\n"
          ],
          "name": "stderr"
        },
        {
          "output_type": "execute_result",
          "data": {
            "text/plain": [
              "RandomizedSearchCV(cv=5, error_score=nan,\n",
              "                   estimator=LGBMRegressor(boosting_type='gbdt',\n",
              "                                           class_weight=None,\n",
              "                                           colsample_bytree=1.0,\n",
              "                                           eval_metric='mape',\n",
              "                                           importance_type='split',\n",
              "                                           is_training_metric=True,\n",
              "                                           learning_rate=0.1, max_depth=-1,\n",
              "                                           min_child_samples=20,\n",
              "                                           min_child_weight=0.001,\n",
              "                                           min_split_gain=0.0, n_estimators=200,\n",
              "                                           n_jobs=1, num_leaves=31,\n",
              "                                           objective=None, random_sta...\n",
              "                                        'lambda_l1': <scipy.stats._distn_infrastructure.rv_frozen object at 0x7fcd6964f940>,\n",
              "                                        'lambda_l2': <scipy.stats._distn_infrastructure.rv_frozen object at 0x7fcd67a41668>,\n",
              "                                        'max_bin': [100, 200, 300, 500, 750,\n",
              "                                                    1000, 2000],\n",
              "                                        'max_depth': [-1],\n",
              "                                        'num_leaf': [20, 21, 22, 23, 24, 25, 26,\n",
              "                                                     27, 28, 29, 30, 31, 32, 33,\n",
              "                                                     34, 35, 36, 37, 38, 39]},\n",
              "                   pre_dispatch='2*n_jobs', random_state=None, refit=True,\n",
              "                   return_train_score=False, scoring=make_scorer(neg_mape),\n",
              "                   verbose=2)"
            ]
          },
          "metadata": {
            "tags": []
          },
          "execution_count": 1194
        }
      ]
    },
    {
      "cell_type": "markdown",
      "metadata": {
        "id": "3KkN5AJyJXFA"
      },
      "source": [
        "## Print results"
      ]
    },
    {
      "cell_type": "code",
      "metadata": {
        "colab": {
          "base_uri": "https://localhost:8080/"
        },
        "id": "GS06v7CMJXFB",
        "outputId": "abba39dd-891f-42b0-ac3a-c3f92364ea39"
      },
      "source": [
        "print(random_search.best_params_)"
      ],
      "execution_count": 1195,
      "outputs": [
        {
          "output_type": "stream",
          "text": [
            "{'bagging_fraction': 1.0, 'bagging_freq': 4, 'feature_fraction': 0.7, 'lambda_l1': 0.25485420011261123, 'lambda_l2': 0.038225498964210035, 'max_bin': 200, 'max_depth': -1, 'num_leaf': 28}\n"
          ],
          "name": "stdout"
        }
      ]
    },
    {
      "cell_type": "code",
      "metadata": {
        "colab": {
          "base_uri": "https://localhost:8080/"
        },
        "id": "h0Q30_MRJXFC",
        "outputId": "205b1ccd-4f5c-4d7a-a43f-8214e4e8863f"
      },
      "source": [
        "print(random_search.best_score_)"
      ],
      "execution_count": 1196,
      "outputs": [
        {
          "output_type": "stream",
          "text": [
            "-0.3305996877778375\n"
          ],
          "name": "stdout"
        }
      ]
    },
    {
      "cell_type": "code",
      "metadata": {
        "colab": {
          "base_uri": "https://localhost:8080/"
        },
        "id": "6XeIxoPcJXFD",
        "outputId": "af19d40f-cca0-419b-e0fe-76c92b947f06"
      },
      "source": [
        "# Create a results df\r\n",
        "cv_df = pd.DataFrame(random_search.cv_results_)\r\n",
        "cv_df = cv_df.sort_values(by = ['rank_test_score']).reset_index()\r\n",
        "\r\n",
        "# Filter columns\r\n",
        "res_cols = [col for col in cv_df if col.startswith('split')]\r\n",
        "\r\n",
        "# Select best iter\r\n",
        "best_res = cv_df.loc[0]\r\n",
        "\r\n",
        "# Print results for each fold\r\n",
        "print(best_res[res_cols])"
      ],
      "execution_count": 1197,
      "outputs": [
        {
          "output_type": "stream",
          "text": [
            "split0_test_score   -0.293085\n",
            "split1_test_score   -0.334908\n",
            "split2_test_score   -0.370681\n",
            "split3_test_score   -0.289944\n",
            "split4_test_score   -0.364381\n",
            "Name: 0, dtype: object\n"
          ],
          "name": "stdout"
        }
      ]
    },
    {
      "cell_type": "markdown",
      "metadata": {
        "id": "hfMIlVdnJXFF"
      },
      "source": [
        "## Train the final model"
      ]
    },
    {
      "cell_type": "code",
      "metadata": {
        "colab": {
          "base_uri": "https://localhost:8080/"
        },
        "id": "kyNI_a_cJXFG",
        "outputId": "47517421-a32a-4927-9a83-aa5915dd62bb"
      },
      "source": [
        "light = LGBMRegressor(n_estimators = 1000, silent = False, verbose = 2, is_training_metric = True, n_jobs = 6)\r\n",
        "light.set_params(**random_search.best_params_)"
      ],
      "execution_count": 1198,
      "outputs": [
        {
          "output_type": "execute_result",
          "data": {
            "text/plain": [
              "LGBMRegressor(bagging_fraction=1.0, bagging_freq=4, boosting_type='gbdt',\n",
              "              class_weight=None, colsample_bytree=1.0, feature_fraction=0.7,\n",
              "              importance_type='split', is_training_metric=True,\n",
              "              lambda_l1=0.25485420011261123, lambda_l2=0.038225498964210035,\n",
              "              learning_rate=0.1, max_bin=200, max_depth=-1,\n",
              "              min_child_samples=20, min_child_weight=0.001, min_split_gain=0.0,\n",
              "              n_estimators=1000, n_jobs=6, num_leaf=28, num_leaves=31,\n",
              "              objective=None, random_state=None, reg_alpha=0.0, reg_lambda=0.0,\n",
              "              silent=False, subsample=1.0, subsample_for_bin=200000,\n",
              "              subsample_freq=0, verbose=2)"
            ]
          },
          "metadata": {
            "tags": []
          },
          "execution_count": 1198
        }
      ]
    },
    {
      "cell_type": "code",
      "metadata": {
        "colab": {
          "base_uri": "https://localhost:8080/"
        },
        "id": "mshxLA9FJXFH",
        "outputId": "0c97f40b-87c8-405c-bea5-0dbf6aa610ff"
      },
      "source": [
        "light.fit(train[mlcol], train['EP_H_ND'])"
      ],
      "execution_count": 1199,
      "outputs": [
        {
          "output_type": "execute_result",
          "data": {
            "text/plain": [
              "LGBMRegressor(bagging_fraction=1.0, bagging_freq=4, boosting_type='gbdt',\n",
              "              class_weight=None, colsample_bytree=1.0, feature_fraction=0.7,\n",
              "              importance_type='split', is_training_metric=True,\n",
              "              lambda_l1=0.25485420011261123, lambda_l2=0.038225498964210035,\n",
              "              learning_rate=0.1, max_bin=200, max_depth=-1,\n",
              "              min_child_samples=20, min_child_weight=0.001, min_split_gain=0.0,\n",
              "              n_estimators=1000, n_jobs=6, num_leaf=28, num_leaves=31,\n",
              "              objective=None, random_state=None, reg_alpha=0.0, reg_lambda=0.0,\n",
              "              silent=False, subsample=1.0, subsample_for_bin=200000,\n",
              "              subsample_freq=0, verbose=2)"
            ]
          },
          "metadata": {
            "tags": []
          },
          "execution_count": 1199
        }
      ]
    },
    {
      "cell_type": "markdown",
      "metadata": {
        "id": "BG4jn-M9JXFI"
      },
      "source": [
        "## Test the model"
      ]
    },
    {
      "cell_type": "code",
      "metadata": {
        "id": "mKguuXd7JXFJ"
      },
      "source": [
        "y_pred = light.predict(test[mlcol])"
      ],
      "execution_count": 1200,
      "outputs": []
    },
    {
      "cell_type": "code",
      "metadata": {
        "id": "Olgwy1IDJXFK"
      },
      "source": [
        "results_df = pd.DataFrame({'predicted' : y_pred, 'true' : test['EP_H_ND']})\r\n",
        "results_df['error'] = np.abs((results_df['true'] - results_df['predicted'])/results_df['true'])*100"
      ],
      "execution_count": 1201,
      "outputs": []
    },
    {
      "cell_type": "code",
      "metadata": {
        "colab": {
          "base_uri": "https://localhost:8080/"
        },
        "id": "x8BjLlRKJXFL",
        "outputId": "da847b1f-b58a-43dd-b2a3-b56812b78831"
      },
      "source": [
        "# MAPE\r\n",
        "results_df['error'].mean()"
      ],
      "execution_count": 1202,
      "outputs": [
        {
          "output_type": "execute_result",
          "data": {
            "text/plain": [
              "28.373972714041773"
            ]
          },
          "metadata": {
            "tags": []
          },
          "execution_count": 1202
        }
      ]
    },
    {
      "cell_type": "code",
      "metadata": {
        "colab": {
          "base_uri": "https://localhost:8080/"
        },
        "id": "cPmt0Di6JXFM",
        "outputId": "c5c57614-ef9b-4fe0-a2ef-bc651ed1136b"
      },
      "source": [
        "# MAPE without >100%\r\n",
        "results_df[results_df.error <= 100].error.mean()"
      ],
      "execution_count": 1203,
      "outputs": [
        {
          "output_type": "execute_result",
          "data": {
            "text/plain": [
              "23.56125297779272"
            ]
          },
          "metadata": {
            "tags": []
          },
          "execution_count": 1203
        }
      ]
    },
    {
      "cell_type": "code",
      "metadata": {
        "colab": {
          "base_uri": "https://localhost:8080/",
          "height": 419
        },
        "id": "HSlVJvdOJXFN",
        "outputId": "78b22269-4c57-4ba6-b03d-1f85dc4aaaad"
      },
      "source": [
        "results_df"
      ],
      "execution_count": 1204,
      "outputs": [
        {
          "output_type": "execute_result",
          "data": {
            "text/html": [
              "<div>\n",
              "<style scoped>\n",
              "    .dataframe tbody tr th:only-of-type {\n",
              "        vertical-align: middle;\n",
              "    }\n",
              "\n",
              "    .dataframe tbody tr th {\n",
              "        vertical-align: top;\n",
              "    }\n",
              "\n",
              "    .dataframe thead th {\n",
              "        text-align: right;\n",
              "    }\n",
              "</style>\n",
              "<table border=\"1\" class=\"dataframe\">\n",
              "  <thead>\n",
              "    <tr style=\"text-align: right;\">\n",
              "      <th></th>\n",
              "      <th>predicted</th>\n",
              "      <th>true</th>\n",
              "      <th>error</th>\n",
              "    </tr>\n",
              "  </thead>\n",
              "  <tbody>\n",
              "    <tr>\n",
              "      <th>6</th>\n",
              "      <td>87.307634</td>\n",
              "      <td>166.51</td>\n",
              "      <td>47.566132</td>\n",
              "    </tr>\n",
              "    <tr>\n",
              "      <th>12</th>\n",
              "      <td>87.603459</td>\n",
              "      <td>96.53</td>\n",
              "      <td>9.247427</td>\n",
              "    </tr>\n",
              "    <tr>\n",
              "      <th>15</th>\n",
              "      <td>71.703912</td>\n",
              "      <td>39.17</td>\n",
              "      <td>83.058238</td>\n",
              "    </tr>\n",
              "    <tr>\n",
              "      <th>19</th>\n",
              "      <td>63.247557</td>\n",
              "      <td>112.90</td>\n",
              "      <td>43.979135</td>\n",
              "    </tr>\n",
              "    <tr>\n",
              "      <th>25</th>\n",
              "      <td>117.063783</td>\n",
              "      <td>122.32</td>\n",
              "      <td>4.297104</td>\n",
              "    </tr>\n",
              "    <tr>\n",
              "      <th>...</th>\n",
              "      <td>...</td>\n",
              "      <td>...</td>\n",
              "      <td>...</td>\n",
              "    </tr>\n",
              "    <tr>\n",
              "      <th>1313</th>\n",
              "      <td>27.039075</td>\n",
              "      <td>70.71</td>\n",
              "      <td>61.760607</td>\n",
              "    </tr>\n",
              "    <tr>\n",
              "      <th>1332</th>\n",
              "      <td>115.529953</td>\n",
              "      <td>269.40</td>\n",
              "      <td>57.115830</td>\n",
              "    </tr>\n",
              "    <tr>\n",
              "      <th>1333</th>\n",
              "      <td>58.235143</td>\n",
              "      <td>67.02</td>\n",
              "      <td>13.107815</td>\n",
              "    </tr>\n",
              "    <tr>\n",
              "      <th>1338</th>\n",
              "      <td>37.702727</td>\n",
              "      <td>38.29</td>\n",
              "      <td>1.533751</td>\n",
              "    </tr>\n",
              "    <tr>\n",
              "      <th>1340</th>\n",
              "      <td>131.393975</td>\n",
              "      <td>114.34</td>\n",
              "      <td>14.915143</td>\n",
              "    </tr>\n",
              "  </tbody>\n",
              "</table>\n",
              "<p>279 rows × 3 columns</p>\n",
              "</div>"
            ],
            "text/plain": [
              "       predicted    true      error\n",
              "6      87.307634  166.51  47.566132\n",
              "12     87.603459   96.53   9.247427\n",
              "15     71.703912   39.17  83.058238\n",
              "19     63.247557  112.90  43.979135\n",
              "25    117.063783  122.32   4.297104\n",
              "...          ...     ...        ...\n",
              "1313   27.039075   70.71  61.760607\n",
              "1332  115.529953  269.40  57.115830\n",
              "1333   58.235143   67.02  13.107815\n",
              "1338   37.702727   38.29   1.533751\n",
              "1340  131.393975  114.34  14.915143\n",
              "\n",
              "[279 rows x 3 columns]"
            ]
          },
          "metadata": {
            "tags": []
          },
          "execution_count": 1204
        }
      ]
    },
    {
      "cell_type": "markdown",
      "metadata": {
        "id": "O_CZ4pzfJR_Z"
      },
      "source": [
        "# 1.2 inputs"
      ]
    },
    {
      "cell_type": "markdown",
      "metadata": {
        "id": "P3sUK8BN6-Ph"
      },
      "source": [
        "## Random search"
      ]
    },
    {
      "cell_type": "code",
      "metadata": {
        "id": "NbnFeNK8-9up"
      },
      "source": [
        "mlcol = ['PERIODO_20', 'SUPERFICIE_LORDA', 'SUPERFICIE_NETTA',\r\n",
        "           'VOLUME_LORDO', \r\n",
        "         'VOLUME_NETTO', 'SUPERFICIE_DISPERDENTE_x',\r\n",
        "         'TRASMITTANZA_MEDIA_INVOLUCRO', 'TRASMITTANZA_MEDIA_COPERTURA',\r\n",
        "         'TRASMITTANZA_MEDIA_BASAMENTO', 'TRASMITTANZA_MEDIA_SERRAMENTO',\r\n",
        "         'dd','SUP_FINESTRATA','SUP_OPACA', 'SUPERFICIE_VETRATA_OPACA',\r\n",
        "         'NUMERO_RICAMBI_ORARI', 'ALTEZZA_MEDIA_12'] # 'SUPERF_UTILE_RISCALDATA', 'VOLUME_LORDO_RISCALDATO', "
      ],
      "execution_count": 1205,
      "outputs": []
    },
    {
      "cell_type": "code",
      "metadata": {
        "id": "uX_GGcEKzP16"
      },
      "source": [
        "cat_feats = ['PERIODO_20']"
      ],
      "execution_count": 1206,
      "outputs": []
    },
    {
      "cell_type": "code",
      "metadata": {
        "colab": {
          "base_uri": "https://localhost:8080/"
        },
        "id": "QIbN4Y2Q6-Va",
        "outputId": "cb566ae2-f386-4570-9fd8-336ff8dd8973"
      },
      "source": [
        "param_dist = {'feature_fraction': np.linspace(0.4, 1, num=7),\r\n",
        "              'num_leaf' : list(range(20,40)),\r\n",
        "             'max_depth' : [-1],\r\n",
        "             'max_bin' : [100, 200, 300, 500, 750, 1000, 2000],\r\n",
        "             'bagging_fraction' : np.linspace(0.4, 1, num=14),\r\n",
        "             'bagging_freq' : list(range(1,10)),\r\n",
        "             'lambda_l1' : stats.uniform(0, 0.6),\r\n",
        "             'lambda_l2' : stats.uniform(0, 0.6)}\r\n",
        "\r\n",
        "lgbm = LGBMRegressor(n_estimators = 200, silent = True, verbose = 0, is_training_metric = True, n_jobs = 1, \r\n",
        "                     eval_metric  = 'mape')\r\n",
        "\r\n",
        "n_iter_search = 100\r\n",
        "\r\n",
        "random_search = RandomizedSearchCV(lgbm, param_distributions=param_dist, n_iter=n_iter_search, \r\n",
        "                                   scoring=neg_mape_scorer, cv = 5, n_jobs = 6, verbose = 2)\r\n",
        "\r\n",
        "random_search.fit(cened[mlcol], cened['EP_H_ND'], categorical_feature = cat_feats)"
      ],
      "execution_count": 1207,
      "outputs": [
        {
          "output_type": "stream",
          "text": [
            "Fitting 5 folds for each of 100 candidates, totalling 500 fits\n"
          ],
          "name": "stdout"
        },
        {
          "output_type": "stream",
          "text": [
            "[Parallel(n_jobs=6)]: Using backend LokyBackend with 6 concurrent workers.\n",
            "[Parallel(n_jobs=6)]: Done  29 tasks      | elapsed:    7.7s\n",
            "[Parallel(n_jobs=6)]: Done 150 tasks      | elapsed:   36.8s\n",
            "[Parallel(n_jobs=6)]: Done 353 tasks      | elapsed:  1.5min\n",
            "[Parallel(n_jobs=6)]: Done 500 out of 500 | elapsed:  2.0min finished\n",
            "/usr/local/lib/python3.6/dist-packages/lightgbm/basic.py:1209: UserWarning: categorical_feature in Dataset is overridden.\n",
            "New categorical_feature is ['PERIODO_20']\n",
            "  'New categorical_feature is {}'.format(sorted(list(categorical_feature))))\n"
          ],
          "name": "stderr"
        },
        {
          "output_type": "execute_result",
          "data": {
            "text/plain": [
              "RandomizedSearchCV(cv=5, error_score=nan,\n",
              "                   estimator=LGBMRegressor(boosting_type='gbdt',\n",
              "                                           class_weight=None,\n",
              "                                           colsample_bytree=1.0,\n",
              "                                           eval_metric='mape',\n",
              "                                           importance_type='split',\n",
              "                                           is_training_metric=True,\n",
              "                                           learning_rate=0.1, max_depth=-1,\n",
              "                                           min_child_samples=20,\n",
              "                                           min_child_weight=0.001,\n",
              "                                           min_split_gain=0.0, n_estimators=200,\n",
              "                                           n_jobs=1, num_leaves=31,\n",
              "                                           objective=None, random_sta...\n",
              "                                        'lambda_l1': <scipy.stats._distn_infrastructure.rv_frozen object at 0x7fcd677bc978>,\n",
              "                                        'lambda_l2': <scipy.stats._distn_infrastructure.rv_frozen object at 0x7fcd6b678048>,\n",
              "                                        'max_bin': [100, 200, 300, 500, 750,\n",
              "                                                    1000, 2000],\n",
              "                                        'max_depth': [-1],\n",
              "                                        'num_leaf': [20, 21, 22, 23, 24, 25, 26,\n",
              "                                                     27, 28, 29, 30, 31, 32, 33,\n",
              "                                                     34, 35, 36, 37, 38, 39]},\n",
              "                   pre_dispatch='2*n_jobs', random_state=None, refit=True,\n",
              "                   return_train_score=False, scoring=make_scorer(neg_mape),\n",
              "                   verbose=2)"
            ]
          },
          "metadata": {
            "tags": []
          },
          "execution_count": 1207
        }
      ]
    },
    {
      "cell_type": "markdown",
      "metadata": {
        "id": "ZjNqelQa9tM6"
      },
      "source": [
        "## Print results"
      ]
    },
    {
      "cell_type": "code",
      "metadata": {
        "colab": {
          "base_uri": "https://localhost:8080/"
        },
        "id": "8po-ibOx9tjW",
        "outputId": "abd934ae-b064-4a7d-b08f-ed1e172497d5"
      },
      "source": [
        "print(random_search.best_params_)"
      ],
      "execution_count": 1208,
      "outputs": [
        {
          "output_type": "stream",
          "text": [
            "{'bagging_fraction': 0.8615384615384616, 'bagging_freq': 6, 'feature_fraction': 1.0, 'lambda_l1': 0.10885203763076472, 'lambda_l2': 0.49277472546241585, 'max_bin': 100, 'max_depth': -1, 'num_leaf': 21}\n"
          ],
          "name": "stdout"
        }
      ]
    },
    {
      "cell_type": "code",
      "metadata": {
        "colab": {
          "base_uri": "https://localhost:8080/"
        },
        "id": "THJn_s95914s",
        "outputId": "f9cd9996-47d5-478e-f5a7-d88930bbd3e6"
      },
      "source": [
        "print(random_search.best_score_)"
      ],
      "execution_count": 1209,
      "outputs": [
        {
          "output_type": "stream",
          "text": [
            "-0.37566563364417754\n"
          ],
          "name": "stdout"
        }
      ]
    },
    {
      "cell_type": "code",
      "metadata": {
        "colab": {
          "base_uri": "https://localhost:8080/"
        },
        "id": "ta1btwWlTxJn",
        "outputId": "073d4a37-9976-45f5-a8b1-ce4686e9e18d"
      },
      "source": [
        "# Create a results df\r\n",
        "cv_df = pd.DataFrame(random_search.cv_results_)\r\n",
        "cv_df = cv_df.sort_values(by = ['rank_test_score']).reset_index()\r\n",
        "\r\n",
        "# Filter columns\r\n",
        "res_cols = [col for col in cv_df if col.startswith('split')]\r\n",
        "\r\n",
        "# Select best iter\r\n",
        "best_res = cv_df.loc[0]\r\n",
        "\r\n",
        "# Print results for each fold\r\n",
        "print(best_res[res_cols])"
      ],
      "execution_count": 1210,
      "outputs": [
        {
          "output_type": "stream",
          "text": [
            "split0_test_score   -0.346799\n",
            "split1_test_score   -0.391167\n",
            "split2_test_score   -0.380053\n",
            "split3_test_score   -0.361174\n",
            "split4_test_score   -0.399135\n",
            "Name: 0, dtype: object\n"
          ],
          "name": "stdout"
        }
      ]
    },
    {
      "cell_type": "markdown",
      "metadata": {
        "id": "UHqwuWX1AeHK"
      },
      "source": [
        "## Train the final model"
      ]
    },
    {
      "cell_type": "code",
      "metadata": {
        "colab": {
          "base_uri": "https://localhost:8080/"
        },
        "id": "Zq7OjJKsAj0x",
        "outputId": "0ba99b2b-c552-452d-993f-333433d9f170"
      },
      "source": [
        "light = LGBMRegressor(n_estimators = 1000, silent = False, verbose = 2, is_training_metric = True, n_jobs = 6)\r\n",
        "light.set_params(**random_search.best_params_)"
      ],
      "execution_count": 1211,
      "outputs": [
        {
          "output_type": "execute_result",
          "data": {
            "text/plain": [
              "LGBMRegressor(bagging_fraction=0.8615384615384616, bagging_freq=6,\n",
              "              boosting_type='gbdt', class_weight=None, colsample_bytree=1.0,\n",
              "              feature_fraction=1.0, importance_type='split',\n",
              "              is_training_metric=True, lambda_l1=0.10885203763076472,\n",
              "              lambda_l2=0.49277472546241585, learning_rate=0.1, max_bin=100,\n",
              "              max_depth=-1, min_child_samples=20, min_child_weight=0.001,\n",
              "              min_split_gain=0.0, n_estimators=1000, n_jobs=6, num_leaf=21,\n",
              "              num_leaves=31, objective=None, random_state=None, reg_alpha=0.0,\n",
              "              reg_lambda=0.0, silent=False, subsample=1.0,\n",
              "              subsample_for_bin=200000, subsample_freq=0, verbose=2)"
            ]
          },
          "metadata": {
            "tags": []
          },
          "execution_count": 1211
        }
      ]
    },
    {
      "cell_type": "code",
      "metadata": {
        "colab": {
          "base_uri": "https://localhost:8080/"
        },
        "id": "XbLz3zitAuQo",
        "outputId": "1d2e1608-f988-4e2f-edd0-7132fe45433c"
      },
      "source": [
        "light.fit(train[mlcol], train['EP_H_ND'])"
      ],
      "execution_count": 1212,
      "outputs": [
        {
          "output_type": "execute_result",
          "data": {
            "text/plain": [
              "LGBMRegressor(bagging_fraction=0.8615384615384616, bagging_freq=6,\n",
              "              boosting_type='gbdt', class_weight=None, colsample_bytree=1.0,\n",
              "              feature_fraction=1.0, importance_type='split',\n",
              "              is_training_metric=True, lambda_l1=0.10885203763076472,\n",
              "              lambda_l2=0.49277472546241585, learning_rate=0.1, max_bin=100,\n",
              "              max_depth=-1, min_child_samples=20, min_child_weight=0.001,\n",
              "              min_split_gain=0.0, n_estimators=1000, n_jobs=6, num_leaf=21,\n",
              "              num_leaves=31, objective=None, random_state=None, reg_alpha=0.0,\n",
              "              reg_lambda=0.0, silent=False, subsample=1.0,\n",
              "              subsample_for_bin=200000, subsample_freq=0, verbose=2)"
            ]
          },
          "metadata": {
            "tags": []
          },
          "execution_count": 1212
        }
      ]
    },
    {
      "cell_type": "markdown",
      "metadata": {
        "id": "Ml7EZ7XXAvwc"
      },
      "source": [
        "## Test the model"
      ]
    },
    {
      "cell_type": "code",
      "metadata": {
        "id": "EJFVWFDvAx4h"
      },
      "source": [
        "y_pred = light.predict(test[mlcol])"
      ],
      "execution_count": 1213,
      "outputs": []
    },
    {
      "cell_type": "code",
      "metadata": {
        "id": "hCtUFtWSBZ15"
      },
      "source": [
        "results_df = pd.DataFrame({'predicted' : y_pred, 'true' : test['EP_H_ND']})\r\n",
        "results_df['error'] = np.abs((results_df['true'] - results_df['predicted'])/results_df['true'])*100"
      ],
      "execution_count": 1214,
      "outputs": []
    },
    {
      "cell_type": "code",
      "metadata": {
        "id": "ve6Lla28DXct",
        "colab": {
          "base_uri": "https://localhost:8080/"
        },
        "outputId": "847e44ee-a88a-4b14-c99a-83bc5c21c2f8"
      },
      "source": [
        "# MAPE\r\n",
        "results_df['error'].mean()"
      ],
      "execution_count": 1215,
      "outputs": [
        {
          "output_type": "execute_result",
          "data": {
            "text/plain": [
              "37.41859109644729"
            ]
          },
          "metadata": {
            "tags": []
          },
          "execution_count": 1215
        }
      ]
    },
    {
      "cell_type": "code",
      "metadata": {
        "id": "luAQiAU3KB8L",
        "colab": {
          "base_uri": "https://localhost:8080/"
        },
        "outputId": "41512aa8-f438-4f59-ec22-220a704d3292"
      },
      "source": [
        "# MAPE without >100%\r\n",
        "results_df[results_df.error <= 100].error.mean()"
      ],
      "execution_count": 1216,
      "outputs": [
        {
          "output_type": "execute_result",
          "data": {
            "text/plain": [
              "27.02407420534986"
            ]
          },
          "metadata": {
            "tags": []
          },
          "execution_count": 1216
        }
      ]
    },
    {
      "cell_type": "code",
      "metadata": {
        "colab": {
          "base_uri": "https://localhost:8080/",
          "height": 419
        },
        "id": "fyUDfx40m_ri",
        "outputId": "17ae51dc-6170-4bc8-821a-d5de06d8afc1"
      },
      "source": [
        "results_df"
      ],
      "execution_count": 1217,
      "outputs": [
        {
          "output_type": "execute_result",
          "data": {
            "text/html": [
              "<div>\n",
              "<style scoped>\n",
              "    .dataframe tbody tr th:only-of-type {\n",
              "        vertical-align: middle;\n",
              "    }\n",
              "\n",
              "    .dataframe tbody tr th {\n",
              "        vertical-align: top;\n",
              "    }\n",
              "\n",
              "    .dataframe thead th {\n",
              "        text-align: right;\n",
              "    }\n",
              "</style>\n",
              "<table border=\"1\" class=\"dataframe\">\n",
              "  <thead>\n",
              "    <tr style=\"text-align: right;\">\n",
              "      <th></th>\n",
              "      <th>predicted</th>\n",
              "      <th>true</th>\n",
              "      <th>error</th>\n",
              "    </tr>\n",
              "  </thead>\n",
              "  <tbody>\n",
              "    <tr>\n",
              "      <th>6</th>\n",
              "      <td>112.499463</td>\n",
              "      <td>166.51</td>\n",
              "      <td>32.436813</td>\n",
              "    </tr>\n",
              "    <tr>\n",
              "      <th>12</th>\n",
              "      <td>79.689516</td>\n",
              "      <td>96.53</td>\n",
              "      <td>17.445856</td>\n",
              "    </tr>\n",
              "    <tr>\n",
              "      <th>15</th>\n",
              "      <td>108.960902</td>\n",
              "      <td>39.17</td>\n",
              "      <td>178.174373</td>\n",
              "    </tr>\n",
              "    <tr>\n",
              "      <th>19</th>\n",
              "      <td>82.657732</td>\n",
              "      <td>112.90</td>\n",
              "      <td>26.786774</td>\n",
              "    </tr>\n",
              "    <tr>\n",
              "      <th>25</th>\n",
              "      <td>202.142740</td>\n",
              "      <td>122.32</td>\n",
              "      <td>65.257309</td>\n",
              "    </tr>\n",
              "    <tr>\n",
              "      <th>...</th>\n",
              "      <td>...</td>\n",
              "      <td>...</td>\n",
              "      <td>...</td>\n",
              "    </tr>\n",
              "    <tr>\n",
              "      <th>1313</th>\n",
              "      <td>117.221376</td>\n",
              "      <td>70.71</td>\n",
              "      <td>65.777649</td>\n",
              "    </tr>\n",
              "    <tr>\n",
              "      <th>1332</th>\n",
              "      <td>125.462242</td>\n",
              "      <td>269.40</td>\n",
              "      <td>53.429012</td>\n",
              "    </tr>\n",
              "    <tr>\n",
              "      <th>1333</th>\n",
              "      <td>105.769725</td>\n",
              "      <td>67.02</td>\n",
              "      <td>57.818151</td>\n",
              "    </tr>\n",
              "    <tr>\n",
              "      <th>1338</th>\n",
              "      <td>52.179849</td>\n",
              "      <td>38.29</td>\n",
              "      <td>36.275397</td>\n",
              "    </tr>\n",
              "    <tr>\n",
              "      <th>1340</th>\n",
              "      <td>59.596736</td>\n",
              "      <td>114.34</td>\n",
              "      <td>47.877614</td>\n",
              "    </tr>\n",
              "  </tbody>\n",
              "</table>\n",
              "<p>279 rows × 3 columns</p>\n",
              "</div>"
            ],
            "text/plain": [
              "       predicted    true       error\n",
              "6     112.499463  166.51   32.436813\n",
              "12     79.689516   96.53   17.445856\n",
              "15    108.960902   39.17  178.174373\n",
              "19     82.657732  112.90   26.786774\n",
              "25    202.142740  122.32   65.257309\n",
              "...          ...     ...         ...\n",
              "1313  117.221376   70.71   65.777649\n",
              "1332  125.462242  269.40   53.429012\n",
              "1333  105.769725   67.02   57.818151\n",
              "1338   52.179849   38.29   36.275397\n",
              "1340   59.596736  114.34   47.877614\n",
              "\n",
              "[279 rows x 3 columns]"
            ]
          },
          "metadata": {
            "tags": []
          },
          "execution_count": 1217
        }
      ]
    }
  ]
}