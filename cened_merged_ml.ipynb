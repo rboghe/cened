{
  "nbformat": 4,
  "nbformat_minor": 0,
  "metadata": {
    "colab": {
      "name": "Untitled0.ipynb",
      "provenance": [],
      "collapsed_sections": [],
      "toc_visible": true,
      "authorship_tag": "ABX9TyNYLJ4iyPgVsoaJPTFMtVw8",
      "include_colab_link": true
    },
    "kernelspec": {
      "name": "python3",
      "display_name": "Python 3"
    }
  },
  "cells": [
    {
      "cell_type": "markdown",
      "metadata": {
        "id": "view-in-github",
        "colab_type": "text"
      },
      "source": [
        "<a href=\"https://colab.research.google.com/github/rboghe/cened/blob/master/cened_merged_ml.ipynb\" target=\"_parent\"><img src=\"https://colab.research.google.com/assets/colab-badge.svg\" alt=\"Open In Colab\"/></a>"
      ]
    },
    {
      "cell_type": "markdown",
      "metadata": {
        "id": "NpYzrRpEl-rq"
      },
      "source": [
        "# TO DO"
      ]
    },
    {
      "cell_type": "markdown",
      "metadata": {
        "id": "EzQtURBMNU7J"
      },
      "source": [
        "\r\n",
        "\r\n",
        "*   take care of _x and _y\r\n"
      ]
    },
    {
      "cell_type": "markdown",
      "metadata": {
        "id": "2hrGVLwh2S3M"
      },
      "source": [
        "# Load data"
      ]
    },
    {
      "cell_type": "markdown",
      "metadata": {
        "id": "rTgtbdUu612B"
      },
      "source": [
        "##Loading Files"
      ]
    },
    {
      "cell_type": "code",
      "metadata": {
        "id": "bFTamnUO12MU"
      },
      "source": [
        "import os\n",
        "import urllib.request\n",
        "import pandas as pd\n",
        "import numpy as np\n",
        "import random\n",
        "import matplotlib.pyplot as plt\n",
        "from sklearn.metrics import r2_score, make_scorer\n",
        "from lightgbm import LGBMRegressor, plot_importance\n",
        "import scipy.stats as stats\n",
        "from sklearn.model_selection import RandomizedSearchCV\n",
        "import seaborn as sns\n",
        "\n",
        "# Silence panda's setting with copy warning\n",
        "pd.options.mode.chained_assignment = None\n",
        "\n",
        "# Set Seaborn style\n",
        "sns.set_theme(style=\"white\")"
      ],
      "execution_count": 1,
      "outputs": []
    },
    {
      "cell_type": "code",
      "metadata": {
        "id": "nBJZFlqV15MW"
      },
      "source": [
        "url = 'https://www.dati.lombardia.it/api/views/bbky-sde5/rows.csv?accessType=DOWNLOAD'\n",
        "\n",
        "if os.path.isdir('/tmp'):\n",
        "    if os.path.isfile('/tmp/cened20.csv'):\n",
        "      pass\n",
        "    else:\n",
        "      urllib.request.urlretrieve(url, '/tmp/cened20.csv')\n",
        "else:\n",
        "  os.mkdir('/tmp')\n",
        "  urllib.request.urlretrieve(url, '/tmp/cened20.csv')"
      ],
      "execution_count": 2,
      "outputs": []
    },
    {
      "cell_type": "code",
      "metadata": {
        "id": "FAw5P6g217ld"
      },
      "source": [
        "url = 'https://www.dati.lombardia.it/api/views/rsg3-xhvk/rows.csv?accessType=DOWNLOAD'\n",
        "\n",
        "\n",
        "if os.path.isfile('/tmp/cened12.csv'):\n",
        "  pass\n",
        "else:\n",
        "  urllib.request.urlretrieve(url, '/tmp/cened12.csv')"
      ],
      "execution_count": 3,
      "outputs": []
    },
    {
      "cell_type": "code",
      "metadata": {
        "id": "yxFzc7202X5U"
      },
      "source": [
        "url = 'https://raw.githubusercontent.com/rboghe/cened/master/degreedays.txt'\n",
        "\n",
        "urllib.request.urlretrieve(url, '/tmp/ddh.csv')\n",
        "\n",
        "ddh = pd.read_csv('/tmp/ddh.csv', usecols = ['comune','dd'])"
      ],
      "execution_count": 4,
      "outputs": []
    },
    {
      "cell_type": "code",
      "metadata": {
        "id": "fiRt0wIy2ciM",
        "colab": {
          "base_uri": "https://localhost:8080/"
        },
        "outputId": "9edc2523-0c35-440a-df7b-751612737465"
      },
      "source": [
        "cols20 = ['RIQUALIFICAZIONE_ENERGETICA',\n",
        "           'ANNO_COSTRUZIONE','SUPERF_UTILE_RISCALDATA', \n",
        "           'VOLUME_LORDO_RISCALDATO', 'SUPERFICIE_DISPERDENTE', 'RAPPORTO_SV','A_SOL_EST_A_SUP_UTILE','Y_IE', \n",
        "           'CLASSIFICAZIONE_DPR', 'COMUNE', 'EP_H_ND','EP_GL_NREN','EP_GL_REN', \n",
        "           'NUMERO_UNITA_IMMOBILIARI', 'RISTRUTTURAZIONE_IMPORTANTE', \n",
        "           'COMUNE','FOGLIO', 'PARTICELLA', 'SUBALTERNO']\n",
        "\n",
        "cols12 = ['COMUNE','FOGLIO', 'PARTICELLA', 'SUBALTERNO','SUPERFICIE_DISPERDENTE',\n",
        "          'TRASMITTANZA_MEDIA_COPERTURA','TRASMITTANZA_MEDIA_INVOLUCRO',\n",
        "          'TRASMITTANZA_MEDIA_BASAMENTO','TRASMITTANZA_MEDIA_SERRAMENTO',\n",
        "          'SUPERFICIE_LORDA', 'VOLUME_LORDO', 'DESTINAZIONE_DI_USO',\n",
        "          'SUPERFICIE_VETRATA_OPACA', 'VOLUME_NETTO',\n",
        "          'SUPERFICIE_NETTA', 'ANNO_COSTRUZIONE','NUMERO_RICAMBI_ORARI', 'ETH']\n",
        "  \n",
        "cened20 = pd.read_csv('/tmp/cened20.csv', usecols = cols20)\n",
        "cened12 = pd.read_csv('/tmp/cened12.csv', usecols = cols12)"
      ],
      "execution_count": 8,
      "outputs": [
        {
          "output_type": "stream",
          "text": [
            "/usr/local/lib/python3.6/dist-packages/IPython/core/interactiveshell.py:2718: DtypeWarning: Columns (6,7) have mixed types.Specify dtype option on import or set low_memory=False.\n",
            "  interactivity=interactivity, compiler=compiler, result=result)\n"
          ],
          "name": "stderr"
        }
      ]
    },
    {
      "cell_type": "code",
      "metadata": {
        "id": "7lo3yU66htyj",
        "colab": {
          "base_uri": "https://localhost:8080/"
        },
        "outputId": "90822c8f-2ae1-48b2-927d-cbec0067c451"
      },
      "source": [
        "print(len(cened12))"
      ],
      "execution_count": 9,
      "outputs": [
        {
          "output_type": "stream",
          "text": [
            "1516483\n"
          ],
          "name": "stdout"
        }
      ]
    },
    {
      "cell_type": "code",
      "metadata": {
        "id": "Q4ymkxrGhwHg",
        "colab": {
          "base_uri": "https://localhost:8080/"
        },
        "outputId": "7d21515d-044b-4c6f-f1bd-491059669677"
      },
      "source": [
        "print(len(cened20))"
      ],
      "execution_count": 10,
      "outputs": [
        {
          "output_type": "stream",
          "text": [
            "942086\n"
          ],
          "name": "stdout"
        }
      ]
    },
    {
      "cell_type": "code",
      "metadata": {
        "id": "FUiv9rVRKHF2",
        "outputId": "69a9f2db-24f0-4c18-a231-9b9cdd503edd",
        "colab": {
          "base_uri": "https://localhost:8080/",
          "height": 285
        }
      },
      "source": [
        "cened12[cened12['ETH'] < 10].ETH.hist()"
      ],
      "execution_count": 13,
      "outputs": [
        {
          "output_type": "execute_result",
          "data": {
            "text/plain": [
              "<matplotlib.axes._subplots.AxesSubplot at 0x7f012d00e128>"
            ]
          },
          "metadata": {
            "tags": []
          },
          "execution_count": 13
        },
        {
          "output_type": "display_data",
          "data": {
            "image/png": "[encoded data removed]",
            "text/plain": [
              "<Figure size 432x288 with 1 Axes>"
            ]
          },
          "metadata": {
            "tags": [],
            "needs_background": "light"
          }
        }
      ]
    },
    {
      "cell_type": "code",
      "metadata": {
        "id": "WSkaexMyKieV",
        "outputId": "5f5972ee-4bee-4054-d9da-a0f8fdc4324b",
        "colab": {
          "base_uri": "https://localhost:8080/",
          "height": 289
        }
      },
      "source": [
        "cened20[cened20['EP_H_ND'] < 10].EP_H_ND.hist()"
      ],
      "execution_count": 15,
      "outputs": [
        {
          "output_type": "execute_result",
          "data": {
            "text/plain": [
              "<matplotlib.axes._subplots.AxesSubplot at 0x7f012e1694a8>"
            ]
          },
          "metadata": {
            "tags": []
          },
          "execution_count": 15
        },
        {
          "output_type": "display_data",
          "data": {
            "image/png": "[encoded data removed]",
            "text/plain": [
              "<Figure size 432x288 with 1 Axes>"
            ]
          },
          "metadata": {
            "tags": [],
            "needs_background": "light"
          }
        }
      ]
    },
    {
      "cell_type": "markdown",
      "metadata": {
        "id": "LrDzUNcW678_"
      },
      "source": [
        "## Pre-processing"
      ]
    },
    {
      "cell_type": "code",
      "metadata": {
        "id": "LERkjzsP3s3N"
      },
      "source": [
        "cened20['EP_GL_NREN'].fillna(0, inplace=True)\n",
        "cened20['EP_GL_REN'].fillna(0, inplace=True)\n",
        "\n",
        "# Drop NaN \n",
        "cened20 = cened20.dropna()\n",
        "cened12 = cened12.dropna() "
      ],
      "execution_count": 16,
      "outputs": []
    },
    {
      "cell_type": "code",
      "metadata": {
        "id": "ML1vCA8xGOm2"
      },
      "source": [
        "# Only entire buildings\n",
        "# cened20 = cened20[cened20['INTERO_EDIFICIO'] == True]"
      ],
      "execution_count": 17,
      "outputs": []
    },
    {
      "cell_type": "code",
      "metadata": {
        "id": "AOq-QxRlPRjA"
      },
      "source": [
        "# Drop renovations\n",
        "cened20 = cened20[cened20['RISTRUTTURAZIONE_IMPORTANTE'] == False]\n",
        "cened20 = cened20[cened20['RIQUALIFICAZIONE_ENERGETICA'] == False]"
      ],
      "execution_count": 18,
      "outputs": []
    },
    {
      "cell_type": "code",
      "metadata": {
        "id": "SAtnjPoiJJZO"
      },
      "source": [
        "cened20.ANNO_COSTRUZIONE = cened20.ANNO_COSTRUZIONE.astype(str)\r\n",
        "cened20.ANNO_COSTRUZIONE = cened20.ANNO_COSTRUZIONE.map(lambda x:x[-4:])\r\n",
        "cened20.ANNO_COSTRUZIONE = cened20.ANNO_COSTRUZIONE.astype(int)\r\n",
        "\r\n",
        "cened20['PERIODO_20'] = pd.cut(cened20.ANNO_COSTRUZIONE, bins=[0,1930,1945,1960,1976,1992,2006,3000],\r\n",
        "     labels=['Before 1930','1930-1945','1946-1960','1961-1976', '1977-1992', '1993-2006','After 2006']).cat.codes"
      ],
      "execution_count": 19,
      "outputs": []
    },
    {
      "cell_type": "code",
      "metadata": {
        "id": "RZz3XxKbJQpC"
      },
      "source": [
        "cened12.ANNO_COSTRUZIONE = cened12.ANNO_COSTRUZIONE.astype(str)\r\n",
        "cened12.ANNO_COSTRUZIONE = cened12.ANNO_COSTRUZIONE.map(lambda x:x[-4:])\r\n",
        "cened12.ANNO_COSTRUZIONE = cened12.ANNO_COSTRUZIONE.astype(int)\r\n",
        "\r\n",
        "cened12['PERIODO_12'] = pd.cut(cened12.ANNO_COSTRUZIONE, bins=[0,1930,1945,1960,1976,1992,2006,3000],\r\n",
        "     labels=['Before 1930','1930-1945','1946-1960','1961-1976', '1977-1992', '1993-2006','After 2006']).cat.codes"
      ],
      "execution_count": 20,
      "outputs": []
    },
    {
      "cell_type": "markdown",
      "metadata": {
        "id": "7V08nFsW7BmJ"
      },
      "source": [
        "## Merge"
      ]
    },
    {
      "cell_type": "code",
      "metadata": {
        "id": "FhlF_D8KRkgm"
      },
      "source": [
        "# Take care of city names\r\n",
        "cened12['COMUNE'] = cened12['COMUNE'].str.lower()\r\n",
        "cened12['COMUNE'] = cened12['COMUNE'].str.replace(r\"o`\",  \"o'\")\r\n",
        "cened12['COMUNE'] = cened12['COMUNE'].str.replace(r\"baranzate\",  \"bollate\")\r\n",
        "cened12['COMUNE'] = cened12['COMUNE'].str.replace(r\"bovisio masciago\",  \"bovisio-masciago\")\r\n",
        "cened12['COMUNE'] = cened12['COMUNE'].str.replace(r\"cornate d`adda\",  \"cornate d'adda\")\r\n",
        "cened12['COMUNE'] = cened12['COMUNE'].str.replace(r\"cortenuova\",  \"cortenova\")\r\n",
        "cened12['COMUNE'] = cened12['COMUNE'].str.replace(r\"sant'omobono terme\",  \"sant'omobono imagna\")\r\n",
        "\r\n",
        "cened20['COMUNE'] = cened20['COMUNE'].str.lower()\r\n",
        "cened20['COMUNE'] = cened20['COMUNE'].str.replace(r\"`\",  \"'\")\r\n",
        "cened20['COMUNE'] = cened20['COMUNE'].str.replace(r\"o`\",  \"o'\")\r\n",
        "cened20['COMUNE'] = cened20['COMUNE'].str.replace(r\"baranzate\",  \"bollate\")\r\n",
        "cened20['COMUNE'] = cened20['COMUNE'].str.replace(r\"bovisio masciago\",  \"bovisio-masciago\")\r\n",
        "cened20['COMUNE'] = cened20['COMUNE'].str.replace(r\"cornate d`adda\",  \"cornate d'adda\")\r\n",
        "cened20['COMUNE'] = cened20['COMUNE'].str.replace(r\"cortenuova\",  \"cortenova\")\r\n",
        "cened20['COMUNE'] = cened20['COMUNE'].str.replace(r\"sant'omobono terme\",  \"sant'omobono imagna\")\r\n",
        "cened20['COMUNE'] = cened20['COMUNE'].str.replace(r\"borgo virgilio\",  \"virgilio\")\r\n",
        "cened20['COMUNE'] = cened20['COMUNE'].str.replace(r\" - \",  \"-\")\r\n",
        "cened20['COMUNE'] = cened20['COMUNE'].str.replace(r\"cassina de pecchi\",  \"cassina de' pecchi\")\r\n",
        "cened20['COMUNE'] = cened20['COMUNE'].str.replace(r\"cerano intelvi\",  \"cerano d'intelvi\")\r\n",
        "cened20['COMUNE'] = cened20['COMUNE'].str.replace(r\"colverde\",  \"drezzo\")\r\n",
        "cened20['COMUNE'] = cened20['COMUNE'].str.replace(r\"cornale e bastida\",  \"cornale\")\r\n",
        "cened20['COMUNE'] = cened20['COMUNE'].str.replace(r\"corteolona e genzone\",  \"corteolona\")\r\n",
        "cened20['COMUNE'] = cened20['COMUNE'].str.replace(r\"costa serina\",  \"costa di serina\")\r\n",
        "cened20['COMUNE'] = cened20['COMUNE'].str.replace(r\"gabbioneta binanuova\",  \"gabbioneta-binanuova\")\r\n",
        "cened20['COMUNE'] = cened20['COMUNE'].str.replace(r\"gadesco pieve delmona\",  \"gadesco-pieve delmona\")\r\n",
        "cened20['COMUNE'] = cened20['COMUNE'].str.replace(r\"gerre de'caprioli\",  \"gerre de' caprioli\")\r\n",
        "cened20['COMUNE'] = cened20['COMUNE'].str.replace(r\"gravedona ed uniti\",  \"grandola ed uniti\")\r\n",
        "cened20['COMUNE'] = cened20['COMUNE'].str.replace(r\"la valletta brianza\",  \"perego\")\r\n",
        "cened20['COMUNE'] = cened20['COMUNE'].str.replace(r\"lonato del garda\",  \"lonato\")\r\n",
        "cened20['COMUNE'] = cened20['COMUNE'].str.replace(r\"maccagno con pino e veddasca\",  \"maccagno\")\r\n",
        "cened20['COMUNE'] = cened20['COMUNE'].str.replace(r\"ramponio vernia\",  \"ramponio verna\")\r\n",
        "cened20['COMUNE'] = cened20['COMUNE'].str.replace(r\"sermide e felonica\",  \"sermide\")\r\n",
        "cened20['COMUNE'] = cened20['COMUNE'].str.replace(r\"toscolano maderno\",  \"toscolano-maderno\")\r\n",
        "cened20['COMUNE'] = cened20['COMUNE'].str.replace(r\"tremezzina\",  \"tremezzo\")\r\n",
        "cened20['COMUNE'] = cened20['COMUNE'].str.replace(r\"val brembilla\",  \"brembilla\")\r\n",
        "cened20['COMUNE'] = cened20['COMUNE'].str.replace(r\"verderio\",  \"verderio inferiore\")"
      ],
      "execution_count": 21,
      "outputs": []
    },
    {
      "cell_type": "code",
      "metadata": {
        "id": "YXe5ekClqP3T"
      },
      "source": [
        "exall12 = cened12['SUBALTERNO'].str.extractall('(\\d+)').fillna(0)\r\n",
        "cened12 = exall12.join(cened12.reindex(exall12.index, level=0)).reset_index()\r\n",
        "cened12['SUBALTERNO'] = cened12[0]\r\n",
        "\r\n",
        "exall20 = cened20['SUBALTERNO'].str.extractall('(\\d+)').fillna(0)\r\n",
        "cened20 = exall20.join(cened20.reindex(exall20.index, level=0)).reset_index()\r\n",
        "cened20['SUBALTERNO'] = cened20[0]"
      ],
      "execution_count": 22,
      "outputs": []
    },
    {
      "cell_type": "code",
      "metadata": {
        "id": "dQYBddpD5yEK"
      },
      "source": [
        "# Merge dfs\n",
        "cenedtot = pd.merge(left=cened20, right=cened12, left_on=['COMUNE','FOGLIO', 'PARTICELLA', 'SUBALTERNO'], #, 'PERIODO' \n",
        "                    right_on=['COMUNE','FOGLIO', 'PARTICELLA', 'SUBALTERNO'],  how='inner') # , 'SUBALTERNO' | , 'SUBALTERNO'"
      ],
      "execution_count": 23,
      "outputs": []
    },
    {
      "cell_type": "code",
      "metadata": {
        "colab": {
          "base_uri": "https://localhost:8080/"
        },
        "id": "kCuWUarfLAbK",
        "outputId": "0145108f-ac6f-4925-9575-da9f7e93cd0e"
      },
      "source": [
        "print(len(cenedtot))"
      ],
      "execution_count": 24,
      "outputs": [
        {
          "output_type": "stream",
          "text": [
            "21611\n"
          ],
          "name": "stdout"
        }
      ]
    },
    {
      "cell_type": "markdown",
      "metadata": {
        "id": "bXVWPjsGdL7-"
      },
      "source": [
        "## Pre-filtering"
      ]
    },
    {
      "cell_type": "code",
      "metadata": {
        "id": "e7VDGgXB6heV"
      },
      "source": [
        "# Compute difference between ext surfaces\n",
        "# cenedtot['surfdiff'] = abs((cenedtot['SUPERF_UTILE_RISCALDATA'] - cenedtot['SUPERFICIE_NETTA'])/cenedtot['SUPERF_UTILE_RISCALDATA'])\n",
        "\n",
        "# Drop rows with high difference\n",
        "#cenedtot = cenedtot[cenedtot['surfdiff'] < 0.25]\n",
        "\n",
        "# Compute difference between ext surfaces\n",
        "#cenedtot['surfdiff'] = abs((cenedtot['SUPERFICIE_DISPERDENTE_y'] - cenedtot['SUPERFICIE_DISPERDENTE_x'])/cenedtot['SUPERFICIE_DISPERDENTE_y'])\n",
        "\n",
        "# Drop rows with high difference\n",
        "#cenedtot = cenedtot[cenedtot['surfdiff'] < 0.25]"
      ],
      "execution_count": 25,
      "outputs": []
    },
    {
      "cell_type": "code",
      "metadata": {
        "id": "p18EC-SUazhQ"
      },
      "source": [
        "# Compute difference between EPH\n",
        "cenedtot['ephdiff'] = abs((cenedtot['ETH'] - cenedtot['EP_H_ND'])/cenedtot['ETH'])\n",
        "\n",
        "# Drop rows with high difference\n",
        "cenedtot = cenedtot[cenedtot['ephdiff'] < 0.10]"
      ],
      "execution_count": 26,
      "outputs": []
    },
    {
      "cell_type": "code",
      "metadata": {
        "id": "xX6NlYdF-LvI"
      },
      "source": [
        "cenedtot['DESTINAZIONE_DI_USO'] = cenedtot['DESTINAZIONE_DI_USO'].str.replace(r'E.1 (1)', 'E.1(1)')\r\n",
        "cenedtot = cenedtot[cenedtot['DESTINAZIONE_DI_USO'] == 'E.1(1)']\r\n",
        "# cenedtot = cenedtot[cenedtot['DESTINAZIONE_DI_USO'].str.contains('|'.join(['E.1', 'E.2']))]"
      ],
      "execution_count": 27,
      "outputs": []
    },
    {
      "cell_type": "code",
      "metadata": {
        "id": "Pur65Xv1OYqf"
      },
      "source": [
        "cenedtot = cenedtot.dropna() "
      ],
      "execution_count": 28,
      "outputs": []
    },
    {
      "cell_type": "code",
      "metadata": {
        "id": "3aYF68hIeHGF"
      },
      "source": [
        "cenedtot = cenedtot.drop(['SUBALTERNO', '0_x', 'match_x', 'level_0_x', 'level_0_y',\t'match_y',\t'0_y'], axis = 1).drop_duplicates()"
      ],
      "execution_count": 29,
      "outputs": []
    },
    {
      "cell_type": "code",
      "metadata": {
        "id": "jgYKhZVRe4yI",
        "colab": {
          "base_uri": "https://localhost:8080/"
        },
        "outputId": "4351c198-21e0-4589-c480-8818f1a7f446"
      },
      "source": [
        "print(len(cenedtot))"
      ],
      "execution_count": 30,
      "outputs": [
        {
          "output_type": "stream",
          "text": [
            "2130\n"
          ],
          "name": "stdout"
        }
      ]
    },
    {
      "cell_type": "markdown",
      "metadata": {
        "id": "zvgAL77lLCDf"
      },
      "source": [
        "# Preprocessing"
      ]
    },
    {
      "cell_type": "code",
      "metadata": {
        "id": "Nf2ID1f1Nyb1"
      },
      "source": [
        "cenedtot['SUPERFICIE_DISPERDENTE'] = (cenedtot['SUPERFICIE_DISPERDENTE_x'] + cenedtot['SUPERFICIE_DISPERDENTE_y'])/2"
      ],
      "execution_count": 31,
      "outputs": []
    },
    {
      "cell_type": "code",
      "metadata": {
        "id": "QtdWCtJmK3hs"
      },
      "source": [
        "# Correct floats\r\n",
        "for col in ['SUPERF_UTILE_RISCALDATA',\r\n",
        "           'VOLUME_LORDO_RISCALDATO', 'SUPERFICIE_DISPERDENTE',\r\n",
        "           'RAPPORTO_SV','A_SOL_EST_A_SUP_UTILE','Y_IE','EP_H_ND','EP_GL_NREN','EP_GL_REN']:\r\n",
        "    cenedtot[col] = cenedtot[col].astype(str)\r\n",
        "    cenedtot[col] = cenedtot[col].str.replace(r',', '')\r\n",
        "    cenedtot[col] = cenedtot[col].astype(\"float\")"
      ],
      "execution_count": 32,
      "outputs": []
    },
    {
      "cell_type": "code",
      "metadata": {
        "id": "bdvdZbIjUXtW"
      },
      "source": [
        "# Take care of ach\r\n",
        "cenedtot.NUMERO_RICAMBI_ORARI = cenedtot.NUMERO_RICAMBI_ORARI.astype(str)\r\n",
        "cenedtot.NUMERO_RICAMBI_ORARI = cenedtot.NUMERO_RICAMBI_ORARI.map(lambda x:x[:6])\r\n",
        "cenedtot.NUMERO_RICAMBI_ORARI = cenedtot.NUMERO_RICAMBI_ORARI.astype(float)"
      ],
      "execution_count": 33,
      "outputs": []
    },
    {
      "cell_type": "markdown",
      "metadata": {
        "id": "5XoQZ2wFAnJM"
      },
      "source": [
        "#Feature engineering"
      ]
    },
    {
      "cell_type": "code",
      "metadata": {
        "id": "ypVKCrOKApsL"
      },
      "source": [
        "# Add ddh\n",
        "ddh['comune'] = ddh['comune'].str.lower()\n",
        "ddh['comune'] = ddh['comune'].str.replace(r\"è\",  \"e'\")\n",
        "ddh['comune'] = ddh['comune'].str.replace(r\"è\",  \"e'\")\n",
        "ddh['comune'] = ddh['comune'].str.replace(r\"é\",  \"e'\")\n",
        "ddh['comune'] = ddh['comune'].str.replace(r\"ò\",  \"o'\")\n",
        "ddh['comune'] = ddh['comune'].str.replace(r\"ù\",  \"u'\")\n",
        "\n",
        "cenedtot = cenedtot.merge(ddh, left_on='COMUNE', right_on='comune', how='left')"
      ],
      "execution_count": 34,
      "outputs": []
    },
    {
      "cell_type": "code",
      "metadata": {
        "id": "6OfhIaz6Dbe_"
      },
      "source": [
        "# Opaque surface\n",
        "cenedtot['SUP_OPACA'] = cenedtot['SUPERFICIE_DISPERDENTE']/(1+cenedtot['SUPERFICIE_VETRATA_OPACA'])\n",
        "\n",
        "# Glazing\n",
        "cenedtot['SUP_FINESTRATA'] = cenedtot['SUPERFICIE_DISPERDENTE'] - cenedtot['SUP_OPACA']"
      ],
      "execution_count": 35,
      "outputs": []
    },
    {
      "cell_type": "code",
      "metadata": {
        "id": "9hWzT2YyEEDj"
      },
      "source": [
        "cenedtot['ALTEZZA_MEDIA_12'] = cenedtot['VOLUME_NETTO']/cenedtot['SUPERFICIE_NETTA']\r\n",
        "cenedtot['ALTEZZA_MEDIA_20'] = cenedtot['VOLUME_LORDO_RISCALDATO']/cenedtot['SUPERF_UTILE_RISCALDATA']"
      ],
      "execution_count": 36,
      "outputs": []
    },
    {
      "cell_type": "code",
      "metadata": {
        "id": "tlDJYgk9Eaqc"
      },
      "source": [
        "cenedtot['TRASMITTANZA_MEDIA'] = (cenedtot['TRASMITTANZA_MEDIA_SERRAMENTO'] + cenedtot['TRASMITTANZA_MEDIA_COPERTURA'] +\n",
        "         cenedtot['TRASMITTANZA_MEDIA_BASAMENTO'] + cenedtot['TRASMITTANZA_MEDIA_INVOLUCRO'])/4"
      ],
      "execution_count": 37,
      "outputs": []
    },
    {
      "cell_type": "code",
      "metadata": {
        "id": "SY89pmJMSXHd"
      },
      "source": [
        "cenedtot['EP_GL_TOT'] = cenedtot['EP_GL_REN'] + cenedtot['EP_GL_NREN']"
      ],
      "execution_count": 38,
      "outputs": []
    },
    {
      "cell_type": "code",
      "metadata": {
        "id": "FNtdqkb9LNw9"
      },
      "source": [
        "# East facing surface\r\n",
        "cenedtot['A_SOL_EST'] = cenedtot['A_SOL_EST_A_SUP_UTILE']*cenedtot['SUPERF_UTILE_RISCALDATA']"
      ],
      "execution_count": 39,
      "outputs": []
    },
    {
      "cell_type": "markdown",
      "metadata": {
        "id": "4oJoiQie-SGo"
      },
      "source": [
        "#Filters"
      ]
    },
    {
      "cell_type": "code",
      "metadata": {
        "id": "nuOs5Fvv7FXS"
      },
      "source": [
        "for col in ['TRASMITTANZA_MEDIA_COPERTURA','TRASMITTANZA_MEDIA_INVOLUCRO',\n",
        "          'TRASMITTANZA_MEDIA_BASAMENTO','TRASMITTANZA_MEDIA_SERRAMENTO']:\n",
        "          cenedtot = cenedtot[cenedtot[col].between(0,6, inclusive=False)]\n",
        "\n",
        "cenedtot = cenedtot[cenedtot['TRASMITTANZA_MEDIA'] > 0.15]\n",
        "cenedtot = cenedtot[cenedtot['TRASMITTANZA_MEDIA'] < 4]\n",
        "\n",
        "cenedtot = cenedtot[cenedtot['Y_IE'] <= 6]\n",
        "cenedtot = cenedtot[cenedtot['Y_IE'] >= 0.01]"
      ],
      "execution_count": 40,
      "outputs": []
    },
    {
      "cell_type": "code",
      "metadata": {
        "id": "oo4Y_4pJUPAI"
      },
      "source": [
        "# Drop buildings with wrong An\n",
        "cenedtot = cenedtot[cenedtot['SUPERFICIE_NETTA'] >= 50]\n",
        "cenedtot = cenedtot[cenedtot['SUPERF_UTILE_RISCALDATA'] >= 50]\n",
        "\n",
        "# Drop buildings with wrong Vn\n",
        "cenedtot = cenedtot[cenedtot['VOLUME_NETTO'] > 150]\n",
        "cenedtot = cenedtot[cenedtot['VOLUME_LORDO_RISCALDATO'] >= 150]"
      ],
      "execution_count": 41,
      "outputs": []
    },
    {
      "cell_type": "code",
      "metadata": {
        "id": "b9K1nHZQSnGC"
      },
      "source": [
        "# Glazed surface\r\n",
        "cenedtot = cenedtot[cenedtot['SUP_FINESTRATA'] > 1]\r\n",
        "\r\n",
        "# Glazing ratio\r\n",
        "cenedtot = cenedtot[cenedtot['SUPERFICIE_VETRATA_OPACA'] > 0]\r\n",
        "cenedtot = cenedtot[cenedtot['SUPERFICIE_VETRATA_OPACA'] < 0.9]"
      ],
      "execution_count": 42,
      "outputs": []
    },
    {
      "cell_type": "code",
      "metadata": {
        "id": "HnKYF5WOEiPA"
      },
      "source": [
        "cenedtot = cenedtot[cenedtot['ALTEZZA_MEDIA_12'] > 2.4]\n",
        "cenedtot = cenedtot[cenedtot['ALTEZZA_MEDIA_20'] > 2.4]"
      ],
      "execution_count": 43,
      "outputs": []
    },
    {
      "cell_type": "code",
      "metadata": {
        "id": "2hDXj9dVIJsf"
      },
      "source": [
        "# Drop buildings with wrong EPH\n",
        "cenedtot = cenedtot[cenedtot['EP_H_ND'] > 5]\n",
        "cenedtot = cenedtot[cenedtot['EP_H_ND'] < 1000]"
      ],
      "execution_count": 44,
      "outputs": []
    },
    {
      "cell_type": "code",
      "metadata": {
        "id": "xujIABTpWY3e"
      },
      "source": [
        "cenedtot = cenedtot[cenedtot['A_SOL_EST_A_SUP_UTILE'] <= 0.5]\r\n",
        "cenedtot = cenedtot[cenedtot['A_SOL_EST_A_SUP_UTILE'] > 0]"
      ],
      "execution_count": 45,
      "outputs": []
    },
    {
      "cell_type": "code",
      "metadata": {
        "id": "gUhc_Fkd-6gQ",
        "colab": {
          "base_uri": "https://localhost:8080/"
        },
        "outputId": "3616d903-6a1b-424e-b08c-65e278ba4ee4"
      },
      "source": [
        "len(cenedtot)"
      ],
      "execution_count": 46,
      "outputs": [
        {
          "output_type": "execute_result",
          "data": {
            "text/plain": [
              "1460"
            ]
          },
          "metadata": {
            "tags": []
          },
          "execution_count": 46
        }
      ]
    },
    {
      "cell_type": "markdown",
      "metadata": {
        "id": "spKskdWCL4mM"
      },
      "source": [
        "# Data analysis"
      ]
    },
    {
      "cell_type": "code",
      "metadata": {
        "id": "MvzSQpeLL_Ku",
        "colab": {
          "base_uri": "https://localhost:8080/",
          "height": 317
        },
        "outputId": "e6adc1fc-25a0-4b65-90e3-a11f5786f8b6"
      },
      "source": [
        "# Period\r\n",
        "fig = plt.figure(figsize = (6,4))\r\n",
        "cplot = sns.countplot(x = pd.cut(cenedtot.ANNO_COSTRUZIONE_x, bins=[0,1930,1945,1960,1976,1992,2006,3000], \r\n",
        "       labels=['Before 1930','1930-1945','1946-1960','1961-1976', '1977-1992', \r\n",
        "               '1993-2006','After 2006']), color = 'b')\r\n",
        "cplot.set(ylabel = 'Count', xlabel = 'Period')\r\n",
        "plt.xticks(rotation=30)\r\n",
        "plt.show()"
      ],
      "execution_count": 47,
      "outputs": [
        {
          "output_type": "display_data",
          "data": {
            "image/png": "[encoded data removed]",
            "text/plain": [
              "<Figure size 432x288 with 1 Axes>"
            ]
          },
          "metadata": {
            "tags": [],
            "needs_background": "light"
          }
        }
      ]
    },
    {
      "cell_type": "markdown",
      "metadata": {
        "id": "jjki_9utExQG"
      },
      "source": [
        "# Shuffle"
      ]
    },
    {
      "cell_type": "code",
      "metadata": {
        "id": "5Ao1QXyfEwPv"
      },
      "source": [
        "cened = cenedtot.sample(frac=1, random_state = 42).reset_index(drop=True)"
      ],
      "execution_count": 48,
      "outputs": []
    },
    {
      "cell_type": "markdown",
      "metadata": {
        "id": "xLy7NHfV6NOg"
      },
      "source": [
        "# Reserve a test set"
      ]
    },
    {
      "cell_type": "code",
      "metadata": {
        "id": "D8AmkFQH6Nl7"
      },
      "source": [
        "msk = np.random.rand(len(cened)) < 0.8\r\n",
        "train = cened[msk]\r\n",
        "test = cened[~msk]"
      ],
      "execution_count": 49,
      "outputs": []
    },
    {
      "cell_type": "code",
      "metadata": {
        "colab": {
          "base_uri": "https://localhost:8080/"
        },
        "id": "Tz77V-S2_H01",
        "outputId": "7ac0d94a-61a7-40df-fa96-6c9f4c23d165"
      },
      "source": [
        "print(len(train))"
      ],
      "execution_count": 50,
      "outputs": [
        {
          "output_type": "stream",
          "text": [
            "1179\n"
          ],
          "name": "stdout"
        }
      ]
    },
    {
      "cell_type": "code",
      "metadata": {
        "colab": {
          "base_uri": "https://localhost:8080/"
        },
        "id": "HeJnDatG_Kan",
        "outputId": "3b53f518-0fbf-49d2-8061-0f7d188fbbd8"
      },
      "source": [
        "print(len(test))"
      ],
      "execution_count": 51,
      "outputs": [
        {
          "output_type": "stream",
          "text": [
            "281\n"
          ],
          "name": "stdout"
        }
      ]
    },
    {
      "cell_type": "markdown",
      "metadata": {
        "id": "7TMSuHej9Mw-"
      },
      "source": [
        "# Define MAPE"
      ]
    },
    {
      "cell_type": "code",
      "metadata": {
        "id": "sfmx3u169Q0i"
      },
      "source": [
        "def neg_mape(y_true, y_pred):\r\n",
        "  y_true = np.array(y_true)\r\n",
        "  y_pred = np.array(y_pred)\r\n",
        "  return -np.abs((y_true - y_pred)/y_true).mean()"
      ],
      "execution_count": 52,
      "outputs": []
    },
    {
      "cell_type": "code",
      "metadata": {
        "id": "2TUZvEj1LFLu"
      },
      "source": [
        "def modified_neg_mape(y_true, y_pred):\r\n",
        "  y_true = np.array(y_true)\r\n",
        "  y_pred = np.array(y_pred)\r\n",
        "  errors = np.abs((y_true - y_pred)/y_true)\r\n",
        "  index = np.argwhere(errors > 1)\r\n",
        "  mod_errors = np.delete(errors, index)\r\n",
        "  return -mod_errors.mean()"
      ],
      "execution_count": 53,
      "outputs": []
    },
    {
      "cell_type": "code",
      "metadata": {
        "id": "66onwvYJALQj"
      },
      "source": [
        "neg_mape_scorer = make_scorer(neg_mape, greater_is_better=True)"
      ],
      "execution_count": 54,
      "outputs": []
    },
    {
      "cell_type": "code",
      "metadata": {
        "id": "53ze8caVLOOn"
      },
      "source": [
        "modified_neg_mape_scorer = make_scorer(modified_neg_mape, greater_is_better=True)"
      ],
      "execution_count": 55,
      "outputs": []
    },
    {
      "cell_type": "markdown",
      "metadata": {
        "id": "ul4W6e_uJXE1"
      },
      "source": [
        "# 2.0 inputs"
      ]
    },
    {
      "cell_type": "markdown",
      "metadata": {
        "id": "OR6CdvGxJXE3"
      },
      "source": [
        "## Random search"
      ]
    },
    {
      "cell_type": "code",
      "metadata": {
        "id": "nUa9KYcPJXE5"
      },
      "source": [
        "mlcol = ['SUPERF_UTILE_RISCALDATA',\r\n",
        "           'VOLUME_LORDO_RISCALDATO',\r\n",
        "           'SUPERFICIE_DISPERDENTE_x', 'dd','PERIODO_20',\r\n",
        "           'RAPPORTO_SV','A_SOL_EST_A_SUP_UTILE','Y_IE',\r\n",
        "           'ALTEZZA_MEDIA_20', 'A_SOL_EST', 'NUMERO_UNITA_IMMOBILIARI']"
      ],
      "execution_count": 156,
      "outputs": []
    },
    {
      "cell_type": "code",
      "metadata": {
        "id": "wSR0Cy3TJXE7"
      },
      "source": [
        "cat_feats = ['PERIODO_20']"
      ],
      "execution_count": 157,
      "outputs": []
    },
    {
      "cell_type": "code",
      "metadata": {
        "colab": {
          "base_uri": "https://localhost:8080/"
        },
        "id": "NP2PcwciJXE8",
        "outputId": "cd65defc-d399-4adb-891f-3d8d2d457bb9"
      },
      "source": [
        "param_dist = {'feature_fraction': np.linspace(0.4, 1, num=7),\r\n",
        "              'num_leaf' : list(range(20,40)),\r\n",
        "             'max_depth' : [-1],\r\n",
        "             'max_bin' : [100, 200, 300, 500, 750, 1000, 2000],\r\n",
        "             'bagging_fraction' : np.linspace(0.4, 1, num=14),\r\n",
        "             'bagging_freq' : list(range(1,10)),\r\n",
        "             'lambda_l1' : stats.uniform(0, 0.6),\r\n",
        "             'lambda_l2' : stats.uniform(0, 0.6)}\r\n",
        "\r\n",
        "lgbm20 = LGBMRegressor(n_estimators = 200, silent = True, verbose = 0, is_training_metric = True, n_jobs = 1, \r\n",
        "                     eval_metric  = 'mape')\r\n",
        "\r\n",
        "n_iter_search = 100\r\n",
        "\r\n",
        "random_search20 = RandomizedSearchCV(lgbm20, param_distributions=param_dist, n_iter=n_iter_search, \r\n",
        "                                   scoring={'MAPE' : neg_mape_scorer, 'MAPE <100%' : modified_neg_mape_scorer, 'R2' : 'r2'} , cv = 5, n_jobs = 6, verbose = 2, refit = 'MAPE',\r\n",
        "                                   random_state=42)\r\n",
        "\r\n",
        "random_search20.fit(cened[mlcol], cened['EP_H_ND'], categorical_feature = cat_feats)"
      ],
      "execution_count": 158,
      "outputs": [
        {
          "output_type": "stream",
          "text": [
            "Fitting 5 folds for each of 100 candidates, totalling 500 fits\n"
          ],
          "name": "stdout"
        },
        {
          "output_type": "stream",
          "text": [
            "[Parallel(n_jobs=6)]: Using backend LokyBackend with 6 concurrent workers.\n",
            "[Parallel(n_jobs=6)]: Done  29 tasks      | elapsed:   11.3s\n",
            "[Parallel(n_jobs=6)]: Done 150 tasks      | elapsed:   37.1s\n",
            "[Parallel(n_jobs=6)]: Done 353 tasks      | elapsed:  1.4min\n",
            "[Parallel(n_jobs=6)]: Done 500 out of 500 | elapsed:  1.9min finished\n",
            "/usr/local/lib/python3.6/dist-packages/lightgbm/basic.py:1209: UserWarning: categorical_feature in Dataset is overridden.\n",
            "New categorical_feature is ['PERIODO_20']\n",
            "  'New categorical_feature is {}'.format(sorted(list(categorical_feature))))\n"
          ],
          "name": "stderr"
        },
        {
          "output_type": "execute_result",
          "data": {
            "text/plain": [
              "RandomizedSearchCV(cv=5, error_score=nan,\n",
              "                   estimator=LGBMRegressor(boosting_type='gbdt',\n",
              "                                           class_weight=None,\n",
              "                                           colsample_bytree=1.0,\n",
              "                                           eval_metric='mape',\n",
              "                                           importance_type='split',\n",
              "                                           is_training_metric=True,\n",
              "                                           learning_rate=0.1, max_depth=-1,\n",
              "                                           min_child_samples=20,\n",
              "                                           min_child_weight=0.001,\n",
              "                                           min_split_gain=0.0, n_estimators=200,\n",
              "                                           n_jobs=1, num_leaves=31,\n",
              "                                           objective=None, random_sta...\n",
              "                                        'lambda_l2': <scipy.stats._distn_infrastructure.rv_frozen object at 0x7f01226aec18>,\n",
              "                                        'max_bin': [100, 200, 300, 500, 750,\n",
              "                                                    1000, 2000],\n",
              "                                        'max_depth': [-1],\n",
              "                                        'num_leaf': [20, 21, 22, 23, 24, 25, 26,\n",
              "                                                     27, 28, 29, 30, 31, 32, 33,\n",
              "                                                     34, 35, 36, 37, 38, 39]},\n",
              "                   pre_dispatch='2*n_jobs', random_state=42, refit='MAPE',\n",
              "                   return_train_score=False,\n",
              "                   scoring={'MAPE': make_scorer(neg_mape),\n",
              "                            'MAPE <100%': make_scorer(modified_neg_mape),\n",
              "                            'R2': 'r2'},\n",
              "                   verbose=2)"
            ]
          },
          "metadata": {
            "tags": []
          },
          "execution_count": 158
        }
      ]
    },
    {
      "cell_type": "markdown",
      "metadata": {
        "id": "3KkN5AJyJXFA"
      },
      "source": [
        "## Print results"
      ]
    },
    {
      "cell_type": "code",
      "metadata": {
        "colab": {
          "base_uri": "https://localhost:8080/"
        },
        "id": "GS06v7CMJXFB",
        "outputId": "00c56042-34d4-4c9c-ab58-dc080827732d"
      },
      "source": [
        "print(random_search20.best_params_)"
      ],
      "execution_count": 159,
      "outputs": [
        {
          "output_type": "stream",
          "text": [
            "{'bagging_fraction': 0.8615384615384616, 'bagging_freq': 5, 'feature_fraction': 0.7, 'lambda_l1': 0.23166158268046455, 'lambda_l2': 0.5767143382943485, 'max_bin': 200, 'max_depth': -1, 'num_leaf': 30}\n"
          ],
          "name": "stdout"
        }
      ]
    },
    {
      "cell_type": "code",
      "metadata": {
        "colab": {
          "base_uri": "https://localhost:8080/"
        },
        "id": "h0Q30_MRJXFC",
        "outputId": "ed8c94e0-58c7-43af-8906-d7e56e7cd9c3"
      },
      "source": [
        "print(random_search20.best_score_)"
      ],
      "execution_count": 160,
      "outputs": [
        {
          "output_type": "stream",
          "text": [
            "-0.23118982533189172\n"
          ],
          "name": "stdout"
        }
      ]
    },
    {
      "cell_type": "code",
      "metadata": {
        "colab": {
          "base_uri": "https://localhost:8080/"
        },
        "id": "6XeIxoPcJXFD",
        "outputId": "79592734-7797-477d-c585-7867f80cf931"
      },
      "source": [
        "# Create a results df\r\n",
        "cv_df20 = pd.DataFrame(random_search20.cv_results_)\r\n",
        "cv_df20 = cv_df20.sort_values(by = ['rank_test_MAPE']).reset_index()\r\n",
        "\r\n",
        "# Filter columns\r\n",
        "res_cols20 = [col for col in cv_df20 if col.startswith('split')]\r\n",
        "\r\n",
        "# Select best iter\r\n",
        "best_res20 = cv_df20.loc[0]\r\n",
        "\r\n",
        "# Print results for each fold\r\n",
        "print(best_res20[res_cols20])"
      ],
      "execution_count": 161,
      "outputs": [
        {
          "output_type": "stream",
          "text": [
            "split0_test_MAPE         -0.231552\n",
            "split1_test_MAPE         -0.252162\n",
            "split2_test_MAPE         -0.214379\n",
            "split3_test_MAPE         -0.226963\n",
            "split4_test_MAPE         -0.230893\n",
            "split0_test_MAPE <100%   -0.201944\n",
            "split1_test_MAPE <100%   -0.201757\n",
            "split2_test_MAPE <100%   -0.195427\n",
            "split3_test_MAPE <100%   -0.205338\n",
            "split4_test_MAPE <100%   -0.200995\n",
            "split0_test_R2            0.644434\n",
            "split1_test_R2            0.610502\n",
            "split2_test_R2            0.657852\n",
            "split3_test_R2             0.63594\n",
            "split4_test_R2             0.68191\n",
            "Name: 0, dtype: object\n"
          ],
          "name": "stdout"
        }
      ]
    },
    {
      "cell_type": "code",
      "metadata": {
        "id": "PM2UhGnkVPB6",
        "colab": {
          "base_uri": "https://localhost:8080/"
        },
        "outputId": "fb3c9504-f60d-4377-a6c9-6d25188893c8"
      },
      "source": [
        "# Best R2\r\n",
        "print(best_res20.mean_test_R2)"
      ],
      "execution_count": 200,
      "outputs": [
        {
          "output_type": "stream",
          "text": [
            "0.6461275685213309\n"
          ],
          "name": "stdout"
        }
      ]
    },
    {
      "cell_type": "code",
      "metadata": {
        "id": "Hy76OsHBdTP8",
        "colab": {
          "base_uri": "https://localhost:8080/",
          "height": 557
        },
        "outputId": "46932fff-42e2-4921-b79f-2c273c8d3bb5"
      },
      "source": [
        "df20 = pd.DataFrame(best_res20[res_cols20])\r\n",
        "df20 = df20.rename(columns = {0:'Value'})\r\n",
        "df20['Fold'] = df20.index.str[5:6]\r\n",
        "df20['Metric'] = df20.index.str[12:]\r\n",
        "df20['Value'] = np.where(df20['Metric'] == 'R2', df20['Value'], df20['Value'] * -1)\r\n",
        "ax = sns.barplot(x='Fold', y=\"Value\", hue=\"Metric\", data = df20[df20['Metric'] != 'R2'])\r\n",
        "ax.set(ylim = (0, 0.28))\r\n",
        "plt.show()\r\n",
        "ax = sns.barplot(x='Fold', y=\"Value\", hue=\"Metric\", data = df20[df20['Metric'] == 'R2'])\r\n",
        "ax.set(ylim = (0, 1))\r\n",
        "plt.show()"
      ],
      "execution_count": 162,
      "outputs": [
        {
          "output_type": "display_data",
          "data": {
            "image/png": "[encoded data removed]",
            "text/plain": [
              "<Figure size 432x288 with 1 Axes>"
            ]
          },
          "metadata": {
            "tags": [],
            "needs_background": "light"
          }
        },
        {
          "output_type": "display_data",
          "data": {
            "image/png": "[encoded data removed]",
            "text/plain": [
              "<Figure size 432x288 with 1 Axes>"
            ]
          },
          "metadata": {
            "tags": [],
            "needs_background": "light"
          }
        }
      ]
    },
    {
      "cell_type": "markdown",
      "metadata": {
        "id": "hfMIlVdnJXFF"
      },
      "source": [
        "## Train the final model"
      ]
    },
    {
      "cell_type": "code",
      "metadata": {
        "colab": {
          "base_uri": "https://localhost:8080/"
        },
        "id": "kyNI_a_cJXFG",
        "outputId": "f73ef0f5-0a04-4913-915c-a56dbad32e48"
      },
      "source": [
        "light20 = LGBMRegressor(n_estimators = 1000, silent = False, verbose = 2, is_training_metric = True, n_jobs = 6)\r\n",
        "light20.set_params(**random_search20.best_params_)"
      ],
      "execution_count": 163,
      "outputs": [
        {
          "output_type": "execute_result",
          "data": {
            "text/plain": [
              "LGBMRegressor(bagging_fraction=0.8615384615384616, bagging_freq=5,\n",
              "              boosting_type='gbdt', class_weight=None, colsample_bytree=1.0,\n",
              "              feature_fraction=0.7, importance_type='split',\n",
              "              is_training_metric=True, lambda_l1=0.23166158268046455,\n",
              "              lambda_l2=0.5767143382943485, learning_rate=0.1, max_bin=200,\n",
              "              max_depth=-1, min_child_samples=20, min_child_weight=0.001,\n",
              "              min_split_gain=0.0, n_estimators=1000, n_jobs=6, num_leaf=30,\n",
              "              num_leaves=31, objective=None, random_state=None, reg_alpha=0.0,\n",
              "              reg_lambda=0.0, silent=False, subsample=1.0,\n",
              "              subsample_for_bin=200000, subsample_freq=0, verbose=2)"
            ]
          },
          "metadata": {
            "tags": []
          },
          "execution_count": 163
        }
      ]
    },
    {
      "cell_type": "code",
      "metadata": {
        "colab": {
          "base_uri": "https://localhost:8080/"
        },
        "id": "mshxLA9FJXFH",
        "outputId": "2e7c1098-0397-459a-a390-96a674a78128"
      },
      "source": [
        "light20.fit(train[mlcol], train['EP_H_ND'])"
      ],
      "execution_count": 164,
      "outputs": [
        {
          "output_type": "execute_result",
          "data": {
            "text/plain": [
              "LGBMRegressor(bagging_fraction=0.8615384615384616, bagging_freq=5,\n",
              "              boosting_type='gbdt', class_weight=None, colsample_bytree=1.0,\n",
              "              feature_fraction=0.7, importance_type='split',\n",
              "              is_training_metric=True, lambda_l1=0.23166158268046455,\n",
              "              lambda_l2=0.5767143382943485, learning_rate=0.1, max_bin=200,\n",
              "              max_depth=-1, min_child_samples=20, min_child_weight=0.001,\n",
              "              min_split_gain=0.0, n_estimators=1000, n_jobs=6, num_leaf=30,\n",
              "              num_leaves=31, objective=None, random_state=None, reg_alpha=0.0,\n",
              "              reg_lambda=0.0, silent=False, subsample=1.0,\n",
              "              subsample_for_bin=200000, subsample_freq=0, verbose=2)"
            ]
          },
          "metadata": {
            "tags": []
          },
          "execution_count": 164
        }
      ]
    },
    {
      "cell_type": "markdown",
      "metadata": {
        "id": "qfWXgMvfajfT"
      },
      "source": [
        "## Test the model"
      ]
    },
    {
      "cell_type": "code",
      "metadata": {
        "id": "0kQ86NtEajfT"
      },
      "source": [
        "y_pred20 = light20.predict(test[mlcol]).clip(0)"
      ],
      "execution_count": 165,
      "outputs": []
    },
    {
      "cell_type": "code",
      "metadata": {
        "id": "oVoTkgyLajfU"
      },
      "source": [
        "results_df20 = pd.DataFrame({'predicted' : y_pred20, 'true' : test['EP_H_ND']})\r\n",
        "results_df20['error'] = np.abs((results_df20['true'] - results_df20['predicted'])/results_df20['true'])*100"
      ],
      "execution_count": 166,
      "outputs": []
    },
    {
      "cell_type": "code",
      "metadata": {
        "colab": {
          "base_uri": "https://localhost:8080/"
        },
        "id": "Po61vABtajfU",
        "outputId": "86e7e7ba-595d-4d12-cc33-7affeffd21cd"
      },
      "source": [
        "# MAPE\r\n",
        "results_df20['error'].mean()"
      ],
      "execution_count": 167,
      "outputs": [
        {
          "output_type": "execute_result",
          "data": {
            "text/plain": [
              "21.001301105094225"
            ]
          },
          "metadata": {
            "tags": []
          },
          "execution_count": 167
        }
      ]
    },
    {
      "cell_type": "code",
      "metadata": {
        "id": "3NeF_M_htAQS",
        "colab": {
          "base_uri": "https://localhost:8080/"
        },
        "outputId": "a3e47051-e56a-4c15-c5b8-27f9e32cd877"
      },
      "source": [
        "# Max % error\r\n",
        "results_df20['error'].max()"
      ],
      "execution_count": 168,
      "outputs": [
        {
          "output_type": "execute_result",
          "data": {
            "text/plain": [
              "180.4555276988449"
            ]
          },
          "metadata": {
            "tags": []
          },
          "execution_count": 168
        }
      ]
    },
    {
      "cell_type": "code",
      "metadata": {
        "id": "C0o2UT8A2MZZ",
        "colab": {
          "base_uri": "https://localhost:8080/"
        },
        "outputId": "b5a6c7c2-6eb2-471b-c856-69c14a05156f"
      },
      "source": [
        "# Row with the highest % error\r\n",
        "results_df20.iloc[results_df20['error'].argmax()]"
      ],
      "execution_count": 169,
      "outputs": [
        {
          "output_type": "execute_result",
          "data": {
            "text/plain": [
              "predicted    173.910473\n",
              "true          62.010000\n",
              "error        180.455528\n",
              "Name: 1053, dtype: float64"
            ]
          },
          "metadata": {
            "tags": []
          },
          "execution_count": 169
        }
      ]
    },
    {
      "cell_type": "code",
      "metadata": {
        "colab": {
          "base_uri": "https://localhost:8080/"
        },
        "id": "mvdF-69Jajfa",
        "outputId": "72843750-0bae-4b97-e049-bac191d275c9"
      },
      "source": [
        "# MAPE without >100%\r\n",
        "results_df20[results_df20.error <= 100].error.mean()"
      ],
      "execution_count": 170,
      "outputs": [
        {
          "output_type": "execute_result",
          "data": {
            "text/plain": [
              "19.19593204337952"
            ]
          },
          "metadata": {
            "tags": []
          },
          "execution_count": 170
        }
      ]
    },
    {
      "cell_type": "code",
      "metadata": {
        "id": "xnsGYxRhZnmb",
        "colab": {
          "base_uri": "https://localhost:8080/"
        },
        "outputId": "e5934bdf-6d40-4b68-8a23-c636a8600954"
      },
      "source": [
        "# R2 \r\n",
        "print(r2_score(test['EP_H_ND'], y_pred20))"
      ],
      "execution_count": 171,
      "outputs": [
        {
          "output_type": "stream",
          "text": [
            "0.6130838503432736\n"
          ],
          "name": "stdout"
        }
      ]
    },
    {
      "cell_type": "code",
      "metadata": {
        "id": "fCoPtLWGZ6tu",
        "colab": {
          "base_uri": "https://localhost:8080/"
        },
        "outputId": "fba7fe38-8995-4762-c7fd-69a69931f46d"
      },
      "source": [
        "# R2 without >100%\r\n",
        "print(r2_score(results_df20[results_df20.error <= 100].true, results_df20[results_df20.error <= 100].predicted))"
      ],
      "execution_count": 172,
      "outputs": [
        {
          "output_type": "stream",
          "text": [
            "0.6300361063102587\n"
          ],
          "name": "stdout"
        }
      ]
    },
    {
      "cell_type": "code",
      "metadata": {
        "colab": {
          "base_uri": "https://localhost:8080/",
          "height": 419
        },
        "id": "caJyvslEajfc",
        "outputId": "905d296f-3174-495e-d186-448e9e2c982e"
      },
      "source": [
        "results_df20"
      ],
      "execution_count": 173,
      "outputs": [
        {
          "output_type": "execute_result",
          "data": {
            "text/html": [
              "<div>\n",
              "<style scoped>\n",
              "    .dataframe tbody tr th:only-of-type {\n",
              "        vertical-align: middle;\n",
              "    }\n",
              "\n",
              "    .dataframe tbody tr th {\n",
              "        vertical-align: top;\n",
              "    }\n",
              "\n",
              "    .dataframe thead th {\n",
              "        text-align: right;\n",
              "    }\n",
              "</style>\n",
              "<table border=\"1\" class=\"dataframe\">\n",
              "  <thead>\n",
              "    <tr style=\"text-align: right;\">\n",
              "      <th></th>\n",
              "      <th>predicted</th>\n",
              "      <th>true</th>\n",
              "      <th>error</th>\n",
              "    </tr>\n",
              "  </thead>\n",
              "  <tbody>\n",
              "    <tr>\n",
              "      <th>0</th>\n",
              "      <td>157.370179</td>\n",
              "      <td>173.32</td>\n",
              "      <td>9.202528</td>\n",
              "    </tr>\n",
              "    <tr>\n",
              "      <th>1</th>\n",
              "      <td>190.480759</td>\n",
              "      <td>180.76</td>\n",
              "      <td>5.377716</td>\n",
              "    </tr>\n",
              "    <tr>\n",
              "      <th>2</th>\n",
              "      <td>53.452774</td>\n",
              "      <td>31.52</td>\n",
              "      <td>69.583673</td>\n",
              "    </tr>\n",
              "    <tr>\n",
              "      <th>7</th>\n",
              "      <td>97.316407</td>\n",
              "      <td>120.98</td>\n",
              "      <td>19.559922</td>\n",
              "    </tr>\n",
              "    <tr>\n",
              "      <th>11</th>\n",
              "      <td>123.231161</td>\n",
              "      <td>100.98</td>\n",
              "      <td>22.035216</td>\n",
              "    </tr>\n",
              "    <tr>\n",
              "      <th>...</th>\n",
              "      <td>...</td>\n",
              "      <td>...</td>\n",
              "      <td>...</td>\n",
              "    </tr>\n",
              "    <tr>\n",
              "      <th>1436</th>\n",
              "      <td>167.027596</td>\n",
              "      <td>241.98</td>\n",
              "      <td>30.974628</td>\n",
              "    </tr>\n",
              "    <tr>\n",
              "      <th>1438</th>\n",
              "      <td>148.525216</td>\n",
              "      <td>112.64</td>\n",
              "      <td>31.858324</td>\n",
              "    </tr>\n",
              "    <tr>\n",
              "      <th>1448</th>\n",
              "      <td>167.890221</td>\n",
              "      <td>129.18</td>\n",
              "      <td>29.966110</td>\n",
              "    </tr>\n",
              "    <tr>\n",
              "      <th>1455</th>\n",
              "      <td>157.559712</td>\n",
              "      <td>163.05</td>\n",
              "      <td>3.367242</td>\n",
              "    </tr>\n",
              "    <tr>\n",
              "      <th>1457</th>\n",
              "      <td>140.586728</td>\n",
              "      <td>155.79</td>\n",
              "      <td>9.758824</td>\n",
              "    </tr>\n",
              "  </tbody>\n",
              "</table>\n",
              "<p>281 rows × 3 columns</p>\n",
              "</div>"
            ],
            "text/plain": [
              "       predicted    true      error\n",
              "0     157.370179  173.32   9.202528\n",
              "1     190.480759  180.76   5.377716\n",
              "2      53.452774   31.52  69.583673\n",
              "7      97.316407  120.98  19.559922\n",
              "11    123.231161  100.98  22.035216\n",
              "...          ...     ...        ...\n",
              "1436  167.027596  241.98  30.974628\n",
              "1438  148.525216  112.64  31.858324\n",
              "1448  167.890221  129.18  29.966110\n",
              "1455  157.559712  163.05   3.367242\n",
              "1457  140.586728  155.79   9.758824\n",
              "\n",
              "[281 rows x 3 columns]"
            ]
          },
          "metadata": {
            "tags": []
          },
          "execution_count": 173
        }
      ]
    },
    {
      "cell_type": "code",
      "metadata": {
        "id": "0c9tej3NmmoF",
        "colab": {
          "base_uri": "https://localhost:8080/",
          "height": 318
        },
        "outputId": "49ba0cb0-9030-4090-f04c-49eb352dedfc"
      },
      "source": [
        "plot_importance(light20)"
      ],
      "execution_count": 174,
      "outputs": [
        {
          "output_type": "execute_result",
          "data": {
            "text/plain": [
              "<matplotlib.axes._subplots.AxesSubplot at 0x7f0122d70f28>"
            ]
          },
          "metadata": {
            "tags": []
          },
          "execution_count": 174
        },
        {
          "output_type": "display_data",
          "data": {
            "image/png": "[encoded data removed]",
            "text/plain": [
              "<Figure size 432x288 with 1 Axes>"
            ]
          },
          "metadata": {
            "tags": [],
            "needs_background": "light"
          }
        }
      ]
    },
    {
      "cell_type": "markdown",
      "metadata": {
        "id": "83WRjGRpy-Eu"
      },
      "source": [
        "## Error analysis"
      ]
    },
    {
      "cell_type": "code",
      "metadata": {
        "id": "j4YJrSNty-E4",
        "colab": {
          "base_uri": "https://localhost:8080/",
          "height": 349
        },
        "outputId": "522b826c-63b7-4b02-8469-a4df96e269ac"
      },
      "source": [
        "# Period\r\n",
        "bins = pd.cut(test.ANNO_COSTRUZIONE_x, bins=[0,1930,1945,1960,1976,1992,2006,3000], \r\n",
        "       labels=['Before 1930','1930-1945','1946-1960','1961-1976', '1977-1992', \r\n",
        "               '1993-2006','After 2006'])\r\n",
        "\r\n",
        "fig = plt.figure(figsize = (7, 4.5))\r\n",
        "box = sns.boxplot(y = results_df20.error, x = bins, \r\n",
        "                  color='lightsteelblue', orient = 'v', \r\n",
        "                  showfliers = False)\r\n",
        "\r\n",
        "box.set(ylim = (0, 120), ylabel = 'MAPE [%]', xlabel = 'Period')\r\n",
        "plt.xticks(rotation=30)\r\n",
        "plt.show()"
      ],
      "execution_count": 214,
      "outputs": [
        {
          "output_type": "display_data",
          "data": {
            "image/png": "[encoded data removed]",
            "text/plain": [
              "<Figure size 504x324 with 1 Axes>"
            ]
          },
          "metadata": {
            "tags": [],
            "needs_background": "light"
          }
        }
      ]
    },
    {
      "cell_type": "code",
      "metadata": {
        "id": "oJs63Z5Zy-E4",
        "colab": {
          "base_uri": "https://localhost:8080/",
          "height": 303
        },
        "outputId": "4f1614d5-6d5e-4ef1-8366-4d6bb7288437"
      },
      "source": [
        "# Error\r\n",
        "fig = plt.figure(figsize = (7,4))\r\n",
        "cplot = sns.countplot(x = pd.cut(results_df20.error, bins=[0,10,20,30,40,50,60,70,80,90,100,10000],\r\n",
        "                                 labels = ['<10', '10-20', '20-30', '30-40', '40-50', '50-60', '60-70', '70-80', '80-90', '90-100', '>100']), color = 'b')\r\n",
        "cplot.set(ylabel = 'Count', xlabel = 'MAPE [%]')\r\n",
        "plt.xticks(rotation=30)\r\n",
        "plt.show()"
      ],
      "execution_count": 212,
      "outputs": [
        {
          "output_type": "display_data",
          "data": {
            "image/png": "[encoded data removed]",
            "text/plain": [
              "<Figure size 504x288 with 1 Axes>"
            ]
          },
          "metadata": {
            "tags": [],
            "needs_background": "light"
          }
        }
      ]
    },
    {
      "cell_type": "code",
      "metadata": {
        "id": "4MpdT4Jiy-E4",
        "colab": {
          "base_uri": "https://localhost:8080/",
          "height": 339
        },
        "outputId": "4dea6a91-449e-4d09-81ee-b1ebe590cf4f"
      },
      "source": [
        "# Scatterplot\r\n",
        "fig = plt.figure(figsize = (7,5))\r\n",
        "scatter = sns.scatterplot(data=results_df20, x=\"predicted\", y=\"true\")\r\n",
        "scatter.set(ylabel = 'True', xlabel = 'Predicted',\r\n",
        "            xlim=(-30, 430), ylim=(-30, 430))\r\n",
        "m, b = np.polyfit(results_df20['predicted'], results_df20['true'], 1)\r\n",
        "plt.plot(results_df20['predicted'].values, m*results_df20['predicted'] + b)\r\n",
        "plt.plot([0, 400], [0,400], c = 'r', linestyle='--')\r\n",
        "plt.show()"
      ],
      "execution_count": 210,
      "outputs": [
        {
          "output_type": "display_data",
          "data": {
            "image/png": "[encoded data removed]",
            "text/plain": [
              "<Figure size 504x360 with 1 Axes>"
            ]
          },
          "metadata": {
            "tags": [],
            "needs_background": "light"
          }
        }
      ]
    },
    {
      "cell_type": "markdown",
      "metadata": {
        "id": "O_CZ4pzfJR_Z"
      },
      "source": [
        "# 1.2 inputs"
      ]
    },
    {
      "cell_type": "markdown",
      "metadata": {
        "id": "P3sUK8BN6-Ph"
      },
      "source": [
        "## Random search"
      ]
    },
    {
      "cell_type": "code",
      "metadata": {
        "id": "NbnFeNK8-9up"
      },
      "source": [
        "mlcol = ['PERIODO_20', 'SUPERFICIE_LORDA', 'SUPERFICIE_NETTA',\r\n",
        "           'VOLUME_LORDO', \r\n",
        "         'VOLUME_NETTO', 'SUPERFICIE_DISPERDENTE_x',\r\n",
        "         'TRASMITTANZA_MEDIA_INVOLUCRO', 'TRASMITTANZA_MEDIA_COPERTURA',\r\n",
        "         'TRASMITTANZA_MEDIA_BASAMENTO', 'TRASMITTANZA_MEDIA_SERRAMENTO',\r\n",
        "         'dd','SUP_FINESTRATA','SUP_OPACA', 'SUPERFICIE_VETRATA_OPACA',\r\n",
        "         'NUMERO_RICAMBI_ORARI', 'ALTEZZA_MEDIA_12'] # 'SUPERF_UTILE_RISCALDATA', 'VOLUME_LORDO_RISCALDATO', "
      ],
      "execution_count": 178,
      "outputs": []
    },
    {
      "cell_type": "code",
      "metadata": {
        "id": "uX_GGcEKzP16"
      },
      "source": [
        "cat_feats = ['PERIODO_20']"
      ],
      "execution_count": 179,
      "outputs": []
    },
    {
      "cell_type": "code",
      "metadata": {
        "colab": {
          "base_uri": "https://localhost:8080/"
        },
        "id": "QIbN4Y2Q6-Va",
        "outputId": "0c47aa38-d0a9-4f3e-c065-7bef3e999237"
      },
      "source": [
        "param_dist = {'feature_fraction': np.linspace(0.4, 1, num=7),\r\n",
        "              'num_leaf' : list(range(20,40)),\r\n",
        "             'max_depth' : [-1],\r\n",
        "             'max_bin' : [100, 200, 300, 500, 750, 1000, 2000],\r\n",
        "             'bagging_fraction' : np.linspace(0.4, 1, num=14),\r\n",
        "             'bagging_freq' : list(range(1,10)),\r\n",
        "             'lambda_l1' : stats.uniform(0, 0.6),\r\n",
        "             'lambda_l2' : stats.uniform(0, 0.6)}\r\n",
        "\r\n",
        "lgbm = LGBMRegressor(n_estimators = 200, silent = True, verbose = 0, is_training_metric = True, n_jobs = 1, \r\n",
        "                     eval_metric  = 'mape')\r\n",
        "\r\n",
        "n_iter_search = 100\r\n",
        "\r\n",
        "random_search = RandomizedSearchCV(lgbm, param_distributions=param_dist, n_iter=n_iter_search, \r\n",
        "                                   scoring={'MAPE' : neg_mape_scorer, 'MAPE <100%' : modified_neg_mape_scorer, 'R2' : 'r2'} , cv = 5, n_jobs = 6, verbose = 2, refit = 'MAPE',\r\n",
        "                                   random_state=42)\r\n",
        "\r\n",
        "random_search.fit(cened[mlcol], cened['EP_H_ND'], categorical_feature = cat_feats)"
      ],
      "execution_count": 180,
      "outputs": [
        {
          "output_type": "stream",
          "text": [
            "Fitting 5 folds for each of 100 candidates, totalling 500 fits\n"
          ],
          "name": "stdout"
        },
        {
          "output_type": "stream",
          "text": [
            "[Parallel(n_jobs=6)]: Using backend LokyBackend with 6 concurrent workers.\n",
            "[Parallel(n_jobs=6)]: Done  29 tasks      | elapsed:   11.7s\n",
            "[Parallel(n_jobs=6)]: Done 150 tasks      | elapsed:   52.9s\n",
            "[Parallel(n_jobs=6)]: Done 353 tasks      | elapsed:  2.1min\n",
            "[Parallel(n_jobs=6)]: Done 500 out of 500 | elapsed:  2.9min finished\n",
            "/usr/local/lib/python3.6/dist-packages/lightgbm/basic.py:1209: UserWarning: categorical_feature in Dataset is overridden.\n",
            "New categorical_feature is ['PERIODO_20']\n",
            "  'New categorical_feature is {}'.format(sorted(list(categorical_feature))))\n"
          ],
          "name": "stderr"
        },
        {
          "output_type": "execute_result",
          "data": {
            "text/plain": [
              "RandomizedSearchCV(cv=5, error_score=nan,\n",
              "                   estimator=LGBMRegressor(boosting_type='gbdt',\n",
              "                                           class_weight=None,\n",
              "                                           colsample_bytree=1.0,\n",
              "                                           eval_metric='mape',\n",
              "                                           importance_type='split',\n",
              "                                           is_training_metric=True,\n",
              "                                           learning_rate=0.1, max_depth=-1,\n",
              "                                           min_child_samples=20,\n",
              "                                           min_child_weight=0.001,\n",
              "                                           min_split_gain=0.0, n_estimators=200,\n",
              "                                           n_jobs=1, num_leaves=31,\n",
              "                                           objective=None, random_sta...\n",
              "                                        'lambda_l2': <scipy.stats._distn_infrastructure.rv_frozen object at 0x7f0122030438>,\n",
              "                                        'max_bin': [100, 200, 300, 500, 750,\n",
              "                                                    1000, 2000],\n",
              "                                        'max_depth': [-1],\n",
              "                                        'num_leaf': [20, 21, 22, 23, 24, 25, 26,\n",
              "                                                     27, 28, 29, 30, 31, 32, 33,\n",
              "                                                     34, 35, 36, 37, 38, 39]},\n",
              "                   pre_dispatch='2*n_jobs', random_state=42, refit='MAPE',\n",
              "                   return_train_score=False,\n",
              "                   scoring={'MAPE': make_scorer(neg_mape),\n",
              "                            'MAPE <100%': make_scorer(modified_neg_mape),\n",
              "                            'R2': 'r2'},\n",
              "                   verbose=2)"
            ]
          },
          "metadata": {
            "tags": []
          },
          "execution_count": 180
        }
      ]
    },
    {
      "cell_type": "markdown",
      "metadata": {
        "id": "ZjNqelQa9tM6"
      },
      "source": [
        "## Print results"
      ]
    },
    {
      "cell_type": "code",
      "metadata": {
        "colab": {
          "base_uri": "https://localhost:8080/"
        },
        "id": "8po-ibOx9tjW",
        "outputId": "3bf69a3a-8556-48a0-b489-a1670341f42a"
      },
      "source": [
        "print(random_search.best_params_)"
      ],
      "execution_count": 181,
      "outputs": [
        {
          "output_type": "stream",
          "text": [
            "{'bagging_fraction': 0.8153846153846154, 'bagging_freq': 7, 'feature_fraction': 0.5, 'lambda_l1': 0.06952143571507782, 'lambda_l2': 0.5178620555253561, 'max_bin': 500, 'max_depth': -1, 'num_leaf': 21}\n"
          ],
          "name": "stdout"
        }
      ]
    },
    {
      "cell_type": "code",
      "metadata": {
        "colab": {
          "base_uri": "https://localhost:8080/"
        },
        "id": "THJn_s95914s",
        "outputId": "ca9623b4-29e5-41ee-e62b-84ef9f11f9e3"
      },
      "source": [
        "print(random_search.best_score_)"
      ],
      "execution_count": 182,
      "outputs": [
        {
          "output_type": "stream",
          "text": [
            "-0.1360555928943251\n"
          ],
          "name": "stdout"
        }
      ]
    },
    {
      "cell_type": "code",
      "metadata": {
        "colab": {
          "base_uri": "https://localhost:8080/"
        },
        "id": "ta1btwWlTxJn",
        "outputId": "b6d20cae-dce7-44bc-e56b-fce1d4aaff1d"
      },
      "source": [
        "# Create a results df\r\n",
        "cv_df = pd.DataFrame(random_search.cv_results_)\r\n",
        "cv_df = cv_df.sort_values(by = ['rank_test_MAPE']).reset_index()\r\n",
        "\r\n",
        "# Filter columns\r\n",
        "res_cols = [col for col in cv_df if col.startswith('split')]\r\n",
        "\r\n",
        "# Select best iter\r\n",
        "best_res = cv_df.loc[0]\r\n",
        "\r\n",
        "# Print results for each fold\r\n",
        "print(best_res[res_cols])"
      ],
      "execution_count": 183,
      "outputs": [
        {
          "output_type": "stream",
          "text": [
            "split0_test_MAPE         -0.126611\n",
            "split1_test_MAPE         -0.143828\n",
            "split2_test_MAPE          -0.14835\n",
            "split3_test_MAPE         -0.123834\n",
            "split4_test_MAPE         -0.137656\n",
            "split0_test_MAPE <100%   -0.126611\n",
            "split1_test_MAPE <100%    -0.13304\n",
            "split2_test_MAPE <100%   -0.136998\n",
            "split3_test_MAPE <100%   -0.120642\n",
            "split4_test_MAPE <100%   -0.133919\n",
            "split0_test_R2            0.857208\n",
            "split1_test_R2            0.819083\n",
            "split2_test_R2            0.852534\n",
            "split3_test_R2            0.837872\n",
            "split4_test_R2            0.828398\n",
            "Name: 0, dtype: object\n"
          ],
          "name": "stdout"
        }
      ]
    },
    {
      "cell_type": "code",
      "metadata": {
        "colab": {
          "base_uri": "https://localhost:8080/"
        },
        "id": "hgSNNYsbWUb9",
        "outputId": "7eb50f52-6711-4328-ee93-31446885a313"
      },
      "source": [
        "# Best R2\r\n",
        "print(best_res.mean_test_R2)"
      ],
      "execution_count": 202,
      "outputs": [
        {
          "output_type": "stream",
          "text": [
            "0.8390190673045848\n"
          ],
          "name": "stdout"
        }
      ]
    },
    {
      "cell_type": "code",
      "metadata": {
        "colab": {
          "base_uri": "https://localhost:8080/",
          "height": 557
        },
        "id": "yppiTheMaSa8",
        "outputId": "7268a589-ab06-47e4-af0b-951fd4d31155"
      },
      "source": [
        "df = pd.DataFrame(best_res[res_cols])\r\n",
        "df = df.rename(columns = {0:'Value'})\r\n",
        "df['Fold'] = df.index.str[5:6]\r\n",
        "df['Metric'] = df.index.str[12:]\r\n",
        "df['Value'] = np.where(df['Metric'] == 'R2', df['Value'], df['Value'] * -1)\r\n",
        "ax = sns.barplot(x='Fold', y=\"Value\", hue=\"Metric\", data = df[df['Metric'] != 'R2'])\r\n",
        "ax.set(ylim = (0, 0.22))\r\n",
        "plt.show()\r\n",
        "ax = sns.barplot(x='Fold', y=\"Value\", hue=\"Metric\", data = df[df['Metric'] == 'R2'])\r\n",
        "ax.set(ylim = (0, 1))\r\n",
        "plt.show()"
      ],
      "execution_count": 184,
      "outputs": [
        {
          "output_type": "display_data",
          "data": {
            "image/png": "[encoded data removed]",
            "text/plain": [
              "<Figure size 432x288 with 1 Axes>"
            ]
          },
          "metadata": {
            "tags": [],
            "needs_background": "light"
          }
        },
        {
          "output_type": "display_data",
          "data": {
            "image/png": "[encoded data removed]",
            "text/plain": [
              "<Figure size 432x288 with 1 Axes>"
            ]
          },
          "metadata": {
            "tags": [],
            "needs_background": "light"
          }
        }
      ]
    },
    {
      "cell_type": "markdown",
      "metadata": {
        "id": "UHqwuWX1AeHK"
      },
      "source": [
        "## Train the final model"
      ]
    },
    {
      "cell_type": "code",
      "metadata": {
        "colab": {
          "base_uri": "https://localhost:8080/"
        },
        "id": "Zq7OjJKsAj0x",
        "outputId": "d17097a0-baab-4405-da38-76a5d21a8bfb"
      },
      "source": [
        "light = LGBMRegressor(n_estimators = 1000, silent = False, verbose = 2, is_training_metric = True, n_jobs = 6)\r\n",
        "light.set_params(**random_search.best_params_)"
      ],
      "execution_count": 185,
      "outputs": [
        {
          "output_type": "execute_result",
          "data": {
            "text/plain": [
              "LGBMRegressor(bagging_fraction=0.8153846153846154, bagging_freq=7,\n",
              "              boosting_type='gbdt', class_weight=None, colsample_bytree=1.0,\n",
              "              feature_fraction=0.5, importance_type='split',\n",
              "              is_training_metric=True, lambda_l1=0.06952143571507782,\n",
              "              lambda_l2=0.5178620555253561, learning_rate=0.1, max_bin=500,\n",
              "              max_depth=-1, min_child_samples=20, min_child_weight=0.001,\n",
              "              min_split_gain=0.0, n_estimators=1000, n_jobs=6, num_leaf=21,\n",
              "              num_leaves=31, objective=None, random_state=None, reg_alpha=0.0,\n",
              "              reg_lambda=0.0, silent=False, subsample=1.0,\n",
              "              subsample_for_bin=200000, subsample_freq=0, verbose=2)"
            ]
          },
          "metadata": {
            "tags": []
          },
          "execution_count": 185
        }
      ]
    },
    {
      "cell_type": "code",
      "metadata": {
        "colab": {
          "base_uri": "https://localhost:8080/"
        },
        "id": "XbLz3zitAuQo",
        "outputId": "5ffd0ae3-5476-48af-975d-b2b4bded058c"
      },
      "source": [
        "light.fit(train[mlcol], train['EP_H_ND'])"
      ],
      "execution_count": 186,
      "outputs": [
        {
          "output_type": "execute_result",
          "data": {
            "text/plain": [
              "LGBMRegressor(bagging_fraction=0.8153846153846154, bagging_freq=7,\n",
              "              boosting_type='gbdt', class_weight=None, colsample_bytree=1.0,\n",
              "              feature_fraction=0.5, importance_type='split',\n",
              "              is_training_metric=True, lambda_l1=0.06952143571507782,\n",
              "              lambda_l2=0.5178620555253561, learning_rate=0.1, max_bin=500,\n",
              "              max_depth=-1, min_child_samples=20, min_child_weight=0.001,\n",
              "              min_split_gain=0.0, n_estimators=1000, n_jobs=6, num_leaf=21,\n",
              "              num_leaves=31, objective=None, random_state=None, reg_alpha=0.0,\n",
              "              reg_lambda=0.0, silent=False, subsample=1.0,\n",
              "              subsample_for_bin=200000, subsample_freq=0, verbose=2)"
            ]
          },
          "metadata": {
            "tags": []
          },
          "execution_count": 186
        }
      ]
    },
    {
      "cell_type": "markdown",
      "metadata": {
        "id": "Ml7EZ7XXAvwc"
      },
      "source": [
        "## Test the model"
      ]
    },
    {
      "cell_type": "code",
      "metadata": {
        "id": "EJFVWFDvAx4h"
      },
      "source": [
        "y_pred = light.predict(test[mlcol]).clip(0)"
      ],
      "execution_count": 187,
      "outputs": []
    },
    {
      "cell_type": "code",
      "metadata": {
        "id": "hCtUFtWSBZ15"
      },
      "source": [
        "results_df = pd.DataFrame({'predicted' : y_pred, 'true' : test['EP_H_ND']})\r\n",
        "results_df['error'] = np.abs((results_df['true'] - results_df['predicted'])/results_df['true'])*100"
      ],
      "execution_count": 188,
      "outputs": []
    },
    {
      "cell_type": "code",
      "metadata": {
        "id": "ve6Lla28DXct",
        "colab": {
          "base_uri": "https://localhost:8080/"
        },
        "outputId": "3361f0dd-9b58-4780-bec1-fb337c2a1641"
      },
      "source": [
        "# MAPE\r\n",
        "results_df['error'].mean()"
      ],
      "execution_count": 189,
      "outputs": [
        {
          "output_type": "execute_result",
          "data": {
            "text/plain": [
              "11.51604108996712"
            ]
          },
          "metadata": {
            "tags": []
          },
          "execution_count": 189
        }
      ]
    },
    {
      "cell_type": "code",
      "metadata": {
        "colab": {
          "base_uri": "https://localhost:8080/"
        },
        "id": "OpdtsBxaaqyY",
        "outputId": "052269cf-c6a3-4721-ec7b-6c0f032b9825"
      },
      "source": [
        "# Max % error\r\n",
        "results_df['error'].max()"
      ],
      "execution_count": 190,
      "outputs": [
        {
          "output_type": "execute_result",
          "data": {
            "text/plain": [
              "75.70117671942498"
            ]
          },
          "metadata": {
            "tags": []
          },
          "execution_count": 190
        }
      ]
    },
    {
      "cell_type": "code",
      "metadata": {
        "colab": {
          "base_uri": "https://localhost:8080/"
        },
        "id": "C5SeIXUFaqyY",
        "outputId": "642136c7-f826-47f0-bb2e-5421f1bc85f7"
      },
      "source": [
        "# Row with the highest % error\r\n",
        "results_df.iloc[results_df['error'].argmax()]"
      ],
      "execution_count": 191,
      "outputs": [
        {
          "output_type": "execute_result",
          "data": {
            "text/plain": [
              "predicted    182.694084\n",
              "true         103.980000\n",
              "error         75.701177\n",
              "Name: 314, dtype: float64"
            ]
          },
          "metadata": {
            "tags": []
          },
          "execution_count": 191
        }
      ]
    },
    {
      "cell_type": "code",
      "metadata": {
        "id": "luAQiAU3KB8L",
        "colab": {
          "base_uri": "https://localhost:8080/"
        },
        "outputId": "81d58a91-fa11-4de7-93ec-ceb5346fd69b"
      },
      "source": [
        "# MAPE without >100%\r\n",
        "results_df[results_df.error <= 100].error.mean()"
      ],
      "execution_count": 192,
      "outputs": [
        {
          "output_type": "execute_result",
          "data": {
            "text/plain": [
              "11.51604108996712"
            ]
          },
          "metadata": {
            "tags": []
          },
          "execution_count": 192
        }
      ]
    },
    {
      "cell_type": "code",
      "metadata": {
        "colab": {
          "base_uri": "https://localhost:8080/"
        },
        "id": "cvoePEccaqyZ",
        "outputId": "978cd0e5-b8ce-44fd-97cb-f8fe79dfb162"
      },
      "source": [
        "# R2 \r\n",
        "print(r2_score(test['EP_H_ND'], y_pred))"
      ],
      "execution_count": 193,
      "outputs": [
        {
          "output_type": "stream",
          "text": [
            "0.8090732136933049\n"
          ],
          "name": "stdout"
        }
      ]
    },
    {
      "cell_type": "code",
      "metadata": {
        "colab": {
          "base_uri": "https://localhost:8080/"
        },
        "id": "kvtUEQL2aqyZ",
        "outputId": "eec0159c-228a-4731-d351-b47326234613"
      },
      "source": [
        "# R2 without >100%\r\n",
        "print(r2_score(results_df[results_df.error <= 100].true, results_df[results_df.error <= 100].predicted))"
      ],
      "execution_count": 194,
      "outputs": [
        {
          "output_type": "stream",
          "text": [
            "0.8090732136933049\n"
          ],
          "name": "stdout"
        }
      ]
    },
    {
      "cell_type": "code",
      "metadata": {
        "id": "fyUDfx40m_ri",
        "colab": {
          "base_uri": "https://localhost:8080/",
          "height": 419
        },
        "outputId": "b5f01d99-0471-4973-effd-ad868f5faa5b"
      },
      "source": [
        "results_df"
      ],
      "execution_count": 195,
      "outputs": [
        {
          "output_type": "execute_result",
          "data": {
            "text/html": [
              "<div>\n",
              "<style scoped>\n",
              "    .dataframe tbody tr th:only-of-type {\n",
              "        vertical-align: middle;\n",
              "    }\n",
              "\n",
              "    .dataframe tbody tr th {\n",
              "        vertical-align: top;\n",
              "    }\n",
              "\n",
              "    .dataframe thead th {\n",
              "        text-align: right;\n",
              "    }\n",
              "</style>\n",
              "<table border=\"1\" class=\"dataframe\">\n",
              "  <thead>\n",
              "    <tr style=\"text-align: right;\">\n",
              "      <th></th>\n",
              "      <th>predicted</th>\n",
              "      <th>true</th>\n",
              "      <th>error</th>\n",
              "    </tr>\n",
              "  </thead>\n",
              "  <tbody>\n",
              "    <tr>\n",
              "      <th>0</th>\n",
              "      <td>172.726957</td>\n",
              "      <td>173.32</td>\n",
              "      <td>0.342166</td>\n",
              "    </tr>\n",
              "    <tr>\n",
              "      <th>1</th>\n",
              "      <td>194.280717</td>\n",
              "      <td>180.76</td>\n",
              "      <td>7.479927</td>\n",
              "    </tr>\n",
              "    <tr>\n",
              "      <th>2</th>\n",
              "      <td>37.994071</td>\n",
              "      <td>31.52</td>\n",
              "      <td>20.539564</td>\n",
              "    </tr>\n",
              "    <tr>\n",
              "      <th>7</th>\n",
              "      <td>122.416701</td>\n",
              "      <td>120.98</td>\n",
              "      <td>1.187552</td>\n",
              "    </tr>\n",
              "    <tr>\n",
              "      <th>11</th>\n",
              "      <td>112.942134</td>\n",
              "      <td>100.98</td>\n",
              "      <td>11.846043</td>\n",
              "    </tr>\n",
              "    <tr>\n",
              "      <th>...</th>\n",
              "      <td>...</td>\n",
              "      <td>...</td>\n",
              "      <td>...</td>\n",
              "    </tr>\n",
              "    <tr>\n",
              "      <th>1436</th>\n",
              "      <td>211.439577</td>\n",
              "      <td>241.98</td>\n",
              "      <td>12.621052</td>\n",
              "    </tr>\n",
              "    <tr>\n",
              "      <th>1438</th>\n",
              "      <td>116.675330</td>\n",
              "      <td>112.64</td>\n",
              "      <td>3.582502</td>\n",
              "    </tr>\n",
              "    <tr>\n",
              "      <th>1448</th>\n",
              "      <td>141.107373</td>\n",
              "      <td>129.18</td>\n",
              "      <td>9.233142</td>\n",
              "    </tr>\n",
              "    <tr>\n",
              "      <th>1455</th>\n",
              "      <td>161.245403</td>\n",
              "      <td>163.05</td>\n",
              "      <td>1.106775</td>\n",
              "    </tr>\n",
              "    <tr>\n",
              "      <th>1457</th>\n",
              "      <td>142.259998</td>\n",
              "      <td>155.79</td>\n",
              "      <td>8.684770</td>\n",
              "    </tr>\n",
              "  </tbody>\n",
              "</table>\n",
              "<p>281 rows × 3 columns</p>\n",
              "</div>"
            ],
            "text/plain": [
              "       predicted    true      error\n",
              "0     172.726957  173.32   0.342166\n",
              "1     194.280717  180.76   7.479927\n",
              "2      37.994071   31.52  20.539564\n",
              "7     122.416701  120.98   1.187552\n",
              "11    112.942134  100.98  11.846043\n",
              "...          ...     ...        ...\n",
              "1436  211.439577  241.98  12.621052\n",
              "1438  116.675330  112.64   3.582502\n",
              "1448  141.107373  129.18   9.233142\n",
              "1455  161.245403  163.05   1.106775\n",
              "1457  142.259998  155.79   8.684770\n",
              "\n",
              "[281 rows x 3 columns]"
            ]
          },
          "metadata": {
            "tags": []
          },
          "execution_count": 195
        }
      ]
    },
    {
      "cell_type": "code",
      "metadata": {
        "colab": {
          "base_uri": "https://localhost:8080/",
          "height": 318
        },
        "id": "rEaxxs4jaqyZ",
        "outputId": "736ff6d7-c1c7-450b-85f3-2accb6d627df"
      },
      "source": [
        "plot_importance(light)"
      ],
      "execution_count": 196,
      "outputs": [
        {
          "output_type": "execute_result",
          "data": {
            "text/plain": [
              "<matplotlib.axes._subplots.AxesSubplot at 0x7f01254a4cf8>"
            ]
          },
          "metadata": {
            "tags": []
          },
          "execution_count": 196
        },
        {
          "output_type": "display_data",
          "data": {
            "image/png": "[encoded data removed]",
            "text/plain": [
              "<Figure size 432x288 with 1 Axes>"
            ]
          },
          "metadata": {
            "tags": [],
            "needs_background": "light"
          }
        }
      ]
    },
    {
      "cell_type": "markdown",
      "metadata": {
        "id": "MW3keZUTPD3p"
      },
      "source": [
        "## Error analysis"
      ]
    },
    {
      "cell_type": "code",
      "metadata": {
        "id": "b3zWyGsVPD3p",
        "colab": {
          "base_uri": "https://localhost:8080/",
          "height": 349
        },
        "outputId": "2a854490-ce11-4e8d-a630-dde1e78efd84"
      },
      "source": [
        "# Period\r\n",
        "bins = pd.cut(test.ANNO_COSTRUZIONE_x, bins=[0,1930,1945,1960,1976,1992,2006,3000], \r\n",
        "       labels=['Before 1930','1930-1945','1946-1960','1961-1976', '1977-1992', \r\n",
        "               '1993-2006','After 2006'])\r\n",
        "\r\n",
        "fig = plt.figure(figsize = (7, 4.5))\r\n",
        "box = sns.boxplot(y = results_df.error, x = bins, \r\n",
        "                  color='lightsteelblue', orient = 'v', \r\n",
        "                  showfliers = False)\r\n",
        "\r\n",
        "box.set(ylim = (0, 120), ylabel = 'MAPE [%]', xlabel = 'Period')\r\n",
        "plt.xticks(rotation=30)\r\n",
        "plt.show()"
      ],
      "execution_count": 215,
      "outputs": [
        {
          "output_type": "display_data",
          "data": {
            "image/png": "[encoded data removed]",
            "text/plain": [
              "<Figure size 504x324 with 1 Axes>"
            ]
          },
          "metadata": {
            "tags": [],
            "needs_background": "light"
          }
        }
      ]
    },
    {
      "cell_type": "code",
      "metadata": {
        "id": "hWSW3vHwPHsj",
        "colab": {
          "base_uri": "https://localhost:8080/",
          "height": 305
        },
        "outputId": "fd1c2f48-45ec-4f3e-9aab-72223ae8407b"
      },
      "source": [
        "# Error\r\n",
        "fig = plt.figure(figsize = (7,4))\r\n",
        "cplot = sns.countplot(x = pd.cut(results_df.error, bins=[0,10,20,30,40,50,60,70,80,90,100,10000],\r\n",
        "                                 labels = ['<10', '10-20', '20-30', '30-40', '40-50', '50-60', '60-70', '70-80', '80-90', '90-100', '>100']), color = 'b')\r\n",
        "cplot.set(ylabel = 'Count', xlabel = 'MAPE [%]')\r\n",
        "plt.xticks(rotation=30)\r\n",
        "plt.show()"
      ],
      "execution_count": 211,
      "outputs": [
        {
          "output_type": "display_data",
          "data": {
            "image/png": "[encoded data removed]",
            "text/plain": [
              "<Figure size 504x288 with 1 Axes>"
            ]
          },
          "metadata": {
            "tags": [],
            "needs_background": "light"
          }
        }
      ]
    },
    {
      "cell_type": "code",
      "metadata": {
        "id": "Xxb7w9BURrnP",
        "colab": {
          "base_uri": "https://localhost:8080/",
          "height": 339
        },
        "outputId": "2744f402-7681-43d0-c79c-cb10d1e90dcd"
      },
      "source": [
        "# Scatterplot\r\n",
        "fig = plt.figure(figsize = (7,5))\r\n",
        "scatter = sns.scatterplot(data=results_df, x=\"predicted\", y=\"true\")\r\n",
        "scatter.set(ylabel = 'True', xlabel = 'Predicted',\r\n",
        "            xlim=(-30, 430), ylim=(-30, 430))\r\n",
        "m, b = np.polyfit(results_df['predicted'], results_df['true'], 1)\r\n",
        "plt.plot(results_df['predicted'].values, m*results_df['predicted'] + b)\r\n",
        "plt.plot([0, 400], [0,400], c = 'r', linestyle='--')\r\n",
        "plt.show()"
      ],
      "execution_count": 209,
      "outputs": [
        {
          "output_type": "display_data",
          "data": {
            "image/png": "[encoded data removed]",
            "text/plain": [
              "<Figure size 504x360 with 1 Axes>"
            ]
          },
          "metadata": {
            "tags": [],
            "needs_background": "light"
          }
        }
      ]
    }
  ]
}