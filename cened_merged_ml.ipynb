{
  "nbformat": 4,
  "nbformat_minor": 0,
  "metadata": {
    "colab": {
      "name": "Untitled0.ipynb",
      "provenance": [],
      "collapsed_sections": [],
      "authorship_tag": "ABX9TyMzxe2TQjxRWCb0vhRzLYIa",
      "include_colab_link": true
    },
    "kernelspec": {
      "name": "python3",
      "display_name": "Python 3"
    }
  },
  "cells": [
    {
      "cell_type": "markdown",
      "metadata": {
        "id": "view-in-github",
        "colab_type": "text"
      },
      "source": [
        "<a href=\"https://colab.research.google.com/github/rboghe/cened/blob/master/cened_merged_ml.ipynb\" target=\"_parent\"><img src=\"https://colab.research.google.com/assets/colab-badge.svg\" alt=\"Open In Colab\"/></a>"
      ]
    },
    {
      "cell_type": "markdown",
      "metadata": {
        "id": "NpYzrRpEl-rq"
      },
      "source": [
        "# TO DO"
      ]
    },
    {
      "cell_type": "markdown",
      "metadata": {
        "id": "EzQtURBMNU7J"
      },
      "source": [
        "\r\n",
        "\r\n",
        "*   take care of _x and _y\r\n"
      ]
    },
    {
      "cell_type": "markdown",
      "metadata": {
        "id": "rTgtbdUu612B"
      },
      "source": [
        "##Loading Files"
      ]
    },
    {
      "cell_type": "code",
      "metadata": {
        "id": "bFTamnUO12MU"
      },
      "source": [
        "import os\n",
        "import urllib.request\n",
        "import pandas as pd\n",
        "import numpy as np\n",
        "import random\n",
        "import matplotlib.pyplot as plt\n",
        "from sklearn.metrics import r2_score, make_scorer\n",
        "from lightgbm import LGBMRegressor\n",
        "import scipy.stats as stats\n",
        "from sklearn.model_selection import RandomizedSearchCV\n",
        "\n",
        "# Silence panda's setting with copy warning\n",
        "pd.options.mode.chained_assignment = None"
      ],
      "execution_count": 171,
      "outputs": []
    },
    {
      "cell_type": "code",
      "metadata": {
        "id": "nBJZFlqV15MW"
      },
      "source": [
        "url = 'https://www.dati.lombardia.it/api/views/bbky-sde5/rows.csv?accessType=DOWNLOAD'\n",
        "\n",
        "if os.path.isdir('/tmp'):\n",
        "    if os.path.isfile('/tmp/cened20.csv'):\n",
        "      pass\n",
        "    else:\n",
        "      urllib.request.urlretrieve(url, '/tmp/cened20.csv')\n",
        "else:\n",
        "  os.mkdir('/tmp')\n",
        "  urllib.request.urlretrieve(url, '/tmp/cened20.csv')"
      ],
      "execution_count": 172,
      "outputs": []
    },
    {
      "cell_type": "code",
      "metadata": {
        "id": "FAw5P6g217ld"
      },
      "source": [
        "url = 'https://www.dati.lombardia.it/api/views/rsg3-xhvk/rows.csv?accessType=DOWNLOAD'\n",
        "\n",
        "\n",
        "if os.path.isfile('/tmp/cened12.csv'):\n",
        "  pass\n",
        "else:\n",
        "  urllib.request.urlretrieve(url, '/tmp/cened12.csv')\n"
      ],
      "execution_count": 173,
      "outputs": []
    },
    {
      "cell_type": "code",
      "metadata": {
        "id": "yxFzc7202X5U"
      },
      "source": [
        "url = 'https://raw.githubusercontent.com/rboghe/cened/master/degreedays.txt'\n",
        "\n",
        "urllib.request.urlretrieve(url, '/tmp/ddh.csv')\n",
        "\n",
        "ddh = pd.read_csv('/tmp/ddh.csv', usecols = ['comune','dd'])"
      ],
      "execution_count": 174,
      "outputs": []
    },
    {
      "cell_type": "code",
      "metadata": {
        "id": "fiRt0wIy2ciM",
        "colab": {
          "base_uri": "https://localhost:8080/"
        },
        "outputId": "15b35f35-0654-4796-c47c-db15d11c936c"
      },
      "source": [
        "cols20 = ['INTERO_EDIFICIO', 'RIQUALIFICAZIONE_ENERGETICA', 'ZONA_CLIMATICA',\n",
        "           'ANNO_COSTRUZIONE','SUPERF_UTILE_RISCALDATA', 'SUPERF_UTILE_RAFFRESCATA',\n",
        "           'VOLUME_LORDO_RISCALDATO', 'VOLUME_LORDO_RAFFRESCATO', 'CLASSE_ENERGETICA', \n",
        "           'SUPERFICIE_DISPERDENTE', 'RAPPORTO_SV','A_SOL_EST_A_SUP_UTILE','Y_IE', \n",
        "           'CLASSIFICAZIONE_DPR', 'COMUNE', 'EP_H_ND','EP_GL_NREN','EP_GL_REN', \n",
        "           'NUMERO_UNITA_IMMOBILIARI', 'RISTRUTTURAZIONE_IMPORTANTE', 'Y',\n",
        "           'COMUNE','FOGLIO', 'PARTICELLA']\n",
        "\n",
        "cols12 = ['COMUNE','FOGLIO', 'PARTICELLA','SUPERFICIE_DISPERDENTE',\n",
        "          'TRASMITTANZA_MEDIA_COPERTURA','TRASMITTANZA_MEDIA_INVOLUCRO',\n",
        "          'TRASMITTANZA_MEDIA_BASAMENTO','TRASMITTANZA_MEDIA_SERRAMENTO',\n",
        "          'SUPERFICIE_LORDA', 'VOLUME_LORDO', 'DESTINAZIONE_DI_USO',\n",
        "          'SUPERFICIE_VETRATA_OPACA', 'VOLUME_NETTO',\n",
        "          'SUPERFICIE_NETTA', 'EPH'] # ANNO_COSTRUZIONE\n",
        "  \n",
        "cened20 = pd.read_csv('/tmp/cened20.csv', usecols = cols20)\n",
        "cened12 = pd.read_csv('/tmp/cened12.csv', usecols = cols12)"
      ],
      "execution_count": 175,
      "outputs": [
        {
          "output_type": "stream",
          "text": [
            "/usr/local/lib/python3.6/dist-packages/IPython/core/interactiveshell.py:2718: DtypeWarning: Columns (6,7) have mixed types.Specify dtype option on import or set low_memory=False.\n",
            "  interactivity=interactivity, compiler=compiler, result=result)\n"
          ],
          "name": "stderr"
        }
      ]
    },
    {
      "cell_type": "markdown",
      "metadata": {
        "id": "LrDzUNcW678_"
      },
      "source": [
        "## Pre-filtering"
      ]
    },
    {
      "cell_type": "code",
      "metadata": {
        "id": "LERkjzsP3s3N"
      },
      "source": [
        "cened20['EP_GL_NREN'].fillna(0, inplace=True)\n",
        "cened20['EP_GL_REN'].fillna(0, inplace=True)\n",
        "\n",
        "# Drop NaN \n",
        "cened20 = cened20.dropna()\n",
        "cened12 = cened12.dropna() "
      ],
      "execution_count": 176,
      "outputs": []
    },
    {
      "cell_type": "code",
      "metadata": {
        "id": "ML1vCA8xGOm2"
      },
      "source": [
        "# Only entire buildings\n",
        "cened20 = cened20[cened20['INTERO_EDIFICIO'] == True]"
      ],
      "execution_count": 177,
      "outputs": []
    },
    {
      "cell_type": "code",
      "metadata": {
        "id": "AOq-QxRlPRjA"
      },
      "source": [
        "# Drop renovations\n",
        "cened20 = cened20[cened20['RISTRUTTURAZIONE_IMPORTANTE'] == False]\n",
        "cened20 = cened20[cened20['RIQUALIFICAZIONE_ENERGETICA'] == False]"
      ],
      "execution_count": 178,
      "outputs": []
    },
    {
      "cell_type": "markdown",
      "metadata": {
        "id": "7V08nFsW7BmJ"
      },
      "source": [
        "## Merge"
      ]
    },
    {
      "cell_type": "code",
      "metadata": {
        "id": "dQYBddpD5yEK"
      },
      "source": [
        "# Merge dfs\n",
        "cenedtot = pd.merge(left=cened20, right=cened12, left_on=['COMUNE','FOGLIO', 'PARTICELLA'], \n",
        "                    right_on=['COMUNE','FOGLIO', 'PARTICELLA'],  how='inner') # , 'SUBALTERNO' | , 'SUBALTERNO'"
      ],
      "execution_count": 179,
      "outputs": []
    },
    {
      "cell_type": "code",
      "metadata": {
        "id": "e7VDGgXB6heV"
      },
      "source": [
        "# Compute difference between ext surfaces\n",
        "cenedtot['surfdiff'] = abs((cenedtot['SUPERF_UTILE_RISCALDATA'] - cenedtot['SUPERFICIE_NETTA'])/cenedtot['SUPERF_UTILE_RISCALDATA'])\n",
        "\n",
        "# Drop rows with high difference\n",
        "cenedtot = cenedtot[cenedtot['surfdiff'] < 0.2]\n",
        "\n",
        "# Compute difference between ext surfaces\n",
        "#cenedtot['surfdiff'] = abs((cenedtot['SUPERFICIE_DISPERDENTE_y'] - cenedtot['SUPERFICIE_DISPERDENTE_x'])/cenedtot['SUPERFICIE_DISPERDENTE_y'])\n",
        "\n",
        "# Drop rows with high difference\n",
        "#cenedtot = cenedtot[cenedtot['surfdiff'] < 0.05]"
      ],
      "execution_count": 180,
      "outputs": []
    },
    {
      "cell_type": "code",
      "metadata": {
        "id": "p18EC-SUazhQ"
      },
      "source": [
        "# Compute difference between ext surfaces\n",
        "cenedtot['ephdiff'] = abs((cenedtot['EPH'] - cenedtot['EP_H_ND'])/cenedtot['EPH'])\n",
        "\n",
        "# Drop rows with high difference\n",
        "cenedtot = cenedtot[cenedtot['ephdiff'] < 0.3]"
      ],
      "execution_count": 181,
      "outputs": []
    },
    {
      "cell_type": "code",
      "metadata": {
        "id": "Pur65Xv1OYqf"
      },
      "source": [
        "cenedtot = cenedtot.dropna() "
      ],
      "execution_count": 182,
      "outputs": []
    },
    {
      "cell_type": "markdown",
      "metadata": {
        "id": "zvgAL77lLCDf"
      },
      "source": [
        "# Preprocessing"
      ]
    },
    {
      "cell_type": "code",
      "metadata": {
        "id": "QtdWCtJmK3hs"
      },
      "source": [
        "# Riqualificazione\r\n",
        "cenedtot['RIQUALIFICAZIONE_ENERGETICA'] = cenedtot['RIQUALIFICAZIONE_ENERGETICA'].astype(\"category\").cat.codes\r\n",
        "\r\n",
        "# Ristrutturazione\r\n",
        "cenedtot['RISTRUTTURAZIONE_IMPORTANTE'] = cenedtot['RISTRUTTURAZIONE_IMPORTANTE'].astype(\"category\").cat.codes\r\n",
        "\r\n",
        "# Climatizzazione\r\n",
        "#cenedtot['CLIMATIZZAZIONE_INVERNALE'] = cenedtot['CLIMATIZZAZIONE_INVERNALE'].astype(\"category\").cat.codes\r\n",
        "\r\n",
        "# Correct floats\r\n",
        "for col in ['SUPERF_UTILE_RISCALDATA',\r\n",
        "           'SUPERF_UTILE_RAFFRESCATA','VOLUME_LORDO_RISCALDATO','VOLUME_LORDO_RAFFRESCATO','SUPERFICIE_DISPERDENTE_x', 'SUPERFICIE_DISPERDENTE_y',\r\n",
        "           'RAPPORTO_SV','A_SOL_EST_A_SUP_UTILE','Y_IE','EP_H_ND','EP_GL_NREN','EP_GL_REN']:\r\n",
        "    cenedtot[col] = cenedtot[col].astype(str)\r\n",
        "    cenedtot[col] = cenedtot[col].str.replace(r',', '')\r\n",
        "    cenedtot[col] = cenedtot[col].astype(\"float\")"
      ],
      "execution_count": 183,
      "outputs": []
    },
    {
      "cell_type": "markdown",
      "metadata": {
        "id": "5XoQZ2wFAnJM"
      },
      "source": [
        "##Feature Creation"
      ]
    },
    {
      "cell_type": "code",
      "metadata": {
        "id": "ypVKCrOKApsL"
      },
      "source": [
        "# Add ddh\n",
        "cenedtot['COMUNE'] = cenedtot['COMUNE'].str.lower()\n",
        "ddh['comune'] = ddh['comune'].str.lower()\n",
        "cenedtot['COMUNE'] = cenedtot['COMUNE'].str.replace(r\"o`\",  \"o'\")\n",
        "cenedtot['COMUNE'] = cenedtot['COMUNE'].str.replace(r\"baranzate\",  \"bollate\")\n",
        "cenedtot['COMUNE'] = cenedtot['COMUNE'].str.replace(r\"bovisio masciago\",  \"bovisio-masciago\")\n",
        "cenedtot['COMUNE'] = cenedtot['COMUNE'].str.replace(r\"cornate d`adda\",  \"cornate d'adda\")\n",
        "cenedtot['COMUNE'] = cenedtot['COMUNE'].str.replace(r\"cortenuova\",  \"cortenova\")\n",
        "cenedtot['COMUNE'] = cenedtot['COMUNE'].str.replace(r\"sant'omobono terme\",  \"sant'omobono imagna\")\n",
        "ddh['comune'] = ddh['comune'].str.replace(r\"è\",  \"e'\")\n",
        "ddh['comune'] = ddh['comune'].str.replace(r\"è\",  \"e'\")\n",
        "ddh['comune'] = ddh['comune'].str.replace(r\"é\",  \"e'\")\n",
        "ddh['comune'] = ddh['comune'].str.replace(r\"ò\",  \"o'\")\n",
        "ddh['comune'] = ddh['comune'].str.replace(r\"ù\",  \"u'\")\n",
        "\n",
        "cenedtot = cenedtot.merge(ddh, left_on='COMUNE', right_on='comune', how='left')"
      ],
      "execution_count": 184,
      "outputs": []
    },
    {
      "cell_type": "code",
      "metadata": {
        "id": "VUNzRqxmCql2"
      },
      "source": [
        "cenedtot.ANNO_COSTRUZIONE = cenedtot.ANNO_COSTRUZIONE.astype(str)\n",
        "cenedtot.ANNO_COSTRUZIONE = cenedtot.ANNO_COSTRUZIONE.map(lambda x:x[-4:])\n",
        "cenedtot.ANNO_COSTRUZIONE = cenedtot.ANNO_COSTRUZIONE.astype(int)\n",
        "\n",
        "cenedtot['PERIODO'] = pd.cut(cenedtot.ANNO_COSTRUZIONE, bins=[0,1930,1945,1960,1976,1992,2006,3000],\n",
        "     labels=['Before 1930','1930-1945','1946-1960','1961-1976', '1977-1992', '1993-2006','After 2006']).cat.codes"
      ],
      "execution_count": 185,
      "outputs": []
    },
    {
      "cell_type": "code",
      "metadata": {
        "id": "6OfhIaz6Dbe_"
      },
      "source": [
        "# Opaque surface\n",
        "cenedtot['SUP_OPACA'] = cenedtot['SUPERFICIE_DISPERDENTE_y']/(1+cenedtot['SUPERFICIE_VETRATA_OPACA'])\n",
        "\n",
        "# Opaque surface\n",
        "cenedtot['SUP_FINESTRATA'] = cenedtot['SUPERFICIE_DISPERDENTE_y'] - cenedtot['SUP_OPACA']"
      ],
      "execution_count": 186,
      "outputs": []
    },
    {
      "cell_type": "code",
      "metadata": {
        "id": "9hWzT2YyEEDj"
      },
      "source": [
        "cenedtot['ALTEZZA_MEDIA'] = cenedtot['VOLUME_NETTO']/cenedtot['SUPERFICIE_NETTA']"
      ],
      "execution_count": 187,
      "outputs": []
    },
    {
      "cell_type": "code",
      "metadata": {
        "id": "tlDJYgk9Eaqc"
      },
      "source": [
        "cenedtot['TRASMITTANZA_MEDIA'] = (cenedtot['TRASMITTANZA_MEDIA_SERRAMENTO'] + cenedtot['TRASMITTANZA_MEDIA_COPERTURA'] +\n",
        "         cenedtot['TRASMITTANZA_MEDIA_BASAMENTO'] + cenedtot['TRASMITTANZA_MEDIA_INVOLUCRO'])/4"
      ],
      "execution_count": 188,
      "outputs": []
    },
    {
      "cell_type": "code",
      "metadata": {
        "id": "SY89pmJMSXHd"
      },
      "source": [
        "cenedtot['EP_GL_TOT'] = cenedtot['EP_GL_REN'] + cenedtot['EP_GL_NREN']"
      ],
      "execution_count": 189,
      "outputs": []
    },
    {
      "cell_type": "code",
      "metadata": {
        "id": "FNtdqkb9LNw9"
      },
      "source": [
        "# East facing surface\r\n",
        "cenedtot['A_SOL_EST'] = cenedtot['A_SOL_EST_A_SUP_UTILE']/cenedtot['SUPERF_UTILE_RISCALDATA'] #?????????"
      ],
      "execution_count": 190,
      "outputs": []
    },
    {
      "cell_type": "markdown",
      "metadata": {
        "id": "4oJoiQie-SGo"
      },
      "source": [
        "##Filters"
      ]
    },
    {
      "cell_type": "code",
      "metadata": {
        "id": "nuOs5Fvv7FXS"
      },
      "source": [
        "for col in ['TRASMITTANZA_MEDIA_COPERTURA','TRASMITTANZA_MEDIA_INVOLUCRO',\n",
        "          'TRASMITTANZA_MEDIA_BASAMENTO','TRASMITTANZA_MEDIA_SERRAMENTO']:\n",
        "          cenedtot = cenedtot[cenedtot[col].between(0,6, inclusive=False)]"
      ],
      "execution_count": 191,
      "outputs": []
    },
    {
      "cell_type": "code",
      "metadata": {
        "id": "oo4Y_4pJUPAI"
      },
      "source": [
        "# Drop buildings with wrong An\n",
        "cenedtot = cenedtot[cenedtot['SUPERFICIE_NETTA'] > 50]\n",
        "\n",
        "# Drop buildings with wrong Vn\n",
        "cenedtot = cenedtot[cenedtot['VOLUME_NETTO'] > 150]"
      ],
      "execution_count": 192,
      "outputs": []
    },
    {
      "cell_type": "code",
      "metadata": {
        "id": "xX6NlYdF-LvI"
      },
      "source": [
        "cenedtot = cenedtot[cenedtot['DESTINAZIONE_DI_USO'] == 'E.1(1)']"
      ],
      "execution_count": 193,
      "outputs": []
    },
    {
      "cell_type": "code",
      "metadata": {
        "id": "1li1oBiSEWQt"
      },
      "source": [
        "cenedtot = cenedtot[cenedtot['TRASMITTANZA_MEDIA'] > 0.15]\n",
        "cenedtot = cenedtot[cenedtot['TRASMITTANZA_MEDIA'] < 4]"
      ],
      "execution_count": 194,
      "outputs": []
    },
    {
      "cell_type": "code",
      "metadata": {
        "id": "HnKYF5WOEiPA"
      },
      "source": [
        "cenedtot = cenedtot[cenedtot['ALTEZZA_MEDIA'] > 2.4]\n",
        "cenedtot = cenedtot[cenedtot['ALTEZZA_MEDIA'] < 6]"
      ],
      "execution_count": 195,
      "outputs": []
    },
    {
      "cell_type": "code",
      "metadata": {
        "id": "2hDXj9dVIJsf"
      },
      "source": [
        "# Drop buildings with wrong EPH\n",
        "# cenedtot = cenedtot[cenedtot['EP_H_ND'] > 120]\n",
        "# cenedtot = cenedtot[cenedtot['EP_H_ND'] < 1000]"
      ],
      "execution_count": 196,
      "outputs": []
    },
    {
      "cell_type": "code",
      "metadata": {
        "id": "gUhc_Fkd-6gQ",
        "colab": {
          "base_uri": "https://localhost:8080/"
        },
        "outputId": "ebbce3f6-969f-4313-fc5c-2a48e619d86e"
      },
      "source": [
        "len(cenedtot)"
      ],
      "execution_count": 197,
      "outputs": [
        {
          "output_type": "execute_result",
          "data": {
            "text/plain": [
              "1121"
            ]
          },
          "metadata": {
            "tags": []
          },
          "execution_count": 197
        }
      ]
    },
    {
      "cell_type": "markdown",
      "metadata": {
        "id": "jjki_9utExQG"
      },
      "source": [
        "# Shuffle"
      ]
    },
    {
      "cell_type": "code",
      "metadata": {
        "id": "5Ao1QXyfEwPv"
      },
      "source": [
        "cened = cenedtot.sample(frac=1, random_state = 42).reset_index(drop=True)"
      ],
      "execution_count": 198,
      "outputs": []
    },
    {
      "cell_type": "markdown",
      "metadata": {
        "id": "xLy7NHfV6NOg"
      },
      "source": [
        "# Reserve a test set"
      ]
    },
    {
      "cell_type": "code",
      "metadata": {
        "id": "D8AmkFQH6Nl7"
      },
      "source": [
        "msk = np.random.rand(len(cened)) < 0.8\r\n",
        "train = cened[msk]\r\n",
        "test = cened[~msk]"
      ],
      "execution_count": 199,
      "outputs": []
    },
    {
      "cell_type": "code",
      "metadata": {
        "colab": {
          "base_uri": "https://localhost:8080/"
        },
        "id": "Tz77V-S2_H01",
        "outputId": "e12bb1c2-a750-4052-93c8-9ac410996fac"
      },
      "source": [
        "print(len(train))"
      ],
      "execution_count": 200,
      "outputs": [
        {
          "output_type": "stream",
          "text": [
            "883\n"
          ],
          "name": "stdout"
        }
      ]
    },
    {
      "cell_type": "code",
      "metadata": {
        "colab": {
          "base_uri": "https://localhost:8080/"
        },
        "id": "HeJnDatG_Kan",
        "outputId": "77306acd-8b94-404c-a761-42621748f3cd"
      },
      "source": [
        "print(len(test))"
      ],
      "execution_count": 201,
      "outputs": [
        {
          "output_type": "stream",
          "text": [
            "238\n"
          ],
          "name": "stdout"
        }
      ]
    },
    {
      "cell_type": "markdown",
      "metadata": {
        "id": "7TMSuHej9Mw-"
      },
      "source": [
        "# Define MAPE"
      ]
    },
    {
      "cell_type": "code",
      "metadata": {
        "id": "sfmx3u169Q0i"
      },
      "source": [
        "def neg_mape(y_true, y_pred):\r\n",
        "  y_true = np.array(y_true)\r\n",
        "  y_pred = np.array(y_pred)\r\n",
        "  return -np.abs((y_true - y_pred)/y_true).mean()"
      ],
      "execution_count": 202,
      "outputs": []
    },
    {
      "cell_type": "code",
      "metadata": {
        "id": "2TUZvEj1LFLu"
      },
      "source": [
        "def modified_neg_mape(y_true, y_pred):\r\n",
        "  y_true = np.array(y_true)\r\n",
        "  y_pred = np.array(y_pred)\r\n",
        "  errors = np.abs((y_true - y_pred)/y_true)\r\n",
        "  index = np.argwhere(errors > 1)\r\n",
        "  mod_errors = np.delete(errors, index)\r\n",
        "  return -mod_errors.mean()"
      ],
      "execution_count": 203,
      "outputs": []
    },
    {
      "cell_type": "code",
      "metadata": {
        "id": "66onwvYJALQj"
      },
      "source": [
        "neg_mape_scorer = make_scorer(neg_mape, greater_is_better=True)"
      ],
      "execution_count": 204,
      "outputs": []
    },
    {
      "cell_type": "code",
      "metadata": {
        "id": "53ze8caVLOOn"
      },
      "source": [
        "modified_neg_mape_scorer = make_scorer(modified_neg_mape, greater_is_better=True)"
      ],
      "execution_count": 205,
      "outputs": []
    },
    {
      "cell_type": "markdown",
      "metadata": {
        "id": "ul4W6e_uJXE1"
      },
      "source": [
        "# 2.0 inputs"
      ]
    },
    {
      "cell_type": "markdown",
      "metadata": {
        "id": "OR6CdvGxJXE3"
      },
      "source": [
        "## Random search"
      ]
    },
    {
      "cell_type": "code",
      "metadata": {
        "id": "nUa9KYcPJXE5"
      },
      "source": [
        "mlcol = ['SUPERF_UTILE_RISCALDATA',\r\n",
        "           'VOLUME_LORDO_RISCALDATO',\r\n",
        "           'SUPERFICIE_DISPERDENTE_x', 'dd','PERIODO',\r\n",
        "           'RAPPORTO_SV','A_SOL_EST_A_SUP_UTILE','Y_IE',\r\n",
        "           'ALTEZZA_MEDIA', 'RIQUALIFICAZIONE_ENERGETICA','RISTRUTTURAZIONE_IMPORTANTE',\r\n",
        "             'A_SOL_EST', 'NUMERO_UNITA_IMMOBILIARI']"
      ],
      "execution_count": 206,
      "outputs": []
    },
    {
      "cell_type": "code",
      "metadata": {
        "id": "wSR0Cy3TJXE7"
      },
      "source": [
        "cat_feats = ['PERIODO']"
      ],
      "execution_count": 207,
      "outputs": []
    },
    {
      "cell_type": "code",
      "metadata": {
        "colab": {
          "base_uri": "https://localhost:8080/"
        },
        "id": "NP2PcwciJXE8",
        "outputId": "10a04b9f-48f6-452d-aa34-9808320c5ebc"
      },
      "source": [
        "param_dist = {'feature_fraction': np.linspace(0.4, 1, num=7),\r\n",
        "              'num_leaf' : list(range(20,40)),\r\n",
        "             'max_depth' : [-1],\r\n",
        "             'max_bin' : [100, 200, 300, 500, 750, 1000, 2000],\r\n",
        "             'bagging_fraction' : np.linspace(0.4, 1, num=14),\r\n",
        "             'bagging_freq' : list(range(1,10)),\r\n",
        "             'lambda_l1' : stats.uniform(0, 0.6),\r\n",
        "             'lambda_l2' : stats.uniform(0, 0.6)}\r\n",
        "\r\n",
        "lgbm = LGBMRegressor(n_estimators = 100, silent = True, verbose = 0, is_training_metric = True, n_jobs = 1, \r\n",
        "                     eval_metric  = 'mape')\r\n",
        "\r\n",
        "n_iter_search = 100\r\n",
        "\r\n",
        "random_search = RandomizedSearchCV(lgbm, param_distributions=param_dist, n_iter=n_iter_search, \r\n",
        "                                   scoring=modified_neg_mape_scorer, cv = 5, n_jobs = 6, verbose = 2)\r\n",
        "\r\n",
        "random_search.fit(cened[mlcol], cened['EP_H_ND'], categorical_feature = cat_feats)"
      ],
      "execution_count": 208,
      "outputs": [
        {
          "output_type": "stream",
          "text": [
            "Fitting 5 folds for each of 100 candidates, totalling 500 fits\n"
          ],
          "name": "stdout"
        },
        {
          "output_type": "stream",
          "text": [
            "[Parallel(n_jobs=6)]: Using backend LokyBackend with 6 concurrent workers.\n",
            "[Parallel(n_jobs=6)]: Done  29 tasks      | elapsed:    2.8s\n",
            "[Parallel(n_jobs=6)]: Done 150 tasks      | elapsed:   14.0s\n",
            "[Parallel(n_jobs=6)]: Done 353 tasks      | elapsed:   31.5s\n",
            "[Parallel(n_jobs=6)]: Done 500 out of 500 | elapsed:   44.2s finished\n",
            "/usr/local/lib/python3.6/dist-packages/lightgbm/basic.py:1209: UserWarning: categorical_feature in Dataset is overridden.\n",
            "New categorical_feature is ['PERIODO']\n",
            "  'New categorical_feature is {}'.format(sorted(list(categorical_feature))))\n"
          ],
          "name": "stderr"
        },
        {
          "output_type": "execute_result",
          "data": {
            "text/plain": [
              "RandomizedSearchCV(cv=5, error_score=nan,\n",
              "                   estimator=LGBMRegressor(boosting_type='gbdt',\n",
              "                                           class_weight=None,\n",
              "                                           colsample_bytree=1.0,\n",
              "                                           eval_metric='mape',\n",
              "                                           importance_type='split',\n",
              "                                           is_training_metric=True,\n",
              "                                           learning_rate=0.1, max_depth=-1,\n",
              "                                           min_child_samples=20,\n",
              "                                           min_child_weight=0.001,\n",
              "                                           min_split_gain=0.0, n_estimators=100,\n",
              "                                           n_jobs=1, num_leaves=31,\n",
              "                                           objective=None, random_sta...\n",
              "                                        'lambda_l1': <scipy.stats._distn_infrastructure.rv_frozen object at 0x7f603e4d6dd8>,\n",
              "                                        'lambda_l2': <scipy.stats._distn_infrastructure.rv_frozen object at 0x7f603e4d69e8>,\n",
              "                                        'max_bin': [100, 200, 300, 500, 750,\n",
              "                                                    1000, 2000],\n",
              "                                        'max_depth': [-1],\n",
              "                                        'num_leaf': [20, 21, 22, 23, 24, 25, 26,\n",
              "                                                     27, 28, 29, 30, 31, 32, 33,\n",
              "                                                     34, 35, 36, 37, 38, 39]},\n",
              "                   pre_dispatch='2*n_jobs', random_state=None, refit=True,\n",
              "                   return_train_score=False,\n",
              "                   scoring=make_scorer(modified_neg_mape), verbose=2)"
            ]
          },
          "metadata": {
            "tags": []
          },
          "execution_count": 208
        }
      ]
    },
    {
      "cell_type": "markdown",
      "metadata": {
        "id": "3KkN5AJyJXFA"
      },
      "source": [
        "## Print results"
      ]
    },
    {
      "cell_type": "code",
      "metadata": {
        "colab": {
          "base_uri": "https://localhost:8080/"
        },
        "id": "GS06v7CMJXFB",
        "outputId": "212e48eb-ae34-440b-9cf7-a545e6c0f03c"
      },
      "source": [
        "print(random_search.best_params_)"
      ],
      "execution_count": 209,
      "outputs": [
        {
          "output_type": "stream",
          "text": [
            "{'bagging_fraction': 0.9538461538461538, 'bagging_freq': 7, 'feature_fraction': 0.8, 'lambda_l1': 0.06240824026678044, 'lambda_l2': 0.57601269089378, 'max_bin': 2000, 'max_depth': -1, 'num_leaf': 30}\n"
          ],
          "name": "stdout"
        }
      ]
    },
    {
      "cell_type": "code",
      "metadata": {
        "colab": {
          "base_uri": "https://localhost:8080/"
        },
        "id": "h0Q30_MRJXFC",
        "outputId": "5fe2a298-5360-45d8-bf3f-34ba0aeae6a8"
      },
      "source": [
        "print(random_search.best_score_)"
      ],
      "execution_count": 210,
      "outputs": [
        {
          "output_type": "stream",
          "text": [
            "-0.1931873785503086\n"
          ],
          "name": "stdout"
        }
      ]
    },
    {
      "cell_type": "code",
      "metadata": {
        "colab": {
          "base_uri": "https://localhost:8080/"
        },
        "id": "6XeIxoPcJXFD",
        "outputId": "e5261cf3-a886-4cf1-fb93-ae896d62d9a9"
      },
      "source": [
        "# Create a results df\r\n",
        "cv_df = pd.DataFrame(random_search.cv_results_)\r\n",
        "cv_df = cv_df.sort_values(by = ['rank_test_score']).reset_index()\r\n",
        "\r\n",
        "# Filter columns\r\n",
        "res_cols = [col for col in cv_df if col.startswith('split')]\r\n",
        "\r\n",
        "# Select best iter\r\n",
        "best_res = cv_df.loc[0]\r\n",
        "\r\n",
        "# Print results for each fold\r\n",
        "print(best_res[res_cols])"
      ],
      "execution_count": 211,
      "outputs": [
        {
          "output_type": "stream",
          "text": [
            "split0_test_score   -0.186344\n",
            "split1_test_score   -0.196087\n",
            "split2_test_score   -0.204112\n",
            "split3_test_score    -0.18868\n",
            "split4_test_score   -0.190714\n",
            "Name: 0, dtype: object\n"
          ],
          "name": "stdout"
        }
      ]
    },
    {
      "cell_type": "markdown",
      "metadata": {
        "id": "hfMIlVdnJXFF"
      },
      "source": [
        "## Train the final model"
      ]
    },
    {
      "cell_type": "code",
      "metadata": {
        "colab": {
          "base_uri": "https://localhost:8080/"
        },
        "id": "kyNI_a_cJXFG",
        "outputId": "e7a9502d-db64-4e4a-abae-c1d849557bca"
      },
      "source": [
        "light = LGBMRegressor(n_estimators = 1000, silent = False, verbose = 2, is_training_metric = True, n_jobs = 6)\r\n",
        "light.set_params(**random_search.best_params_)"
      ],
      "execution_count": 212,
      "outputs": [
        {
          "output_type": "execute_result",
          "data": {
            "text/plain": [
              "LGBMRegressor(bagging_fraction=0.9538461538461538, bagging_freq=7,\n",
              "              boosting_type='gbdt', class_weight=None, colsample_bytree=1.0,\n",
              "              feature_fraction=0.8, importance_type='split',\n",
              "              is_training_metric=True, lambda_l1=0.06240824026678044,\n",
              "              lambda_l2=0.57601269089378, learning_rate=0.1, max_bin=2000,\n",
              "              max_depth=-1, min_child_samples=20, min_child_weight=0.001,\n",
              "              min_split_gain=0.0, n_estimators=1000, n_jobs=6, num_leaf=30,\n",
              "              num_leaves=31, objective=None, random_state=None, reg_alpha=0.0,\n",
              "              reg_lambda=0.0, silent=False, subsample=1.0,\n",
              "              subsample_for_bin=200000, subsample_freq=0, verbose=2)"
            ]
          },
          "metadata": {
            "tags": []
          },
          "execution_count": 212
        }
      ]
    },
    {
      "cell_type": "code",
      "metadata": {
        "colab": {
          "base_uri": "https://localhost:8080/"
        },
        "id": "mshxLA9FJXFH",
        "outputId": "1cd12f86-21e8-4022-9f94-9f19414bec69"
      },
      "source": [
        "light.fit(train[mlcol], train['EP_H_ND'])"
      ],
      "execution_count": 213,
      "outputs": [
        {
          "output_type": "execute_result",
          "data": {
            "text/plain": [
              "LGBMRegressor(bagging_fraction=0.9538461538461538, bagging_freq=7,\n",
              "              boosting_type='gbdt', class_weight=None, colsample_bytree=1.0,\n",
              "              feature_fraction=0.8, importance_type='split',\n",
              "              is_training_metric=True, lambda_l1=0.06240824026678044,\n",
              "              lambda_l2=0.57601269089378, learning_rate=0.1, max_bin=2000,\n",
              "              max_depth=-1, min_child_samples=20, min_child_weight=0.001,\n",
              "              min_split_gain=0.0, n_estimators=1000, n_jobs=6, num_leaf=30,\n",
              "              num_leaves=31, objective=None, random_state=None, reg_alpha=0.0,\n",
              "              reg_lambda=0.0, silent=False, subsample=1.0,\n",
              "              subsample_for_bin=200000, subsample_freq=0, verbose=2)"
            ]
          },
          "metadata": {
            "tags": []
          },
          "execution_count": 213
        }
      ]
    },
    {
      "cell_type": "markdown",
      "metadata": {
        "id": "BG4jn-M9JXFI"
      },
      "source": [
        "## Test the model"
      ]
    },
    {
      "cell_type": "code",
      "metadata": {
        "id": "mKguuXd7JXFJ"
      },
      "source": [
        "y_pred = light.predict(test[mlcol])"
      ],
      "execution_count": 214,
      "outputs": []
    },
    {
      "cell_type": "code",
      "metadata": {
        "id": "Olgwy1IDJXFK"
      },
      "source": [
        "results_df = pd.DataFrame({'predicted' : y_pred, 'true' : test['EP_H_ND']})\r\n",
        "results_df['error'] = np.abs((results_df['true'] - results_df['predicted'])/results_df['true'])*100"
      ],
      "execution_count": 215,
      "outputs": []
    },
    {
      "cell_type": "code",
      "metadata": {
        "colab": {
          "base_uri": "https://localhost:8080/"
        },
        "id": "x8BjLlRKJXFL",
        "outputId": "d5eab285-c8e6-4675-98c7-be1eb0f4cafd"
      },
      "source": [
        "# MAPE\r\n",
        "results_df['error'].mean()"
      ],
      "execution_count": 216,
      "outputs": [
        {
          "output_type": "execute_result",
          "data": {
            "text/plain": [
              "22.251663661092962"
            ]
          },
          "metadata": {
            "tags": []
          },
          "execution_count": 216
        }
      ]
    },
    {
      "cell_type": "code",
      "metadata": {
        "colab": {
          "base_uri": "https://localhost:8080/"
        },
        "id": "cPmt0Di6JXFM",
        "outputId": "eb558f49-aa69-489c-c0a6-5b1a8c24a928"
      },
      "source": [
        "# MAPE without >100%\r\n",
        "results_df[results_df.error <= 100].error.mean()"
      ],
      "execution_count": 217,
      "outputs": [
        {
          "output_type": "execute_result",
          "data": {
            "text/plain": [
              "17.885731433296318"
            ]
          },
          "metadata": {
            "tags": []
          },
          "execution_count": 217
        }
      ]
    },
    {
      "cell_type": "code",
      "metadata": {
        "colab": {
          "base_uri": "https://localhost:8080/",
          "height": 399
        },
        "id": "HSlVJvdOJXFN",
        "outputId": "10af8b6e-e2bb-4ccd-eb94-77a844674168"
      },
      "source": [
        "results_df"
      ],
      "execution_count": 218,
      "outputs": [
        {
          "output_type": "execute_result",
          "data": {
            "text/html": [
              "<div>\n",
              "<style scoped>\n",
              "    .dataframe tbody tr th:only-of-type {\n",
              "        vertical-align: middle;\n",
              "    }\n",
              "\n",
              "    .dataframe tbody tr th {\n",
              "        vertical-align: top;\n",
              "    }\n",
              "\n",
              "    .dataframe thead th {\n",
              "        text-align: right;\n",
              "    }\n",
              "</style>\n",
              "<table border=\"1\" class=\"dataframe\">\n",
              "  <thead>\n",
              "    <tr style=\"text-align: right;\">\n",
              "      <th></th>\n",
              "      <th>predicted</th>\n",
              "      <th>true</th>\n",
              "      <th>error</th>\n",
              "    </tr>\n",
              "  </thead>\n",
              "  <tbody>\n",
              "    <tr>\n",
              "      <th>8</th>\n",
              "      <td>84.883269</td>\n",
              "      <td>41.48</td>\n",
              "      <td>104.636619</td>\n",
              "    </tr>\n",
              "    <tr>\n",
              "      <th>11</th>\n",
              "      <td>102.248653</td>\n",
              "      <td>113.24</td>\n",
              "      <td>9.706240</td>\n",
              "    </tr>\n",
              "    <tr>\n",
              "      <th>12</th>\n",
              "      <td>151.092571</td>\n",
              "      <td>115.51</td>\n",
              "      <td>30.804754</td>\n",
              "    </tr>\n",
              "    <tr>\n",
              "      <th>15</th>\n",
              "      <td>182.099678</td>\n",
              "      <td>263.77</td>\n",
              "      <td>30.962703</td>\n",
              "    </tr>\n",
              "    <tr>\n",
              "      <th>17</th>\n",
              "      <td>72.410679</td>\n",
              "      <td>60.16</td>\n",
              "      <td>20.363496</td>\n",
              "    </tr>\n",
              "    <tr>\n",
              "      <th>...</th>\n",
              "      <td>...</td>\n",
              "      <td>...</td>\n",
              "      <td>...</td>\n",
              "    </tr>\n",
              "    <tr>\n",
              "      <th>1086</th>\n",
              "      <td>148.204919</td>\n",
              "      <td>148.82</td>\n",
              "      <td>0.413305</td>\n",
              "    </tr>\n",
              "    <tr>\n",
              "      <th>1089</th>\n",
              "      <td>133.404570</td>\n",
              "      <td>123.90</td>\n",
              "      <td>7.671162</td>\n",
              "    </tr>\n",
              "    <tr>\n",
              "      <th>1103</th>\n",
              "      <td>166.525166</td>\n",
              "      <td>161.89</td>\n",
              "      <td>2.863158</td>\n",
              "    </tr>\n",
              "    <tr>\n",
              "      <th>1115</th>\n",
              "      <td>138.264942</td>\n",
              "      <td>138.57</td>\n",
              "      <td>0.220147</td>\n",
              "    </tr>\n",
              "    <tr>\n",
              "      <th>1117</th>\n",
              "      <td>163.598501</td>\n",
              "      <td>164.22</td>\n",
              "      <td>0.378455</td>\n",
              "    </tr>\n",
              "  </tbody>\n",
              "</table>\n",
              "<p>238 rows × 3 columns</p>\n",
              "</div>"
            ],
            "text/plain": [
              "       predicted    true       error\n",
              "8      84.883269   41.48  104.636619\n",
              "11    102.248653  113.24    9.706240\n",
              "12    151.092571  115.51   30.804754\n",
              "15    182.099678  263.77   30.962703\n",
              "17     72.410679   60.16   20.363496\n",
              "...          ...     ...         ...\n",
              "1086  148.204919  148.82    0.413305\n",
              "1089  133.404570  123.90    7.671162\n",
              "1103  166.525166  161.89    2.863158\n",
              "1115  138.264942  138.57    0.220147\n",
              "1117  163.598501  164.22    0.378455\n",
              "\n",
              "[238 rows x 3 columns]"
            ]
          },
          "metadata": {
            "tags": []
          },
          "execution_count": 218
        }
      ]
    },
    {
      "cell_type": "markdown",
      "metadata": {
        "id": "O_CZ4pzfJR_Z"
      },
      "source": [
        "# 1.2 inputs"
      ]
    },
    {
      "cell_type": "markdown",
      "metadata": {
        "id": "P3sUK8BN6-Ph"
      },
      "source": [
        "## Random search"
      ]
    },
    {
      "cell_type": "code",
      "metadata": {
        "id": "NbnFeNK8-9up"
      },
      "source": [
        "mlcol = ['SUPERFICIE_DISPERDENTE_y', 'SUPERFICIE_NETTA', 'VOLUME_NETTO',\r\n",
        "          'TRASMITTANZA_MEDIA_COPERTURA','TRASMITTANZA_MEDIA_INVOLUCRO',\r\n",
        "          'TRASMITTANZA_MEDIA_BASAMENTO','TRASMITTANZA_MEDIA_SERRAMENTO',\r\n",
        "          'SUPERFICIE_LORDA', 'VOLUME_LORDO','dd','PERIODO','SUP_OPACA',\r\n",
        "        'SUP_FINESTRATA']"
      ],
      "execution_count": 219,
      "outputs": []
    },
    {
      "cell_type": "code",
      "metadata": {
        "id": "uX_GGcEKzP16"
      },
      "source": [
        "cat_feats = ['PERIODO']"
      ],
      "execution_count": 220,
      "outputs": []
    },
    {
      "cell_type": "code",
      "metadata": {
        "colab": {
          "base_uri": "https://localhost:8080/"
        },
        "id": "QIbN4Y2Q6-Va",
        "outputId": "8f034db1-1b86-4910-d1bc-52c953a24ba9"
      },
      "source": [
        "param_dist = {'feature_fraction': np.linspace(0.4, 1, num=7),\r\n",
        "              'num_leaf' : list(range(20,40)),\r\n",
        "             'max_depth' : [-1],\r\n",
        "             'max_bin' : [100, 200, 300, 500, 750, 1000, 2000],\r\n",
        "             'bagging_fraction' : np.linspace(0.4, 1, num=14),\r\n",
        "             'bagging_freq' : list(range(1,10)),\r\n",
        "             'lambda_l1' : stats.uniform(0, 0.6),\r\n",
        "             'lambda_l2' : stats.uniform(0, 0.6)}\r\n",
        "\r\n",
        "lgbm = LGBMRegressor(n_estimators = 100, silent = True, verbose = 0, is_training_metric = True, n_jobs = 1, \r\n",
        "                     eval_metric  = 'mape')\r\n",
        "\r\n",
        "n_iter_search = 100\r\n",
        "\r\n",
        "random_search = RandomizedSearchCV(lgbm, param_distributions=param_dist, n_iter=n_iter_search, \r\n",
        "                                   scoring=modified_neg_mape_scorer, cv = 5, n_jobs = 6, verbose = 2)\r\n",
        "\r\n",
        "random_search.fit(cened[mlcol], cened['EP_H_ND'], categorical_feature = cat_feats)"
      ],
      "execution_count": 221,
      "outputs": [
        {
          "output_type": "stream",
          "text": [
            "Fitting 5 folds for each of 100 candidates, totalling 500 fits\n"
          ],
          "name": "stdout"
        },
        {
          "output_type": "stream",
          "text": [
            "[Parallel(n_jobs=6)]: Using backend LokyBackend with 6 concurrent workers.\n",
            "[Parallel(n_jobs=6)]: Done  29 tasks      | elapsed:    3.5s\n",
            "[Parallel(n_jobs=6)]: Done 150 tasks      | elapsed:   16.3s\n",
            "[Parallel(n_jobs=6)]: Done 353 tasks      | elapsed:   38.3s\n",
            "[Parallel(n_jobs=6)]: Done 500 out of 500 | elapsed:   54.6s finished\n",
            "/usr/local/lib/python3.6/dist-packages/lightgbm/basic.py:1209: UserWarning: categorical_feature in Dataset is overridden.\n",
            "New categorical_feature is ['PERIODO']\n",
            "  'New categorical_feature is {}'.format(sorted(list(categorical_feature))))\n"
          ],
          "name": "stderr"
        },
        {
          "output_type": "execute_result",
          "data": {
            "text/plain": [
              "RandomizedSearchCV(cv=5, error_score=nan,\n",
              "                   estimator=LGBMRegressor(boosting_type='gbdt',\n",
              "                                           class_weight=None,\n",
              "                                           colsample_bytree=1.0,\n",
              "                                           eval_metric='mape',\n",
              "                                           importance_type='split',\n",
              "                                           is_training_metric=True,\n",
              "                                           learning_rate=0.1, max_depth=-1,\n",
              "                                           min_child_samples=20,\n",
              "                                           min_child_weight=0.001,\n",
              "                                           min_split_gain=0.0, n_estimators=100,\n",
              "                                           n_jobs=1, num_leaves=31,\n",
              "                                           objective=None, random_sta...\n",
              "                                        'lambda_l1': <scipy.stats._distn_infrastructure.rv_frozen object at 0x7f60410374a8>,\n",
              "                                        'lambda_l2': <scipy.stats._distn_infrastructure.rv_frozen object at 0x7f6041037518>,\n",
              "                                        'max_bin': [100, 200, 300, 500, 750,\n",
              "                                                    1000, 2000],\n",
              "                                        'max_depth': [-1],\n",
              "                                        'num_leaf': [20, 21, 22, 23, 24, 25, 26,\n",
              "                                                     27, 28, 29, 30, 31, 32, 33,\n",
              "                                                     34, 35, 36, 37, 38, 39]},\n",
              "                   pre_dispatch='2*n_jobs', random_state=None, refit=True,\n",
              "                   return_train_score=False,\n",
              "                   scoring=make_scorer(modified_neg_mape), verbose=2)"
            ]
          },
          "metadata": {
            "tags": []
          },
          "execution_count": 221
        }
      ]
    },
    {
      "cell_type": "markdown",
      "metadata": {
        "id": "ZjNqelQa9tM6"
      },
      "source": [
        "## Print results"
      ]
    },
    {
      "cell_type": "code",
      "metadata": {
        "colab": {
          "base_uri": "https://localhost:8080/"
        },
        "id": "8po-ibOx9tjW",
        "outputId": "8d1df1df-1d71-4168-c835-97da7afbe1a0"
      },
      "source": [
        "print(random_search.best_params_)"
      ],
      "execution_count": 222,
      "outputs": [
        {
          "output_type": "stream",
          "text": [
            "{'bagging_fraction': 1.0, 'bagging_freq': 8, 'feature_fraction': 0.7, 'lambda_l1': 0.030218966309218498, 'lambda_l2': 0.2242357743804975, 'max_bin': 300, 'max_depth': -1, 'num_leaf': 20}\n"
          ],
          "name": "stdout"
        }
      ]
    },
    {
      "cell_type": "code",
      "metadata": {
        "colab": {
          "base_uri": "https://localhost:8080/"
        },
        "id": "THJn_s95914s",
        "outputId": "99c22f4a-d3e0-42bd-ef65-c76024b250ab"
      },
      "source": [
        "print(random_search.best_score_)"
      ],
      "execution_count": 223,
      "outputs": [
        {
          "output_type": "stream",
          "text": [
            "-0.18203126461390934\n"
          ],
          "name": "stdout"
        }
      ]
    },
    {
      "cell_type": "code",
      "metadata": {
        "colab": {
          "base_uri": "https://localhost:8080/"
        },
        "id": "ta1btwWlTxJn",
        "outputId": "e3beb4d5-c8cb-4428-8dd3-15c0c35badde"
      },
      "source": [
        "# Create a results df\r\n",
        "cv_df = pd.DataFrame(random_search.cv_results_)\r\n",
        "cv_df = cv_df.sort_values(by = ['rank_test_score']).reset_index()\r\n",
        "\r\n",
        "# Filter columns\r\n",
        "res_cols = [col for col in cv_df if col.startswith('split')]\r\n",
        "\r\n",
        "# Select best iter\r\n",
        "best_res = cv_df.loc[0]\r\n",
        "\r\n",
        "# Print results for each fold\r\n",
        "print(best_res[res_cols])"
      ],
      "execution_count": 224,
      "outputs": [
        {
          "output_type": "stream",
          "text": [
            "split0_test_score   -0.196658\n",
            "split1_test_score   -0.191859\n",
            "split2_test_score   -0.176288\n",
            "split3_test_score   -0.170945\n",
            "split4_test_score   -0.174405\n",
            "Name: 0, dtype: object\n"
          ],
          "name": "stdout"
        }
      ]
    },
    {
      "cell_type": "markdown",
      "metadata": {
        "id": "UHqwuWX1AeHK"
      },
      "source": [
        "## Train the final model"
      ]
    },
    {
      "cell_type": "code",
      "metadata": {
        "colab": {
          "base_uri": "https://localhost:8080/"
        },
        "id": "Zq7OjJKsAj0x",
        "outputId": "687f4cc1-253a-4fe4-ff25-69cd526d9b46"
      },
      "source": [
        "light = LGBMRegressor(n_estimators = 1000, silent = False, verbose = 2, is_training_metric = True, n_jobs = 6)\r\n",
        "light.set_params(**random_search.best_params_)"
      ],
      "execution_count": 225,
      "outputs": [
        {
          "output_type": "execute_result",
          "data": {
            "text/plain": [
              "LGBMRegressor(bagging_fraction=1.0, bagging_freq=8, boosting_type='gbdt',\n",
              "              class_weight=None, colsample_bytree=1.0, feature_fraction=0.7,\n",
              "              importance_type='split', is_training_metric=True,\n",
              "              lambda_l1=0.030218966309218498, lambda_l2=0.2242357743804975,\n",
              "              learning_rate=0.1, max_bin=300, max_depth=-1,\n",
              "              min_child_samples=20, min_child_weight=0.001, min_split_gain=0.0,\n",
              "              n_estimators=1000, n_jobs=6, num_leaf=20, num_leaves=31,\n",
              "              objective=None, random_state=None, reg_alpha=0.0, reg_lambda=0.0,\n",
              "              silent=False, subsample=1.0, subsample_for_bin=200000,\n",
              "              subsample_freq=0, verbose=2)"
            ]
          },
          "metadata": {
            "tags": []
          },
          "execution_count": 225
        }
      ]
    },
    {
      "cell_type": "code",
      "metadata": {
        "colab": {
          "base_uri": "https://localhost:8080/"
        },
        "id": "XbLz3zitAuQo",
        "outputId": "517192e8-8762-4819-b8bd-9213693eff7b"
      },
      "source": [
        "light.fit(train[mlcol], train['EP_H_ND'])"
      ],
      "execution_count": 226,
      "outputs": [
        {
          "output_type": "execute_result",
          "data": {
            "text/plain": [
              "LGBMRegressor(bagging_fraction=1.0, bagging_freq=8, boosting_type='gbdt',\n",
              "              class_weight=None, colsample_bytree=1.0, feature_fraction=0.7,\n",
              "              importance_type='split', is_training_metric=True,\n",
              "              lambda_l1=0.030218966309218498, lambda_l2=0.2242357743804975,\n",
              "              learning_rate=0.1, max_bin=300, max_depth=-1,\n",
              "              min_child_samples=20, min_child_weight=0.001, min_split_gain=0.0,\n",
              "              n_estimators=1000, n_jobs=6, num_leaf=20, num_leaves=31,\n",
              "              objective=None, random_state=None, reg_alpha=0.0, reg_lambda=0.0,\n",
              "              silent=False, subsample=1.0, subsample_for_bin=200000,\n",
              "              subsample_freq=0, verbose=2)"
            ]
          },
          "metadata": {
            "tags": []
          },
          "execution_count": 226
        }
      ]
    },
    {
      "cell_type": "markdown",
      "metadata": {
        "id": "Ml7EZ7XXAvwc"
      },
      "source": [
        "## Test the model"
      ]
    },
    {
      "cell_type": "code",
      "metadata": {
        "id": "EJFVWFDvAx4h"
      },
      "source": [
        "y_pred = light.predict(test[mlcol])"
      ],
      "execution_count": 227,
      "outputs": []
    },
    {
      "cell_type": "code",
      "metadata": {
        "id": "hCtUFtWSBZ15"
      },
      "source": [
        "results_df = pd.DataFrame({'predicted' : y_pred, 'true' : test['EP_H_ND']})\r\n",
        "results_df['error'] = np.abs((results_df['true'] - results_df['predicted'])/results_df['true'])*100"
      ],
      "execution_count": 228,
      "outputs": []
    },
    {
      "cell_type": "code",
      "metadata": {
        "id": "ve6Lla28DXct",
        "colab": {
          "base_uri": "https://localhost:8080/"
        },
        "outputId": "c9abc935-f59d-4758-b38d-fbff015294f0"
      },
      "source": [
        "# MAPE\r\n",
        "results_df['error'].mean()"
      ],
      "execution_count": 229,
      "outputs": [
        {
          "output_type": "execute_result",
          "data": {
            "text/plain": [
              "18.65267452100528"
            ]
          },
          "metadata": {
            "tags": []
          },
          "execution_count": 229
        }
      ]
    },
    {
      "cell_type": "code",
      "metadata": {
        "id": "luAQiAU3KB8L",
        "colab": {
          "base_uri": "https://localhost:8080/"
        },
        "outputId": "f7437fab-6539-4e20-e7d4-d8e0a4703ee4"
      },
      "source": [
        "# MAPE without >100%\r\n",
        "results_df[results_df.error <= 100].error.mean()"
      ],
      "execution_count": 230,
      "outputs": [
        {
          "output_type": "execute_result",
          "data": {
            "text/plain": [
              "17.704602733858327"
            ]
          },
          "metadata": {
            "tags": []
          },
          "execution_count": 230
        }
      ]
    },
    {
      "cell_type": "code",
      "metadata": {
        "colab": {
          "base_uri": "https://localhost:8080/",
          "height": 399
        },
        "id": "fyUDfx40m_ri",
        "outputId": "bc9cd6fc-63ee-4f5b-fd6d-ceb5dc3a2a65"
      },
      "source": [
        "results_df"
      ],
      "execution_count": 231,
      "outputs": [
        {
          "output_type": "execute_result",
          "data": {
            "text/html": [
              "<div>\n",
              "<style scoped>\n",
              "    .dataframe tbody tr th:only-of-type {\n",
              "        vertical-align: middle;\n",
              "    }\n",
              "\n",
              "    .dataframe tbody tr th {\n",
              "        vertical-align: top;\n",
              "    }\n",
              "\n",
              "    .dataframe thead th {\n",
              "        text-align: right;\n",
              "    }\n",
              "</style>\n",
              "<table border=\"1\" class=\"dataframe\">\n",
              "  <thead>\n",
              "    <tr style=\"text-align: right;\">\n",
              "      <th></th>\n",
              "      <th>predicted</th>\n",
              "      <th>true</th>\n",
              "      <th>error</th>\n",
              "    </tr>\n",
              "  </thead>\n",
              "  <tbody>\n",
              "    <tr>\n",
              "      <th>8</th>\n",
              "      <td>101.382720</td>\n",
              "      <td>41.48</td>\n",
              "      <td>144.413501</td>\n",
              "    </tr>\n",
              "    <tr>\n",
              "      <th>11</th>\n",
              "      <td>114.967201</td>\n",
              "      <td>113.24</td>\n",
              "      <td>1.525257</td>\n",
              "    </tr>\n",
              "    <tr>\n",
              "      <th>12</th>\n",
              "      <td>80.444098</td>\n",
              "      <td>115.51</td>\n",
              "      <td>30.357460</td>\n",
              "    </tr>\n",
              "    <tr>\n",
              "      <th>15</th>\n",
              "      <td>265.120528</td>\n",
              "      <td>263.77</td>\n",
              "      <td>0.512010</td>\n",
              "    </tr>\n",
              "    <tr>\n",
              "      <th>17</th>\n",
              "      <td>58.064016</td>\n",
              "      <td>60.16</td>\n",
              "      <td>3.484016</td>\n",
              "    </tr>\n",
              "    <tr>\n",
              "      <th>...</th>\n",
              "      <td>...</td>\n",
              "      <td>...</td>\n",
              "      <td>...</td>\n",
              "    </tr>\n",
              "    <tr>\n",
              "      <th>1086</th>\n",
              "      <td>148.823170</td>\n",
              "      <td>148.82</td>\n",
              "      <td>0.002130</td>\n",
              "    </tr>\n",
              "    <tr>\n",
              "      <th>1089</th>\n",
              "      <td>126.120077</td>\n",
              "      <td>123.90</td>\n",
              "      <td>1.791829</td>\n",
              "    </tr>\n",
              "    <tr>\n",
              "      <th>1103</th>\n",
              "      <td>203.499853</td>\n",
              "      <td>161.89</td>\n",
              "      <td>25.702547</td>\n",
              "    </tr>\n",
              "    <tr>\n",
              "      <th>1115</th>\n",
              "      <td>138.579991</td>\n",
              "      <td>138.57</td>\n",
              "      <td>0.007210</td>\n",
              "    </tr>\n",
              "    <tr>\n",
              "      <th>1117</th>\n",
              "      <td>164.257143</td>\n",
              "      <td>164.22</td>\n",
              "      <td>0.022618</td>\n",
              "    </tr>\n",
              "  </tbody>\n",
              "</table>\n",
              "<p>238 rows × 3 columns</p>\n",
              "</div>"
            ],
            "text/plain": [
              "       predicted    true       error\n",
              "8     101.382720   41.48  144.413501\n",
              "11    114.967201  113.24    1.525257\n",
              "12     80.444098  115.51   30.357460\n",
              "15    265.120528  263.77    0.512010\n",
              "17     58.064016   60.16    3.484016\n",
              "...          ...     ...         ...\n",
              "1086  148.823170  148.82    0.002130\n",
              "1089  126.120077  123.90    1.791829\n",
              "1103  203.499853  161.89   25.702547\n",
              "1115  138.579991  138.57    0.007210\n",
              "1117  164.257143  164.22    0.022618\n",
              "\n",
              "[238 rows x 3 columns]"
            ]
          },
          "metadata": {
            "tags": []
          },
          "execution_count": 231
        }
      ]
    }
  ]
}