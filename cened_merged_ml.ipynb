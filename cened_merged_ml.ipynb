{
  "nbformat": 4,
  "nbformat_minor": 0,
  "metadata": {
    "colab": {
      "name": "Untitled0.ipynb",
      "provenance": [],
      "collapsed_sections": [],
      "authorship_tag": "ABX9TyOOLnhxMMF7RM7v1sWauO50",
      "include_colab_link": true
    },
    "kernelspec": {
      "name": "python3",
      "display_name": "Python 3"
    }
  },
  "cells": [
    {
      "cell_type": "markdown",
      "metadata": {
        "id": "view-in-github",
        "colab_type": "text"
      },
      "source": [
        "<a href=\"https://colab.research.google.com/github/rboghe/cened/blob/master/cened_merged_ml.ipynb\" target=\"_parent\"><img src=\"https://colab.research.google.com/assets/colab-badge.svg\" alt=\"Open In Colab\"/></a>"
      ]
    },
    {
      "cell_type": "markdown",
      "metadata": {
        "id": "NpYzrRpEl-rq"
      },
      "source": [
        "**TO-DO: filter before merging**"
      ]
    },
    {
      "cell_type": "markdown",
      "metadata": {
        "id": "rTgtbdUu612B"
      },
      "source": [
        "##Loading Files"
      ]
    },
    {
      "cell_type": "code",
      "metadata": {
        "id": "bFTamnUO12MU"
      },
      "source": [
        "import os\n",
        "import urllib.request\n",
        "import pandas as pd\n",
        "import numpy as np\n",
        "import random\n",
        "import matplotlib.pyplot as plt\n",
        "from sklearn.metrics import r2_score, make_scorer\n",
        "from lightgbm import LGBMRegressor\n",
        "import scipy.stats as stats\n",
        "from sklearn.model_selection import RandomizedSearchCV\n",
        "\n",
        "# Silence panda's setting with copy warning\n",
        "pd.options.mode.chained_assignment = None"
      ],
      "execution_count": 40,
      "outputs": []
    },
    {
      "cell_type": "code",
      "metadata": {
        "id": "nBJZFlqV15MW"
      },
      "source": [
        "url = 'https://www.dati.lombardia.it/api/views/bbky-sde5/rows.csv?accessType=DOWNLOAD'\n",
        "\n",
        "if os.path.isdir('/tmp'):\n",
        "    if os.path.isfile('/tmp/cened20.csv'):\n",
        "      pass\n",
        "    else:\n",
        "      urllib.request.urlretrieve(url, '/tmp/cened20.csv')\n",
        "else:\n",
        "  os.mkdir('/tmp')\n",
        "  urllib.request.urlretrieve(url, '/tmp/cened20.csv')"
      ],
      "execution_count": 2,
      "outputs": []
    },
    {
      "cell_type": "code",
      "metadata": {
        "id": "FAw5P6g217ld"
      },
      "source": [
        "url = 'https://www.dati.lombardia.it/api/views/rsg3-xhvk/rows.csv?accessType=DOWNLOAD'\n",
        "\n",
        "\n",
        "if os.path.isfile('/tmp/cened12.csv'):\n",
        "  pass\n",
        "else:\n",
        "  urllib.request.urlretrieve(url, '/tmp/cened12.csv')\n"
      ],
      "execution_count": 3,
      "outputs": []
    },
    {
      "cell_type": "code",
      "metadata": {
        "id": "yxFzc7202X5U"
      },
      "source": [
        "url = 'https://raw.githubusercontent.com/rboghe/cened/master/degreedays.txt'\n",
        "\n",
        "urllib.request.urlretrieve(url, '/tmp/ddh.csv')\n",
        "\n",
        "ddh = pd.read_csv('/tmp/ddh.csv', usecols = ['comune','dd'])"
      ],
      "execution_count": 4,
      "outputs": []
    },
    {
      "cell_type": "code",
      "metadata": {
        "id": "fiRt0wIy2ciM",
        "colab": {
          "base_uri": "https://localhost:8080/"
        },
        "outputId": "8835120b-54a9-415d-f885-c745842a6f6b"
      },
      "source": [
        "cols20 = ['COMUNE','FOGLIO', 'PARTICELLA','SUPERFICIE_DISPERDENTE', 'EP_H_ND',\n",
        "        'RIQUALIFICAZIONE_ENERGETICA','RISTRUTTURAZIONE_IMPORTANTE', \n",
        "        'INTERO_EDIFICIO','SUPERF_UTILE_RISCALDATA','EP_GL_NREN','EP_GL_REN']\n",
        "\n",
        "cols12 = ['COMUNE','FOGLIO', 'PARTICELLA','SUPERFICIE_DISPERDENTE',\n",
        "          'TRASMITTANZA_MEDIA_COPERTURA','TRASMITTANZA_MEDIA_INVOLUCRO',\n",
        "          'TRASMITTANZA_MEDIA_BASAMENTO','TRASMITTANZA_MEDIA_SERRAMENTO',\n",
        "          'SUPERFICIE_LORDA', 'VOLUME_LORDO', 'DESTINAZIONE_DI_USO',\n",
        "          'ANNO_COSTRUZIONE','SUPERFICIE_VETRATA_OPACA', 'VOLUME_NETTO',\n",
        "          'SUPERFICIE_NETTA', 'EPH']\n",
        "  \n",
        "cened20 = pd.read_csv('/tmp/cened20.csv', usecols = cols20)\n",
        "cened12 = pd.read_csv('/tmp/cened12.csv', usecols = cols12)"
      ],
      "execution_count": 5,
      "outputs": [
        {
          "output_type": "stream",
          "text": [
            "/usr/local/lib/python3.6/dist-packages/IPython/core/interactiveshell.py:2718: DtypeWarning: Columns (6,7) have mixed types.Specify dtype option on import or set low_memory=False.\n",
            "  interactivity=interactivity, compiler=compiler, result=result)\n"
          ],
          "name": "stderr"
        }
      ]
    },
    {
      "cell_type": "markdown",
      "metadata": {
        "id": "LrDzUNcW678_"
      },
      "source": [
        "## Pre-filtering"
      ]
    },
    {
      "cell_type": "code",
      "metadata": {
        "id": "LERkjzsP3s3N"
      },
      "source": [
        "cened20['EP_GL_NREN'].fillna(0, inplace=True)\n",
        "cened20['EP_GL_REN'].fillna(0, inplace=True)\n",
        "\n",
        "# Drop NaN \n",
        "cened20 = cened20.dropna()\n",
        "cened12 = cened12.dropna() "
      ],
      "execution_count": 6,
      "outputs": []
    },
    {
      "cell_type": "code",
      "metadata": {
        "id": "ML1vCA8xGOm2"
      },
      "source": [
        "# Only entire buildings\n",
        "cened20 = cened20[cened20['INTERO_EDIFICIO'] == True]"
      ],
      "execution_count": 7,
      "outputs": []
    },
    {
      "cell_type": "code",
      "metadata": {
        "id": "AOq-QxRlPRjA"
      },
      "source": [
        "# Drop renovations\n",
        "cened20 = cened20[cened20['RISTRUTTURAZIONE_IMPORTANTE'] == False]\n",
        "cened20 = cened20[cened20['RIQUALIFICAZIONE_ENERGETICA'] == False]"
      ],
      "execution_count": 8,
      "outputs": []
    },
    {
      "cell_type": "markdown",
      "metadata": {
        "id": "7V08nFsW7BmJ"
      },
      "source": [
        "## Merge"
      ]
    },
    {
      "cell_type": "code",
      "metadata": {
        "id": "dQYBddpD5yEK"
      },
      "source": [
        "# Merge dfs\n",
        "cenedtot = pd.merge(left=cened20, right=cened12, left_on=['COMUNE','FOGLIO', 'PARTICELLA'], \n",
        "                    right_on=['COMUNE','FOGLIO', 'PARTICELLA'],  how='inner') # , 'SUBALTERNO' | , 'SUBALTERNO'"
      ],
      "execution_count": 9,
      "outputs": []
    },
    {
      "cell_type": "code",
      "metadata": {
        "id": "e7VDGgXB6heV"
      },
      "source": [
        "# Compute difference between ext surfaces\n",
        "cenedtot['surfdiff'] = abs((cenedtot['SUPERF_UTILE_RISCALDATA'] - cenedtot['SUPERFICIE_NETTA'])/cenedtot['SUPERF_UTILE_RISCALDATA'])\n",
        "\n",
        "# Drop rows with high difference\n",
        "cenedtot = cenedtot[cenedtot['surfdiff'] < 0.2]\n",
        "\n",
        "# Compute difference between ext surfaces\n",
        "#cenedtot['surfdiff'] = abs((cenedtot['SUPERFICIE_DISPERDENTE_y'] - cenedtot['SUPERFICIE_DISPERDENTE_x'])/cenedtot['SUPERFICIE_DISPERDENTE_y'])\n",
        "\n",
        "# Drop rows with high difference\n",
        "#cenedtot = cenedtot[cenedtot['surfdiff'] < 0.05]\n",
        "\n"
      ],
      "execution_count": 10,
      "outputs": []
    },
    {
      "cell_type": "code",
      "metadata": {
        "id": "p18EC-SUazhQ"
      },
      "source": [
        "# Compute difference between ext surfaces\n",
        "cenedtot['ephdiff'] = abs((cenedtot['EPH'] - cenedtot['EP_H_ND'])/cenedtot['EPH'])\n",
        "\n",
        "# Drop rows with high difference\n",
        "cenedtot = cenedtot[cenedtot['ephdiff'] < 0.3]"
      ],
      "execution_count": 11,
      "outputs": []
    },
    {
      "cell_type": "code",
      "metadata": {
        "id": "Pur65Xv1OYqf"
      },
      "source": [
        "cenedtot = cenedtot.dropna() "
      ],
      "execution_count": 12,
      "outputs": []
    },
    {
      "cell_type": "markdown",
      "metadata": {
        "id": "5XoQZ2wFAnJM"
      },
      "source": [
        "##Feature Creation"
      ]
    },
    {
      "cell_type": "code",
      "metadata": {
        "id": "ypVKCrOKApsL"
      },
      "source": [
        "# Add ddh\n",
        "cenedtot['COMUNE'] = cenedtot['COMUNE'].str.lower()\n",
        "ddh['comune'] = ddh['comune'].str.lower()\n",
        "cenedtot['COMUNE'] = cenedtot['COMUNE'].str.replace(r\"o`\",  \"o'\")\n",
        "cenedtot['COMUNE'] = cenedtot['COMUNE'].str.replace(r\"baranzate\",  \"bollate\")\n",
        "cenedtot['COMUNE'] = cenedtot['COMUNE'].str.replace(r\"bovisio masciago\",  \"bovisio-masciago\")\n",
        "cenedtot['COMUNE'] = cenedtot['COMUNE'].str.replace(r\"cornate d`adda\",  \"cornate d'adda\")\n",
        "cenedtot['COMUNE'] = cenedtot['COMUNE'].str.replace(r\"cortenuova\",  \"cortenova\")\n",
        "cenedtot['COMUNE'] = cenedtot['COMUNE'].str.replace(r\"sant'omobono terme\",  \"sant'omobono imagna\")\n",
        "ddh['comune'] = ddh['comune'].str.replace(r\"è\",  \"e'\")\n",
        "ddh['comune'] = ddh['comune'].str.replace(r\"è\",  \"e'\")\n",
        "ddh['comune'] = ddh['comune'].str.replace(r\"é\",  \"e'\")\n",
        "ddh['comune'] = ddh['comune'].str.replace(r\"ò\",  \"o'\")\n",
        "ddh['comune'] = ddh['comune'].str.replace(r\"ù\",  \"u'\")\n",
        "\n",
        "cenedtot = cenedtot.merge(ddh, left_on='COMUNE', right_on='comune', how='left')"
      ],
      "execution_count": 13,
      "outputs": []
    },
    {
      "cell_type": "code",
      "metadata": {
        "id": "VUNzRqxmCql2"
      },
      "source": [
        "cenedtot.ANNO_COSTRUZIONE = cenedtot.ANNO_COSTRUZIONE.astype(str)\n",
        "cenedtot.ANNO_COSTRUZIONE = cenedtot.ANNO_COSTRUZIONE.map(lambda x:x[-4:])\n",
        "cenedtot.ANNO_COSTRUZIONE = cenedtot.ANNO_COSTRUZIONE.astype(int)\n",
        "\n",
        "cenedtot['PERIODO'] = pd.cut(cenedtot.ANNO_COSTRUZIONE, bins=[0,1930,1945,1960,1976,1992,2006,3000],\n",
        "     labels=['Before 1930','1930-1945','1946-1960','1961-1976', '1977-1992', '1993-2006','After 2006']).cat.codes"
      ],
      "execution_count": 14,
      "outputs": []
    },
    {
      "cell_type": "code",
      "metadata": {
        "id": "6OfhIaz6Dbe_"
      },
      "source": [
        "# Opaque surface\n",
        "cenedtot['SUP_OPACA'] = cenedtot['SUPERFICIE_DISPERDENTE_y']/(1+cenedtot['SUPERFICIE_VETRATA_OPACA'])\n",
        "\n",
        "# Opaque surface\n",
        "cenedtot['SUP_FINESTRATA'] = cenedtot['SUPERFICIE_DISPERDENTE_y'] - cenedtot['SUP_OPACA']"
      ],
      "execution_count": 15,
      "outputs": []
    },
    {
      "cell_type": "code",
      "metadata": {
        "id": "9hWzT2YyEEDj"
      },
      "source": [
        "cenedtot['ALTEZZA_MEDIA'] = cenedtot['VOLUME_NETTO']/cenedtot['SUPERFICIE_NETTA']"
      ],
      "execution_count": 16,
      "outputs": []
    },
    {
      "cell_type": "code",
      "metadata": {
        "id": "tlDJYgk9Eaqc"
      },
      "source": [
        "cenedtot['TRASMITTANZA_MEDIA'] = (cenedtot['TRASMITTANZA_MEDIA_SERRAMENTO'] + cenedtot['TRASMITTANZA_MEDIA_COPERTURA'] +\n",
        "         cenedtot['TRASMITTANZA_MEDIA_BASAMENTO'] + cenedtot['TRASMITTANZA_MEDIA_INVOLUCRO'])/4"
      ],
      "execution_count": 17,
      "outputs": []
    },
    {
      "cell_type": "code",
      "metadata": {
        "id": "SY89pmJMSXHd"
      },
      "source": [
        "cenedtot['EP_GL_TOT'] = cenedtot['EP_GL_REN'] + cenedtot['EP_GL_NREN']"
      ],
      "execution_count": 18,
      "outputs": []
    },
    {
      "cell_type": "markdown",
      "metadata": {
        "id": "4oJoiQie-SGo"
      },
      "source": [
        "##Filters"
      ]
    },
    {
      "cell_type": "code",
      "metadata": {
        "id": "nuOs5Fvv7FXS"
      },
      "source": [
        "for col in ['TRASMITTANZA_MEDIA_COPERTURA','TRASMITTANZA_MEDIA_INVOLUCRO',\n",
        "          'TRASMITTANZA_MEDIA_BASAMENTO','TRASMITTANZA_MEDIA_SERRAMENTO']:\n",
        "          cenedtot = cenedtot[cenedtot[col].between(0,6, inclusive=False)]"
      ],
      "execution_count": 19,
      "outputs": []
    },
    {
      "cell_type": "code",
      "metadata": {
        "id": "oo4Y_4pJUPAI"
      },
      "source": [
        "# Drop buildings with wrong An\n",
        "cenedtot = cenedtot[cenedtot['SUPERFICIE_NETTA'] > 50]\n",
        "\n",
        "# Drop buildings with wrong Vn\n",
        "cenedtot = cenedtot[cenedtot['VOLUME_NETTO'] > 150]"
      ],
      "execution_count": 20,
      "outputs": []
    },
    {
      "cell_type": "code",
      "metadata": {
        "id": "xX6NlYdF-LvI"
      },
      "source": [
        "cenedtot = cenedtot[cenedtot['DESTINAZIONE_DI_USO'] == 'E.1(1)']"
      ],
      "execution_count": 21,
      "outputs": []
    },
    {
      "cell_type": "code",
      "metadata": {
        "id": "1li1oBiSEWQt"
      },
      "source": [
        "cenedtot = cenedtot[cenedtot['TRASMITTANZA_MEDIA'] > 0.15]\n",
        "cenedtot = cenedtot[cenedtot['TRASMITTANZA_MEDIA'] < 4]"
      ],
      "execution_count": 22,
      "outputs": []
    },
    {
      "cell_type": "code",
      "metadata": {
        "id": "HnKYF5WOEiPA"
      },
      "source": [
        "cenedtot = cenedtot[cenedtot['ALTEZZA_MEDIA'] > 2.4]\n",
        "cenedtot = cenedtot[cenedtot['ALTEZZA_MEDIA'] < 6]"
      ],
      "execution_count": 23,
      "outputs": []
    },
    {
      "cell_type": "code",
      "metadata": {
        "id": "2hDXj9dVIJsf"
      },
      "source": [
        "# Drop buildings with wrong EPH\n",
        "# cenedtot = cenedtot[cenedtot['EP_H_ND'] > 120]\n",
        "# cenedtot = cenedtot[cenedtot['EP_H_ND'] < 1000]"
      ],
      "execution_count": 24,
      "outputs": []
    },
    {
      "cell_type": "code",
      "metadata": {
        "id": "gUhc_Fkd-6gQ",
        "colab": {
          "base_uri": "https://localhost:8080/"
        },
        "outputId": "f2532c1c-682d-4eba-ab6b-a557769a597f"
      },
      "source": [
        "len(cenedtot)"
      ],
      "execution_count": 25,
      "outputs": [
        {
          "output_type": "execute_result",
          "data": {
            "text/plain": [
              "1121"
            ]
          },
          "metadata": {
            "tags": []
          },
          "execution_count": 25
        }
      ]
    },
    {
      "cell_type": "markdown",
      "metadata": {
        "id": "jjki_9utExQG"
      },
      "source": [
        "# Shuffle"
      ]
    },
    {
      "cell_type": "code",
      "metadata": {
        "id": "5Ao1QXyfEwPv"
      },
      "source": [
        "cened = cenedtot.sample(frac=1, random_state = 42).reset_index(drop=True)"
      ],
      "execution_count": 53,
      "outputs": []
    },
    {
      "cell_type": "markdown",
      "metadata": {
        "id": "xLy7NHfV6NOg"
      },
      "source": [
        "# Reserve a test set"
      ]
    },
    {
      "cell_type": "code",
      "metadata": {
        "id": "D8AmkFQH6Nl7"
      },
      "source": [
        "msk = np.random.rand(len(cened)) < 0.8\r\n",
        "train = cened[msk]\r\n",
        "test = cened[~msk]"
      ],
      "execution_count": 54,
      "outputs": []
    },
    {
      "cell_type": "code",
      "metadata": {
        "colab": {
          "base_uri": "https://localhost:8080/"
        },
        "id": "Tz77V-S2_H01",
        "outputId": "53e54b30-b64a-454d-a767-e6a43d50f4dc"
      },
      "source": [
        "print(len(train))"
      ],
      "execution_count": 55,
      "outputs": [
        {
          "output_type": "stream",
          "text": [
            "898\n"
          ],
          "name": "stdout"
        }
      ]
    },
    {
      "cell_type": "code",
      "metadata": {
        "colab": {
          "base_uri": "https://localhost:8080/"
        },
        "id": "HeJnDatG_Kan",
        "outputId": "47456dcb-bf2d-4e79-e20e-8a312d4060ce"
      },
      "source": [
        "print(len(test))"
      ],
      "execution_count": 56,
      "outputs": [
        {
          "output_type": "stream",
          "text": [
            "223\n"
          ],
          "name": "stdout"
        }
      ]
    },
    {
      "cell_type": "markdown",
      "metadata": {
        "id": "7TMSuHej9Mw-"
      },
      "source": [
        "# Define MAPE"
      ]
    },
    {
      "cell_type": "code",
      "metadata": {
        "id": "sfmx3u169Q0i"
      },
      "source": [
        "def neg_mape(y_true, y_pred):\r\n",
        "  y_true = np.array(y_true)\r\n",
        "  y_pred = np.array(y_pred)\r\n",
        "  return -np.abs((y_true - y_pred)/y_true).mean()"
      ],
      "execution_count": 57,
      "outputs": []
    },
    {
      "cell_type": "code",
      "metadata": {
        "id": "2TUZvEj1LFLu"
      },
      "source": [
        "def modified_neg_mape(y_true, y_pred):\r\n",
        "  y_true = np.array(y_true)\r\n",
        "  y_pred = np.array(y_pred)\r\n",
        "  errors = np.abs((y_true - y_pred)/y_true)\r\n",
        "  index = np.argwhere(errors > 1)\r\n",
        "  mod_errors = np.delete(errors, index)\r\n",
        "  return -mod_errors.mean()"
      ],
      "execution_count": 58,
      "outputs": []
    },
    {
      "cell_type": "code",
      "metadata": {
        "id": "66onwvYJALQj"
      },
      "source": [
        "neg_mape_scorer = make_scorer(neg_mape, greater_is_better=True)"
      ],
      "execution_count": 59,
      "outputs": []
    },
    {
      "cell_type": "code",
      "metadata": {
        "id": "53ze8caVLOOn"
      },
      "source": [
        "modified_neg_mape_scorer = make_scorer(modified_neg_mape, greater_is_better=True)"
      ],
      "execution_count": 60,
      "outputs": []
    },
    {
      "cell_type": "markdown",
      "metadata": {
        "id": "P3sUK8BN6-Ph"
      },
      "source": [
        "# Random search"
      ]
    },
    {
      "cell_type": "code",
      "metadata": {
        "id": "NbnFeNK8-9up"
      },
      "source": [
        "mlcol = ['SUPERFICIE_DISPERDENTE_y', 'SUPERFICIE_NETTA', 'VOLUME_NETTO',\r\n",
        "          'TRASMITTANZA_MEDIA_COPERTURA','TRASMITTANZA_MEDIA_INVOLUCRO',\r\n",
        "          'TRASMITTANZA_MEDIA_BASAMENTO','TRASMITTANZA_MEDIA_SERRAMENTO',\r\n",
        "          'SUPERFICIE_LORDA', 'VOLUME_LORDO','dd','PERIODO','SUP_OPACA',\r\n",
        "        'SUP_FINESTRATA']"
      ],
      "execution_count": 61,
      "outputs": []
    },
    {
      "cell_type": "code",
      "metadata": {
        "id": "uX_GGcEKzP16"
      },
      "source": [
        "cat_feats = ['PERIODO']"
      ],
      "execution_count": 62,
      "outputs": []
    },
    {
      "cell_type": "code",
      "metadata": {
        "colab": {
          "base_uri": "https://localhost:8080/"
        },
        "id": "QIbN4Y2Q6-Va",
        "outputId": "2158da3f-cd7b-4866-bb6a-9c56eba1e6ed"
      },
      "source": [
        "param_dist = {'feature_fraction': np.linspace(0.4, 1, num=7),\r\n",
        "              'num_leaf' : list(range(20,40)),\r\n",
        "             'max_depth' : [-1],\r\n",
        "             'max_bin' : [100, 200, 300, 500, 750, 1000, 2000],\r\n",
        "             'bagging_fraction' : np.linspace(0.4, 1, num=14),\r\n",
        "             'bagging_freq' : list(range(1,10)),\r\n",
        "             'lambda_l1' : stats.uniform(0, 0.6),\r\n",
        "             'lambda_l2' : stats.uniform(0, 0.6)}\r\n",
        "\r\n",
        "lgbm = LGBMRegressor(n_estimators = 100, silent = True, verbose = 0, is_training_metric = True, n_jobs = 1, \r\n",
        "                     eval_metric  = 'mape')\r\n",
        "\r\n",
        "n_iter_search = 100\r\n",
        "\r\n",
        "random_search = RandomizedSearchCV(lgbm, param_distributions=param_dist, n_iter=n_iter_search, \r\n",
        "                                   scoring=modified_neg_mape_scorer, cv = 5, n_jobs = 6, verbose = 2)\r\n",
        "\r\n",
        "random_search.fit(cened[mlcol], cened['EP_H_ND'], categorical_feature = cat_feats)"
      ],
      "execution_count": 63,
      "outputs": [
        {
          "output_type": "stream",
          "text": [
            "Fitting 5 folds for each of 100 candidates, totalling 500 fits\n"
          ],
          "name": "stdout"
        },
        {
          "output_type": "stream",
          "text": [
            "[Parallel(n_jobs=6)]: Using backend LokyBackend with 6 concurrent workers.\n",
            "[Parallel(n_jobs=6)]: Done  29 tasks      | elapsed:    3.7s\n",
            "[Parallel(n_jobs=6)]: Done 150 tasks      | elapsed:   17.4s\n",
            "[Parallel(n_jobs=6)]: Done 353 tasks      | elapsed:   41.4s\n",
            "[Parallel(n_jobs=6)]: Done 500 out of 500 | elapsed:   58.8s finished\n",
            "/usr/local/lib/python3.6/dist-packages/lightgbm/basic.py:1209: UserWarning: categorical_feature in Dataset is overridden.\n",
            "New categorical_feature is ['PERIODO']\n",
            "  'New categorical_feature is {}'.format(sorted(list(categorical_feature))))\n"
          ],
          "name": "stderr"
        },
        {
          "output_type": "execute_result",
          "data": {
            "text/plain": [
              "RandomizedSearchCV(cv=5, error_score=nan,\n",
              "                   estimator=LGBMRegressor(boosting_type='gbdt',\n",
              "                                           class_weight=None,\n",
              "                                           colsample_bytree=1.0,\n",
              "                                           eval_metric='mape',\n",
              "                                           importance_type='split',\n",
              "                                           is_training_metric=True,\n",
              "                                           learning_rate=0.1, max_depth=-1,\n",
              "                                           min_child_samples=20,\n",
              "                                           min_child_weight=0.001,\n",
              "                                           min_split_gain=0.0, n_estimators=100,\n",
              "                                           n_jobs=1, num_leaves=31,\n",
              "                                           objective=None, random_sta...\n",
              "                                        'lambda_l1': <scipy.stats._distn_infrastructure.rv_frozen object at 0x7f603f0da470>,\n",
              "                                        'lambda_l2': <scipy.stats._distn_infrastructure.rv_frozen object at 0x7f603f147b38>,\n",
              "                                        'max_bin': [100, 200, 300, 500, 750,\n",
              "                                                    1000, 2000],\n",
              "                                        'max_depth': [-1],\n",
              "                                        'num_leaf': [20, 21, 22, 23, 24, 25, 26,\n",
              "                                                     27, 28, 29, 30, 31, 32, 33,\n",
              "                                                     34, 35, 36, 37, 38, 39]},\n",
              "                   pre_dispatch='2*n_jobs', random_state=None, refit=True,\n",
              "                   return_train_score=False,\n",
              "                   scoring=make_scorer(modified_neg_mape), verbose=2)"
            ]
          },
          "metadata": {
            "tags": []
          },
          "execution_count": 63
        }
      ]
    },
    {
      "cell_type": "markdown",
      "metadata": {
        "id": "ZjNqelQa9tM6"
      },
      "source": [
        "# Print results"
      ]
    },
    {
      "cell_type": "code",
      "metadata": {
        "colab": {
          "base_uri": "https://localhost:8080/"
        },
        "id": "8po-ibOx9tjW",
        "outputId": "5a09e712-f85c-4a54-ceef-b8390febbb40"
      },
      "source": [
        "print(random_search.best_params_)"
      ],
      "execution_count": 64,
      "outputs": [
        {
          "output_type": "stream",
          "text": [
            "{'bagging_fraction': 1.0, 'bagging_freq': 9, 'feature_fraction': 0.8, 'lambda_l1': 0.3302609136328864, 'lambda_l2': 0.22570682954991958, 'max_bin': 1000, 'max_depth': -1, 'num_leaf': 37}\n"
          ],
          "name": "stdout"
        }
      ]
    },
    {
      "cell_type": "code",
      "metadata": {
        "colab": {
          "base_uri": "https://localhost:8080/"
        },
        "id": "THJn_s95914s",
        "outputId": "5cb7a15b-e7d4-4286-95ab-0e5e5ac2d634"
      },
      "source": [
        "print(random_search.best_score_)"
      ],
      "execution_count": 65,
      "outputs": [
        {
          "output_type": "stream",
          "text": [
            "-0.18207162534881421\n"
          ],
          "name": "stdout"
        }
      ]
    },
    {
      "cell_type": "code",
      "metadata": {
        "colab": {
          "base_uri": "https://localhost:8080/"
        },
        "id": "ta1btwWlTxJn",
        "outputId": "0c629153-75ad-441b-868c-792ed600b96b"
      },
      "source": [
        "# Create a results df\r\n",
        "cv_df = pd.DataFrame(random_search.cv_results_)\r\n",
        "cv_df = cv_df.sort_values(by = ['rank_test_score']).reset_index()\r\n",
        "\r\n",
        "# Filter columns\r\n",
        "res_cols = [col for col in cv_df if col.startswith('split')]\r\n",
        "\r\n",
        "# Select best iter\r\n",
        "best_res = cv_df.loc[0]\r\n",
        "\r\n",
        "# Print results for each fold\r\n",
        "print(best_res[res_cols])"
      ],
      "execution_count": 66,
      "outputs": [
        {
          "output_type": "stream",
          "text": [
            "split0_test_score   -0.193338\n",
            "split1_test_score   -0.181844\n",
            "split2_test_score   -0.178311\n",
            "split3_test_score   -0.171965\n",
            "split4_test_score     -0.1849\n",
            "Name: 0, dtype: object\n"
          ],
          "name": "stdout"
        }
      ]
    },
    {
      "cell_type": "markdown",
      "metadata": {
        "id": "UHqwuWX1AeHK"
      },
      "source": [
        "# Train the final model"
      ]
    },
    {
      "cell_type": "code",
      "metadata": {
        "colab": {
          "base_uri": "https://localhost:8080/"
        },
        "id": "Zq7OjJKsAj0x",
        "outputId": "54dbd66f-4e26-4f1f-f22d-1540b13ba5ce"
      },
      "source": [
        "light = LGBMRegressor(n_estimators = 1000, silent = False, verbose = 2, is_training_metric = True, n_jobs = 6)\r\n",
        "light.set_params(**random_search.best_params_)"
      ],
      "execution_count": 67,
      "outputs": [
        {
          "output_type": "execute_result",
          "data": {
            "text/plain": [
              "LGBMRegressor(bagging_fraction=1.0, bagging_freq=9, boosting_type='gbdt',\n",
              "              class_weight=None, colsample_bytree=1.0, feature_fraction=0.8,\n",
              "              importance_type='split', is_training_metric=True,\n",
              "              lambda_l1=0.3302609136328864, lambda_l2=0.22570682954991958,\n",
              "              learning_rate=0.1, max_bin=1000, max_depth=-1,\n",
              "              min_child_samples=20, min_child_weight=0.001, min_split_gain=0.0,\n",
              "              n_estimators=1000, n_jobs=6, num_leaf=37, num_leaves=31,\n",
              "              objective=None, random_state=None, reg_alpha=0.0, reg_lambda=0.0,\n",
              "              silent=False, subsample=1.0, subsample_for_bin=200000,\n",
              "              subsample_freq=0, verbose=2)"
            ]
          },
          "metadata": {
            "tags": []
          },
          "execution_count": 67
        }
      ]
    },
    {
      "cell_type": "code",
      "metadata": {
        "colab": {
          "base_uri": "https://localhost:8080/"
        },
        "id": "XbLz3zitAuQo",
        "outputId": "f8388ef2-136a-4801-d48b-dca7b1cfee0c"
      },
      "source": [
        "light.fit(train[mlcol], train['EP_H_ND'])"
      ],
      "execution_count": 68,
      "outputs": [
        {
          "output_type": "execute_result",
          "data": {
            "text/plain": [
              "LGBMRegressor(bagging_fraction=1.0, bagging_freq=9, boosting_type='gbdt',\n",
              "              class_weight=None, colsample_bytree=1.0, feature_fraction=0.8,\n",
              "              importance_type='split', is_training_metric=True,\n",
              "              lambda_l1=0.3302609136328864, lambda_l2=0.22570682954991958,\n",
              "              learning_rate=0.1, max_bin=1000, max_depth=-1,\n",
              "              min_child_samples=20, min_child_weight=0.001, min_split_gain=0.0,\n",
              "              n_estimators=1000, n_jobs=6, num_leaf=37, num_leaves=31,\n",
              "              objective=None, random_state=None, reg_alpha=0.0, reg_lambda=0.0,\n",
              "              silent=False, subsample=1.0, subsample_for_bin=200000,\n",
              "              subsample_freq=0, verbose=2)"
            ]
          },
          "metadata": {
            "tags": []
          },
          "execution_count": 68
        }
      ]
    },
    {
      "cell_type": "markdown",
      "metadata": {
        "id": "Ml7EZ7XXAvwc"
      },
      "source": [
        "# Test the model"
      ]
    },
    {
      "cell_type": "code",
      "metadata": {
        "id": "EJFVWFDvAx4h"
      },
      "source": [
        "y_pred = light.predict(test[mlcol])"
      ],
      "execution_count": 69,
      "outputs": []
    },
    {
      "cell_type": "code",
      "metadata": {
        "id": "hCtUFtWSBZ15"
      },
      "source": [
        "results_df = pd.DataFrame({'predicted' : y_pred, 'true' : test['EP_H_ND']})\r\n",
        "results_df['error'] = np.abs((results_df['true'] - results_df['predicted'])/results_df['true'])*100"
      ],
      "execution_count": 70,
      "outputs": []
    },
    {
      "cell_type": "code",
      "metadata": {
        "id": "ve6Lla28DXct",
        "colab": {
          "base_uri": "https://localhost:8080/"
        },
        "outputId": "fd3be411-c5ca-4751-c4f3-02ff6132c6a6"
      },
      "source": [
        "# MAPE\r\n",
        "results_df['error'].mean()"
      ],
      "execution_count": 71,
      "outputs": [
        {
          "output_type": "execute_result",
          "data": {
            "text/plain": [
              "18.85386508049255"
            ]
          },
          "metadata": {
            "tags": []
          },
          "execution_count": 71
        }
      ]
    },
    {
      "cell_type": "code",
      "metadata": {
        "id": "luAQiAU3KB8L",
        "colab": {
          "base_uri": "https://localhost:8080/"
        },
        "outputId": "39834fa1-ae36-401f-a195-b957d983bb06"
      },
      "source": [
        "# MAPE without >100%\r\n",
        "results_df[results_df.error <= 100].error.mean()"
      ],
      "execution_count": 72,
      "outputs": [
        {
          "output_type": "execute_result",
          "data": {
            "text/plain": [
              "18.15812668920175"
            ]
          },
          "metadata": {
            "tags": []
          },
          "execution_count": 72
        }
      ]
    },
    {
      "cell_type": "code",
      "metadata": {
        "colab": {
          "base_uri": "https://localhost:8080/",
          "height": 399
        },
        "id": "fyUDfx40m_ri",
        "outputId": "1f146c7b-7563-4504-b92b-29fc9b325174"
      },
      "source": [
        "results_df"
      ],
      "execution_count": 73,
      "outputs": [
        {
          "output_type": "execute_result",
          "data": {
            "text/html": [
              "<div>\n",
              "<style scoped>\n",
              "    .dataframe tbody tr th:only-of-type {\n",
              "        vertical-align: middle;\n",
              "    }\n",
              "\n",
              "    .dataframe tbody tr th {\n",
              "        vertical-align: top;\n",
              "    }\n",
              "\n",
              "    .dataframe thead th {\n",
              "        text-align: right;\n",
              "    }\n",
              "</style>\n",
              "<table border=\"1\" class=\"dataframe\">\n",
              "  <thead>\n",
              "    <tr style=\"text-align: right;\">\n",
              "      <th></th>\n",
              "      <th>predicted</th>\n",
              "      <th>true</th>\n",
              "      <th>error</th>\n",
              "    </tr>\n",
              "  </thead>\n",
              "  <tbody>\n",
              "    <tr>\n",
              "      <th>11</th>\n",
              "      <td>104.087323</td>\n",
              "      <td>113.24</td>\n",
              "      <td>8.082548</td>\n",
              "    </tr>\n",
              "    <tr>\n",
              "      <th>21</th>\n",
              "      <td>218.983908</td>\n",
              "      <td>194.62</td>\n",
              "      <td>12.518707</td>\n",
              "    </tr>\n",
              "    <tr>\n",
              "      <th>26</th>\n",
              "      <td>180.055105</td>\n",
              "      <td>98.03</td>\n",
              "      <td>83.673473</td>\n",
              "    </tr>\n",
              "    <tr>\n",
              "      <th>28</th>\n",
              "      <td>196.301958</td>\n",
              "      <td>217.36</td>\n",
              "      <td>9.688094</td>\n",
              "    </tr>\n",
              "    <tr>\n",
              "      <th>43</th>\n",
              "      <td>154.343370</td>\n",
              "      <td>189.37</td>\n",
              "      <td>18.496399</td>\n",
              "    </tr>\n",
              "    <tr>\n",
              "      <th>...</th>\n",
              "      <td>...</td>\n",
              "      <td>...</td>\n",
              "      <td>...</td>\n",
              "    </tr>\n",
              "    <tr>\n",
              "      <th>1109</th>\n",
              "      <td>160.789049</td>\n",
              "      <td>99.04</td>\n",
              "      <td>62.347586</td>\n",
              "    </tr>\n",
              "    <tr>\n",
              "      <th>1111</th>\n",
              "      <td>217.176818</td>\n",
              "      <td>308.42</td>\n",
              "      <td>29.584068</td>\n",
              "    </tr>\n",
              "    <tr>\n",
              "      <th>1113</th>\n",
              "      <td>107.054636</td>\n",
              "      <td>125.47</td>\n",
              "      <td>14.677105</td>\n",
              "    </tr>\n",
              "    <tr>\n",
              "      <th>1115</th>\n",
              "      <td>138.600574</td>\n",
              "      <td>138.57</td>\n",
              "      <td>0.022064</td>\n",
              "    </tr>\n",
              "    <tr>\n",
              "      <th>1118</th>\n",
              "      <td>275.142000</td>\n",
              "      <td>356.50</td>\n",
              "      <td>22.821318</td>\n",
              "    </tr>\n",
              "  </tbody>\n",
              "</table>\n",
              "<p>223 rows × 3 columns</p>\n",
              "</div>"
            ],
            "text/plain": [
              "       predicted    true      error\n",
              "11    104.087323  113.24   8.082548\n",
              "21    218.983908  194.62  12.518707\n",
              "26    180.055105   98.03  83.673473\n",
              "28    196.301958  217.36   9.688094\n",
              "43    154.343370  189.37  18.496399\n",
              "...          ...     ...        ...\n",
              "1109  160.789049   99.04  62.347586\n",
              "1111  217.176818  308.42  29.584068\n",
              "1113  107.054636  125.47  14.677105\n",
              "1115  138.600574  138.57   0.022064\n",
              "1118  275.142000  356.50  22.821318\n",
              "\n",
              "[223 rows x 3 columns]"
            ]
          },
          "metadata": {
            "tags": []
          },
          "execution_count": 73
        }
      ]
    }
  ]
}